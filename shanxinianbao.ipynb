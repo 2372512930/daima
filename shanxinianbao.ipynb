{
 "cells": [
  {
   "cell_type": "code",
   "execution_count": 1,
   "metadata": {
    "collapsed": true,
    "pycharm": {
     "name": "#%%\n"
    }
   },
   "outputs": [],
   "source": [
    "year = int(input(\"请输入年份：\"))\n",
    "month = int(input(\"请输入月份：\"))"
   ]
  },
  {
   "cell_type": "code",
   "execution_count": 2,
   "outputs": [
    {
     "data": {
      "text/plain": "         日期  地市     游戏       销量     年\n0     44166  中心    双色球    47502  2020\n1     44166  中心    七乐彩    20940  2020\n2     44166  中心   福彩3D     4874  2020\n3     44166  中心     选4     1556  2020\n4     44166  中心   15选5     8502  2020\n...     ...  ..    ...      ...   ...\n5699  45474  黄浦    快乐8   951642  2024\n5700  45474  黄浦    即开票  3169700  2024\n5701  45474  黄浦     选4   186474  2024\n5702  45474  黄浦   15选5   120470  2024\n5703  45474  黄浦  东方6+1    23354  2024\n\n[5704 rows x 5 columns]",
      "text/html": "<div>\n<style scoped>\n    .dataframe tbody tr th:only-of-type {\n        vertical-align: middle;\n    }\n\n    .dataframe tbody tr th {\n        vertical-align: top;\n    }\n\n    .dataframe thead th {\n        text-align: right;\n    }\n</style>\n<table border=\"1\" class=\"dataframe\">\n  <thead>\n    <tr style=\"text-align: right;\">\n      <th></th>\n      <th>日期</th>\n      <th>地市</th>\n      <th>游戏</th>\n      <th>销量</th>\n      <th>年</th>\n    </tr>\n  </thead>\n  <tbody>\n    <tr>\n      <th>0</th>\n      <td>44166</td>\n      <td>中心</td>\n      <td>双色球</td>\n      <td>47502</td>\n      <td>2020</td>\n    </tr>\n    <tr>\n      <th>1</th>\n      <td>44166</td>\n      <td>中心</td>\n      <td>七乐彩</td>\n      <td>20940</td>\n      <td>2020</td>\n    </tr>\n    <tr>\n      <th>2</th>\n      <td>44166</td>\n      <td>中心</td>\n      <td>福彩3D</td>\n      <td>4874</td>\n      <td>2020</td>\n    </tr>\n    <tr>\n      <th>3</th>\n      <td>44166</td>\n      <td>中心</td>\n      <td>选4</td>\n      <td>1556</td>\n      <td>2020</td>\n    </tr>\n    <tr>\n      <th>4</th>\n      <td>44166</td>\n      <td>中心</td>\n      <td>15选5</td>\n      <td>8502</td>\n      <td>2020</td>\n    </tr>\n    <tr>\n      <th>...</th>\n      <td>...</td>\n      <td>...</td>\n      <td>...</td>\n      <td>...</td>\n      <td>...</td>\n    </tr>\n    <tr>\n      <th>5699</th>\n      <td>45474</td>\n      <td>黄浦</td>\n      <td>快乐8</td>\n      <td>951642</td>\n      <td>2024</td>\n    </tr>\n    <tr>\n      <th>5700</th>\n      <td>45474</td>\n      <td>黄浦</td>\n      <td>即开票</td>\n      <td>3169700</td>\n      <td>2024</td>\n    </tr>\n    <tr>\n      <th>5701</th>\n      <td>45474</td>\n      <td>黄浦</td>\n      <td>选4</td>\n      <td>186474</td>\n      <td>2024</td>\n    </tr>\n    <tr>\n      <th>5702</th>\n      <td>45474</td>\n      <td>黄浦</td>\n      <td>15选5</td>\n      <td>120470</td>\n      <td>2024</td>\n    </tr>\n    <tr>\n      <th>5703</th>\n      <td>45474</td>\n      <td>黄浦</td>\n      <td>东方6+1</td>\n      <td>23354</td>\n      <td>2024</td>\n    </tr>\n  </tbody>\n</table>\n<p>5704 rows × 5 columns</p>\n</div>"
     },
     "execution_count": 2,
     "metadata": {},
     "output_type": "execute_result"
    }
   ],
   "source": [
    "# 输入文件名\n",
    "# .xlsx\n",
    "import numpy\n",
    "import pandas as pd\n",
    "data=pd.read_excel(\"E:\\彩票数据\\山西\\山西年报\\近4年上海统计数据.xlsx\",sheet_name=0)\n",
    "data"
   ],
   "metadata": {
    "collapsed": false,
    "pycharm": {
     "name": "#%%\n"
    }
   }
  },
  {
   "cell_type": "code",
   "execution_count": 3,
   "outputs": [
    {
     "data": {
      "text/plain": "    2023年销量 2024年销量\n总销量   56.46   33.41",
      "text/html": "<div>\n<style scoped>\n    .dataframe tbody tr th:only-of-type {\n        vertical-align: middle;\n    }\n\n    .dataframe tbody tr th {\n        vertical-align: top;\n    }\n\n    .dataframe thead th {\n        text-align: right;\n    }\n</style>\n<table border=\"1\" class=\"dataframe\">\n  <thead>\n    <tr style=\"text-align: right;\">\n      <th></th>\n      <th>2023年销量</th>\n      <th>2024年销量</th>\n    </tr>\n  </thead>\n  <tbody>\n    <tr>\n      <th>总销量</th>\n      <td>56.46</td>\n      <td>33.41</td>\n    </tr>\n  </tbody>\n</table>\n</div>"
     },
     "execution_count": 3,
     "metadata": {},
     "output_type": "execute_result"
    }
   ],
   "source": [
    "ppt_4_excel = pd.DataFrame()\n",
    "# 计算不同年份的销量总和\n",
    "a_data = data[data['年'] == year]\n",
    "b_data = data[data['年'] == year-1]\n",
    "a_sum = a_data['销量'].sum() * 1e-8\n",
    "b_sum = b_data['销量'].sum() * 1e-8\n",
    "# 格式化销量数据并存入ppt_4_excel\n",
    "ppt_4_excel.loc['总销量', '2023年销量'] = '{:.2f}'.format(b_sum)\n",
    "ppt_4_excel.loc['总销量', '2024年销量'] = '{:.2f}'.format(a_sum)\n",
    "ppt_4_excel"
   ],
   "metadata": {
    "collapsed": false,
    "pycharm": {
     "name": "#%%\n"
    }
   }
  },
  {
   "cell_type": "code",
   "execution_count": 4,
   "outputs": [
    {
     "data": {
      "text/plain": "     年份   销量(亿元)\n0  2020   0.0179\n1  2021  43.4398\n2  2022  34.2146\n3  2023  56.4558\n4  2024  33.4079",
      "text/html": "<div>\n<style scoped>\n    .dataframe tbody tr th:only-of-type {\n        vertical-align: middle;\n    }\n\n    .dataframe tbody tr th {\n        vertical-align: top;\n    }\n\n    .dataframe thead th {\n        text-align: right;\n    }\n</style>\n<table border=\"1\" class=\"dataframe\">\n  <thead>\n    <tr style=\"text-align: right;\">\n      <th></th>\n      <th>年份</th>\n      <th>销量(亿元)</th>\n    </tr>\n  </thead>\n  <tbody>\n    <tr>\n      <th>0</th>\n      <td>2020</td>\n      <td>0.0179</td>\n    </tr>\n    <tr>\n      <th>1</th>\n      <td>2021</td>\n      <td>43.4398</td>\n    </tr>\n    <tr>\n      <th>2</th>\n      <td>2022</td>\n      <td>34.2146</td>\n    </tr>\n    <tr>\n      <th>3</th>\n      <td>2023</td>\n      <td>56.4558</td>\n    </tr>\n    <tr>\n      <th>4</th>\n      <td>2024</td>\n      <td>33.4079</td>\n    </tr>\n  </tbody>\n</table>\n</div>"
     },
     "execution_count": 4,
     "metadata": {},
     "output_type": "execute_result"
    }
   ],
   "source": [
    "def get_5_years(year):\n",
    "    year_list = []\n",
    "    for y in range(year - 4, year + 1):\n",
    "        year_list.append(y)\n",
    "    return year_list\n",
    "months_near_5_years = get_5_years(year)\n",
    "\n",
    "data_sale = []\n",
    "for y in months_near_5_years:\n",
    "    yearly_sales = data[data[\"年\"] == y][\"销量\"].sum()\n",
    "    data_sale.append(yearly_sales * 1e-8)\n",
    "# 生成DataFrame\n",
    "ppt_5_excel_2 = pd.DataFrame()\n",
    "ppt_5_excel_2[\"年份\"] = months_near_5_years\n",
    "ppt_5_excel_2[\"销量(亿元)\"] = data_sale\n",
    "ppt_5_excel_2[\"销量(亿元)\"] = ppt_5_excel_2[\"销量(亿元)\"].apply(lambda x: format(x, \".4f\"))\n",
    "ppt_5_excel_2"
   ],
   "metadata": {
    "collapsed": false,
    "pycharm": {
     "name": "#%%\n"
    }
   }
  },
  {
   "cell_type": "code",
   "execution_count": 5,
   "outputs": [
    {
     "name": "stdout",
     "output_type": "stream",
     "text": [
      "2024年游戏  双色球  :1208805632\n",
      "同比去年:-46.01%\n",
      "\n",
      "2024年游戏  福彩3D  :522551394\n",
      "同比去年:-28.82%\n",
      "\n",
      "2024年游戏  七乐彩  :16703732\n",
      "同比去年:-44.12%\n",
      "\n",
      "2024年游戏  即开票  :1098556200\n",
      "同比去年:-42.07%\n",
      "\n",
      "2024年游戏  快乐8  :412013006\n",
      "同比去年:-31.46%\n",
      "\n",
      "2024年游戏  15选5  :18708878\n",
      "同比去年:-42.91%\n",
      "\n",
      "2024年游戏  东方6+1  :8431204\n",
      "同比去年:-43.00%\n",
      "\n",
      "2024年游戏  选4  :55023924\n",
      "同比去年:-43.69%\n",
      "\n",
      "2024年游戏  地方游戏  :0\n",
      "同比去年:nan%\n",
      "\n"
     ]
    },
    {
     "name": "stderr",
     "output_type": "stream",
     "text": [
      "D:\\biye\\python37\\lib\\site-packages\\ipykernel_launcher.py:25: RuntimeWarning: invalid value encountered in longlong_scalars\n",
      "D:\\biye\\python37\\lib\\site-packages\\ipykernel_launcher.py:41: RuntimeWarning: invalid value encountered in longlong_scalars\n"
     ]
    },
    {
     "data": {
      "text/plain": "      游戏 2024年销量(亿元)\n0    双色球   120880.56\n1   福彩3D    52255.14\n2    七乐彩     1670.37\n3    即开票   109855.62\n4    快乐8    41201.30\n5   15选5     1870.89\n6  东方6+1      843.12\n7     选4     5502.39\n8   地方游戏        0.00",
      "text/html": "<div>\n<style scoped>\n    .dataframe tbody tr th:only-of-type {\n        vertical-align: middle;\n    }\n\n    .dataframe tbody tr th {\n        vertical-align: top;\n    }\n\n    .dataframe thead th {\n        text-align: right;\n    }\n</style>\n<table border=\"1\" class=\"dataframe\">\n  <thead>\n    <tr style=\"text-align: right;\">\n      <th></th>\n      <th>游戏</th>\n      <th>2024年销量(亿元)</th>\n    </tr>\n  </thead>\n  <tbody>\n    <tr>\n      <th>0</th>\n      <td>双色球</td>\n      <td>120880.56</td>\n    </tr>\n    <tr>\n      <th>1</th>\n      <td>福彩3D</td>\n      <td>52255.14</td>\n    </tr>\n    <tr>\n      <th>2</th>\n      <td>七乐彩</td>\n      <td>1670.37</td>\n    </tr>\n    <tr>\n      <th>3</th>\n      <td>即开票</td>\n      <td>109855.62</td>\n    </tr>\n    <tr>\n      <th>4</th>\n      <td>快乐8</td>\n      <td>41201.30</td>\n    </tr>\n    <tr>\n      <th>5</th>\n      <td>15选5</td>\n      <td>1870.89</td>\n    </tr>\n    <tr>\n      <th>6</th>\n      <td>东方6+1</td>\n      <td>843.12</td>\n    </tr>\n    <tr>\n      <th>7</th>\n      <td>选4</td>\n      <td>5502.39</td>\n    </tr>\n    <tr>\n      <th>8</th>\n      <td>地方游戏</td>\n      <td>0.00</td>\n    </tr>\n  </tbody>\n</table>\n</div>"
     },
     "execution_count": 5,
     "metadata": {},
     "output_type": "execute_result"
    }
   ],
   "source": [
    "import_game_list=[\"双色球\",\"福彩3D\",\"七乐彩\",\"即开票\",\"快乐8\",\"15选5\",\"东方6+1\",\"选4\"]\n",
    "game_list=list(data[\"游戏\"])\n",
    "new_game_list=[]\n",
    "# 将福彩游戏进行区分（其他的本地游戏进行统一命名）\n",
    "for i in game_list:\n",
    "    if i in import_game_list:\n",
    "        new_game_list.append(i)\n",
    "    else:\n",
    "        #new_game_list.append(\"地方游戏\")\n",
    "        if i ==\"快乐8(新)\":\n",
    "            new_game_list.append(\"快乐8\")\n",
    "        else:\n",
    "            new_game_list.append(\"地方游戏\")\n",
    "data[\"gamename\"]=new_game_list\n",
    "data[\"gamename\"].value_counts()\n",
    "game_name=[\"双色球\",\"福彩3D\",\"七乐彩\",\"即开票\",\"快乐8\",\"15选5\",\"东方6+1\",\"选4\",\"地方游戏\"]\n",
    "sales=[]\n",
    "huanbis=[]\n",
    "tongbis=[]\n",
    "for i in game_name:\n",
    "    data_sale=data.loc[data[\"年\"]==year].loc[data[\"gamename\"]==i][\"销量\"]\n",
    "    a=data_sale.sum()\n",
    "    data_sale=data.loc[data[\"年\"]==year-1].loc[data[\"gamename\"]==i][\"销量\"]\n",
    "    b=data_sale.sum()\n",
    "    tongbi=a/b-1\n",
    "    sales.append(a)\n",
    "    tongbis.append(tongbi)\n",
    "    #print(\"2023年5月总销量:%d\\n2023年4月总销量:%d\\n2022年5月总销量:%d\"%(a,b,c))\n",
    "    print(\"%d年游戏  %s  :%d\"%(year,i,a))\n",
    "    print(\"同比去年:%.2f%%\\n\"%(tongbi*100))\n",
    "game_sale1=[]\n",
    "game_sale2=[]\n",
    "game_sale_change=[]\n",
    "game_sale_huanbi_add=[]\n",
    "for i in game_name:\n",
    "    a=data.loc[data[\"年\"]==year].loc[data[\"gamename\"]==i][\"销量\"].sum()\n",
    "    b=data.loc[data[\"年\"]==year-1].loc[data[\"gamename\"]==i][\"销量\"].sum()\n",
    "    game_sale1.append(a*1e-4)\n",
    "    game_sale2.append(b*1e-4)\n",
    "    game_sale_change.append((b-a)*1e-4)\n",
    "    game_sale_huanbi_add.append(b/a-1)\n",
    "ppt_6_excel=pd.DataFrame()\n",
    "ppt_6_excel[\"游戏\"]=game_name\n",
    "ppt_6_excel[\"%d年销量(亿元)\"%(year)]=game_sale1\n",
    "ppt_6_excel[\"%d年销量(亿元)\"%(year)]=ppt_6_excel[\"%d年销量(亿元)\"%(year)].apply(lambda x:format(x,\".2f\"))\n",
    "# ppt_6_excel.to_excel(r\"E:\\彩票数据\\山西\\山西月报\\2024年%d月报\\ppt_6.xlsx\"%(month))\n",
    "ppt_6_excel"
   ],
   "metadata": {
    "collapsed": false,
    "pycharm": {
     "name": "#%%\n"
    }
   }
  },
  {
   "cell_type": "code",
   "execution_count": 6,
   "outputs": [
    {
     "data": {
      "text/plain": "         2024年销量    2023年销量     同比增幅    各城市销量增长情况\n游戏                                               \n15选5     1870.89    3277.21  -42.91%   -1406.3214\n七乐彩      1670.37    2989.22  -44.12%   -1318.8496\n东方6+1     843.12    1479.10  -43.00%    -635.9808\n即开票    109855.62  189632.60  -42.07%  -79776.9800\n双色球    120880.56  223880.41  -46.01% -102999.8476\n快乐8     41201.30   60116.08  -31.46%  -18914.7746\n福彩3D    52255.14   73411.63  -28.82%  -21156.4900\n选4       5502.39    9772.06  -43.69%   -4269.6628",
      "text/html": "<div>\n<style scoped>\n    .dataframe tbody tr th:only-of-type {\n        vertical-align: middle;\n    }\n\n    .dataframe tbody tr th {\n        vertical-align: top;\n    }\n\n    .dataframe thead th {\n        text-align: right;\n    }\n</style>\n<table border=\"1\" class=\"dataframe\">\n  <thead>\n    <tr style=\"text-align: right;\">\n      <th></th>\n      <th>2024年销量</th>\n      <th>2023年销量</th>\n      <th>同比增幅</th>\n      <th>各城市销量增长情况</th>\n    </tr>\n    <tr>\n      <th>游戏</th>\n      <th></th>\n      <th></th>\n      <th></th>\n      <th></th>\n    </tr>\n  </thead>\n  <tbody>\n    <tr>\n      <th>15选5</th>\n      <td>1870.89</td>\n      <td>3277.21</td>\n      <td>-42.91%</td>\n      <td>-1406.3214</td>\n    </tr>\n    <tr>\n      <th>七乐彩</th>\n      <td>1670.37</td>\n      <td>2989.22</td>\n      <td>-44.12%</td>\n      <td>-1318.8496</td>\n    </tr>\n    <tr>\n      <th>东方6+1</th>\n      <td>843.12</td>\n      <td>1479.10</td>\n      <td>-43.00%</td>\n      <td>-635.9808</td>\n    </tr>\n    <tr>\n      <th>即开票</th>\n      <td>109855.62</td>\n      <td>189632.60</td>\n      <td>-42.07%</td>\n      <td>-79776.9800</td>\n    </tr>\n    <tr>\n      <th>双色球</th>\n      <td>120880.56</td>\n      <td>223880.41</td>\n      <td>-46.01%</td>\n      <td>-102999.8476</td>\n    </tr>\n    <tr>\n      <th>快乐8</th>\n      <td>41201.30</td>\n      <td>60116.08</td>\n      <td>-31.46%</td>\n      <td>-18914.7746</td>\n    </tr>\n    <tr>\n      <th>福彩3D</th>\n      <td>52255.14</td>\n      <td>73411.63</td>\n      <td>-28.82%</td>\n      <td>-21156.4900</td>\n    </tr>\n    <tr>\n      <th>选4</th>\n      <td>5502.39</td>\n      <td>9772.06</td>\n      <td>-43.69%</td>\n      <td>-4269.6628</td>\n    </tr>\n  </tbody>\n</table>\n</div>"
     },
     "execution_count": 6,
     "metadata": {},
     "output_type": "execute_result"
    }
   ],
   "source": [
    "ppt=pd.DataFrame()\n",
    "a_data = data[(data['年'] == year) ]\n",
    "b_data = data[(data['年'] == year-1) ]\n",
    "ppt['2024年销量'] = a_data.groupby('游戏')['销量'].sum()*1e-4\n",
    "ppt['2023年销量'] = b_data.groupby('游戏')['销量'].sum()*1e-4\n",
    "ppt_7_excel=pd.DataFrame()\n",
    "ppt_7_excel['2024年销量'] = ppt['2024年销量'].apply(lambda x: '{:.2f}'.format(x))\n",
    "ppt_7_excel['2023年销量'] = ppt['2023年销量'].apply(lambda x: '{:.2f}'.format(x))\n",
    "ppt_7_excel['同比增幅'] = ( ppt['2024年销量']/ ppt['2023年销量']-1).apply(lambda x: '{:.2%}'.format(x))\n",
    "ppt_7_excel['各城市销量增长情况'] = ( ppt['2024年销量']- ppt['2023年销量'])\n",
    "# ppt_7_excel.to_excel(r\"E:\\彩票数据\\山西\\山西月报\\2024年%d月报\\ppt_7.xlsx\"%(month))\n",
    "ppt_7_excel"
   ],
   "metadata": {
    "collapsed": false,
    "pycharm": {
     "name": "#%%\n"
    }
   }
  },
  {
   "cell_type": "code",
   "execution_count": 7,
   "outputs": [
    {
     "data": {
      "text/plain": "     2024年销量    2023年销量     同比增幅   各城市销量增长情况\n地市                                          \n中心  21710.80   44154.88  -50.83% -22444.0848\n嘉定  28958.65   46974.93  -38.35% -18016.2810\n奉贤  14974.49   26128.17  -42.69% -11153.6806\n宝山  26423.00   43469.65  -39.22% -17046.6536\n崇明   5256.67    8805.85  -40.30%  -3549.1826\n徐汇  10674.18   18002.91  -40.71%  -7328.7298\n普陀  12979.26   20797.37  -37.59%  -7818.1102\n杨浦  12410.97   18830.31  -34.09%  -6419.3322\n松江  31629.34   52649.76  -39.93% -21020.4250\n浦东  67530.05  112338.69  -39.89% -44808.6346\n渠道    807.95    4692.03  -82.78%  -3884.0800\n虹口   9012.61   14024.63  -35.74%  -5012.0164\n金山   9489.34   15126.30  -37.27%  -5636.9612\n长宁   9593.85   14608.64  -34.33%  -5014.7850\n闵行  32844.02   56533.98  -41.90% -23689.9604\n青浦  15870.36   27481.63  -42.25% -11611.2786\n静安  15096.16   25910.26  -41.74% -10814.0982\n黄浦   8817.70   14028.31  -37.14%  -5210.6126",
      "text/html": "<div>\n<style scoped>\n    .dataframe tbody tr th:only-of-type {\n        vertical-align: middle;\n    }\n\n    .dataframe tbody tr th {\n        vertical-align: top;\n    }\n\n    .dataframe thead th {\n        text-align: right;\n    }\n</style>\n<table border=\"1\" class=\"dataframe\">\n  <thead>\n    <tr style=\"text-align: right;\">\n      <th></th>\n      <th>2024年销量</th>\n      <th>2023年销量</th>\n      <th>同比增幅</th>\n      <th>各城市销量增长情况</th>\n    </tr>\n    <tr>\n      <th>地市</th>\n      <th></th>\n      <th></th>\n      <th></th>\n      <th></th>\n    </tr>\n  </thead>\n  <tbody>\n    <tr>\n      <th>中心</th>\n      <td>21710.80</td>\n      <td>44154.88</td>\n      <td>-50.83%</td>\n      <td>-22444.0848</td>\n    </tr>\n    <tr>\n      <th>嘉定</th>\n      <td>28958.65</td>\n      <td>46974.93</td>\n      <td>-38.35%</td>\n      <td>-18016.2810</td>\n    </tr>\n    <tr>\n      <th>奉贤</th>\n      <td>14974.49</td>\n      <td>26128.17</td>\n      <td>-42.69%</td>\n      <td>-11153.6806</td>\n    </tr>\n    <tr>\n      <th>宝山</th>\n      <td>26423.00</td>\n      <td>43469.65</td>\n      <td>-39.22%</td>\n      <td>-17046.6536</td>\n    </tr>\n    <tr>\n      <th>崇明</th>\n      <td>5256.67</td>\n      <td>8805.85</td>\n      <td>-40.30%</td>\n      <td>-3549.1826</td>\n    </tr>\n    <tr>\n      <th>徐汇</th>\n      <td>10674.18</td>\n      <td>18002.91</td>\n      <td>-40.71%</td>\n      <td>-7328.7298</td>\n    </tr>\n    <tr>\n      <th>普陀</th>\n      <td>12979.26</td>\n      <td>20797.37</td>\n      <td>-37.59%</td>\n      <td>-7818.1102</td>\n    </tr>\n    <tr>\n      <th>杨浦</th>\n      <td>12410.97</td>\n      <td>18830.31</td>\n      <td>-34.09%</td>\n      <td>-6419.3322</td>\n    </tr>\n    <tr>\n      <th>松江</th>\n      <td>31629.34</td>\n      <td>52649.76</td>\n      <td>-39.93%</td>\n      <td>-21020.4250</td>\n    </tr>\n    <tr>\n      <th>浦东</th>\n      <td>67530.05</td>\n      <td>112338.69</td>\n      <td>-39.89%</td>\n      <td>-44808.6346</td>\n    </tr>\n    <tr>\n      <th>渠道</th>\n      <td>807.95</td>\n      <td>4692.03</td>\n      <td>-82.78%</td>\n      <td>-3884.0800</td>\n    </tr>\n    <tr>\n      <th>虹口</th>\n      <td>9012.61</td>\n      <td>14024.63</td>\n      <td>-35.74%</td>\n      <td>-5012.0164</td>\n    </tr>\n    <tr>\n      <th>金山</th>\n      <td>9489.34</td>\n      <td>15126.30</td>\n      <td>-37.27%</td>\n      <td>-5636.9612</td>\n    </tr>\n    <tr>\n      <th>长宁</th>\n      <td>9593.85</td>\n      <td>14608.64</td>\n      <td>-34.33%</td>\n      <td>-5014.7850</td>\n    </tr>\n    <tr>\n      <th>闵行</th>\n      <td>32844.02</td>\n      <td>56533.98</td>\n      <td>-41.90%</td>\n      <td>-23689.9604</td>\n    </tr>\n    <tr>\n      <th>青浦</th>\n      <td>15870.36</td>\n      <td>27481.63</td>\n      <td>-42.25%</td>\n      <td>-11611.2786</td>\n    </tr>\n    <tr>\n      <th>静安</th>\n      <td>15096.16</td>\n      <td>25910.26</td>\n      <td>-41.74%</td>\n      <td>-10814.0982</td>\n    </tr>\n    <tr>\n      <th>黄浦</th>\n      <td>8817.70</td>\n      <td>14028.31</td>\n      <td>-37.14%</td>\n      <td>-5210.6126</td>\n    </tr>\n  </tbody>\n</table>\n</div>"
     },
     "execution_count": 7,
     "metadata": {},
     "output_type": "execute_result"
    }
   ],
   "source": [
    "ppt=pd.DataFrame()\n",
    "a_data = data[(data['年'] == year) ]\n",
    "b_data = data[(data['年'] == year-1) ]\n",
    "ppt['2024年销量'] = a_data.groupby('地市')['销量'].sum()*1e-4\n",
    "ppt['2023年销量'] = b_data.groupby('地市')['销量'].sum()*1e-4\n",
    "ppt_8_excel=pd.DataFrame()\n",
    "ppt_8_excel['2024年销量'] = ppt['2024年销量'].apply(lambda x: '{:.2f}'.format(x))\n",
    "ppt_8_excel['2023年销量'] = ppt['2023年销量'].apply(lambda x: '{:.2f}'.format(x))\n",
    "ppt_8_excel['同比增幅'] = ( ppt['2024年销量']/ ppt['2023年销量']-1).apply(lambda x: '{:.2%}'.format(x))\n",
    "ppt_8_excel['各城市销量增长情况'] = ( ppt['2024年销量']- ppt['2023年销量'])\n",
    "# ppt_8_excel.to_excel(r\"E:\\彩票数据\\山西\\山西月报\\2024年%d月报\\ppt_8.xlsx\"%(month))\n",
    "ppt_8_excel"
   ],
   "metadata": {
    "collapsed": false,
    "pycharm": {
     "name": "#%%\n"
    }
   }
  },
  {
   "cell_type": "code",
   "execution_count": 8,
   "outputs": [
    {
     "data": {
      "text/plain": "         双色球       即开票      快乐8      福彩3D     七乐彩\n地市                                               \n中心  16927.13       nan      nan   2938.31  625.05\n嘉定   8160.48  10914.38  4849.08   4628.58   78.58\n奉贤   5033.86   5017.14  2127.57   2531.22   32.22\n宝山   9059.75   9408.00  3561.85   3635.39   94.41\n崇明   1665.29   1703.56   457.65   1158.86   20.50\n徐汇   4597.71   3467.81   926.19   1223.75   54.86\n普陀   5430.44   3768.41  1269.14   2011.13   62.45\n杨浦   4429.14   4056.92  1685.57   1791.34   44.88\n松江   9417.24  10631.79  5685.67   5457.17   83.99\n浦东  21635.57  24596.64  9587.23  10104.57  201.55\n虹口   3415.41   3106.56  1016.17   1089.58   40.30\n金山   3514.81   2610.56  1154.96   1922.24   32.69\n长宁   3208.17   3599.26   625.13   1906.06   35.81\n闵行  11079.82  11751.78  3704.90   5462.58  104.44\n青浦   4784.14   6026.38  1943.97   2908.38   32.59\n静安   5392.34   5254.86  1740.97   2143.35   89.42\n黄浦   3129.26   3133.62   865.25   1342.65   36.64",
      "text/html": "<div>\n<style scoped>\n    .dataframe tbody tr th:only-of-type {\n        vertical-align: middle;\n    }\n\n    .dataframe tbody tr th {\n        vertical-align: top;\n    }\n\n    .dataframe thead th {\n        text-align: right;\n    }\n</style>\n<table border=\"1\" class=\"dataframe\">\n  <thead>\n    <tr style=\"text-align: right;\">\n      <th></th>\n      <th>双色球</th>\n      <th>即开票</th>\n      <th>快乐8</th>\n      <th>福彩3D</th>\n      <th>七乐彩</th>\n    </tr>\n    <tr>\n      <th>地市</th>\n      <th></th>\n      <th></th>\n      <th></th>\n      <th></th>\n      <th></th>\n    </tr>\n  </thead>\n  <tbody>\n    <tr>\n      <th>中心</th>\n      <td>16927.13</td>\n      <td>nan</td>\n      <td>nan</td>\n      <td>2938.31</td>\n      <td>625.05</td>\n    </tr>\n    <tr>\n      <th>嘉定</th>\n      <td>8160.48</td>\n      <td>10914.38</td>\n      <td>4849.08</td>\n      <td>4628.58</td>\n      <td>78.58</td>\n    </tr>\n    <tr>\n      <th>奉贤</th>\n      <td>5033.86</td>\n      <td>5017.14</td>\n      <td>2127.57</td>\n      <td>2531.22</td>\n      <td>32.22</td>\n    </tr>\n    <tr>\n      <th>宝山</th>\n      <td>9059.75</td>\n      <td>9408.00</td>\n      <td>3561.85</td>\n      <td>3635.39</td>\n      <td>94.41</td>\n    </tr>\n    <tr>\n      <th>崇明</th>\n      <td>1665.29</td>\n      <td>1703.56</td>\n      <td>457.65</td>\n      <td>1158.86</td>\n      <td>20.50</td>\n    </tr>\n    <tr>\n      <th>徐汇</th>\n      <td>4597.71</td>\n      <td>3467.81</td>\n      <td>926.19</td>\n      <td>1223.75</td>\n      <td>54.86</td>\n    </tr>\n    <tr>\n      <th>普陀</th>\n      <td>5430.44</td>\n      <td>3768.41</td>\n      <td>1269.14</td>\n      <td>2011.13</td>\n      <td>62.45</td>\n    </tr>\n    <tr>\n      <th>杨浦</th>\n      <td>4429.14</td>\n      <td>4056.92</td>\n      <td>1685.57</td>\n      <td>1791.34</td>\n      <td>44.88</td>\n    </tr>\n    <tr>\n      <th>松江</th>\n      <td>9417.24</td>\n      <td>10631.79</td>\n      <td>5685.67</td>\n      <td>5457.17</td>\n      <td>83.99</td>\n    </tr>\n    <tr>\n      <th>浦东</th>\n      <td>21635.57</td>\n      <td>24596.64</td>\n      <td>9587.23</td>\n      <td>10104.57</td>\n      <td>201.55</td>\n    </tr>\n    <tr>\n      <th>虹口</th>\n      <td>3415.41</td>\n      <td>3106.56</td>\n      <td>1016.17</td>\n      <td>1089.58</td>\n      <td>40.30</td>\n    </tr>\n    <tr>\n      <th>金山</th>\n      <td>3514.81</td>\n      <td>2610.56</td>\n      <td>1154.96</td>\n      <td>1922.24</td>\n      <td>32.69</td>\n    </tr>\n    <tr>\n      <th>长宁</th>\n      <td>3208.17</td>\n      <td>3599.26</td>\n      <td>625.13</td>\n      <td>1906.06</td>\n      <td>35.81</td>\n    </tr>\n    <tr>\n      <th>闵行</th>\n      <td>11079.82</td>\n      <td>11751.78</td>\n      <td>3704.90</td>\n      <td>5462.58</td>\n      <td>104.44</td>\n    </tr>\n    <tr>\n      <th>青浦</th>\n      <td>4784.14</td>\n      <td>6026.38</td>\n      <td>1943.97</td>\n      <td>2908.38</td>\n      <td>32.59</td>\n    </tr>\n    <tr>\n      <th>静安</th>\n      <td>5392.34</td>\n      <td>5254.86</td>\n      <td>1740.97</td>\n      <td>2143.35</td>\n      <td>89.42</td>\n    </tr>\n    <tr>\n      <th>黄浦</th>\n      <td>3129.26</td>\n      <td>3133.62</td>\n      <td>865.25</td>\n      <td>1342.65</td>\n      <td>36.64</td>\n    </tr>\n  </tbody>\n</table>\n</div>"
     },
     "execution_count": 8,
     "metadata": {},
     "output_type": "execute_result"
    }
   ],
   "source": [
    "ppt=pd.DataFrame()\n",
    "a_data = data[(data['年'] == year) ]\n",
    "games = ['双色球', '即开票', '快乐8', '福彩3D', '七乐彩', '地方游戏']\n",
    "for game in games:\n",
    "    ppt[f'{game}销量'] = a_data[a_data['游戏'] == game].groupby('地市')['销量'].sum() * 1e-4\n",
    "ppt_10_excel=pd.DataFrame()\n",
    "ppt_10_excel['双色球'] = ppt['双色球销量'].apply(lambda x: '{:.2f}'.format(x))\n",
    "ppt_10_excel['即开票'] = ppt['即开票销量'].apply(lambda x: '{:.2f}'.format(x))\n",
    "ppt_10_excel['快乐8'] = ppt['快乐8销量'].apply(lambda x: '{:.2f}'.format(x))\n",
    "ppt_10_excel['福彩3D'] = ppt['福彩3D销量'].apply(lambda x: '{:.2f}'.format(x))\n",
    "ppt_10_excel['七乐彩'] = ppt['七乐彩销量'].apply(lambda x: '{:.2f}'.format(x))\n",
    "# ppt_10_excel.to_excel(r\"E:\\彩票数据\\山西\\山西月报\\2024年%d月报\\ppt_10.xlsx\"%(month))\n",
    "ppt_10_excel"
   ],
   "metadata": {
    "collapsed": false,
    "pycharm": {
     "name": "#%%\n"
    }
   }
  },
  {
   "cell_type": "code",
   "execution_count": 9,
   "outputs": [
    {
     "data": {
      "text/plain": "          日期  地市     游戏        票价区间       销量     年\n0      45108  中心    双色球        02$2  2545318  2023\n1      45108  中心    双色球      04$4-8  3848746  2023\n2      45108  中心    双色球       05$10  5036060  2023\n3      45108  中心    双色球    06$12-18  1763890  2023\n4      45108  中心    双色球       07$20  2034020  2023\n...      ...  ..    ...         ...      ...   ...\n13181  45413  黄浦  东方6+1    08$22-48     4712  2024\n13182  45413  黄浦  东方6+1    09$50-98     1196  2024\n13183  45413  黄浦  东方6+1  10$100-198     1478  2024\n13184  45413  黄浦  东方6+1  11$200-998     1314  2024\n13185  45413  黄浦  东方6+1   12$1000以上     1296  2024\n\n[13186 rows x 6 columns]",
      "text/html": "<div>\n<style scoped>\n    .dataframe tbody tr th:only-of-type {\n        vertical-align: middle;\n    }\n\n    .dataframe tbody tr th {\n        vertical-align: top;\n    }\n\n    .dataframe thead th {\n        text-align: right;\n    }\n</style>\n<table border=\"1\" class=\"dataframe\">\n  <thead>\n    <tr style=\"text-align: right;\">\n      <th></th>\n      <th>日期</th>\n      <th>地市</th>\n      <th>游戏</th>\n      <th>票价区间</th>\n      <th>销量</th>\n      <th>年</th>\n    </tr>\n  </thead>\n  <tbody>\n    <tr>\n      <th>0</th>\n      <td>45108</td>\n      <td>中心</td>\n      <td>双色球</td>\n      <td>02$2</td>\n      <td>2545318</td>\n      <td>2023</td>\n    </tr>\n    <tr>\n      <th>1</th>\n      <td>45108</td>\n      <td>中心</td>\n      <td>双色球</td>\n      <td>04$4-8</td>\n      <td>3848746</td>\n      <td>2023</td>\n    </tr>\n    <tr>\n      <th>2</th>\n      <td>45108</td>\n      <td>中心</td>\n      <td>双色球</td>\n      <td>05$10</td>\n      <td>5036060</td>\n      <td>2023</td>\n    </tr>\n    <tr>\n      <th>3</th>\n      <td>45108</td>\n      <td>中心</td>\n      <td>双色球</td>\n      <td>06$12-18</td>\n      <td>1763890</td>\n      <td>2023</td>\n    </tr>\n    <tr>\n      <th>4</th>\n      <td>45108</td>\n      <td>中心</td>\n      <td>双色球</td>\n      <td>07$20</td>\n      <td>2034020</td>\n      <td>2023</td>\n    </tr>\n    <tr>\n      <th>...</th>\n      <td>...</td>\n      <td>...</td>\n      <td>...</td>\n      <td>...</td>\n      <td>...</td>\n      <td>...</td>\n    </tr>\n    <tr>\n      <th>13181</th>\n      <td>45413</td>\n      <td>黄浦</td>\n      <td>东方6+1</td>\n      <td>08$22-48</td>\n      <td>4712</td>\n      <td>2024</td>\n    </tr>\n    <tr>\n      <th>13182</th>\n      <td>45413</td>\n      <td>黄浦</td>\n      <td>东方6+1</td>\n      <td>09$50-98</td>\n      <td>1196</td>\n      <td>2024</td>\n    </tr>\n    <tr>\n      <th>13183</th>\n      <td>45413</td>\n      <td>黄浦</td>\n      <td>东方6+1</td>\n      <td>10$100-198</td>\n      <td>1478</td>\n      <td>2024</td>\n    </tr>\n    <tr>\n      <th>13184</th>\n      <td>45413</td>\n      <td>黄浦</td>\n      <td>东方6+1</td>\n      <td>11$200-998</td>\n      <td>1314</td>\n      <td>2024</td>\n    </tr>\n    <tr>\n      <th>13185</th>\n      <td>45413</td>\n      <td>黄浦</td>\n      <td>东方6+1</td>\n      <td>12$1000以上</td>\n      <td>1296</td>\n      <td>2024</td>\n    </tr>\n  </tbody>\n</table>\n<p>13186 rows × 6 columns</p>\n</div>"
     },
     "execution_count": 9,
     "metadata": {},
     "output_type": "execute_result"
    }
   ],
   "source": [
    "import pandas as pd\n",
    "data1=pd.read_excel(r\"E:\\彩票数据\\山西\\山西年报\\地市-游戏-票单价.xlsx\",sheet_name=0)\n",
    "data1"
   ],
   "metadata": {
    "collapsed": false,
    "pycharm": {
     "name": "#%%\n"
    }
   }
  },
  {
   "cell_type": "code",
   "execution_count": 10,
   "outputs": [
    {
     "data": {
      "text/plain": "                 双色球       快乐8     福彩3D     七乐彩\n票价区间                                           \n02$2         1875.54    290.16   293.57  113.48\n04$4-8       7995.64   1353.73  2243.46  184.63\n05$10       21071.34   2182.97  4252.91  361.09\n06$12-18     5046.67   1204.80  1660.79  183.10\n07$20        8691.59   1986.16  4201.37   30.54\n08$22-48    12638.52   3451.94  5395.85   37.43\n09$50-98     9929.04   2598.02  4943.86  136.84\n10$100-198  10433.43  10481.72  4896.98   15.60\n11$200-998   9802.71   3021.85  7614.93  127.41\n12$1000以上    3774.45   1588.20  4000.01   49.83",
      "text/html": "<div>\n<style scoped>\n    .dataframe tbody tr th:only-of-type {\n        vertical-align: middle;\n    }\n\n    .dataframe tbody tr th {\n        vertical-align: top;\n    }\n\n    .dataframe thead th {\n        text-align: right;\n    }\n</style>\n<table border=\"1\" class=\"dataframe\">\n  <thead>\n    <tr style=\"text-align: right;\">\n      <th></th>\n      <th>双色球</th>\n      <th>快乐8</th>\n      <th>福彩3D</th>\n      <th>七乐彩</th>\n    </tr>\n    <tr>\n      <th>票价区间</th>\n      <th></th>\n      <th></th>\n      <th></th>\n      <th></th>\n    </tr>\n  </thead>\n  <tbody>\n    <tr>\n      <th>02$2</th>\n      <td>1875.54</td>\n      <td>290.16</td>\n      <td>293.57</td>\n      <td>113.48</td>\n    </tr>\n    <tr>\n      <th>04$4-8</th>\n      <td>7995.64</td>\n      <td>1353.73</td>\n      <td>2243.46</td>\n      <td>184.63</td>\n    </tr>\n    <tr>\n      <th>05$10</th>\n      <td>21071.34</td>\n      <td>2182.97</td>\n      <td>4252.91</td>\n      <td>361.09</td>\n    </tr>\n    <tr>\n      <th>06$12-18</th>\n      <td>5046.67</td>\n      <td>1204.80</td>\n      <td>1660.79</td>\n      <td>183.10</td>\n    </tr>\n    <tr>\n      <th>07$20</th>\n      <td>8691.59</td>\n      <td>1986.16</td>\n      <td>4201.37</td>\n      <td>30.54</td>\n    </tr>\n    <tr>\n      <th>08$22-48</th>\n      <td>12638.52</td>\n      <td>3451.94</td>\n      <td>5395.85</td>\n      <td>37.43</td>\n    </tr>\n    <tr>\n      <th>09$50-98</th>\n      <td>9929.04</td>\n      <td>2598.02</td>\n      <td>4943.86</td>\n      <td>136.84</td>\n    </tr>\n    <tr>\n      <th>10$100-198</th>\n      <td>10433.43</td>\n      <td>10481.72</td>\n      <td>4896.98</td>\n      <td>15.60</td>\n    </tr>\n    <tr>\n      <th>11$200-998</th>\n      <td>9802.71</td>\n      <td>3021.85</td>\n      <td>7614.93</td>\n      <td>127.41</td>\n    </tr>\n    <tr>\n      <th>12$1000以上</th>\n      <td>3774.45</td>\n      <td>1588.20</td>\n      <td>4000.01</td>\n      <td>49.83</td>\n    </tr>\n  </tbody>\n</table>\n</div>"
     },
     "execution_count": 10,
     "metadata": {},
     "output_type": "execute_result"
    }
   ],
   "source": [
    "ppt=pd.DataFrame()\n",
    "b_data = data1[(data1['年'] == year) ]\n",
    "ppt['双色球销量'] = b_data[(b_data['游戏'] == '双色球') ].groupby('票价区间')['销量'].sum()*1e-4\n",
    "ppt['快乐8销量'] = b_data[(b_data['游戏'] == '快乐8') ].groupby('票价区间')['销量'].sum()*1e-4\n",
    "ppt['福彩3D销量'] = b_data[(b_data['游戏'] == '福彩3D') ].groupby('票价区间')['销量'].sum()*1e-4\n",
    "ppt['七乐彩销量'] = b_data[(b_data['游戏'] == '七乐彩') ].groupby('票价区间')['销量'].sum()*1e-4\n",
    "ppt_15_excel=pd.DataFrame()\n",
    "ppt_15_excel['双色球'] = ppt['双色球销量'].apply(lambda x: '{:.2f}'.format(x))\n",
    "ppt_15_excel['快乐8'] = ppt['快乐8销量'].apply(lambda x: '{:.2f}'.format(x))\n",
    "ppt_15_excel['福彩3D'] = ppt['福彩3D销量'].apply(lambda x: '{:.2f}'.format(x))\n",
    "ppt_15_excel['七乐彩'] = ppt['七乐彩销量'].apply(lambda x: '{:.2f}'.format(x))\n",
    "# ppt_15_excel.to_excel(r\"E:\\彩票数据\\山西\\山西月报\\2024年%d月报\\ppt_15.xlsx\"%(month))\n",
    "ppt_15_excel"
   ],
   "metadata": {
    "collapsed": false,
    "pycharm": {
     "name": "#%%\n"
    }
   }
  },
  {
   "cell_type": "code",
   "execution_count": 11,
   "outputs": [
    {
     "data": {
      "text/plain": "         双色球      快乐8     福彩3D     七乐彩\n小时                                    \n00时    46.12     4.14    15.20    1.75\n01时    37.04     0.90    12.10    2.33\n02时    24.69     0.15     6.08    1.02\n03时     0.20     0.48     0.81    0.00\n04时     0.35     0.17     0.38    0.00\n05时     4.18     0.91     1.21    0.06\n06时    35.23    13.05    11.42    0.65\n07时   195.67    63.35    87.12    2.59\n08时  1297.43   214.78   269.14   46.02\n09时  2133.12   421.65   504.26   37.86\n10时  2541.89   657.69   664.60   31.98\n11时  2180.05   812.16   561.52   28.77\n12时  2219.99   794.58   608.12   34.85\n13时  2298.38   718.08   655.12   28.00\n14时  2398.66   821.32   791.79   38.05\n15时  3280.09  1008.47   871.67   42.94\n16时  4017.46  1214.17  1134.89   43.05\n17时  4298.74  1508.14  1497.86   58.64\n18时  5682.72  1698.89  3156.70   78.01\n19时  9012.97  2509.24  5869.80  112.53\n20时   666.15  3619.23  3706.21    5.47\n21时   314.00    37.53   111.28    4.57\n22时   340.53    76.18   131.35    9.37\n23时   133.75    16.51    26.30    4.73",
      "text/html": "<div>\n<style scoped>\n    .dataframe tbody tr th:only-of-type {\n        vertical-align: middle;\n    }\n\n    .dataframe tbody tr th {\n        vertical-align: top;\n    }\n\n    .dataframe thead th {\n        text-align: right;\n    }\n</style>\n<table border=\"1\" class=\"dataframe\">\n  <thead>\n    <tr style=\"text-align: right;\">\n      <th></th>\n      <th>双色球</th>\n      <th>快乐8</th>\n      <th>福彩3D</th>\n      <th>七乐彩</th>\n    </tr>\n    <tr>\n      <th>小时</th>\n      <th></th>\n      <th></th>\n      <th></th>\n      <th></th>\n    </tr>\n  </thead>\n  <tbody>\n    <tr>\n      <th>00时</th>\n      <td>46.12</td>\n      <td>4.14</td>\n      <td>15.20</td>\n      <td>1.75</td>\n    </tr>\n    <tr>\n      <th>01时</th>\n      <td>37.04</td>\n      <td>0.90</td>\n      <td>12.10</td>\n      <td>2.33</td>\n    </tr>\n    <tr>\n      <th>02时</th>\n      <td>24.69</td>\n      <td>0.15</td>\n      <td>6.08</td>\n      <td>1.02</td>\n    </tr>\n    <tr>\n      <th>03时</th>\n      <td>0.20</td>\n      <td>0.48</td>\n      <td>0.81</td>\n      <td>0.00</td>\n    </tr>\n    <tr>\n      <th>04时</th>\n      <td>0.35</td>\n      <td>0.17</td>\n      <td>0.38</td>\n      <td>0.00</td>\n    </tr>\n    <tr>\n      <th>05时</th>\n      <td>4.18</td>\n      <td>0.91</td>\n      <td>1.21</td>\n      <td>0.06</td>\n    </tr>\n    <tr>\n      <th>06时</th>\n      <td>35.23</td>\n      <td>13.05</td>\n      <td>11.42</td>\n      <td>0.65</td>\n    </tr>\n    <tr>\n      <th>07时</th>\n      <td>195.67</td>\n      <td>63.35</td>\n      <td>87.12</td>\n      <td>2.59</td>\n    </tr>\n    <tr>\n      <th>08时</th>\n      <td>1297.43</td>\n      <td>214.78</td>\n      <td>269.14</td>\n      <td>46.02</td>\n    </tr>\n    <tr>\n      <th>09时</th>\n      <td>2133.12</td>\n      <td>421.65</td>\n      <td>504.26</td>\n      <td>37.86</td>\n    </tr>\n    <tr>\n      <th>10时</th>\n      <td>2541.89</td>\n      <td>657.69</td>\n      <td>664.60</td>\n      <td>31.98</td>\n    </tr>\n    <tr>\n      <th>11时</th>\n      <td>2180.05</td>\n      <td>812.16</td>\n      <td>561.52</td>\n      <td>28.77</td>\n    </tr>\n    <tr>\n      <th>12时</th>\n      <td>2219.99</td>\n      <td>794.58</td>\n      <td>608.12</td>\n      <td>34.85</td>\n    </tr>\n    <tr>\n      <th>13时</th>\n      <td>2298.38</td>\n      <td>718.08</td>\n      <td>655.12</td>\n      <td>28.00</td>\n    </tr>\n    <tr>\n      <th>14时</th>\n      <td>2398.66</td>\n      <td>821.32</td>\n      <td>791.79</td>\n      <td>38.05</td>\n    </tr>\n    <tr>\n      <th>15时</th>\n      <td>3280.09</td>\n      <td>1008.47</td>\n      <td>871.67</td>\n      <td>42.94</td>\n    </tr>\n    <tr>\n      <th>16时</th>\n      <td>4017.46</td>\n      <td>1214.17</td>\n      <td>1134.89</td>\n      <td>43.05</td>\n    </tr>\n    <tr>\n      <th>17时</th>\n      <td>4298.74</td>\n      <td>1508.14</td>\n      <td>1497.86</td>\n      <td>58.64</td>\n    </tr>\n    <tr>\n      <th>18时</th>\n      <td>5682.72</td>\n      <td>1698.89</td>\n      <td>3156.70</td>\n      <td>78.01</td>\n    </tr>\n    <tr>\n      <th>19时</th>\n      <td>9012.97</td>\n      <td>2509.24</td>\n      <td>5869.80</td>\n      <td>112.53</td>\n    </tr>\n    <tr>\n      <th>20时</th>\n      <td>666.15</td>\n      <td>3619.23</td>\n      <td>3706.21</td>\n      <td>5.47</td>\n    </tr>\n    <tr>\n      <th>21时</th>\n      <td>314.00</td>\n      <td>37.53</td>\n      <td>111.28</td>\n      <td>4.57</td>\n    </tr>\n    <tr>\n      <th>22时</th>\n      <td>340.53</td>\n      <td>76.18</td>\n      <td>131.35</td>\n      <td>9.37</td>\n    </tr>\n    <tr>\n      <th>23时</th>\n      <td>133.75</td>\n      <td>16.51</td>\n      <td>26.30</td>\n      <td>4.73</td>\n    </tr>\n  </tbody>\n</table>\n</div>"
     },
     "execution_count": 11,
     "metadata": {},
     "output_type": "execute_result"
    }
   ],
   "source": [
    "import pandas as pd\n",
    "data2=pd.read_excel(r\"E:\\彩票数据\\山西\\山西年报\\日期-小时-游戏.xlsx\",sheet_name=0)\n",
    "ppt=pd.DataFrame()\n",
    "c_data = data2[(data2['年'] == year) ]\n",
    "ppt['双色球销量'] = c_data[(c_data['游戏'] == '双色球') ].groupby('小时')['销量'].sum()*1e-4\n",
    "ppt['快乐8销量'] = c_data[(c_data['游戏'] == '快乐8') ].groupby('小时')['销量'].sum()*1e-4\n",
    "ppt['福彩3D销量'] = c_data[(c_data['游戏'] == '福彩3D') ].groupby('小时')['销量'].sum()*1e-4\n",
    "ppt['七乐彩销量'] = c_data[(c_data['游戏'] == '七乐彩') ].groupby('小时')['销量'].sum()*1e-4\n",
    "ppt_17_excel=pd.DataFrame()\n",
    "ppt_17_excel['双色球'] = ppt['双色球销量'].apply(lambda x: '{:.2f}'.format(x))\n",
    "ppt_17_excel['快乐8'] = ppt['快乐8销量'].apply(lambda x: '{:.2f}'.format(x))\n",
    "ppt_17_excel['福彩3D'] = ppt['福彩3D销量'].apply(lambda x: '{:.2f}'.format(x))\n",
    "ppt_17_excel['七乐彩'] = ppt['七乐彩销量'].apply(lambda x: '{:.2f}'.format(x))\n",
    "# ppt_17_excel.to_excel(r\"E:\\彩票数据\\山西\\山西月报\\2024年%d月报\\ppt_17.xlsx\"%(month))\n",
    "ppt_17_excel"
   ],
   "metadata": {
    "collapsed": false,
    "pycharm": {
     "name": "#%%\n"
    }
   }
  },
  {
   "cell_type": "code",
   "execution_count": 12,
   "outputs": [
    {
     "data": {
      "text/plain": "               2021       2022       2023       2024  本月在近12月销量排名\n0    双色球  225849.34  178011.13  223880.41  120880.56            4\n1   福彩3D   37175.74   44579.80   73411.63   52255.14            2\n2    七乐彩    3202.70    2927.04    2989.22    1670.37            4\n3    即开票   98181.56   72971.44  189632.60  109855.62            2\n4    快乐8   29994.28   32459.90   60116.08   41201.30            2\n5   15选5    2751.64    2869.68    3277.21    1870.89            4\n6  东方6+1    1331.40    1257.67    1479.10     843.12            4\n7     选4    8015.39    7069.43    9772.06    5502.39            4\n8   地方游戏   27895.74       0.00       0.00       0.00            2",
      "text/html": "<div>\n<style scoped>\n    .dataframe tbody tr th:only-of-type {\n        vertical-align: middle;\n    }\n\n    .dataframe tbody tr th {\n        vertical-align: top;\n    }\n\n    .dataframe thead th {\n        text-align: right;\n    }\n</style>\n<table border=\"1\" class=\"dataframe\">\n  <thead>\n    <tr style=\"text-align: right;\">\n      <th></th>\n      <th></th>\n      <th>2021</th>\n      <th>2022</th>\n      <th>2023</th>\n      <th>2024</th>\n      <th>本月在近12月销量排名</th>\n    </tr>\n  </thead>\n  <tbody>\n    <tr>\n      <th>0</th>\n      <td>双色球</td>\n      <td>225849.34</td>\n      <td>178011.13</td>\n      <td>223880.41</td>\n      <td>120880.56</td>\n      <td>4</td>\n    </tr>\n    <tr>\n      <th>1</th>\n      <td>福彩3D</td>\n      <td>37175.74</td>\n      <td>44579.80</td>\n      <td>73411.63</td>\n      <td>52255.14</td>\n      <td>2</td>\n    </tr>\n    <tr>\n      <th>2</th>\n      <td>七乐彩</td>\n      <td>3202.70</td>\n      <td>2927.04</td>\n      <td>2989.22</td>\n      <td>1670.37</td>\n      <td>4</td>\n    </tr>\n    <tr>\n      <th>3</th>\n      <td>即开票</td>\n      <td>98181.56</td>\n      <td>72971.44</td>\n      <td>189632.60</td>\n      <td>109855.62</td>\n      <td>2</td>\n    </tr>\n    <tr>\n      <th>4</th>\n      <td>快乐8</td>\n      <td>29994.28</td>\n      <td>32459.90</td>\n      <td>60116.08</td>\n      <td>41201.30</td>\n      <td>2</td>\n    </tr>\n    <tr>\n      <th>5</th>\n      <td>15选5</td>\n      <td>2751.64</td>\n      <td>2869.68</td>\n      <td>3277.21</td>\n      <td>1870.89</td>\n      <td>4</td>\n    </tr>\n    <tr>\n      <th>6</th>\n      <td>东方6+1</td>\n      <td>1331.40</td>\n      <td>1257.67</td>\n      <td>1479.10</td>\n      <td>843.12</td>\n      <td>4</td>\n    </tr>\n    <tr>\n      <th>7</th>\n      <td>选4</td>\n      <td>8015.39</td>\n      <td>7069.43</td>\n      <td>9772.06</td>\n      <td>5502.39</td>\n      <td>4</td>\n    </tr>\n    <tr>\n      <th>8</th>\n      <td>地方游戏</td>\n      <td>27895.74</td>\n      <td>0.00</td>\n      <td>0.00</td>\n      <td>0.00</td>\n      <td>2</td>\n    </tr>\n  </tbody>\n</table>\n</div>"
     },
     "execution_count": 12,
     "metadata": {},
     "output_type": "execute_result"
    }
   ],
   "source": [
    "year_near12=get_5_years(year)[1:]\n",
    "game_name=[\"双色球\",\"福彩3D\",\"七乐彩\",\"即开票\",\"快乐8\",\"15选5\",\"东方6+1\",\"选4\",\"地方游戏\"]\n",
    "game_sales={i:[] for i in year_near12}\n",
    "for i in game_name:\n",
    "    for j in year_near12:\n",
    "        a=data.loc[data[\"年\"]==j].loc[data[\"gamename\"]==i][\"销量\"].sum()\n",
    "        game_sales[j].append(a*1e-4)\n",
    "def get_weici(list_data,num):\n",
    "    weici=1\n",
    "    for i in list_data:\n",
    "        if i>num:\n",
    "            weici+=1\n",
    "    return weici\n",
    "# [j[i] for j in list(game_sales.values())]\n",
    "weici=[get_weici([j[i] for j in list(game_sales.values())],[j[i] for j in list(game_sales.values())][-1]) for i in range(len(game_name))]\n",
    "ppt_19_excel=pd.DataFrame()\n",
    "ppt_19_excel[\"\"]=game_name\n",
    "for i in year_near12:\n",
    "    ppt_19_excel[i]=game_sales[i]\n",
    "    ppt_19_excel[i]=ppt_19_excel[i].apply(lambda x:format(x,\".2f\"))\n",
    "ppt_19_excel[\"本月在近12月销量排名\"]=weici\n",
    "# ppt_19_excel.to_excel(r\"E:\\彩票数据\\山西\\山西月报\\2024年%d月报\\ppt_19.xlsx\"%(month))\n",
    "ppt_19_excel"
   ],
   "metadata": {
    "collapsed": false,
    "pycharm": {
     "name": "#%%\n"
    }
   }
  },
  {
   "cell_type": "code",
   "execution_count": 13,
   "outputs": [
    {
     "data": {
      "text/plain": "     快乐8市场份额 即开票市场份额 3D市场份额 双色球市场份额\n年                                  \n2020    nan%    nan%   2.0%   90.4%\n2021    6.9%   22.6%   8.6%   52.0%\n2022    9.5%   21.3%  13.0%   52.0%\n2023   10.6%   33.6%  13.0%   39.7%\n2024   12.3%   32.9%  15.6%   36.2%",
      "text/html": "<div>\n<style scoped>\n    .dataframe tbody tr th:only-of-type {\n        vertical-align: middle;\n    }\n\n    .dataframe tbody tr th {\n        vertical-align: top;\n    }\n\n    .dataframe thead th {\n        text-align: right;\n    }\n</style>\n<table border=\"1\" class=\"dataframe\">\n  <thead>\n    <tr style=\"text-align: right;\">\n      <th></th>\n      <th>快乐8市场份额</th>\n      <th>即开票市场份额</th>\n      <th>3D市场份额</th>\n      <th>双色球市场份额</th>\n    </tr>\n    <tr>\n      <th>年</th>\n      <th></th>\n      <th></th>\n      <th></th>\n      <th></th>\n    </tr>\n  </thead>\n  <tbody>\n    <tr>\n      <th>2020</th>\n      <td>nan%</td>\n      <td>nan%</td>\n      <td>2.0%</td>\n      <td>90.4%</td>\n    </tr>\n    <tr>\n      <th>2021</th>\n      <td>6.9%</td>\n      <td>22.6%</td>\n      <td>8.6%</td>\n      <td>52.0%</td>\n    </tr>\n    <tr>\n      <th>2022</th>\n      <td>9.5%</td>\n      <td>21.3%</td>\n      <td>13.0%</td>\n      <td>52.0%</td>\n    </tr>\n    <tr>\n      <th>2023</th>\n      <td>10.6%</td>\n      <td>33.6%</td>\n      <td>13.0%</td>\n      <td>39.7%</td>\n    </tr>\n    <tr>\n      <th>2024</th>\n      <td>12.3%</td>\n      <td>32.9%</td>\n      <td>15.6%</td>\n      <td>36.2%</td>\n    </tr>\n  </tbody>\n</table>\n</div>"
     },
     "execution_count": 13,
     "metadata": {},
     "output_type": "execute_result"
    }
   ],
   "source": [
    "from datetime import datetime\n",
    "ppt = pd.DataFrame()\n",
    "a_data = data[(data['年'] >= year-4) & (data['年'] <= year)]\n",
    "ppt['双色球'] = a_data[a_data['游戏'] == '双色球'].groupby('年')['销量'].sum()\n",
    "ppt['即开票'] = a_data[a_data['游戏'] == '即开票'].groupby('年')['销量'].sum()\n",
    "ppt['快乐8'] = a_data[a_data['游戏'] == '快乐8'].groupby('年')['销量'].sum()\n",
    "ppt['3D'] = a_data[a_data['游戏'] == '福彩3D'].groupby('年')['销量'].sum()\n",
    "ppt['总销量'] = a_data.groupby('年')['销量'].sum()\n",
    "ppt_20_excel = pd.DataFrame()\n",
    "ppt_20_excel['快乐8市场份额'] = (ppt['快乐8'] / ppt['总销量']).apply(lambda x: '{:.1%}'.format(x))\n",
    "ppt_20_excel['即开票市场份额'] = (ppt['即开票'] / ppt['总销量']).apply(lambda x: '{:.1%}'.format(x))\n",
    "ppt_20_excel['3D市场份额'] = (ppt['3D'] / ppt['总销量']).apply(lambda x: '{:.1%}'.format(x))\n",
    "ppt_20_excel['双色球市场份额'] = (ppt['双色球'] / ppt['总销量']).apply(lambda x: '{:.1%}'.format(x))\n",
    "# ppt_20_excel.to_excel(r\"E:\\彩票数据\\山西\\山西月报\\2024年%d月报\\ppt_20.xlsx\"%(month))\n",
    "ppt_20_excel"
   ],
   "metadata": {
    "collapsed": false,
    "pycharm": {
     "name": "#%%\n"
    }
   }
  },
  {
   "cell_type": "code",
   "execution_count": 14,
   "outputs": [
    {
     "data": {
      "text/plain": "               2021  2022      2023      2024  本月在近12月销量排名\n0        02$2  0.00  0.00   2360.19   1875.54            2\n1      04$4-8  0.00  0.00   9442.98   7995.64            2\n2       05$10  0.00  0.00  26364.49  21071.34            2\n3    06$12-18  0.00  0.00   6126.22   5046.67            2\n4       07$20  0.00  0.00  14621.83   8691.59            2\n5    08$22-48  0.00  0.00  14414.15  12638.52            2\n6    09$50-98  0.00  0.00  12894.61   9929.04            2\n7  10$100-198  0.00  0.00  13814.58  10433.43            2\n8  11$200-998  0.00  0.00  12997.28   9802.71            2\n9   12$1000以上  0.00  0.00   5067.15   3774.45            2",
      "text/html": "<div>\n<style scoped>\n    .dataframe tbody tr th:only-of-type {\n        vertical-align: middle;\n    }\n\n    .dataframe tbody tr th {\n        vertical-align: top;\n    }\n\n    .dataframe thead th {\n        text-align: right;\n    }\n</style>\n<table border=\"1\" class=\"dataframe\">\n  <thead>\n    <tr style=\"text-align: right;\">\n      <th></th>\n      <th></th>\n      <th>2021</th>\n      <th>2022</th>\n      <th>2023</th>\n      <th>2024</th>\n      <th>本月在近12月销量排名</th>\n    </tr>\n  </thead>\n  <tbody>\n    <tr>\n      <th>0</th>\n      <td>02$2</td>\n      <td>0.00</td>\n      <td>0.00</td>\n      <td>2360.19</td>\n      <td>1875.54</td>\n      <td>2</td>\n    </tr>\n    <tr>\n      <th>1</th>\n      <td>04$4-8</td>\n      <td>0.00</td>\n      <td>0.00</td>\n      <td>9442.98</td>\n      <td>7995.64</td>\n      <td>2</td>\n    </tr>\n    <tr>\n      <th>2</th>\n      <td>05$10</td>\n      <td>0.00</td>\n      <td>0.00</td>\n      <td>26364.49</td>\n      <td>21071.34</td>\n      <td>2</td>\n    </tr>\n    <tr>\n      <th>3</th>\n      <td>06$12-18</td>\n      <td>0.00</td>\n      <td>0.00</td>\n      <td>6126.22</td>\n      <td>5046.67</td>\n      <td>2</td>\n    </tr>\n    <tr>\n      <th>4</th>\n      <td>07$20</td>\n      <td>0.00</td>\n      <td>0.00</td>\n      <td>14621.83</td>\n      <td>8691.59</td>\n      <td>2</td>\n    </tr>\n    <tr>\n      <th>5</th>\n      <td>08$22-48</td>\n      <td>0.00</td>\n      <td>0.00</td>\n      <td>14414.15</td>\n      <td>12638.52</td>\n      <td>2</td>\n    </tr>\n    <tr>\n      <th>6</th>\n      <td>09$50-98</td>\n      <td>0.00</td>\n      <td>0.00</td>\n      <td>12894.61</td>\n      <td>9929.04</td>\n      <td>2</td>\n    </tr>\n    <tr>\n      <th>7</th>\n      <td>10$100-198</td>\n      <td>0.00</td>\n      <td>0.00</td>\n      <td>13814.58</td>\n      <td>10433.43</td>\n      <td>2</td>\n    </tr>\n    <tr>\n      <th>8</th>\n      <td>11$200-998</td>\n      <td>0.00</td>\n      <td>0.00</td>\n      <td>12997.28</td>\n      <td>9802.71</td>\n      <td>2</td>\n    </tr>\n    <tr>\n      <th>9</th>\n      <td>12$1000以上</td>\n      <td>0.00</td>\n      <td>0.00</td>\n      <td>5067.15</td>\n      <td>3774.45</td>\n      <td>2</td>\n    </tr>\n  </tbody>\n</table>\n</div>"
     },
     "execution_count": 14,
     "metadata": {},
     "output_type": "execute_result"
    }
   ],
   "source": [
    "data1 = data1[(data1['游戏'] == \"双色球\") ]\n",
    "year_near5=get_5_years(year)[1:]\n",
    "# game_name=[\"2\",\"4-8\",\"10\",\"12-18\",\"20\",\"22-48\",\"50-98\",\"100-198\",\"200-998\",\"1000以上\"]\n",
    "game_name=[\"02$2\",\"04$4-8\",\"05$10\",\"06$12-18\",\"07$20\",\"08$22-48\",\"09$50-98\",\"10$100-198\",\"11$200-998\",\"12$1000以上\"]\n",
    "game_sales={i:[] for i in year_near5}\n",
    "for i in game_name:\n",
    "    for j in year_near5:\n",
    "        a=data1.loc[data1[\"年\"]==j].loc[data1[\"票价区间\"]==i][\"销量\"].sum()\n",
    "        game_sales[j].append(a*1e-4)\n",
    "def get_weici(list_data,num):\n",
    "    weici=1\n",
    "    for i in list_data:\n",
    "        if i>num:\n",
    "            weici+=1\n",
    "    return weici\n",
    "# [j[i] for j in list(game_sales.values())]\n",
    "weici=[get_weici([j[i] for j in list(game_sales.values())],[j[i] for j in list(game_sales.values())][-1]) for i in range(len(game_name))]\n",
    "ppt_21_excel=pd.DataFrame()\n",
    "ppt_21_excel[\"\"]=game_name\n",
    "for i in year_near5:\n",
    "    ppt_21_excel[i]=game_sales[i]\n",
    "    ppt_21_excel[i]=ppt_21_excel[i].apply(lambda x:format(x,\".2f\"))\n",
    "ppt_21_excel[\"本月在近12月销量排名\"]=weici\n",
    "# ppt_21_excel.to_excel(r\"E:\\彩票数据\\山西\\山西月报\\2024年%d月报\\ppt_20.xlsx\"%(month))\n",
    "ppt_21_excel"
   ],
   "metadata": {
    "collapsed": false,
    "pycharm": {
     "name": "#%%\n"
    }
   }
  },
  {
   "cell_type": "code",
   "execution_count": 15,
   "outputs": [
    {
     "data": {
      "text/plain": "         日期  地市     游戏          倍投        销量     年\n0     45108  中心    双色球       01$单倍  14067700  2023\n1     45108  中心    双色球       02$两倍   2741752  2023\n2     45108  中心    双色球     03$3到5倍   3879084  2023\n3     45108  中心    双色球    04$6到10倍   1677026  2023\n4     45108  中心    双色球   05$11到20倍    809388  2023\n...     ...  ..    ...         ...       ...   ...\n7692  45413  黄浦  东方6+1       02$两倍      1830  2024\n7693  45413  黄浦  东方6+1     03$3到5倍      3872  2024\n7694  45413  黄浦  东方6+1    04$6到10倍      2654  2024\n7695  45413  黄浦  东方6+1   05$11到20倍       866  2024\n7696  45413  黄浦  东方6+1  06$21到100倍       792  2024\n\n[7697 rows x 6 columns]",
      "text/html": "<div>\n<style scoped>\n    .dataframe tbody tr th:only-of-type {\n        vertical-align: middle;\n    }\n\n    .dataframe tbody tr th {\n        vertical-align: top;\n    }\n\n    .dataframe thead th {\n        text-align: right;\n    }\n</style>\n<table border=\"1\" class=\"dataframe\">\n  <thead>\n    <tr style=\"text-align: right;\">\n      <th></th>\n      <th>日期</th>\n      <th>地市</th>\n      <th>游戏</th>\n      <th>倍投</th>\n      <th>销量</th>\n      <th>年</th>\n    </tr>\n  </thead>\n  <tbody>\n    <tr>\n      <th>0</th>\n      <td>45108</td>\n      <td>中心</td>\n      <td>双色球</td>\n      <td>01$单倍</td>\n      <td>14067700</td>\n      <td>2023</td>\n    </tr>\n    <tr>\n      <th>1</th>\n      <td>45108</td>\n      <td>中心</td>\n      <td>双色球</td>\n      <td>02$两倍</td>\n      <td>2741752</td>\n      <td>2023</td>\n    </tr>\n    <tr>\n      <th>2</th>\n      <td>45108</td>\n      <td>中心</td>\n      <td>双色球</td>\n      <td>03$3到5倍</td>\n      <td>3879084</td>\n      <td>2023</td>\n    </tr>\n    <tr>\n      <th>3</th>\n      <td>45108</td>\n      <td>中心</td>\n      <td>双色球</td>\n      <td>04$6到10倍</td>\n      <td>1677026</td>\n      <td>2023</td>\n    </tr>\n    <tr>\n      <th>4</th>\n      <td>45108</td>\n      <td>中心</td>\n      <td>双色球</td>\n      <td>05$11到20倍</td>\n      <td>809388</td>\n      <td>2023</td>\n    </tr>\n    <tr>\n      <th>...</th>\n      <td>...</td>\n      <td>...</td>\n      <td>...</td>\n      <td>...</td>\n      <td>...</td>\n      <td>...</td>\n    </tr>\n    <tr>\n      <th>7692</th>\n      <td>45413</td>\n      <td>黄浦</td>\n      <td>东方6+1</td>\n      <td>02$两倍</td>\n      <td>1830</td>\n      <td>2024</td>\n    </tr>\n    <tr>\n      <th>7693</th>\n      <td>45413</td>\n      <td>黄浦</td>\n      <td>东方6+1</td>\n      <td>03$3到5倍</td>\n      <td>3872</td>\n      <td>2024</td>\n    </tr>\n    <tr>\n      <th>7694</th>\n      <td>45413</td>\n      <td>黄浦</td>\n      <td>东方6+1</td>\n      <td>04$6到10倍</td>\n      <td>2654</td>\n      <td>2024</td>\n    </tr>\n    <tr>\n      <th>7695</th>\n      <td>45413</td>\n      <td>黄浦</td>\n      <td>东方6+1</td>\n      <td>05$11到20倍</td>\n      <td>866</td>\n      <td>2024</td>\n    </tr>\n    <tr>\n      <th>7696</th>\n      <td>45413</td>\n      <td>黄浦</td>\n      <td>东方6+1</td>\n      <td>06$21到100倍</td>\n      <td>792</td>\n      <td>2024</td>\n    </tr>\n  </tbody>\n</table>\n<p>7697 rows × 6 columns</p>\n</div>"
     },
     "execution_count": 15,
     "metadata": {},
     "output_type": "execute_result"
    }
   ],
   "source": [
    "import pandas as pd\n",
    "data3=pd.read_excel(r\"E:\\彩票数据\\山西\\山西年报\\地市-游戏-倍投.xlsx\",sheet_name=0)\n",
    "data3"
   ],
   "metadata": {
    "collapsed": false,
    "pycharm": {
     "name": "#%%\n"
    }
   }
  },
  {
   "cell_type": "code",
   "execution_count": 16,
   "outputs": [
    {
     "data": {
      "text/plain": "               2021  2022      2023      2024  本月在近12月销量排名\n0       01$单倍  0.00  0.00  64710.03  51420.37            2\n1       02$两倍  0.00  0.00  13727.43   8840.97            2\n2     03$3到5倍  0.00  0.00  17160.25  13661.16            2\n3    04$6到10倍  0.00  0.00   8916.13   6526.33            2\n4   05$11到20倍  0.00  0.00   2856.14   2457.57            2\n5  06$21到100倍  0.00  0.00  10733.51   8352.52            2",
      "text/html": "<div>\n<style scoped>\n    .dataframe tbody tr th:only-of-type {\n        vertical-align: middle;\n    }\n\n    .dataframe tbody tr th {\n        vertical-align: top;\n    }\n\n    .dataframe thead th {\n        text-align: right;\n    }\n</style>\n<table border=\"1\" class=\"dataframe\">\n  <thead>\n    <tr style=\"text-align: right;\">\n      <th></th>\n      <th></th>\n      <th>2021</th>\n      <th>2022</th>\n      <th>2023</th>\n      <th>2024</th>\n      <th>本月在近12月销量排名</th>\n    </tr>\n  </thead>\n  <tbody>\n    <tr>\n      <th>0</th>\n      <td>01$单倍</td>\n      <td>0.00</td>\n      <td>0.00</td>\n      <td>64710.03</td>\n      <td>51420.37</td>\n      <td>2</td>\n    </tr>\n    <tr>\n      <th>1</th>\n      <td>02$两倍</td>\n      <td>0.00</td>\n      <td>0.00</td>\n      <td>13727.43</td>\n      <td>8840.97</td>\n      <td>2</td>\n    </tr>\n    <tr>\n      <th>2</th>\n      <td>03$3到5倍</td>\n      <td>0.00</td>\n      <td>0.00</td>\n      <td>17160.25</td>\n      <td>13661.16</td>\n      <td>2</td>\n    </tr>\n    <tr>\n      <th>3</th>\n      <td>04$6到10倍</td>\n      <td>0.00</td>\n      <td>0.00</td>\n      <td>8916.13</td>\n      <td>6526.33</td>\n      <td>2</td>\n    </tr>\n    <tr>\n      <th>4</th>\n      <td>05$11到20倍</td>\n      <td>0.00</td>\n      <td>0.00</td>\n      <td>2856.14</td>\n      <td>2457.57</td>\n      <td>2</td>\n    </tr>\n    <tr>\n      <th>5</th>\n      <td>06$21到100倍</td>\n      <td>0.00</td>\n      <td>0.00</td>\n      <td>10733.51</td>\n      <td>8352.52</td>\n      <td>2</td>\n    </tr>\n  </tbody>\n</table>\n</div>"
     },
     "execution_count": 16,
     "metadata": {},
     "output_type": "execute_result"
    }
   ],
   "source": [
    "data3 = data3[(data3['游戏'] == \"双色球\") ]\n",
    "year_near5=get_5_years(year)[1:]\n",
    "game_name=[\"01$单倍\",\"02$两倍\",\"03$3到5倍\",\"04$6到10倍\",\"05$11到20倍\",\"06$21到100倍\"]\n",
    "game_sales={i:[] for i in year_near5}\n",
    "for i in game_name:\n",
    "    for j in year_near5:\n",
    "        a=data3.loc[data3[\"年\"]==j].loc[data3[\"倍投\"]==i][\"销量\"].sum()\n",
    "        game_sales[j].append(a*1e-4)\n",
    "def get_weici(list_data,num):\n",
    "    weici=1\n",
    "    for i in list_data:\n",
    "        if i>num:\n",
    "            weici+=1\n",
    "    return weici\n",
    "# [j[i] for j in list(game_sales.values())]\n",
    "weici=[get_weici([j[i] for j in list(game_sales.values())],[j[i] for j in list(game_sales.values())][-1]) for i in range(len(game_name))]\n",
    "ppt_24_excel=pd.DataFrame()\n",
    "ppt_24_excel[\"\"]=game_name\n",
    "for i in year_near5:\n",
    "    ppt_24_excel[i]=game_sales[i]\n",
    "    ppt_24_excel[i]=ppt_24_excel[i].apply(lambda x:format(x,\".2f\"))\n",
    "ppt_24_excel[\"本月在近12月销量排名\"]=weici\n",
    "# ppt_24_excel.to_excel(r\"E:\\彩票数据\\山西\\山西月报\\2024年%d月报\\ppt_20.xlsx\"%(month))\n",
    "ppt_24_excel"
   ],
   "metadata": {
    "collapsed": false,
    "pycharm": {
     "name": "#%%\n"
    }
   }
  },
  {
   "cell_type": "code",
   "execution_count": 17,
   "outputs": [
    {
     "data": {
      "text/plain": "       02$2   04$4-8    05$10 06$12-18     07$20 08$22-48 09$50-98 10$100-198  \\\n地市                                                                              \n中心  1499.48  2403.68  3053.01  1206.90   1314.13  2105.87  1649.19    1826.36   \n嘉定   106.77   806.19  3279.59   595.14   4436.15  3627.98  2864.11    2314.97   \n奉贤    66.78   530.65  1952.18   389.70   2425.69  1855.72  1468.07    1176.97   \n宝山   118.77   950.27  3529.91   655.71   4441.95  3344.69  2629.81    1957.25   \n崇明    36.48   241.46   774.04   153.38    934.27   602.39   529.40     397.57   \n徐汇    52.94   422.41  1517.91   278.56   1804.38  1408.76  1008.10     707.15   \n普陀    67.45   550.84  1794.00   372.70   2016.07  1616.84  1248.28     909.50   \n杨浦    60.43   487.31  1670.79   319.69   2021.08  1481.17  1127.05    1171.16   \n松江   119.24   917.20  3679.03   702.74   4500.72  3774.76  3006.46    3027.10   \n浦东   276.72  2177.89  8450.44  1495.07  10491.43  8686.15  6819.89    5420.44   \n虹口    40.29   348.04  1200.16   227.92   1411.00  1158.85   876.19     676.44   \n金山    49.63   387.55  1334.56   282.39   1381.87  1134.49   802.64     762.12   \n长宁    32.59   256.90  1139.14   173.39   1521.25  1151.31   892.85     527.97   \n闵行   121.94  1013.43  4072.84   728.62   4983.11  4207.43  3455.47    2468.29   \n青浦    59.05   509.00  1997.02   382.19   2702.77  2031.76  1578.42    1186.42   \n静安    62.04   498.32  1827.60   350.60   2478.64  1868.07  1530.72    1184.19   \n黄浦    34.36   271.67  1029.60   203.12   1436.90  1121.39   831.66     644.36   \n\n   11$200-998 12$1000以上  \n地市                       \n中心    1162.00       nan  \n嘉定    1788.82   1141.26  \n奉贤    1016.83    444.22  \n宝山    1500.82    709.53  \n崇明     299.59     66.62  \n徐汇     655.50    185.45  \n普陀     699.18    475.66  \n杨浦     542.85    264.25  \n松江    2406.70   1025.85  \n浦东    4093.08   1574.35  \n虹口     527.75    107.52  \n金山     641.20    292.41  \n长宁     538.31   1103.67  \n闵行    2399.76   1003.48  \n青浦     949.57    415.28  \n静安     981.71    485.59  \n黄浦     670.03    200.81  ",
      "text/html": "<div>\n<style scoped>\n    .dataframe tbody tr th:only-of-type {\n        vertical-align: middle;\n    }\n\n    .dataframe tbody tr th {\n        vertical-align: top;\n    }\n\n    .dataframe thead th {\n        text-align: right;\n    }\n</style>\n<table border=\"1\" class=\"dataframe\">\n  <thead>\n    <tr style=\"text-align: right;\">\n      <th></th>\n      <th>02$2</th>\n      <th>04$4-8</th>\n      <th>05$10</th>\n      <th>06$12-18</th>\n      <th>07$20</th>\n      <th>08$22-48</th>\n      <th>09$50-98</th>\n      <th>10$100-198</th>\n      <th>11$200-998</th>\n      <th>12$1000以上</th>\n    </tr>\n    <tr>\n      <th>地市</th>\n      <th></th>\n      <th></th>\n      <th></th>\n      <th></th>\n      <th></th>\n      <th></th>\n      <th></th>\n      <th></th>\n      <th></th>\n      <th></th>\n    </tr>\n  </thead>\n  <tbody>\n    <tr>\n      <th>中心</th>\n      <td>1499.48</td>\n      <td>2403.68</td>\n      <td>3053.01</td>\n      <td>1206.90</td>\n      <td>1314.13</td>\n      <td>2105.87</td>\n      <td>1649.19</td>\n      <td>1826.36</td>\n      <td>1162.00</td>\n      <td>nan</td>\n    </tr>\n    <tr>\n      <th>嘉定</th>\n      <td>106.77</td>\n      <td>806.19</td>\n      <td>3279.59</td>\n      <td>595.14</td>\n      <td>4436.15</td>\n      <td>3627.98</td>\n      <td>2864.11</td>\n      <td>2314.97</td>\n      <td>1788.82</td>\n      <td>1141.26</td>\n    </tr>\n    <tr>\n      <th>奉贤</th>\n      <td>66.78</td>\n      <td>530.65</td>\n      <td>1952.18</td>\n      <td>389.70</td>\n      <td>2425.69</td>\n      <td>1855.72</td>\n      <td>1468.07</td>\n      <td>1176.97</td>\n      <td>1016.83</td>\n      <td>444.22</td>\n    </tr>\n    <tr>\n      <th>宝山</th>\n      <td>118.77</td>\n      <td>950.27</td>\n      <td>3529.91</td>\n      <td>655.71</td>\n      <td>4441.95</td>\n      <td>3344.69</td>\n      <td>2629.81</td>\n      <td>1957.25</td>\n      <td>1500.82</td>\n      <td>709.53</td>\n    </tr>\n    <tr>\n      <th>崇明</th>\n      <td>36.48</td>\n      <td>241.46</td>\n      <td>774.04</td>\n      <td>153.38</td>\n      <td>934.27</td>\n      <td>602.39</td>\n      <td>529.40</td>\n      <td>397.57</td>\n      <td>299.59</td>\n      <td>66.62</td>\n    </tr>\n    <tr>\n      <th>徐汇</th>\n      <td>52.94</td>\n      <td>422.41</td>\n      <td>1517.91</td>\n      <td>278.56</td>\n      <td>1804.38</td>\n      <td>1408.76</td>\n      <td>1008.10</td>\n      <td>707.15</td>\n      <td>655.50</td>\n      <td>185.45</td>\n    </tr>\n    <tr>\n      <th>普陀</th>\n      <td>67.45</td>\n      <td>550.84</td>\n      <td>1794.00</td>\n      <td>372.70</td>\n      <td>2016.07</td>\n      <td>1616.84</td>\n      <td>1248.28</td>\n      <td>909.50</td>\n      <td>699.18</td>\n      <td>475.66</td>\n    </tr>\n    <tr>\n      <th>杨浦</th>\n      <td>60.43</td>\n      <td>487.31</td>\n      <td>1670.79</td>\n      <td>319.69</td>\n      <td>2021.08</td>\n      <td>1481.17</td>\n      <td>1127.05</td>\n      <td>1171.16</td>\n      <td>542.85</td>\n      <td>264.25</td>\n    </tr>\n    <tr>\n      <th>松江</th>\n      <td>119.24</td>\n      <td>917.20</td>\n      <td>3679.03</td>\n      <td>702.74</td>\n      <td>4500.72</td>\n      <td>3774.76</td>\n      <td>3006.46</td>\n      <td>3027.10</td>\n      <td>2406.70</td>\n      <td>1025.85</td>\n    </tr>\n    <tr>\n      <th>浦东</th>\n      <td>276.72</td>\n      <td>2177.89</td>\n      <td>8450.44</td>\n      <td>1495.07</td>\n      <td>10491.43</td>\n      <td>8686.15</td>\n      <td>6819.89</td>\n      <td>5420.44</td>\n      <td>4093.08</td>\n      <td>1574.35</td>\n    </tr>\n    <tr>\n      <th>虹口</th>\n      <td>40.29</td>\n      <td>348.04</td>\n      <td>1200.16</td>\n      <td>227.92</td>\n      <td>1411.00</td>\n      <td>1158.85</td>\n      <td>876.19</td>\n      <td>676.44</td>\n      <td>527.75</td>\n      <td>107.52</td>\n    </tr>\n    <tr>\n      <th>金山</th>\n      <td>49.63</td>\n      <td>387.55</td>\n      <td>1334.56</td>\n      <td>282.39</td>\n      <td>1381.87</td>\n      <td>1134.49</td>\n      <td>802.64</td>\n      <td>762.12</td>\n      <td>641.20</td>\n      <td>292.41</td>\n    </tr>\n    <tr>\n      <th>长宁</th>\n      <td>32.59</td>\n      <td>256.90</td>\n      <td>1139.14</td>\n      <td>173.39</td>\n      <td>1521.25</td>\n      <td>1151.31</td>\n      <td>892.85</td>\n      <td>527.97</td>\n      <td>538.31</td>\n      <td>1103.67</td>\n    </tr>\n    <tr>\n      <th>闵行</th>\n      <td>121.94</td>\n      <td>1013.43</td>\n      <td>4072.84</td>\n      <td>728.62</td>\n      <td>4983.11</td>\n      <td>4207.43</td>\n      <td>3455.47</td>\n      <td>2468.29</td>\n      <td>2399.76</td>\n      <td>1003.48</td>\n    </tr>\n    <tr>\n      <th>青浦</th>\n      <td>59.05</td>\n      <td>509.00</td>\n      <td>1997.02</td>\n      <td>382.19</td>\n      <td>2702.77</td>\n      <td>2031.76</td>\n      <td>1578.42</td>\n      <td>1186.42</td>\n      <td>949.57</td>\n      <td>415.28</td>\n    </tr>\n    <tr>\n      <th>静安</th>\n      <td>62.04</td>\n      <td>498.32</td>\n      <td>1827.60</td>\n      <td>350.60</td>\n      <td>2478.64</td>\n      <td>1868.07</td>\n      <td>1530.72</td>\n      <td>1184.19</td>\n      <td>981.71</td>\n      <td>485.59</td>\n    </tr>\n    <tr>\n      <th>黄浦</th>\n      <td>34.36</td>\n      <td>271.67</td>\n      <td>1029.60</td>\n      <td>203.12</td>\n      <td>1436.90</td>\n      <td>1121.39</td>\n      <td>831.66</td>\n      <td>644.36</td>\n      <td>670.03</td>\n      <td>200.81</td>\n    </tr>\n  </tbody>\n</table>\n</div>"
     },
     "execution_count": 17,
     "metadata": {},
     "output_type": "execute_result"
    }
   ],
   "source": [
    "import pandas as pd\n",
    "data1=pd.read_excel(r\"E:\\彩票数据\\山西\\山西年报\\地市-游戏-票单价.xlsx\",sheet_name=0)\n",
    "ppt=pd.DataFrame()\n",
    "a_data = data1[(data1['年'] == year) ]\n",
    "games = [\"02$2\", \"04$4-8\", \"05$10\", \"06$12-18\", \"07$20\", \"08$22-48\", \"09$50-98\", \"10$100-198\", \"11$200-998\", \"12$1000以上\"]\n",
    "ppt_28_excel = pd.DataFrame()\n",
    "for game in games:\n",
    "    ppt_28_excel[game] = a_data[a_data['票价区间'] == game].groupby('地市')['销量'].sum() * 1e-4\n",
    "    ppt_28_excel[game] = ppt_28_excel[game].apply(lambda x: '{:.2f}'.format(x))\n",
    "# ppt_28_excel.to_excel(r\"E:\\彩票数据\\山西\\山西月报\\2024年%d月报\\ppt_28.xlsx\" % (month))\n",
    "ppt_28_excel"
   ],
   "metadata": {
    "collapsed": false,
    "pycharm": {
     "name": "#%%\n"
    }
   }
  },
  {
   "cell_type": "code",
   "execution_count": 18,
   "outputs": [
    {
     "data": {
      "text/plain": "         日期   小时  地市    游戏      销量      月份     年\n0     45413  00时  中心   双色球  163900  202405  2024\n1     45413  00时  中心   七乐彩    7750  202405  2024\n2     45413  00时  中心  福彩3D   49130  202405  2024\n3     45413  00时  中心    选4    6964  202405  2024\n4     45413  00时  中心  15选5    2350  202405  2024\n...     ...  ...  ..   ...     ...     ...   ...\n7183  45465  20时  上海   快乐8  751838   15881  2024\n7184  45460  03时  上海   快乐8     608       4  2024\n7185  45462  05时  上海    选4      34       4  2024\n7186  45418  05时  上海    选4      48       5  2024\n7187  45413  04时  上海  福彩3D      50       1  2024\n\n[7188 rows x 7 columns]",
      "text/html": "<div>\n<style scoped>\n    .dataframe tbody tr th:only-of-type {\n        vertical-align: middle;\n    }\n\n    .dataframe tbody tr th {\n        vertical-align: top;\n    }\n\n    .dataframe thead th {\n        text-align: right;\n    }\n</style>\n<table border=\"1\" class=\"dataframe\">\n  <thead>\n    <tr style=\"text-align: right;\">\n      <th></th>\n      <th>日期</th>\n      <th>小时</th>\n      <th>地市</th>\n      <th>游戏</th>\n      <th>销量</th>\n      <th>月份</th>\n      <th>年</th>\n    </tr>\n  </thead>\n  <tbody>\n    <tr>\n      <th>0</th>\n      <td>45413</td>\n      <td>00时</td>\n      <td>中心</td>\n      <td>双色球</td>\n      <td>163900</td>\n      <td>202405</td>\n      <td>2024</td>\n    </tr>\n    <tr>\n      <th>1</th>\n      <td>45413</td>\n      <td>00时</td>\n      <td>中心</td>\n      <td>七乐彩</td>\n      <td>7750</td>\n      <td>202405</td>\n      <td>2024</td>\n    </tr>\n    <tr>\n      <th>2</th>\n      <td>45413</td>\n      <td>00时</td>\n      <td>中心</td>\n      <td>福彩3D</td>\n      <td>49130</td>\n      <td>202405</td>\n      <td>2024</td>\n    </tr>\n    <tr>\n      <th>3</th>\n      <td>45413</td>\n      <td>00时</td>\n      <td>中心</td>\n      <td>选4</td>\n      <td>6964</td>\n      <td>202405</td>\n      <td>2024</td>\n    </tr>\n    <tr>\n      <th>4</th>\n      <td>45413</td>\n      <td>00时</td>\n      <td>中心</td>\n      <td>15选5</td>\n      <td>2350</td>\n      <td>202405</td>\n      <td>2024</td>\n    </tr>\n    <tr>\n      <th>...</th>\n      <td>...</td>\n      <td>...</td>\n      <td>...</td>\n      <td>...</td>\n      <td>...</td>\n      <td>...</td>\n      <td>...</td>\n    </tr>\n    <tr>\n      <th>7183</th>\n      <td>45465</td>\n      <td>20时</td>\n      <td>上海</td>\n      <td>快乐8</td>\n      <td>751838</td>\n      <td>15881</td>\n      <td>2024</td>\n    </tr>\n    <tr>\n      <th>7184</th>\n      <td>45460</td>\n      <td>03时</td>\n      <td>上海</td>\n      <td>快乐8</td>\n      <td>608</td>\n      <td>4</td>\n      <td>2024</td>\n    </tr>\n    <tr>\n      <th>7185</th>\n      <td>45462</td>\n      <td>05时</td>\n      <td>上海</td>\n      <td>选4</td>\n      <td>34</td>\n      <td>4</td>\n      <td>2024</td>\n    </tr>\n    <tr>\n      <th>7186</th>\n      <td>45418</td>\n      <td>05时</td>\n      <td>上海</td>\n      <td>选4</td>\n      <td>48</td>\n      <td>5</td>\n      <td>2024</td>\n    </tr>\n    <tr>\n      <th>7187</th>\n      <td>45413</td>\n      <td>04时</td>\n      <td>上海</td>\n      <td>福彩3D</td>\n      <td>50</td>\n      <td>1</td>\n      <td>2024</td>\n    </tr>\n  </tbody>\n</table>\n<p>7188 rows × 7 columns</p>\n</div>"
     },
     "execution_count": 18,
     "metadata": {},
     "output_type": "execute_result"
    }
   ],
   "source": [
    "import pandas as pd\n",
    "data2=pd.read_excel(r\"E:\\彩票数据\\山西\\山西年报\\日期-小时-游戏.xlsx\",sheet_name=0)\n",
    "data2"
   ],
   "metadata": {
    "collapsed": false,
    "pycharm": {
     "name": "#%%\n"
    }
   }
  },
  {
   "cell_type": "code",
   "execution_count": 19,
   "outputs": [
    {
     "data": {
      "text/plain": "         00时    01时    02时   03时   04时   05时    06时     07时      08时      09时  \\\n地市                                                                              \n上海  19651.28  29.61  19.55  0.92  0.45  3.75  38.22  225.74  1077.13  1907.10   \n中心     23.51  24.36  13.38  0.01   nan   nan    nan     nan   318.63   292.71   \n嘉定    939.76   0.66   0.02  0.01   nan  0.14   3.23   14.69    36.82    80.41   \n奉贤    433.62   0.00   0.00  0.01  0.05  0.15   0.67    5.90    22.22    43.84   \n宝山    789.21   0.07   0.05  0.01   nan  0.04   1.53   13.50    50.19    96.14   \n崇明    147.44   0.04   0.03   nan   nan  0.20   1.67    8.54    15.76    20.74   \n徐汇    293.79   0.28   0.09  0.01   nan  0.00   0.86    4.74    28.38    47.67   \n普陀    330.17   0.00   0.01   nan   nan  0.02   0.90    8.10    29.98    59.21   \n杨浦    383.41   0.00   0.03  0.00  0.00  0.08   0.55    6.01    21.51    46.49   \n松江    868.43   0.36   0.10  0.05   nan  1.28   2.87    9.54    47.24    91.14   \n浦东   2153.35   0.17   0.30  0.54  0.27  0.88   8.16   39.02   131.75   235.81   \n渠道     60.00    nan    nan   nan   nan   nan    nan     nan      nan      nan   \n虹口    291.03   0.01   0.00  0.00  0.00  0.07   0.72    5.09    17.00    39.42   \n金山    237.87   0.00    nan   nan   nan  0.05   0.63    7.53    28.22    52.03   \n长宁    305.15   0.10   0.01   nan   nan  0.00   0.18    3.33    18.32    41.18   \n闵行   1000.49   0.56   0.37  0.02  0.01  0.12   2.62   14.21    58.35   101.12   \n青浦    518.06   0.28   0.02   nan  0.13  0.02   0.55    4.09    16.83    39.67   \n静安    453.86   0.26   0.01  0.01   nan  0.12   1.08    4.16    20.74    61.37   \n黄浦    311.57    nan    nan   nan   nan  0.00   1.24    2.87     8.58    20.01   \n\n    ...      15时      16时      17时      18时       19时      20时     21时  \\\n地市  ...                                                                  \n上海  ...  3192.08  3946.49  4329.56  6262.23  10355.24  4749.86  264.70   \n中心  ...   166.24   194.89   236.74   348.40    495.82    76.55   55.80   \n嘉定  ...   172.95   218.84   273.44   396.99    637.96   367.89   16.32   \n奉贤  ...    87.41   116.27   161.54   242.77    369.09   204.29    5.51   \n宝山  ...   175.01   223.96   269.77   388.31    608.31   251.35   11.37   \n崇明  ...    35.57    47.91    62.52    81.90    126.62    54.31    2.68   \n徐汇  ...    85.65    94.86   111.31   142.84    215.76    72.61    4.75   \n普陀  ...    99.40   121.37   142.64   195.40    309.27    95.31    6.80   \n杨浦  ...    94.89   101.80   132.41   181.34    275.58   118.29    5.45   \n松江  ...   192.96   229.83   315.27   451.51    759.33   498.33   20.39   \n浦东  ...   427.88   524.90   649.43   937.83   1468.66   736.90   36.92   \n渠道  ...      nan      nan      nan      nan       nan      nan     nan   \n虹口  ...    71.74    80.34    93.58   125.46    187.61    61.25    4.24   \n金山  ...    65.89    99.31   113.21   170.74    246.10    81.93    1.70   \n长宁  ...    55.47    87.84    83.86    97.74    144.93    60.60    3.96   \n闵行  ...   221.94   271.11   332.33   464.83    788.89   407.31   19.08   \n青浦  ...    90.27   113.95   153.30   234.88    382.36   197.20   14.54   \n静安  ...   123.06   132.38   160.24   210.06    300.52   130.03    8.23   \n黄浦  ...    65.73    74.05    94.32   112.89    180.33    68.41    3.96   \n\n       22时    23时  24时  \n地市                      \n上海  350.14  96.38  nan  \n中心  137.05  72.36  nan  \n嘉定   10.84   2.43  nan  \n奉贤    4.83   0.42  nan  \n宝山    7.68   2.48  nan  \n崇明    0.76   0.35  nan  \n徐汇    2.77   0.53  nan  \n普陀    4.87   0.88  nan  \n杨浦    2.97   0.45  nan  \n松江   10.79   1.25  nan  \n浦东   20.01   5.91  nan  \n渠道     nan    nan  nan  \n虹口    3.45   0.94  nan  \n金山    0.28   0.04  nan  \n长宁    2.87   1.32  nan  \n闵行    9.18   2.63  nan  \n青浦    3.30   1.86  nan  \n静安    7.57   1.01  nan  \n黄浦    1.08   0.19  nan  \n\n[19 rows x 25 columns]",
      "text/html": "<div>\n<style scoped>\n    .dataframe tbody tr th:only-of-type {\n        vertical-align: middle;\n    }\n\n    .dataframe tbody tr th {\n        vertical-align: top;\n    }\n\n    .dataframe thead th {\n        text-align: right;\n    }\n</style>\n<table border=\"1\" class=\"dataframe\">\n  <thead>\n    <tr style=\"text-align: right;\">\n      <th></th>\n      <th>00时</th>\n      <th>01时</th>\n      <th>02时</th>\n      <th>03时</th>\n      <th>04时</th>\n      <th>05时</th>\n      <th>06时</th>\n      <th>07时</th>\n      <th>08时</th>\n      <th>09时</th>\n      <th>...</th>\n      <th>15时</th>\n      <th>16时</th>\n      <th>17时</th>\n      <th>18时</th>\n      <th>19时</th>\n      <th>20时</th>\n      <th>21时</th>\n      <th>22时</th>\n      <th>23时</th>\n      <th>24时</th>\n    </tr>\n    <tr>\n      <th>地市</th>\n      <th></th>\n      <th></th>\n      <th></th>\n      <th></th>\n      <th></th>\n      <th></th>\n      <th></th>\n      <th></th>\n      <th></th>\n      <th></th>\n      <th></th>\n      <th></th>\n      <th></th>\n      <th></th>\n      <th></th>\n      <th></th>\n      <th></th>\n      <th></th>\n      <th></th>\n      <th></th>\n      <th></th>\n    </tr>\n  </thead>\n  <tbody>\n    <tr>\n      <th>上海</th>\n      <td>19651.28</td>\n      <td>29.61</td>\n      <td>19.55</td>\n      <td>0.92</td>\n      <td>0.45</td>\n      <td>3.75</td>\n      <td>38.22</td>\n      <td>225.74</td>\n      <td>1077.13</td>\n      <td>1907.10</td>\n      <td>...</td>\n      <td>3192.08</td>\n      <td>3946.49</td>\n      <td>4329.56</td>\n      <td>6262.23</td>\n      <td>10355.24</td>\n      <td>4749.86</td>\n      <td>264.70</td>\n      <td>350.14</td>\n      <td>96.38</td>\n      <td>nan</td>\n    </tr>\n    <tr>\n      <th>中心</th>\n      <td>23.51</td>\n      <td>24.36</td>\n      <td>13.38</td>\n      <td>0.01</td>\n      <td>nan</td>\n      <td>nan</td>\n      <td>nan</td>\n      <td>nan</td>\n      <td>318.63</td>\n      <td>292.71</td>\n      <td>...</td>\n      <td>166.24</td>\n      <td>194.89</td>\n      <td>236.74</td>\n      <td>348.40</td>\n      <td>495.82</td>\n      <td>76.55</td>\n      <td>55.80</td>\n      <td>137.05</td>\n      <td>72.36</td>\n      <td>nan</td>\n    </tr>\n    <tr>\n      <th>嘉定</th>\n      <td>939.76</td>\n      <td>0.66</td>\n      <td>0.02</td>\n      <td>0.01</td>\n      <td>nan</td>\n      <td>0.14</td>\n      <td>3.23</td>\n      <td>14.69</td>\n      <td>36.82</td>\n      <td>80.41</td>\n      <td>...</td>\n      <td>172.95</td>\n      <td>218.84</td>\n      <td>273.44</td>\n      <td>396.99</td>\n      <td>637.96</td>\n      <td>367.89</td>\n      <td>16.32</td>\n      <td>10.84</td>\n      <td>2.43</td>\n      <td>nan</td>\n    </tr>\n    <tr>\n      <th>奉贤</th>\n      <td>433.62</td>\n      <td>0.00</td>\n      <td>0.00</td>\n      <td>0.01</td>\n      <td>0.05</td>\n      <td>0.15</td>\n      <td>0.67</td>\n      <td>5.90</td>\n      <td>22.22</td>\n      <td>43.84</td>\n      <td>...</td>\n      <td>87.41</td>\n      <td>116.27</td>\n      <td>161.54</td>\n      <td>242.77</td>\n      <td>369.09</td>\n      <td>204.29</td>\n      <td>5.51</td>\n      <td>4.83</td>\n      <td>0.42</td>\n      <td>nan</td>\n    </tr>\n    <tr>\n      <th>宝山</th>\n      <td>789.21</td>\n      <td>0.07</td>\n      <td>0.05</td>\n      <td>0.01</td>\n      <td>nan</td>\n      <td>0.04</td>\n      <td>1.53</td>\n      <td>13.50</td>\n      <td>50.19</td>\n      <td>96.14</td>\n      <td>...</td>\n      <td>175.01</td>\n      <td>223.96</td>\n      <td>269.77</td>\n      <td>388.31</td>\n      <td>608.31</td>\n      <td>251.35</td>\n      <td>11.37</td>\n      <td>7.68</td>\n      <td>2.48</td>\n      <td>nan</td>\n    </tr>\n    <tr>\n      <th>崇明</th>\n      <td>147.44</td>\n      <td>0.04</td>\n      <td>0.03</td>\n      <td>nan</td>\n      <td>nan</td>\n      <td>0.20</td>\n      <td>1.67</td>\n      <td>8.54</td>\n      <td>15.76</td>\n      <td>20.74</td>\n      <td>...</td>\n      <td>35.57</td>\n      <td>47.91</td>\n      <td>62.52</td>\n      <td>81.90</td>\n      <td>126.62</td>\n      <td>54.31</td>\n      <td>2.68</td>\n      <td>0.76</td>\n      <td>0.35</td>\n      <td>nan</td>\n    </tr>\n    <tr>\n      <th>徐汇</th>\n      <td>293.79</td>\n      <td>0.28</td>\n      <td>0.09</td>\n      <td>0.01</td>\n      <td>nan</td>\n      <td>0.00</td>\n      <td>0.86</td>\n      <td>4.74</td>\n      <td>28.38</td>\n      <td>47.67</td>\n      <td>...</td>\n      <td>85.65</td>\n      <td>94.86</td>\n      <td>111.31</td>\n      <td>142.84</td>\n      <td>215.76</td>\n      <td>72.61</td>\n      <td>4.75</td>\n      <td>2.77</td>\n      <td>0.53</td>\n      <td>nan</td>\n    </tr>\n    <tr>\n      <th>普陀</th>\n      <td>330.17</td>\n      <td>0.00</td>\n      <td>0.01</td>\n      <td>nan</td>\n      <td>nan</td>\n      <td>0.02</td>\n      <td>0.90</td>\n      <td>8.10</td>\n      <td>29.98</td>\n      <td>59.21</td>\n      <td>...</td>\n      <td>99.40</td>\n      <td>121.37</td>\n      <td>142.64</td>\n      <td>195.40</td>\n      <td>309.27</td>\n      <td>95.31</td>\n      <td>6.80</td>\n      <td>4.87</td>\n      <td>0.88</td>\n      <td>nan</td>\n    </tr>\n    <tr>\n      <th>杨浦</th>\n      <td>383.41</td>\n      <td>0.00</td>\n      <td>0.03</td>\n      <td>0.00</td>\n      <td>0.00</td>\n      <td>0.08</td>\n      <td>0.55</td>\n      <td>6.01</td>\n      <td>21.51</td>\n      <td>46.49</td>\n      <td>...</td>\n      <td>94.89</td>\n      <td>101.80</td>\n      <td>132.41</td>\n      <td>181.34</td>\n      <td>275.58</td>\n      <td>118.29</td>\n      <td>5.45</td>\n      <td>2.97</td>\n      <td>0.45</td>\n      <td>nan</td>\n    </tr>\n    <tr>\n      <th>松江</th>\n      <td>868.43</td>\n      <td>0.36</td>\n      <td>0.10</td>\n      <td>0.05</td>\n      <td>nan</td>\n      <td>1.28</td>\n      <td>2.87</td>\n      <td>9.54</td>\n      <td>47.24</td>\n      <td>91.14</td>\n      <td>...</td>\n      <td>192.96</td>\n      <td>229.83</td>\n      <td>315.27</td>\n      <td>451.51</td>\n      <td>759.33</td>\n      <td>498.33</td>\n      <td>20.39</td>\n      <td>10.79</td>\n      <td>1.25</td>\n      <td>nan</td>\n    </tr>\n    <tr>\n      <th>浦东</th>\n      <td>2153.35</td>\n      <td>0.17</td>\n      <td>0.30</td>\n      <td>0.54</td>\n      <td>0.27</td>\n      <td>0.88</td>\n      <td>8.16</td>\n      <td>39.02</td>\n      <td>131.75</td>\n      <td>235.81</td>\n      <td>...</td>\n      <td>427.88</td>\n      <td>524.90</td>\n      <td>649.43</td>\n      <td>937.83</td>\n      <td>1468.66</td>\n      <td>736.90</td>\n      <td>36.92</td>\n      <td>20.01</td>\n      <td>5.91</td>\n      <td>nan</td>\n    </tr>\n    <tr>\n      <th>渠道</th>\n      <td>60.00</td>\n      <td>nan</td>\n      <td>nan</td>\n      <td>nan</td>\n      <td>nan</td>\n      <td>nan</td>\n      <td>nan</td>\n      <td>nan</td>\n      <td>nan</td>\n      <td>nan</td>\n      <td>...</td>\n      <td>nan</td>\n      <td>nan</td>\n      <td>nan</td>\n      <td>nan</td>\n      <td>nan</td>\n      <td>nan</td>\n      <td>nan</td>\n      <td>nan</td>\n      <td>nan</td>\n      <td>nan</td>\n    </tr>\n    <tr>\n      <th>虹口</th>\n      <td>291.03</td>\n      <td>0.01</td>\n      <td>0.00</td>\n      <td>0.00</td>\n      <td>0.00</td>\n      <td>0.07</td>\n      <td>0.72</td>\n      <td>5.09</td>\n      <td>17.00</td>\n      <td>39.42</td>\n      <td>...</td>\n      <td>71.74</td>\n      <td>80.34</td>\n      <td>93.58</td>\n      <td>125.46</td>\n      <td>187.61</td>\n      <td>61.25</td>\n      <td>4.24</td>\n      <td>3.45</td>\n      <td>0.94</td>\n      <td>nan</td>\n    </tr>\n    <tr>\n      <th>金山</th>\n      <td>237.87</td>\n      <td>0.00</td>\n      <td>nan</td>\n      <td>nan</td>\n      <td>nan</td>\n      <td>0.05</td>\n      <td>0.63</td>\n      <td>7.53</td>\n      <td>28.22</td>\n      <td>52.03</td>\n      <td>...</td>\n      <td>65.89</td>\n      <td>99.31</td>\n      <td>113.21</td>\n      <td>170.74</td>\n      <td>246.10</td>\n      <td>81.93</td>\n      <td>1.70</td>\n      <td>0.28</td>\n      <td>0.04</td>\n      <td>nan</td>\n    </tr>\n    <tr>\n      <th>长宁</th>\n      <td>305.15</td>\n      <td>0.10</td>\n      <td>0.01</td>\n      <td>nan</td>\n      <td>nan</td>\n      <td>0.00</td>\n      <td>0.18</td>\n      <td>3.33</td>\n      <td>18.32</td>\n      <td>41.18</td>\n      <td>...</td>\n      <td>55.47</td>\n      <td>87.84</td>\n      <td>83.86</td>\n      <td>97.74</td>\n      <td>144.93</td>\n      <td>60.60</td>\n      <td>3.96</td>\n      <td>2.87</td>\n      <td>1.32</td>\n      <td>nan</td>\n    </tr>\n    <tr>\n      <th>闵行</th>\n      <td>1000.49</td>\n      <td>0.56</td>\n      <td>0.37</td>\n      <td>0.02</td>\n      <td>0.01</td>\n      <td>0.12</td>\n      <td>2.62</td>\n      <td>14.21</td>\n      <td>58.35</td>\n      <td>101.12</td>\n      <td>...</td>\n      <td>221.94</td>\n      <td>271.11</td>\n      <td>332.33</td>\n      <td>464.83</td>\n      <td>788.89</td>\n      <td>407.31</td>\n      <td>19.08</td>\n      <td>9.18</td>\n      <td>2.63</td>\n      <td>nan</td>\n    </tr>\n    <tr>\n      <th>青浦</th>\n      <td>518.06</td>\n      <td>0.28</td>\n      <td>0.02</td>\n      <td>nan</td>\n      <td>0.13</td>\n      <td>0.02</td>\n      <td>0.55</td>\n      <td>4.09</td>\n      <td>16.83</td>\n      <td>39.67</td>\n      <td>...</td>\n      <td>90.27</td>\n      <td>113.95</td>\n      <td>153.30</td>\n      <td>234.88</td>\n      <td>382.36</td>\n      <td>197.20</td>\n      <td>14.54</td>\n      <td>3.30</td>\n      <td>1.86</td>\n      <td>nan</td>\n    </tr>\n    <tr>\n      <th>静安</th>\n      <td>453.86</td>\n      <td>0.26</td>\n      <td>0.01</td>\n      <td>0.01</td>\n      <td>nan</td>\n      <td>0.12</td>\n      <td>1.08</td>\n      <td>4.16</td>\n      <td>20.74</td>\n      <td>61.37</td>\n      <td>...</td>\n      <td>123.06</td>\n      <td>132.38</td>\n      <td>160.24</td>\n      <td>210.06</td>\n      <td>300.52</td>\n      <td>130.03</td>\n      <td>8.23</td>\n      <td>7.57</td>\n      <td>1.01</td>\n      <td>nan</td>\n    </tr>\n    <tr>\n      <th>黄浦</th>\n      <td>311.57</td>\n      <td>nan</td>\n      <td>nan</td>\n      <td>nan</td>\n      <td>nan</td>\n      <td>0.00</td>\n      <td>1.24</td>\n      <td>2.87</td>\n      <td>8.58</td>\n      <td>20.01</td>\n      <td>...</td>\n      <td>65.73</td>\n      <td>74.05</td>\n      <td>94.32</td>\n      <td>112.89</td>\n      <td>180.33</td>\n      <td>68.41</td>\n      <td>3.96</td>\n      <td>1.08</td>\n      <td>0.19</td>\n      <td>nan</td>\n    </tr>\n  </tbody>\n</table>\n<p>19 rows × 25 columns</p>\n</div>"
     },
     "execution_count": 19,
     "metadata": {},
     "output_type": "execute_result"
    }
   ],
   "source": [
    "a_data = data2[(data2['年'] == year) ]\n",
    "games = [\"00时\", \"01时\", \"02时\", \"03时\", \"04时\", \"05时\",\"06时\", \"07时\", \"08时\", \"09时\", \"10时\", \"11时\",\"12时\", \"13时\", \"14时\", \"15时\", \"16时\", \"17时\",\"18时\", \"19时\", \"20时\", \"21时\", \"22时\", \"23时\" ,\"24时\"]\n",
    "ppt_30_excel = pd.DataFrame()\n",
    "for game in games:\n",
    "    ppt_30_excel[game] = a_data[a_data['小时'] == game].groupby('地市')['销量'].sum() * 1e-4\n",
    "    ppt_30_excel[game] = ppt_30_excel[game].apply(lambda x: '{:.2f}'.format(x))\n",
    "# ppt_28_excel.to_excel(r\"E:\\彩票数据\\山西\\山西月报\\2024年%d月报\\ppt_28.xlsx\" % (month))\n",
    "ppt_30_excel"
   ],
   "metadata": {
    "collapsed": false,
    "pycharm": {
     "name": "#%%\n"
    }
   }
  },
  {
   "cell_type": "code",
   "execution_count": 20,
   "outputs": [
    {
     "data": {
      "text/plain": "            2021      2022       2023      2024  本月在近12月销量排名\n0   中心  27019.49  40170.70   44154.88  21710.80            4\n1   嘉定  35679.50  26008.45   46974.93  28958.65            3\n2   奉贤  19010.96  14844.80   26128.17  14974.49            3\n3   宝山  34355.17  24607.34   43469.65  26423.00            3\n4   崇明   7054.94   5360.28    8805.85   5256.67            4\n5   徐汇  17202.42  11643.73   18002.91  10674.18            4\n6   普陀  18187.38  13367.37   20797.37  12979.26            4\n7   杨浦  15404.36  10936.41   18830.31  12410.97            3\n8   松江  37243.39  29481.65   52649.76  31629.34            3\n9   浦东  89618.37  67622.76  112338.69  67530.05            4\n10  虹口  12537.55   9012.62   14024.63   9012.61            4\n11  金山  13306.54   9736.44   15126.30   9489.34            4\n12  长宁  11121.94   7988.71   14608.64   9593.85            3\n13  闵行  43931.76  32440.99   56533.98  32844.02            3\n14  青浦  19208.89  15299.92   27481.63  15870.36            3\n15  静安  20553.18  15505.47   25910.26  15096.16            4\n16  黄浦  12263.33   8008.08   14028.31   8817.70            3",
      "text/html": "<div>\n<style scoped>\n    .dataframe tbody tr th:only-of-type {\n        vertical-align: middle;\n    }\n\n    .dataframe tbody tr th {\n        vertical-align: top;\n    }\n\n    .dataframe thead th {\n        text-align: right;\n    }\n</style>\n<table border=\"1\" class=\"dataframe\">\n  <thead>\n    <tr style=\"text-align: right;\">\n      <th></th>\n      <th></th>\n      <th>2021</th>\n      <th>2022</th>\n      <th>2023</th>\n      <th>2024</th>\n      <th>本月在近12月销量排名</th>\n    </tr>\n  </thead>\n  <tbody>\n    <tr>\n      <th>0</th>\n      <td>中心</td>\n      <td>27019.49</td>\n      <td>40170.70</td>\n      <td>44154.88</td>\n      <td>21710.80</td>\n      <td>4</td>\n    </tr>\n    <tr>\n      <th>1</th>\n      <td>嘉定</td>\n      <td>35679.50</td>\n      <td>26008.45</td>\n      <td>46974.93</td>\n      <td>28958.65</td>\n      <td>3</td>\n    </tr>\n    <tr>\n      <th>2</th>\n      <td>奉贤</td>\n      <td>19010.96</td>\n      <td>14844.80</td>\n      <td>26128.17</td>\n      <td>14974.49</td>\n      <td>3</td>\n    </tr>\n    <tr>\n      <th>3</th>\n      <td>宝山</td>\n      <td>34355.17</td>\n      <td>24607.34</td>\n      <td>43469.65</td>\n      <td>26423.00</td>\n      <td>3</td>\n    </tr>\n    <tr>\n      <th>4</th>\n      <td>崇明</td>\n      <td>7054.94</td>\n      <td>5360.28</td>\n      <td>8805.85</td>\n      <td>5256.67</td>\n      <td>4</td>\n    </tr>\n    <tr>\n      <th>5</th>\n      <td>徐汇</td>\n      <td>17202.42</td>\n      <td>11643.73</td>\n      <td>18002.91</td>\n      <td>10674.18</td>\n      <td>4</td>\n    </tr>\n    <tr>\n      <th>6</th>\n      <td>普陀</td>\n      <td>18187.38</td>\n      <td>13367.37</td>\n      <td>20797.37</td>\n      <td>12979.26</td>\n      <td>4</td>\n    </tr>\n    <tr>\n      <th>7</th>\n      <td>杨浦</td>\n      <td>15404.36</td>\n      <td>10936.41</td>\n      <td>18830.31</td>\n      <td>12410.97</td>\n      <td>3</td>\n    </tr>\n    <tr>\n      <th>8</th>\n      <td>松江</td>\n      <td>37243.39</td>\n      <td>29481.65</td>\n      <td>52649.76</td>\n      <td>31629.34</td>\n      <td>3</td>\n    </tr>\n    <tr>\n      <th>9</th>\n      <td>浦东</td>\n      <td>89618.37</td>\n      <td>67622.76</td>\n      <td>112338.69</td>\n      <td>67530.05</td>\n      <td>4</td>\n    </tr>\n    <tr>\n      <th>10</th>\n      <td>虹口</td>\n      <td>12537.55</td>\n      <td>9012.62</td>\n      <td>14024.63</td>\n      <td>9012.61</td>\n      <td>4</td>\n    </tr>\n    <tr>\n      <th>11</th>\n      <td>金山</td>\n      <td>13306.54</td>\n      <td>9736.44</td>\n      <td>15126.30</td>\n      <td>9489.34</td>\n      <td>4</td>\n    </tr>\n    <tr>\n      <th>12</th>\n      <td>长宁</td>\n      <td>11121.94</td>\n      <td>7988.71</td>\n      <td>14608.64</td>\n      <td>9593.85</td>\n      <td>3</td>\n    </tr>\n    <tr>\n      <th>13</th>\n      <td>闵行</td>\n      <td>43931.76</td>\n      <td>32440.99</td>\n      <td>56533.98</td>\n      <td>32844.02</td>\n      <td>3</td>\n    </tr>\n    <tr>\n      <th>14</th>\n      <td>青浦</td>\n      <td>19208.89</td>\n      <td>15299.92</td>\n      <td>27481.63</td>\n      <td>15870.36</td>\n      <td>3</td>\n    </tr>\n    <tr>\n      <th>15</th>\n      <td>静安</td>\n      <td>20553.18</td>\n      <td>15505.47</td>\n      <td>25910.26</td>\n      <td>15096.16</td>\n      <td>4</td>\n    </tr>\n    <tr>\n      <th>16</th>\n      <td>黄浦</td>\n      <td>12263.33</td>\n      <td>8008.08</td>\n      <td>14028.31</td>\n      <td>8817.70</td>\n      <td>3</td>\n    </tr>\n  </tbody>\n</table>\n</div>"
     },
     "execution_count": 20,
     "metadata": {},
     "output_type": "execute_result"
    }
   ],
   "source": [
    "year_near5=get_5_years(year)[1:]\n",
    "# game_name=[\"太原市\",\"大同市\",\"朔州市\",\"忻州市\",\"吕梁市\",\"晋中市\",\"长治市\",\"临汾市\",\"晋城市\",\"运城市\",\"阳泉市\"]\n",
    "game_name=[\"中心\",\"嘉定\",\"奉贤\",\"宝山\",\"崇明\",\"徐汇\",\"普陀\",\"杨浦\",\"松江\",\"浦东\",\"虹口\",\"金山\",\"长宁\",\"闵行\",\"青浦\",\"静安\",\"黄浦\"]\n",
    "game_sales={i:[] for i in year_near5}\n",
    "for i in game_name:\n",
    "    for j in year_near5:\n",
    "        a=data.loc[data[\"年\"]==j].loc[data[\"地市\"]==i][\"销量\"].sum()\n",
    "        game_sales[j].append(a*1e-4)\n",
    "def get_weici(list_data,num):\n",
    "    weici=1\n",
    "    for i in list_data:\n",
    "        if i>num:\n",
    "            weici+=1\n",
    "    return weici\n",
    "# [j[i] for j in list(game_sales.values())]\n",
    "weici=[get_weici([j[i] for j in list(game_sales.values())],[j[i] for j in list(game_sales.values())][-1]) for i in range(len(game_name))]\n",
    "ppt_31_excel=pd.DataFrame()\n",
    "ppt_31_excel[\"\"]=game_name\n",
    "for i in year_near5:\n",
    "    ppt_31_excel[i]=game_sales[i]\n",
    "    ppt_31_excel[i]=ppt_31_excel[i].apply(lambda x:format(x,\".2f\"))\n",
    "ppt_31_excel[\"本月在近12月销量排名\"]=weici\n",
    "# ppt_31_excel.to_excel(r\"E:\\彩票数据\\山西\\山西月报\\2024年%d月报\\ppt_31.xlsx\"%(month))\n",
    "ppt_31_excel"
   ],
   "metadata": {
    "collapsed": false,
    "pycharm": {
     "name": "#%%\n"
    }
   }
  },
  {
   "cell_type": "code",
   "execution_count": 21,
   "outputs": [
    {
     "data": {
      "text/plain": "       01$单倍    02$两倍  03$3到5倍 04$6到10倍 05$11到20倍 06$21到100倍\n地市                                                          \n中心   8496.69  1696.71  2500.87  1279.12    611.93    1635.31\n嘉定  14132.77  1022.51  1911.21  1486.28    894.63    1513.58\n奉贤   7515.06   619.48  1148.54   785.80    457.60     800.34\n宝山  13513.24  1077.36  1985.73  1328.44    735.79    1198.15\n崇明   2534.84   248.93   511.55   318.78    166.84     254.27\n徐汇   5213.92   484.09   918.70   575.98    248.98     599.50\n普陀   6110.83   607.19  1200.23   690.11    372.14     770.03\n杨浦   5756.37   542.26  1023.88   783.74    486.28     553.24\n松江  14636.95  1135.83  2225.34  1859.46   1263.66    2038.58\n浦东  32766.11  2599.85  5030.67  3701.91   1879.87    3507.07\n渠道    747.95      nan      nan      nan       nan        nan\n虹口   4282.39   360.78   819.82   429.51    286.39     395.27\n金山   4464.85   419.66   800.90   576.49    281.62     525.35\n长宁   4430.05   319.72   636.53   436.86    220.23    1293.99\n闵行  15686.54  1253.55  2536.74  1790.50    913.67    2273.35\n青浦   7878.98   576.44  1145.65   826.21    414.79     969.41\n静安   7246.53   600.80  1196.13   780.38    463.52     980.11\n黄浦   4040.64   343.73   715.93   459.48    239.25     644.88",
      "text/html": "<div>\n<style scoped>\n    .dataframe tbody tr th:only-of-type {\n        vertical-align: middle;\n    }\n\n    .dataframe tbody tr th {\n        vertical-align: top;\n    }\n\n    .dataframe thead th {\n        text-align: right;\n    }\n</style>\n<table border=\"1\" class=\"dataframe\">\n  <thead>\n    <tr style=\"text-align: right;\">\n      <th></th>\n      <th>01$单倍</th>\n      <th>02$两倍</th>\n      <th>03$3到5倍</th>\n      <th>04$6到10倍</th>\n      <th>05$11到20倍</th>\n      <th>06$21到100倍</th>\n    </tr>\n    <tr>\n      <th>地市</th>\n      <th></th>\n      <th></th>\n      <th></th>\n      <th></th>\n      <th></th>\n      <th></th>\n    </tr>\n  </thead>\n  <tbody>\n    <tr>\n      <th>中心</th>\n      <td>8496.69</td>\n      <td>1696.71</td>\n      <td>2500.87</td>\n      <td>1279.12</td>\n      <td>611.93</td>\n      <td>1635.31</td>\n    </tr>\n    <tr>\n      <th>嘉定</th>\n      <td>14132.77</td>\n      <td>1022.51</td>\n      <td>1911.21</td>\n      <td>1486.28</td>\n      <td>894.63</td>\n      <td>1513.58</td>\n    </tr>\n    <tr>\n      <th>奉贤</th>\n      <td>7515.06</td>\n      <td>619.48</td>\n      <td>1148.54</td>\n      <td>785.80</td>\n      <td>457.60</td>\n      <td>800.34</td>\n    </tr>\n    <tr>\n      <th>宝山</th>\n      <td>13513.24</td>\n      <td>1077.36</td>\n      <td>1985.73</td>\n      <td>1328.44</td>\n      <td>735.79</td>\n      <td>1198.15</td>\n    </tr>\n    <tr>\n      <th>崇明</th>\n      <td>2534.84</td>\n      <td>248.93</td>\n      <td>511.55</td>\n      <td>318.78</td>\n      <td>166.84</td>\n      <td>254.27</td>\n    </tr>\n    <tr>\n      <th>徐汇</th>\n      <td>5213.92</td>\n      <td>484.09</td>\n      <td>918.70</td>\n      <td>575.98</td>\n      <td>248.98</td>\n      <td>599.50</td>\n    </tr>\n    <tr>\n      <th>普陀</th>\n      <td>6110.83</td>\n      <td>607.19</td>\n      <td>1200.23</td>\n      <td>690.11</td>\n      <td>372.14</td>\n      <td>770.03</td>\n    </tr>\n    <tr>\n      <th>杨浦</th>\n      <td>5756.37</td>\n      <td>542.26</td>\n      <td>1023.88</td>\n      <td>783.74</td>\n      <td>486.28</td>\n      <td>553.24</td>\n    </tr>\n    <tr>\n      <th>松江</th>\n      <td>14636.95</td>\n      <td>1135.83</td>\n      <td>2225.34</td>\n      <td>1859.46</td>\n      <td>1263.66</td>\n      <td>2038.58</td>\n    </tr>\n    <tr>\n      <th>浦东</th>\n      <td>32766.11</td>\n      <td>2599.85</td>\n      <td>5030.67</td>\n      <td>3701.91</td>\n      <td>1879.87</td>\n      <td>3507.07</td>\n    </tr>\n    <tr>\n      <th>渠道</th>\n      <td>747.95</td>\n      <td>nan</td>\n      <td>nan</td>\n      <td>nan</td>\n      <td>nan</td>\n      <td>nan</td>\n    </tr>\n    <tr>\n      <th>虹口</th>\n      <td>4282.39</td>\n      <td>360.78</td>\n      <td>819.82</td>\n      <td>429.51</td>\n      <td>286.39</td>\n      <td>395.27</td>\n    </tr>\n    <tr>\n      <th>金山</th>\n      <td>4464.85</td>\n      <td>419.66</td>\n      <td>800.90</td>\n      <td>576.49</td>\n      <td>281.62</td>\n      <td>525.35</td>\n    </tr>\n    <tr>\n      <th>长宁</th>\n      <td>4430.05</td>\n      <td>319.72</td>\n      <td>636.53</td>\n      <td>436.86</td>\n      <td>220.23</td>\n      <td>1293.99</td>\n    </tr>\n    <tr>\n      <th>闵行</th>\n      <td>15686.54</td>\n      <td>1253.55</td>\n      <td>2536.74</td>\n      <td>1790.50</td>\n      <td>913.67</td>\n      <td>2273.35</td>\n    </tr>\n    <tr>\n      <th>青浦</th>\n      <td>7878.98</td>\n      <td>576.44</td>\n      <td>1145.65</td>\n      <td>826.21</td>\n      <td>414.79</td>\n      <td>969.41</td>\n    </tr>\n    <tr>\n      <th>静安</th>\n      <td>7246.53</td>\n      <td>600.80</td>\n      <td>1196.13</td>\n      <td>780.38</td>\n      <td>463.52</td>\n      <td>980.11</td>\n    </tr>\n    <tr>\n      <th>黄浦</th>\n      <td>4040.64</td>\n      <td>343.73</td>\n      <td>715.93</td>\n      <td>459.48</td>\n      <td>239.25</td>\n      <td>644.88</td>\n    </tr>\n  </tbody>\n</table>\n</div>"
     },
     "execution_count": 21,
     "metadata": {},
     "output_type": "execute_result"
    }
   ],
   "source": [
    "import pandas as pd\n",
    "data3=pd.read_excel(r\"E:\\彩票数据\\山西\\山西年报\\地市-游戏-倍投.xlsx\",sheet_name=0)\n",
    "ppt=pd.DataFrame()\n",
    "a_data = data3[(data3['年'] == year) ]\n",
    "games = [\"01$单倍\",\"02$两倍\",\"03$3到5倍\",\"04$6到10倍\",\"05$11到20倍\",\"06$21到100倍\"]\n",
    "ppt_52_excel = pd.DataFrame()\n",
    "for game in games:\n",
    "    ppt_52_excel[game] = a_data[a_data['倍投'] == game].groupby('地市')['销量'].sum() * 1e-4\n",
    "    ppt_52_excel[game] = ppt_52_excel[game].apply(lambda x: '{:.2f}'.format(x))\n",
    "# ppt_52_excel.to_excel(r\"E:\\彩票数据\\山西\\山西月报\\2024年%d月报\\ppt_52.xlsx\" % (month))\n",
    "ppt_52_excel"
   ],
   "metadata": {
    "collapsed": false,
    "pycharm": {
     "name": "#%%\n"
    }
   }
  },
  {
   "cell_type": "code",
   "execution_count": 22,
   "outputs": [
    {
     "data": {
      "text/plain": "          01$单倍    02$两倍   03$3到5倍 04$6到10倍 05$11到20倍 06$21到100倍\n游戏                                                              \n15选5     797.95   127.82    177.64    74.72     50.27      68.44\n七乐彩     1089.76    59.66     65.56    14.66      4.44       5.86\n东方6+1    373.65    57.01     87.06    46.59     27.85      35.12\n即开票    81468.44      nan       nan      nan       nan        nan\n双色球    51420.37  8840.97  13661.16  6526.33   2457.57    8352.52\n快乐8    15027.09  1358.22   3070.66  4666.67   4036.91        nan\n福彩3D    7339.12  3038.39   8428.52  6235.88   3200.34   11261.47\n选4      1938.32   426.82    817.83   544.16    159.77     229.03",
      "text/html": "<div>\n<style scoped>\n    .dataframe tbody tr th:only-of-type {\n        vertical-align: middle;\n    }\n\n    .dataframe tbody tr th {\n        vertical-align: top;\n    }\n\n    .dataframe thead th {\n        text-align: right;\n    }\n</style>\n<table border=\"1\" class=\"dataframe\">\n  <thead>\n    <tr style=\"text-align: right;\">\n      <th></th>\n      <th>01$单倍</th>\n      <th>02$两倍</th>\n      <th>03$3到5倍</th>\n      <th>04$6到10倍</th>\n      <th>05$11到20倍</th>\n      <th>06$21到100倍</th>\n    </tr>\n    <tr>\n      <th>游戏</th>\n      <th></th>\n      <th></th>\n      <th></th>\n      <th></th>\n      <th></th>\n      <th></th>\n    </tr>\n  </thead>\n  <tbody>\n    <tr>\n      <th>15选5</th>\n      <td>797.95</td>\n      <td>127.82</td>\n      <td>177.64</td>\n      <td>74.72</td>\n      <td>50.27</td>\n      <td>68.44</td>\n    </tr>\n    <tr>\n      <th>七乐彩</th>\n      <td>1089.76</td>\n      <td>59.66</td>\n      <td>65.56</td>\n      <td>14.66</td>\n      <td>4.44</td>\n      <td>5.86</td>\n    </tr>\n    <tr>\n      <th>东方6+1</th>\n      <td>373.65</td>\n      <td>57.01</td>\n      <td>87.06</td>\n      <td>46.59</td>\n      <td>27.85</td>\n      <td>35.12</td>\n    </tr>\n    <tr>\n      <th>即开票</th>\n      <td>81468.44</td>\n      <td>nan</td>\n      <td>nan</td>\n      <td>nan</td>\n      <td>nan</td>\n      <td>nan</td>\n    </tr>\n    <tr>\n      <th>双色球</th>\n      <td>51420.37</td>\n      <td>8840.97</td>\n      <td>13661.16</td>\n      <td>6526.33</td>\n      <td>2457.57</td>\n      <td>8352.52</td>\n    </tr>\n    <tr>\n      <th>快乐8</th>\n      <td>15027.09</td>\n      <td>1358.22</td>\n      <td>3070.66</td>\n      <td>4666.67</td>\n      <td>4036.91</td>\n      <td>nan</td>\n    </tr>\n    <tr>\n      <th>福彩3D</th>\n      <td>7339.12</td>\n      <td>3038.39</td>\n      <td>8428.52</td>\n      <td>6235.88</td>\n      <td>3200.34</td>\n      <td>11261.47</td>\n    </tr>\n    <tr>\n      <th>选4</th>\n      <td>1938.32</td>\n      <td>426.82</td>\n      <td>817.83</td>\n      <td>544.16</td>\n      <td>159.77</td>\n      <td>229.03</td>\n    </tr>\n  </tbody>\n</table>\n</div>"
     },
     "execution_count": 22,
     "metadata": {},
     "output_type": "execute_result"
    }
   ],
   "source": [
    "import pandas as pd\n",
    "data3=pd.read_excel(r\"E:\\彩票数据\\山西\\山西年报\\地市-游戏-倍投.xlsx\",sheet_name=0)\n",
    "ppt=pd.DataFrame()\n",
    "a_data = data3[(data3['年'] == year) ]\n",
    "games = [\"01$单倍\",\"02$两倍\",\"03$3到5倍\",\"04$6到10倍\",\"05$11到20倍\",\"06$21到100倍\"]\n",
    "ppt_53_excel = pd.DataFrame()\n",
    "for game in games:\n",
    "    ppt_53_excel[game] = a_data[a_data['倍投'] == game].groupby('游戏')['销量'].sum() * 1e-4\n",
    "    ppt_53_excel[game] = ppt_53_excel[game].apply(lambda x: '{:.2f}'.format(x))\n",
    "# ppt_53_excel.to_excel(r\"E:\\彩票数据\\山西\\山西月报\\2024年%d月报\\ppt_53.xlsx\" % (month))\n",
    "ppt_53_excel"
   ],
   "metadata": {
    "collapsed": false,
    "pycharm": {
     "name": "#%%\n"
    }
   }
  }
 ],
 "metadata": {
  "kernelspec": {
   "display_name": "Python 3",
   "language": "python",
   "name": "python3"
  },
  "language_info": {
   "codemirror_mode": {
    "name": "ipython",
    "version": 2
   },
   "file_extension": ".py",
   "mimetype": "text/x-python",
   "name": "python",
   "nbconvert_exporter": "python",
   "pygments_lexer": "ipython2",
   "version": "2.7.6"
  }
 },
 "nbformat": 4,
 "nbformat_minor": 0
}