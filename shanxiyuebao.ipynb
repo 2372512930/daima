{
 "cells": [
  {
   "cell_type": "code",
   "execution_count": 1,
   "outputs": [],
   "source": [
    "# year=2024\n",
    "# month=1\n",
    "# E:\\彩票数据\\山西\\山西月报\\2024年5月报\\近4年上海统计数据.xlsx\n",
    "import pandas as pd\n",
    "# 输入年份和月份\n",
    "year = int(input(\"请输入年份：\"))\n",
    "month = int(input(\"请输入月份：\"))"
   ],
   "metadata": {
    "collapsed": false,
    "pycharm": {
     "name": "#%%\n"
    }
   }
  },
  {
   "cell_type": "code",
   "execution_count": 2,
   "outputs": [
    {
     "data": {
      "text/plain": "         日期  地市     游戏       销量      月份\n0     44166  中心    双色球    47502  202012\n1     44166  中心    七乐彩    20940  202012\n2     44166  中心   福彩3D     4874  202012\n3     44166  中心     选4     1556  202012\n4     44166  中心   15选5     8502  202012\n...     ...  ..    ...      ...     ...\n5699  45474  黄浦    快乐8   951642  202407\n5700  45474  黄浦    即开票  3169700  202407\n5701  45474  黄浦     选4   186474  202407\n5702  45474  黄浦   15选5   120470  202407\n5703  45474  黄浦  东方6+1    23354  202407\n\n[5704 rows x 5 columns]",
      "text/html": "<div>\n<style scoped>\n    .dataframe tbody tr th:only-of-type {\n        vertical-align: middle;\n    }\n\n    .dataframe tbody tr th {\n        vertical-align: top;\n    }\n\n    .dataframe thead th {\n        text-align: right;\n    }\n</style>\n<table border=\"1\" class=\"dataframe\">\n  <thead>\n    <tr style=\"text-align: right;\">\n      <th></th>\n      <th>日期</th>\n      <th>地市</th>\n      <th>游戏</th>\n      <th>销量</th>\n      <th>月份</th>\n    </tr>\n  </thead>\n  <tbody>\n    <tr>\n      <th>0</th>\n      <td>44166</td>\n      <td>中心</td>\n      <td>双色球</td>\n      <td>47502</td>\n      <td>202012</td>\n    </tr>\n    <tr>\n      <th>1</th>\n      <td>44166</td>\n      <td>中心</td>\n      <td>七乐彩</td>\n      <td>20940</td>\n      <td>202012</td>\n    </tr>\n    <tr>\n      <th>2</th>\n      <td>44166</td>\n      <td>中心</td>\n      <td>福彩3D</td>\n      <td>4874</td>\n      <td>202012</td>\n    </tr>\n    <tr>\n      <th>3</th>\n      <td>44166</td>\n      <td>中心</td>\n      <td>选4</td>\n      <td>1556</td>\n      <td>202012</td>\n    </tr>\n    <tr>\n      <th>4</th>\n      <td>44166</td>\n      <td>中心</td>\n      <td>15选5</td>\n      <td>8502</td>\n      <td>202012</td>\n    </tr>\n    <tr>\n      <th>...</th>\n      <td>...</td>\n      <td>...</td>\n      <td>...</td>\n      <td>...</td>\n      <td>...</td>\n    </tr>\n    <tr>\n      <th>5699</th>\n      <td>45474</td>\n      <td>黄浦</td>\n      <td>快乐8</td>\n      <td>951642</td>\n      <td>202407</td>\n    </tr>\n    <tr>\n      <th>5700</th>\n      <td>45474</td>\n      <td>黄浦</td>\n      <td>即开票</td>\n      <td>3169700</td>\n      <td>202407</td>\n    </tr>\n    <tr>\n      <th>5701</th>\n      <td>45474</td>\n      <td>黄浦</td>\n      <td>选4</td>\n      <td>186474</td>\n      <td>202407</td>\n    </tr>\n    <tr>\n      <th>5702</th>\n      <td>45474</td>\n      <td>黄浦</td>\n      <td>15选5</td>\n      <td>120470</td>\n      <td>202407</td>\n    </tr>\n    <tr>\n      <th>5703</th>\n      <td>45474</td>\n      <td>黄浦</td>\n      <td>东方6+1</td>\n      <td>23354</td>\n      <td>202407</td>\n    </tr>\n  </tbody>\n</table>\n<p>5704 rows × 5 columns</p>\n</div>"
     },
     "execution_count": 2,
     "metadata": {},
     "output_type": "execute_result"
    }
   ],
   "source": [
    "# 输入文件名\n",
    "import numpy\n",
    "import pandas as pd\n",
    "data=pd.read_excel(r\"E:\\彩票数据\\山西\\山西月报\\2024年5月报\\近4年上海统计数据.xlsx\",sheet_name=0)\n",
    "data"
   ],
   "metadata": {
    "collapsed": false,
    "pycharm": {
     "name": "#%%\n"
    }
   }
  },
  {
   "cell_type": "code",
   "execution_count": 3,
   "outputs": [
    {
     "name": "stdout",
     "output_type": "stream",
     "text": [
      "2024年5月总销量:451992462\n",
      "2024年4月总销量:582486062\n",
      "2023年5月总销量:505342236\n",
      "环比上月: -22.40%\n",
      "环比上月增加/减少:-13049.36\n",
      "同比去年本月: -10.56%\n",
      "\n",
      "去年1-5累计销量:2088370938\n",
      "今年1-5累计销量:2476706222\n",
      "同比去年同期:18.60%\n"
     ]
    },
    {
     "data": {
      "text/plain": "        月份 销量(亿元)       累计月份 累计销量(亿元)\n0  2024年4月   5.82  2023年1-5月    20.88\n1  2024年5月   4.52  2024年1-5月    24.77",
      "text/html": "<div>\n<style scoped>\n    .dataframe tbody tr th:only-of-type {\n        vertical-align: middle;\n    }\n\n    .dataframe tbody tr th {\n        vertical-align: top;\n    }\n\n    .dataframe thead th {\n        text-align: right;\n    }\n</style>\n<table border=\"1\" class=\"dataframe\">\n  <thead>\n    <tr style=\"text-align: right;\">\n      <th></th>\n      <th>月份</th>\n      <th>销量(亿元)</th>\n      <th>累计月份</th>\n      <th>累计销量(亿元)</th>\n    </tr>\n  </thead>\n  <tbody>\n    <tr>\n      <th>0</th>\n      <td>2024年4月</td>\n      <td>5.82</td>\n      <td>2023年1-5月</td>\n      <td>20.88</td>\n    </tr>\n    <tr>\n      <th>1</th>\n      <td>2024年5月</td>\n      <td>4.52</td>\n      <td>2024年1-5月</td>\n      <td>24.77</td>\n    </tr>\n  </tbody>\n</table>\n</div>"
     },
     "execution_count": 3,
     "metadata": {},
     "output_type": "execute_result"
    }
   ],
   "source": [
    "# 环比计算\n",
    "months=[\"01\",\"02\",\"03\",\"04\",\"05\",\"06\",\"07\",\"08\",\"09\",\"10\",\"11\",\"12\"]\n",
    "data_sale=data[data[\"月份\"]==int(str(year)+months[month-1])][\"销量\"]#这里的month-1是用来确定months的索引位置\n",
    "a=data_sale.sum()\n",
    "if month!=1:\n",
    "    data_sale=data[data[\"月份\"]==int(str(year)+months[month-2])][\"销量\"]\n",
    "else:\n",
    "    data_sale=data[data[\"月份\"]==int(str(year-1)+months[month-2])][\"销量\"]\n",
    "b=data_sale.sum()\n",
    "data_sale=data[data[\"月份\"]==int(str(year-1)+months[month-1])][\"销量\"]\n",
    "c=data_sale.sum()\n",
    "huanbi,tongbi=a/b-1,a/c-1\n",
    "if month!=1:\n",
    "    print(\"%d年%d月总销量:%d\\n%d年%d月总销量:%d\\n%d年%d月总销量:%d\"%(year,month,a,year,month-1,b,year-1,month,c))\n",
    "else:\n",
    "    print(\"%d年1月总销量:%d\\n%d年12月总销量:%d\\n%d年1月总销量:%d\"%(year,a,year-1,b,year-1,c))\n",
    "print(\"环比上月: %.2f%%\\n环比上月增加/减少:%.2f\\n同比去年本月: %.2f%%\\n\" % (huanbi * 100,(a-b)* 1e-4, tongbi * 100))\n",
    "leiji_month1=[int(str(year)+months[i]) for i in range(month)]\n",
    "leiji_month2=[int(str(year-1)+months[i]) for i in range(month)]\n",
    "leiji_sale1=0\n",
    "leiji_sale2=0\n",
    "for i in range(month):\n",
    "    leiji_sale1+=data[data[\"月份\"]==leiji_month1[i]][\"销量\"].sum()\n",
    "    leiji_sale2+=data[data[\"月份\"]==leiji_month2[i]][\"销量\"].sum()\n",
    "print(\"去年1-%d累计销量:%d\\n今年1-%d累计销量:%d\\n同比去年同期:%.2f%%\"%(month,leiji_sale2,month,leiji_sale1,(leiji_sale1/leiji_sale2-1)*100))\n",
    "ppt_4_excel=pd.DataFrame()\n",
    "if month!=1:\n",
    "    ppt_4_excel[\"月份\"]=[str(year)+\"年\"+str(month-1)+\"月\",str(year)+\"年\"+str(month)+\"月\"]\n",
    "else:\n",
    "    ppt_4_excel[\"月份\"]=[str(year-1)+\"年\"+str(12)+\"月\",str(year)+\"年\"+str(1)+\"月\"]\n",
    "ppt_4_excel[\"销量(亿元)\"]=[b*1e-8,a*1e-8]\n",
    "ppt_4_excel[\"销量(亿元)\"]=ppt_4_excel[\"销量(亿元)\"].apply(lambda x:format(x,\".2f\"))\n",
    "ppt_4_excel[\"累计月份\"]=[\"%d年1-%d月\"%(year-1,month),\"%d年1-%d月\"%(year,month)]\n",
    "ppt_4_excel[\"累计销量(亿元)\"]=[leiji_sale2*1e-8,leiji_sale1*1e-8]\n",
    "ppt_4_excel[\"累计销量(亿元)\"]=ppt_4_excel[\"累计销量(亿元)\"].apply(lambda x:format(x,\".2f\"))\n",
    "# ppt_4_excel.to_excel(r\"E:\\彩票数据\\山西\\山西月报\\2024年%d月报\\ppt_4.xlsx\"%(month))\n",
    "ppt_4_excel"
   ],
   "metadata": {
    "collapsed": false,
    "pycharm": {
     "name": "#%%\n"
    }
   }
  },
  {
   "cell_type": "code",
   "execution_count": 4,
   "outputs": [
    {
     "data": {
      "text/plain": "        月份 月销量(亿元)\n0   202306  5.5991\n1   202307  4.5529\n2   202308  5.8655\n3   202309  5.3803\n4   202310  3.7254\n5   202311  5.0273\n6   202312  5.4216\n7   202401  5.5157\n8   202402  3.1823\n9   202403  5.7243\n10  202404  5.8249\n11  202405  4.5199",
      "text/html": "<div>\n<style scoped>\n    .dataframe tbody tr th:only-of-type {\n        vertical-align: middle;\n    }\n\n    .dataframe tbody tr th {\n        vertical-align: top;\n    }\n\n    .dataframe thead th {\n        text-align: right;\n    }\n</style>\n<table border=\"1\" class=\"dataframe\">\n  <thead>\n    <tr style=\"text-align: right;\">\n      <th></th>\n      <th>月份</th>\n      <th>月销量(亿元)</th>\n    </tr>\n  </thead>\n  <tbody>\n    <tr>\n      <th>0</th>\n      <td>202306</td>\n      <td>5.5991</td>\n    </tr>\n    <tr>\n      <th>1</th>\n      <td>202307</td>\n      <td>4.5529</td>\n    </tr>\n    <tr>\n      <th>2</th>\n      <td>202308</td>\n      <td>5.8655</td>\n    </tr>\n    <tr>\n      <th>3</th>\n      <td>202309</td>\n      <td>5.3803</td>\n    </tr>\n    <tr>\n      <th>4</th>\n      <td>202310</td>\n      <td>3.7254</td>\n    </tr>\n    <tr>\n      <th>5</th>\n      <td>202311</td>\n      <td>5.0273</td>\n    </tr>\n    <tr>\n      <th>6</th>\n      <td>202312</td>\n      <td>5.4216</td>\n    </tr>\n    <tr>\n      <th>7</th>\n      <td>202401</td>\n      <td>5.5157</td>\n    </tr>\n    <tr>\n      <th>8</th>\n      <td>202402</td>\n      <td>3.1823</td>\n    </tr>\n    <tr>\n      <th>9</th>\n      <td>202403</td>\n      <td>5.7243</td>\n    </tr>\n    <tr>\n      <th>10</th>\n      <td>202404</td>\n      <td>5.8249</td>\n    </tr>\n    <tr>\n      <th>11</th>\n      <td>202405</td>\n      <td>4.5199</td>\n    </tr>\n  </tbody>\n</table>\n</div>"
     },
     "execution_count": 4,
     "metadata": {},
     "output_type": "execute_result"
    }
   ],
   "source": [
    "def get_13_months(y, m):\n",
    "    month_list = []\n",
    "    for i in range(12):\n",
    "        if m - i > 0:\n",
    "            month_list.append(int(str(y) + '{:02d}'.format(m - i)))\n",
    "        else:\n",
    "            month_list.append(int(str(y - 1) + '{:02d}'.format(12 + m - i)))\n",
    "    return month_list[::-1]\n",
    "\n",
    "months_near12 = get_13_months(year, month)\n",
    "\n",
    "data_sale = []\n",
    "for i in months_near12:\n",
    "    a = data[data[\"月份\"] == i][\"销量\"].sum()\n",
    "    data_sale.append(a * 1e-8)\n",
    "\n",
    "ppt_5_excel_1 = pd.DataFrame()\n",
    "\n",
    "ppt_5_excel_1[\"月份\"] = months_near12[0:]\n",
    "ppt_5_excel_1[\"月销量(亿元)\"] = data_sale[0:]\n",
    "ppt_5_excel_1[\"月销量(亿元)\"] = ppt_5_excel_1[\"月销量(亿元)\"].apply(lambda x: format(x, \".4f\"))\n",
    "# ppt_5_excel_1.to_excel(r\"E:\\彩票数据\\山西\\山西月报\\2024年%d月报\\ppt_5_1.xlsx\"%(month))\n",
    "ppt_5_excel_1"
   ],
   "metadata": {
    "collapsed": false,
    "pycharm": {
     "name": "#%%\n"
    }
   }
  },
  {
   "cell_type": "code",
   "execution_count": 5,
   "outputs": [
    {
     "data": {
      "text/plain": "     年份月份  销量(亿元)\n0  202005  0.0000\n1  202105  3.5145\n2  202205  0.4065\n3  202305  5.0534\n4  202405  4.5199",
      "text/html": "<div>\n<style scoped>\n    .dataframe tbody tr th:only-of-type {\n        vertical-align: middle;\n    }\n\n    .dataframe tbody tr th {\n        vertical-align: top;\n    }\n\n    .dataframe thead th {\n        text-align: right;\n    }\n</style>\n<table border=\"1\" class=\"dataframe\">\n  <thead>\n    <tr style=\"text-align: right;\">\n      <th></th>\n      <th>年份月份</th>\n      <th>销量(亿元)</th>\n    </tr>\n  </thead>\n  <tbody>\n    <tr>\n      <th>0</th>\n      <td>202005</td>\n      <td>0.0000</td>\n    </tr>\n    <tr>\n      <th>1</th>\n      <td>202105</td>\n      <td>3.5145</td>\n    </tr>\n    <tr>\n      <th>2</th>\n      <td>202205</td>\n      <td>0.4065</td>\n    </tr>\n    <tr>\n      <th>3</th>\n      <td>202305</td>\n      <td>5.0534</td>\n    </tr>\n    <tr>\n      <th>4</th>\n      <td>202405</td>\n      <td>4.5199</td>\n    </tr>\n  </tbody>\n</table>\n</div>"
     },
     "execution_count": 5,
     "metadata": {},
     "output_type": "execute_result"
    }
   ],
   "source": [
    "def get_5_years_months(year, month):\n",
    "    month_list = []\n",
    "    for y in range(year - 4, year + 1):\n",
    "        month_list.append(int(str(y) + '{:02d}'.format(month)))\n",
    "    return month_list\n",
    "months_near_5_years = get_5_years_months(year, month)\n",
    "data_sale = []\n",
    "for m in months_near_5_years:\n",
    "    a = data[data[\"月份\"] == m][\"销量\"].sum()\n",
    "    data_sale.append(a * 1e-8)\n",
    "\n",
    "ppt_5_excel_2= pd.DataFrame()\n",
    "ppt_5_excel_2[\"年份月份\"] = months_near_5_years\n",
    "ppt_5_excel_2[\"销量(亿元)\"] = data_sale\n",
    "ppt_5_excel_2[\"销量(亿元)\"] = ppt_5_excel_2[\"销量(亿元)\"].apply(lambda x: format(x, \".4f\"))\n",
    "# ppt_5_excel_2.to_excel(r\"E:\\彩票数据\\山西\\山西月报\\2024年%d月报\\ppt_5_2.xlsx\"%(month))\n",
    "ppt_5_excel_2"
   ],
   "metadata": {
    "collapsed": false,
    "pycharm": {
     "name": "#%%\n"
    }
   }
  },
  {
   "cell_type": "code",
   "execution_count": 6,
   "outputs": [
    {
     "name": "stdout",
     "output_type": "stream",
     "text": [
      "2024年游戏  双色球  5月总销量:189106528\n",
      "环比上月:-1.16%\n",
      "同比去年本月:-1.26%\n",
      "\n",
      "2024年游戏  福彩3D  5月总销量:88690932\n",
      "环比上月:-27.86%\n",
      "同比去年本月:49.96%\n",
      "\n",
      "2024年游戏  七乐彩  5月总销量:2643256\n",
      "环比上月:-0.61%\n",
      "同比去年本月:1.18%\n",
      "\n",
      "2024年游戏  即开票  5月总销量:95112000\n",
      "环比上月:-50.87%\n",
      "同比去年本月:-48.89%\n",
      "\n",
      "2024年游戏  快乐8  5月总销量:63395066\n",
      "环比上月:6.57%\n",
      "同比去年本月:19.99%\n",
      "\n",
      "2024年游戏  15选5  5月总销量:2843596\n",
      "环比上月:7.84%\n",
      "同比去年本月:4.17%\n",
      "\n",
      "2024年游戏  东方6+1  5月总销量:1355276\n",
      "环比上月:0.90%\n",
      "同比去年本月:3.19%\n",
      "\n",
      "2024年游戏  选4  5月总销量:8845808\n",
      "环比上月:4.20%\n",
      "同比去年本月:-2.69%\n",
      "\n",
      "2024年游戏  地方游戏  5月总销量:0\n",
      "环比上月:nan%\n",
      "同比去年本月:nan%\n",
      "\n"
     ]
    },
    {
     "name": "stderr",
     "output_type": "stream",
     "text": [
      "D:\\biye\\python37\\lib\\site-packages\\ipykernel_launcher.py:36: RuntimeWarning: invalid value encountered in longlong_scalars\n",
      "D:\\biye\\python37\\lib\\site-packages\\ipykernel_launcher.py:53: RuntimeWarning: invalid value encountered in longlong_scalars\n"
     ]
    },
    {
     "data": {
      "text/plain": "      游戏 2024年5月销量(亿元)\n0    双色球    18910.6528\n1   福彩3D     8869.0932\n2    七乐彩      264.3256\n3    即开票     9511.2000\n4    快乐8     6339.5066\n5   15选5      284.3596\n6  东方6+1      135.5276\n7     选4      884.5808\n8   地方游戏        0.0000",
      "text/html": "<div>\n<style scoped>\n    .dataframe tbody tr th:only-of-type {\n        vertical-align: middle;\n    }\n\n    .dataframe tbody tr th {\n        vertical-align: top;\n    }\n\n    .dataframe thead th {\n        text-align: right;\n    }\n</style>\n<table border=\"1\" class=\"dataframe\">\n  <thead>\n    <tr style=\"text-align: right;\">\n      <th></th>\n      <th>游戏</th>\n      <th>2024年5月销量(亿元)</th>\n    </tr>\n  </thead>\n  <tbody>\n    <tr>\n      <th>0</th>\n      <td>双色球</td>\n      <td>18910.6528</td>\n    </tr>\n    <tr>\n      <th>1</th>\n      <td>福彩3D</td>\n      <td>8869.0932</td>\n    </tr>\n    <tr>\n      <th>2</th>\n      <td>七乐彩</td>\n      <td>264.3256</td>\n    </tr>\n    <tr>\n      <th>3</th>\n      <td>即开票</td>\n      <td>9511.2000</td>\n    </tr>\n    <tr>\n      <th>4</th>\n      <td>快乐8</td>\n      <td>6339.5066</td>\n    </tr>\n    <tr>\n      <th>5</th>\n      <td>15选5</td>\n      <td>284.3596</td>\n    </tr>\n    <tr>\n      <th>6</th>\n      <td>东方6+1</td>\n      <td>135.5276</td>\n    </tr>\n    <tr>\n      <th>7</th>\n      <td>选4</td>\n      <td>884.5808</td>\n    </tr>\n    <tr>\n      <th>8</th>\n      <td>地方游戏</td>\n      <td>0.0000</td>\n    </tr>\n  </tbody>\n</table>\n</div>"
     },
     "execution_count": 6,
     "metadata": {},
     "output_type": "execute_result"
    }
   ],
   "source": [
    "\n",
    "def get_three_months(y,m):\n",
    "    if m!=1:\n",
    "        return [int(str(y)+months[m-1]),int(str(y)+months[m-2]),int(str(y-1)+months[m-1])]\n",
    "    return [int(str(y)+months[m-1]),int(str(y-1)+months[m-2]),int(str(y-1)+months[m-1])]\n",
    "import_game_list=[\"双色球\",\"福彩3D\",\"七乐彩\",\"即开票\",\"快乐8\",\"15选5\",\"东方6+1\",\"选4\"]\n",
    "game_list=list(data[\"游戏\"])\n",
    "new_game_list=[]\n",
    "for i in game_list:\n",
    "    if i in import_game_list:\n",
    "        new_game_list.append(i)\n",
    "    else:\n",
    "        if i ==\"快乐8(新)\":\n",
    "            new_game_list.append(\"快乐8\")\n",
    "        else:\n",
    "            new_game_list.append(\"地方游戏\")\n",
    "data[\"gamename\"]=new_game_list\n",
    "data[\"gamename\"].value_counts()\n",
    "game_name=[\"双色球\",\"福彩3D\",\"七乐彩\",\"即开票\",\"快乐8\",\"15选5\",\"东方6+1\",\"选4\",\"地方游戏\"]\n",
    "sales=[]\n",
    "huanbis=[]\n",
    "tongbis=[]\n",
    "for i in game_name:\n",
    "    data_sale=data.loc[data[\"月份\"]==get_three_months(year,month)[0]].loc[data[\"gamename\"]==i][\"销量\"]\n",
    "    a=data_sale.sum()\n",
    "    data_sale=data.loc[data[\"月份\"]==get_three_months(year,month)[1]].loc[data[\"gamename\"]==i][\"销量\"]\n",
    "    b=data_sale.sum()\n",
    "    data_sale=data.loc[data[\"月份\"]==get_three_months(year,month)[2]].loc[data[\"gamename\"]==i][\"销量\"]\n",
    "    c=data_sale.sum()\n",
    "    huanbi,tongbi=a/b-1,a/c-1\n",
    "    sales.append(a)\n",
    "    huanbis.append(huanbi)\n",
    "    tongbis.append(tongbi)\n",
    "    #print(\"2023年5月总销量:%d\\n2023年4月总销量:%d\\n2022年5月总销量:%d\"%(a,b,c))\n",
    "    print(\"%d年游戏  %s  %d月总销量:%d\"%(year,i,month,a))\n",
    "    print(\"环比上月:%.2f%%\\n同比去年本月:%.2f%%\\n\"%(huanbi*100,tongbi*100))\n",
    "game_sale1=[]\n",
    "game_sale2=[]\n",
    "game_sale_change=[]\n",
    "game_sale_huanbi_add=[]\n",
    "for i in game_name:\n",
    "    a=data.loc[data[\"月份\"]==get_three_months(year,month)[1]].loc[data[\"gamename\"]==i][\"销量\"].sum()\n",
    "    b=data.loc[data[\"月份\"]==get_three_months(year,month)[0]].loc[data[\"gamename\"]==i][\"销量\"].sum()\n",
    "    game_sale1.append(a*1e-4)\n",
    "    game_sale2.append(b*1e-4)\n",
    "    game_sale_change.append((b-a)*1e-4)\n",
    "    game_sale_huanbi_add.append(b/a-1)\n",
    "ppt_6_excel=pd.DataFrame()\n",
    "ppt_6_excel[\"游戏\"]=game_name\n",
    "ppt_6_excel[\"%d年%d月销量(亿元)\"%(year,month)]=game_sale2\n",
    "ppt_6_excel[\"%d年%d月销量(亿元)\"%(year,month)]=ppt_6_excel[\"%d年%d月销量(亿元)\"%(year,month)].apply(lambda x:format(x,\".4f\"))\n",
    "# ppt_6_excel.to_excel(r\"E:\\彩票数据\\山西\\山西月报\\2024年%d月报\\ppt_6.xlsx\"%(month))\n",
    "ppt_6_excel"
   ],
   "metadata": {
    "collapsed": false,
    "pycharm": {
     "name": "#%%\n"
    }
   }
  },
  {
   "cell_type": "code",
   "execution_count": 7,
   "outputs": [
    {
     "name": "stderr",
     "output_type": "stream",
     "text": [
      "D:\\biye\\python37\\lib\\site-packages\\ipykernel_launcher.py:20: RuntimeWarning: invalid value encountered in longlong_scalars\n"
     ]
    },
    {
     "data": {
      "text/plain": "      游戏 2023年1-5月累计销量(亿元) 2024年1-5月累计销量(亿元)    同比增长 gameName 同比去年累计增长金额(亿元)\n0    双色球              8.73              9.13   4.58%      双色球           0.40\n1   福彩3D              2.92              3.95  35.39%     福彩3D           1.03\n2    七乐彩              0.12              0.12   2.78%      七乐彩           0.00\n3    即开票              6.58              8.15  23.83%      即开票           1.57\n4    快乐8              1.98              2.82  42.50%      快乐8           0.84\n5   15选5              0.12              0.13   9.80%     15选5           0.01\n6  东方6+1              0.06              0.06   2.18%    东方6+1           0.00\n7     选4              0.38              0.41   7.01%       选4           0.03\n8   地方游戏              0.00              0.00    nan%     地方游戏           0.00",
      "text/html": "<div>\n<style scoped>\n    .dataframe tbody tr th:only-of-type {\n        vertical-align: middle;\n    }\n\n    .dataframe tbody tr th {\n        vertical-align: top;\n    }\n\n    .dataframe thead th {\n        text-align: right;\n    }\n</style>\n<table border=\"1\" class=\"dataframe\">\n  <thead>\n    <tr style=\"text-align: right;\">\n      <th></th>\n      <th>游戏</th>\n      <th>2023年1-5月累计销量(亿元)</th>\n      <th>2024年1-5月累计销量(亿元)</th>\n      <th>同比增长</th>\n      <th>gameName</th>\n      <th>同比去年累计增长金额(亿元)</th>\n    </tr>\n  </thead>\n  <tbody>\n    <tr>\n      <th>0</th>\n      <td>双色球</td>\n      <td>8.73</td>\n      <td>9.13</td>\n      <td>4.58%</td>\n      <td>双色球</td>\n      <td>0.40</td>\n    </tr>\n    <tr>\n      <th>1</th>\n      <td>福彩3D</td>\n      <td>2.92</td>\n      <td>3.95</td>\n      <td>35.39%</td>\n      <td>福彩3D</td>\n      <td>1.03</td>\n    </tr>\n    <tr>\n      <th>2</th>\n      <td>七乐彩</td>\n      <td>0.12</td>\n      <td>0.12</td>\n      <td>2.78%</td>\n      <td>七乐彩</td>\n      <td>0.00</td>\n    </tr>\n    <tr>\n      <th>3</th>\n      <td>即开票</td>\n      <td>6.58</td>\n      <td>8.15</td>\n      <td>23.83%</td>\n      <td>即开票</td>\n      <td>1.57</td>\n    </tr>\n    <tr>\n      <th>4</th>\n      <td>快乐8</td>\n      <td>1.98</td>\n      <td>2.82</td>\n      <td>42.50%</td>\n      <td>快乐8</td>\n      <td>0.84</td>\n    </tr>\n    <tr>\n      <th>5</th>\n      <td>15选5</td>\n      <td>0.12</td>\n      <td>0.13</td>\n      <td>9.80%</td>\n      <td>15选5</td>\n      <td>0.01</td>\n    </tr>\n    <tr>\n      <th>6</th>\n      <td>东方6+1</td>\n      <td>0.06</td>\n      <td>0.06</td>\n      <td>2.18%</td>\n      <td>东方6+1</td>\n      <td>0.00</td>\n    </tr>\n    <tr>\n      <th>7</th>\n      <td>选4</td>\n      <td>0.38</td>\n      <td>0.41</td>\n      <td>7.01%</td>\n      <td>选4</td>\n      <td>0.03</td>\n    </tr>\n    <tr>\n      <th>8</th>\n      <td>地方游戏</td>\n      <td>0.00</td>\n      <td>0.00</td>\n      <td>nan%</td>\n      <td>地方游戏</td>\n      <td>0.00</td>\n    </tr>\n  </tbody>\n</table>\n</div>"
     },
     "execution_count": 7,
     "metadata": {},
     "output_type": "execute_result"
    }
   ],
   "source": [
    "### 生成本年本月累计月份表\n",
    "def get_add_months(y,m):\n",
    "    ###y:year  m:month\n",
    "    return [int(str(y)+months[i]) for i in range(m)]\n",
    "game_name=[\"双色球\",\"福彩3D\",\"七乐彩\",\"即开票\",\"快乐8\",\"15选5\",\"东方6+1\",\"选4\",\"地方游戏\"]\n",
    "leiji_month1=get_add_months(year-1,month)\n",
    "leiji_month2=get_add_months(year,month)\n",
    "leiji_game_sale1=[]\n",
    "leiji_game_sale2=[]\n",
    "leiji_game_sale_change=[]\n",
    "leiji_game_sale_tongbi_add=[]\n",
    "for i in game_name:\n",
    "    a,b=0,0\n",
    "    for j in range(len(leiji_month1)):\n",
    "        a=a+data.loc[data[\"月份\"]==leiji_month1[j]].loc[data[\"gamename\"]==i][\"销量\"].sum()\n",
    "        b=b+data.loc[data[\"月份\"]==leiji_month2[j]].loc[data[\"gamename\"]==i][\"销量\"].sum()\n",
    "    leiji_game_sale1.append(a*1e-8)\n",
    "    leiji_game_sale2.append(b*1e-8)\n",
    "    leiji_game_sale_change.append((b-a)*1e-8)\n",
    "    leiji_game_sale_tongbi_add.append(b/a-1)\n",
    "ppt_7_excel=pd.DataFrame()\n",
    "ppt_7_excel[\"游戏\"]=game_name\n",
    "ppt_7_excel[\"%d年1-%d月累计销量(亿元)\"%(year-1,month)]=leiji_game_sale1\n",
    "ppt_7_excel[\"%d年1-%d月累计销量(亿元)\"%(year-1,month)]=ppt_7_excel[\"%d年1-%d月累计销量(亿元)\"%(year-1,month)].apply(lambda x:format(x,\".2f\"))\n",
    "ppt_7_excel[\"%d年1-%d月累计销量(亿元)\"%(year,month)]=leiji_game_sale2\n",
    "ppt_7_excel[\"%d年1-%d月累计销量(亿元)\"%(year,month)]=ppt_7_excel[\"%d年1-%d月累计销量(亿元)\"%(year,month)].apply(lambda x:format(x,\".2f\"))\n",
    "ppt_7_excel[\"同比增长\"]=leiji_game_sale_tongbi_add\n",
    "ppt_7_excel[\"同比增长\"]=ppt_7_excel[\"同比增长\"].apply(lambda x:format(x,\".2%\"))\n",
    "ppt_7_excel[\"gameName\"]=game_name\n",
    "ppt_7_excel[\"同比去年累计增长金额(亿元)\"]=leiji_game_sale_change\n",
    "ppt_7_excel[\"同比去年累计增长金额(亿元)\"]=ppt_7_excel[\"同比去年累计增长金额(亿元)\"].apply(lambda x:format(x,\".2f\"))\n",
    "# ppt_7_excel.to_excel(r\"E:\\彩票数据\\山西\\山西月报\\2024年%d月报\\ppt_7.xlsx\"%(month))\n",
    "ppt_7_excel"
   ],
   "metadata": {
    "collapsed": false,
    "pycharm": {
     "name": "#%%\n"
    }
   }
  },
  {
   "cell_type": "code",
   "execution_count": 8,
   "outputs": [
    {
     "data": {
      "text/plain": "   2024年5月销量 2024年4月销量     环比增幅  各城市销量增长情况\n地市                                        \n中心   3495.39   3574.09   -2.20%   -78.7048\n嘉定   3753.20   5165.96  -27.35% -1412.7600\n奉贤   2023.73   2586.98  -21.77%  -563.2410\n宝山   3522.61   4569.58  -22.91% -1046.9728\n崇明    722.45   1009.38  -28.43%  -286.9328\n徐汇   1410.94   1842.94  -23.44%  -432.0004\n普陀   1769.09   2388.73  -25.94%  -619.6400\n杨浦   1774.37   2235.18  -20.62%  -460.8006\n松江   4196.05   5430.20  -22.73% -1234.1482\n浦东   8939.01  11134.08  -19.71% -2195.0706\n渠道     60.00    124.00  -51.61%   -64.0000\n虹口   1216.99   1510.98  -19.46%  -293.9844\n金山   1354.34   1616.26  -16.21%  -261.9252\n长宁   1161.44   2359.60  -50.78% -1198.1590\n闵行   4485.96   5877.98  -23.68% -1392.0216\n青浦   2097.95   2793.15  -24.89%  -695.2052\n静安   2017.04   2590.31  -22.13%  -573.2796\n黄浦   1198.69   1439.20  -16.71%  -240.5138",
      "text/html": "<div>\n<style scoped>\n    .dataframe tbody tr th:only-of-type {\n        vertical-align: middle;\n    }\n\n    .dataframe tbody tr th {\n        vertical-align: top;\n    }\n\n    .dataframe thead th {\n        text-align: right;\n    }\n</style>\n<table border=\"1\" class=\"dataframe\">\n  <thead>\n    <tr style=\"text-align: right;\">\n      <th></th>\n      <th>2024年5月销量</th>\n      <th>2024年4月销量</th>\n      <th>环比增幅</th>\n      <th>各城市销量增长情况</th>\n    </tr>\n    <tr>\n      <th>地市</th>\n      <th></th>\n      <th></th>\n      <th></th>\n      <th></th>\n    </tr>\n  </thead>\n  <tbody>\n    <tr>\n      <th>中心</th>\n      <td>3495.39</td>\n      <td>3574.09</td>\n      <td>-2.20%</td>\n      <td>-78.7048</td>\n    </tr>\n    <tr>\n      <th>嘉定</th>\n      <td>3753.20</td>\n      <td>5165.96</td>\n      <td>-27.35%</td>\n      <td>-1412.7600</td>\n    </tr>\n    <tr>\n      <th>奉贤</th>\n      <td>2023.73</td>\n      <td>2586.98</td>\n      <td>-21.77%</td>\n      <td>-563.2410</td>\n    </tr>\n    <tr>\n      <th>宝山</th>\n      <td>3522.61</td>\n      <td>4569.58</td>\n      <td>-22.91%</td>\n      <td>-1046.9728</td>\n    </tr>\n    <tr>\n      <th>崇明</th>\n      <td>722.45</td>\n      <td>1009.38</td>\n      <td>-28.43%</td>\n      <td>-286.9328</td>\n    </tr>\n    <tr>\n      <th>徐汇</th>\n      <td>1410.94</td>\n      <td>1842.94</td>\n      <td>-23.44%</td>\n      <td>-432.0004</td>\n    </tr>\n    <tr>\n      <th>普陀</th>\n      <td>1769.09</td>\n      <td>2388.73</td>\n      <td>-25.94%</td>\n      <td>-619.6400</td>\n    </tr>\n    <tr>\n      <th>杨浦</th>\n      <td>1774.37</td>\n      <td>2235.18</td>\n      <td>-20.62%</td>\n      <td>-460.8006</td>\n    </tr>\n    <tr>\n      <th>松江</th>\n      <td>4196.05</td>\n      <td>5430.20</td>\n      <td>-22.73%</td>\n      <td>-1234.1482</td>\n    </tr>\n    <tr>\n      <th>浦东</th>\n      <td>8939.01</td>\n      <td>11134.08</td>\n      <td>-19.71%</td>\n      <td>-2195.0706</td>\n    </tr>\n    <tr>\n      <th>渠道</th>\n      <td>60.00</td>\n      <td>124.00</td>\n      <td>-51.61%</td>\n      <td>-64.0000</td>\n    </tr>\n    <tr>\n      <th>虹口</th>\n      <td>1216.99</td>\n      <td>1510.98</td>\n      <td>-19.46%</td>\n      <td>-293.9844</td>\n    </tr>\n    <tr>\n      <th>金山</th>\n      <td>1354.34</td>\n      <td>1616.26</td>\n      <td>-16.21%</td>\n      <td>-261.9252</td>\n    </tr>\n    <tr>\n      <th>长宁</th>\n      <td>1161.44</td>\n      <td>2359.60</td>\n      <td>-50.78%</td>\n      <td>-1198.1590</td>\n    </tr>\n    <tr>\n      <th>闵行</th>\n      <td>4485.96</td>\n      <td>5877.98</td>\n      <td>-23.68%</td>\n      <td>-1392.0216</td>\n    </tr>\n    <tr>\n      <th>青浦</th>\n      <td>2097.95</td>\n      <td>2793.15</td>\n      <td>-24.89%</td>\n      <td>-695.2052</td>\n    </tr>\n    <tr>\n      <th>静安</th>\n      <td>2017.04</td>\n      <td>2590.31</td>\n      <td>-22.13%</td>\n      <td>-573.2796</td>\n    </tr>\n    <tr>\n      <th>黄浦</th>\n      <td>1198.69</td>\n      <td>1439.20</td>\n      <td>-16.71%</td>\n      <td>-240.5138</td>\n    </tr>\n  </tbody>\n</table>\n</div>"
     },
     "execution_count": 8,
     "metadata": {},
     "output_type": "execute_result"
    }
   ],
   "source": [
    "ppt=pd.DataFrame()\n",
    "a_data = data[(data['月份'] == year*100+month) ]\n",
    "b_data = data[(data['月份'] == year*100+month-1) ]\n",
    "ppt['2024年本月销量'] = a_data.groupby('地市')['销量'].sum()*1e-4\n",
    "ppt['2024年上月销量'] = b_data.groupby('地市')['销量'].sum()*1e-4\n",
    "ppt_8_excel=pd.DataFrame()\n",
    "ppt_8_excel['2024年5月销量'] = ppt['2024年本月销量'].apply(lambda x: '{:.2f}'.format(x))\n",
    "ppt_8_excel['2024年4月销量'] = ppt['2024年上月销量'].apply(lambda x: '{:.2f}'.format(x))\n",
    "ppt_8_excel['环比增幅'] = ( ppt['2024年本月销量']/ ppt['2024年上月销量']-1).apply(lambda x: '{:.2%}'.format(x))\n",
    "ppt_8_excel['各城市销量增长情况'] = ( ppt['2024年本月销量']- ppt['2024年上月销量'])\n",
    "# ppt_8_excel.to_excel(r\"E:\\彩票数据\\山西\\山西月报\\2024年%d月报\\ppt_8.xlsx\"%(month))\n",
    "ppt_8_excel"
   ],
   "metadata": {
    "collapsed": false,
    "pycharm": {
     "name": "#%%\n"
    }
   }
  },
  {
   "cell_type": "code",
   "execution_count": 9,
   "outputs": [
    {
     "data": {
      "text/plain": "        双色球      即开票      快乐8     福彩3D     七乐彩\n地市                                            \n中心  2711.31      nan      nan   486.85  101.06\n嘉定  1303.22   939.11   656.54   788.03   12.15\n奉贤   787.11   433.59   330.19   429.70    5.05\n宝山  1401.29   788.80   563.24   640.01   15.06\n崇明   260.12   147.33    72.84   200.92    3.68\n徐汇   706.81   293.56   133.26   209.59    8.76\n普陀   835.23   330.12   180.35   343.87   10.06\n杨浦   685.53   383.28   303.39   327.89    8.26\n松江  1459.92   868.22   856.97   941.93   13.29\n浦东  3368.85  2152.16  1554.09  1617.98   30.63\n虹口   532.30   290.96   147.18   185.44    6.47\n金山   577.20   237.87   169.14   325.32    5.17\n长宁   502.85   305.06   105.14   207.50    5.55\n闵行  1734.38   999.78   561.02  1055.33   16.25\n青浦   735.01   516.75   293.18   520.49    4.72\n静安   815.41   453.05   282.07   376.88   12.98\n黄浦   494.11   311.56   130.91   211.35    5.17",
      "text/html": "<div>\n<style scoped>\n    .dataframe tbody tr th:only-of-type {\n        vertical-align: middle;\n    }\n\n    .dataframe tbody tr th {\n        vertical-align: top;\n    }\n\n    .dataframe thead th {\n        text-align: right;\n    }\n</style>\n<table border=\"1\" class=\"dataframe\">\n  <thead>\n    <tr style=\"text-align: right;\">\n      <th></th>\n      <th>双色球</th>\n      <th>即开票</th>\n      <th>快乐8</th>\n      <th>福彩3D</th>\n      <th>七乐彩</th>\n    </tr>\n    <tr>\n      <th>地市</th>\n      <th></th>\n      <th></th>\n      <th></th>\n      <th></th>\n      <th></th>\n    </tr>\n  </thead>\n  <tbody>\n    <tr>\n      <th>中心</th>\n      <td>2711.31</td>\n      <td>nan</td>\n      <td>nan</td>\n      <td>486.85</td>\n      <td>101.06</td>\n    </tr>\n    <tr>\n      <th>嘉定</th>\n      <td>1303.22</td>\n      <td>939.11</td>\n      <td>656.54</td>\n      <td>788.03</td>\n      <td>12.15</td>\n    </tr>\n    <tr>\n      <th>奉贤</th>\n      <td>787.11</td>\n      <td>433.59</td>\n      <td>330.19</td>\n      <td>429.70</td>\n      <td>5.05</td>\n    </tr>\n    <tr>\n      <th>宝山</th>\n      <td>1401.29</td>\n      <td>788.80</td>\n      <td>563.24</td>\n      <td>640.01</td>\n      <td>15.06</td>\n    </tr>\n    <tr>\n      <th>崇明</th>\n      <td>260.12</td>\n      <td>147.33</td>\n      <td>72.84</td>\n      <td>200.92</td>\n      <td>3.68</td>\n    </tr>\n    <tr>\n      <th>徐汇</th>\n      <td>706.81</td>\n      <td>293.56</td>\n      <td>133.26</td>\n      <td>209.59</td>\n      <td>8.76</td>\n    </tr>\n    <tr>\n      <th>普陀</th>\n      <td>835.23</td>\n      <td>330.12</td>\n      <td>180.35</td>\n      <td>343.87</td>\n      <td>10.06</td>\n    </tr>\n    <tr>\n      <th>杨浦</th>\n      <td>685.53</td>\n      <td>383.28</td>\n      <td>303.39</td>\n      <td>327.89</td>\n      <td>8.26</td>\n    </tr>\n    <tr>\n      <th>松江</th>\n      <td>1459.92</td>\n      <td>868.22</td>\n      <td>856.97</td>\n      <td>941.93</td>\n      <td>13.29</td>\n    </tr>\n    <tr>\n      <th>浦东</th>\n      <td>3368.85</td>\n      <td>2152.16</td>\n      <td>1554.09</td>\n      <td>1617.98</td>\n      <td>30.63</td>\n    </tr>\n    <tr>\n      <th>虹口</th>\n      <td>532.30</td>\n      <td>290.96</td>\n      <td>147.18</td>\n      <td>185.44</td>\n      <td>6.47</td>\n    </tr>\n    <tr>\n      <th>金山</th>\n      <td>577.20</td>\n      <td>237.87</td>\n      <td>169.14</td>\n      <td>325.32</td>\n      <td>5.17</td>\n    </tr>\n    <tr>\n      <th>长宁</th>\n      <td>502.85</td>\n      <td>305.06</td>\n      <td>105.14</td>\n      <td>207.50</td>\n      <td>5.55</td>\n    </tr>\n    <tr>\n      <th>闵行</th>\n      <td>1734.38</td>\n      <td>999.78</td>\n      <td>561.02</td>\n      <td>1055.33</td>\n      <td>16.25</td>\n    </tr>\n    <tr>\n      <th>青浦</th>\n      <td>735.01</td>\n      <td>516.75</td>\n      <td>293.18</td>\n      <td>520.49</td>\n      <td>4.72</td>\n    </tr>\n    <tr>\n      <th>静安</th>\n      <td>815.41</td>\n      <td>453.05</td>\n      <td>282.07</td>\n      <td>376.88</td>\n      <td>12.98</td>\n    </tr>\n    <tr>\n      <th>黄浦</th>\n      <td>494.11</td>\n      <td>311.56</td>\n      <td>130.91</td>\n      <td>211.35</td>\n      <td>5.17</td>\n    </tr>\n  </tbody>\n</table>\n</div>"
     },
     "execution_count": 9,
     "metadata": {},
     "output_type": "execute_result"
    }
   ],
   "source": [
    "ppt=pd.DataFrame()\n",
    "a_data = data[(data['月份'] == year*100+month) ]\n",
    "games = ['双色球', '即开票', '快乐8', '福彩3D', '七乐彩', '地方游戏']\n",
    "for game in games:\n",
    "    ppt[f'{game}销量'] = a_data[a_data['游戏'] == game].groupby('地市')['销量'].sum() * 1e-4\n",
    "ppt_10_excel=pd.DataFrame()\n",
    "ppt_10_excel['双色球'] = ppt['双色球销量'].apply(lambda x: '{:.2f}'.format(x))\n",
    "ppt_10_excel['即开票'] = ppt['即开票销量'].apply(lambda x: '{:.2f}'.format(x))\n",
    "ppt_10_excel['快乐8'] = ppt['快乐8销量'].apply(lambda x: '{:.2f}'.format(x))\n",
    "ppt_10_excel['福彩3D'] = ppt['福彩3D销量'].apply(lambda x: '{:.2f}'.format(x))\n",
    "ppt_10_excel['七乐彩'] = ppt['七乐彩销量'].apply(lambda x: '{:.2f}'.format(x))\n",
    "# ppt_10_excel.to_excel(r\"E:\\彩票数据\\山西\\山西月报\\2024年%d月报\\ppt_10.xlsx\"%(month))\n",
    "ppt_10_excel"
   ],
   "metadata": {
    "collapsed": false,
    "pycharm": {
     "name": "#%%\n"
    }
   }
  },
  {
   "cell_type": "code",
   "execution_count": 10,
   "outputs": [
    {
     "data": {
      "text/plain": "          日期  地市     游戏        票价区间       销量      月份\n0      45108  中心    双色球        02$2  2545318  202307\n1      45108  中心    双色球      04$4-8  3848746  202307\n2      45108  中心    双色球       05$10  5036060  202307\n3      45108  中心    双色球    06$12-18  1763890  202307\n4      45108  中心    双色球       07$20  2034020  202307\n...      ...  ..    ...         ...      ...     ...\n13181  45413  黄浦  东方6+1    08$22-48     4712  202405\n13182  45413  黄浦  东方6+1    09$50-98     1196  202405\n13183  45413  黄浦  东方6+1  10$100-198     1478  202405\n13184  45413  黄浦  东方6+1  11$200-998     1314  202405\n13185  45413  黄浦  东方6+1   12$1000以上     1296  202405\n\n[13186 rows x 6 columns]",
      "text/html": "<div>\n<style scoped>\n    .dataframe tbody tr th:only-of-type {\n        vertical-align: middle;\n    }\n\n    .dataframe tbody tr th {\n        vertical-align: top;\n    }\n\n    .dataframe thead th {\n        text-align: right;\n    }\n</style>\n<table border=\"1\" class=\"dataframe\">\n  <thead>\n    <tr style=\"text-align: right;\">\n      <th></th>\n      <th>日期</th>\n      <th>地市</th>\n      <th>游戏</th>\n      <th>票价区间</th>\n      <th>销量</th>\n      <th>月份</th>\n    </tr>\n  </thead>\n  <tbody>\n    <tr>\n      <th>0</th>\n      <td>45108</td>\n      <td>中心</td>\n      <td>双色球</td>\n      <td>02$2</td>\n      <td>2545318</td>\n      <td>202307</td>\n    </tr>\n    <tr>\n      <th>1</th>\n      <td>45108</td>\n      <td>中心</td>\n      <td>双色球</td>\n      <td>04$4-8</td>\n      <td>3848746</td>\n      <td>202307</td>\n    </tr>\n    <tr>\n      <th>2</th>\n      <td>45108</td>\n      <td>中心</td>\n      <td>双色球</td>\n      <td>05$10</td>\n      <td>5036060</td>\n      <td>202307</td>\n    </tr>\n    <tr>\n      <th>3</th>\n      <td>45108</td>\n      <td>中心</td>\n      <td>双色球</td>\n      <td>06$12-18</td>\n      <td>1763890</td>\n      <td>202307</td>\n    </tr>\n    <tr>\n      <th>4</th>\n      <td>45108</td>\n      <td>中心</td>\n      <td>双色球</td>\n      <td>07$20</td>\n      <td>2034020</td>\n      <td>202307</td>\n    </tr>\n    <tr>\n      <th>...</th>\n      <td>...</td>\n      <td>...</td>\n      <td>...</td>\n      <td>...</td>\n      <td>...</td>\n      <td>...</td>\n    </tr>\n    <tr>\n      <th>13181</th>\n      <td>45413</td>\n      <td>黄浦</td>\n      <td>东方6+1</td>\n      <td>08$22-48</td>\n      <td>4712</td>\n      <td>202405</td>\n    </tr>\n    <tr>\n      <th>13182</th>\n      <td>45413</td>\n      <td>黄浦</td>\n      <td>东方6+1</td>\n      <td>09$50-98</td>\n      <td>1196</td>\n      <td>202405</td>\n    </tr>\n    <tr>\n      <th>13183</th>\n      <td>45413</td>\n      <td>黄浦</td>\n      <td>东方6+1</td>\n      <td>10$100-198</td>\n      <td>1478</td>\n      <td>202405</td>\n    </tr>\n    <tr>\n      <th>13184</th>\n      <td>45413</td>\n      <td>黄浦</td>\n      <td>东方6+1</td>\n      <td>11$200-998</td>\n      <td>1314</td>\n      <td>202405</td>\n    </tr>\n    <tr>\n      <th>13185</th>\n      <td>45413</td>\n      <td>黄浦</td>\n      <td>东方6+1</td>\n      <td>12$1000以上</td>\n      <td>1296</td>\n      <td>202405</td>\n    </tr>\n  </tbody>\n</table>\n<p>13186 rows × 6 columns</p>\n</div>"
     },
     "execution_count": 10,
     "metadata": {},
     "output_type": "execute_result"
    }
   ],
   "source": [
    "import pandas as pd\n",
    "data1=pd.read_excel(r\"E:\\彩票数据\\山西\\山西月报\\2024年5月报\\月份-地市-游戏-票单价.xlsx\",sheet_name=0)\n",
    "data1"
   ],
   "metadata": {
    "collapsed": false,
    "pycharm": {
     "name": "#%%\n"
    }
   }
  },
  {
   "cell_type": "code",
   "execution_count": 11,
   "outputs": [
    {
     "data": {
      "text/plain": "                双色球      快乐8     福彩3D    七乐彩\n票价区间                                        \n02$2         416.44    65.95    66.05  24.93\n04$4-8      1621.37   309.22   538.33  40.88\n05$10       4654.58   490.93   989.23  78.79\n06$12-18    1132.82   279.41   394.09  39.75\n07$20       1869.75   452.36   781.76   6.61\n08$22-48    2260.55   739.62  1186.84   7.75\n09$50-98    2075.69   590.93  1177.96  28.60\n10$100-198  2191.38  2404.41  1196.20   4.04\n11$200-998  1994.56   682.22  1985.33  24.40\n12$1000以上    693.52   324.45   553.31   8.58",
      "text/html": "<div>\n<style scoped>\n    .dataframe tbody tr th:only-of-type {\n        vertical-align: middle;\n    }\n\n    .dataframe tbody tr th {\n        vertical-align: top;\n    }\n\n    .dataframe thead th {\n        text-align: right;\n    }\n</style>\n<table border=\"1\" class=\"dataframe\">\n  <thead>\n    <tr style=\"text-align: right;\">\n      <th></th>\n      <th>双色球</th>\n      <th>快乐8</th>\n      <th>福彩3D</th>\n      <th>七乐彩</th>\n    </tr>\n    <tr>\n      <th>票价区间</th>\n      <th></th>\n      <th></th>\n      <th></th>\n      <th></th>\n    </tr>\n  </thead>\n  <tbody>\n    <tr>\n      <th>02$2</th>\n      <td>416.44</td>\n      <td>65.95</td>\n      <td>66.05</td>\n      <td>24.93</td>\n    </tr>\n    <tr>\n      <th>04$4-8</th>\n      <td>1621.37</td>\n      <td>309.22</td>\n      <td>538.33</td>\n      <td>40.88</td>\n    </tr>\n    <tr>\n      <th>05$10</th>\n      <td>4654.58</td>\n      <td>490.93</td>\n      <td>989.23</td>\n      <td>78.79</td>\n    </tr>\n    <tr>\n      <th>06$12-18</th>\n      <td>1132.82</td>\n      <td>279.41</td>\n      <td>394.09</td>\n      <td>39.75</td>\n    </tr>\n    <tr>\n      <th>07$20</th>\n      <td>1869.75</td>\n      <td>452.36</td>\n      <td>781.76</td>\n      <td>6.61</td>\n    </tr>\n    <tr>\n      <th>08$22-48</th>\n      <td>2260.55</td>\n      <td>739.62</td>\n      <td>1186.84</td>\n      <td>7.75</td>\n    </tr>\n    <tr>\n      <th>09$50-98</th>\n      <td>2075.69</td>\n      <td>590.93</td>\n      <td>1177.96</td>\n      <td>28.60</td>\n    </tr>\n    <tr>\n      <th>10$100-198</th>\n      <td>2191.38</td>\n      <td>2404.41</td>\n      <td>1196.20</td>\n      <td>4.04</td>\n    </tr>\n    <tr>\n      <th>11$200-998</th>\n      <td>1994.56</td>\n      <td>682.22</td>\n      <td>1985.33</td>\n      <td>24.40</td>\n    </tr>\n    <tr>\n      <th>12$1000以上</th>\n      <td>693.52</td>\n      <td>324.45</td>\n      <td>553.31</td>\n      <td>8.58</td>\n    </tr>\n  </tbody>\n</table>\n</div>"
     },
     "execution_count": 11,
     "metadata": {},
     "output_type": "execute_result"
    }
   ],
   "source": [
    "ppt=pd.DataFrame()\n",
    "b_data = data1[(data1['月份'] == year*100+month) ]\n",
    "ppt['双色球销量'] = b_data[(b_data['游戏'] == '双色球') ].groupby('票价区间')['销量'].sum()*1e-4\n",
    "ppt['快乐8销量'] = b_data[(b_data['游戏'] == '快乐8') ].groupby('票价区间')['销量'].sum()*1e-4\n",
    "ppt['福彩3D销量'] = b_data[(b_data['游戏'] == '福彩3D') ].groupby('票价区间')['销量'].sum()*1e-4\n",
    "ppt['七乐彩销量'] = b_data[(b_data['游戏'] == '七乐彩') ].groupby('票价区间')['销量'].sum()*1e-4\n",
    "ppt_15_excel=pd.DataFrame()\n",
    "ppt_15_excel['双色球'] = ppt['双色球销量'].apply(lambda x: '{:.2f}'.format(x))\n",
    "ppt_15_excel['快乐8'] = ppt['快乐8销量'].apply(lambda x: '{:.2f}'.format(x))\n",
    "ppt_15_excel['福彩3D'] = ppt['福彩3D销量'].apply(lambda x: '{:.2f}'.format(x))\n",
    "ppt_15_excel['七乐彩'] = ppt['七乐彩销量'].apply(lambda x: '{:.2f}'.format(x))\n",
    "# ppt_15_excel.to_excel(r\"E:\\彩票数据\\山西\\山西月报\\2024年%d月报\\ppt_15.xlsx\"%(month))\n",
    "ppt_15_excel"
   ],
   "metadata": {
    "collapsed": false,
    "pycharm": {
     "name": "#%%\n"
    }
   }
  },
  {
   "cell_type": "code",
   "execution_count": 12,
   "outputs": [
    {
     "data": {
      "text/plain": "         日期   小时  地市     游戏      销量      月份\n0     45413  00时  中心    双色球  163900  202405\n1     45413  00时  中心    七乐彩    7750  202405\n2     45413  00时  中心   福彩3D   49130  202405\n3     45413  00时  中心     选4    6964  202405\n4     45413  00时  中心   15选5    2350  202405\n...     ...  ...  ..    ...     ...     ...\n2362  45413  23时  黄浦    双色球     952  202405\n2363  45413  23时  黄浦    七乐彩       6  202405\n2364  45413  23时  黄浦   福彩3D      64  202405\n2365  45413  23时  黄浦    快乐8     826  202405\n2366  45413  23时  黄浦  东方6+1      48  202405\n\n[2367 rows x 6 columns]",
      "text/html": "<div>\n<style scoped>\n    .dataframe tbody tr th:only-of-type {\n        vertical-align: middle;\n    }\n\n    .dataframe tbody tr th {\n        vertical-align: top;\n    }\n\n    .dataframe thead th {\n        text-align: right;\n    }\n</style>\n<table border=\"1\" class=\"dataframe\">\n  <thead>\n    <tr style=\"text-align: right;\">\n      <th></th>\n      <th>日期</th>\n      <th>小时</th>\n      <th>地市</th>\n      <th>游戏</th>\n      <th>销量</th>\n      <th>月份</th>\n    </tr>\n  </thead>\n  <tbody>\n    <tr>\n      <th>0</th>\n      <td>45413</td>\n      <td>00时</td>\n      <td>中心</td>\n      <td>双色球</td>\n      <td>163900</td>\n      <td>202405</td>\n    </tr>\n    <tr>\n      <th>1</th>\n      <td>45413</td>\n      <td>00时</td>\n      <td>中心</td>\n      <td>七乐彩</td>\n      <td>7750</td>\n      <td>202405</td>\n    </tr>\n    <tr>\n      <th>2</th>\n      <td>45413</td>\n      <td>00时</td>\n      <td>中心</td>\n      <td>福彩3D</td>\n      <td>49130</td>\n      <td>202405</td>\n    </tr>\n    <tr>\n      <th>3</th>\n      <td>45413</td>\n      <td>00时</td>\n      <td>中心</td>\n      <td>选4</td>\n      <td>6964</td>\n      <td>202405</td>\n    </tr>\n    <tr>\n      <th>4</th>\n      <td>45413</td>\n      <td>00时</td>\n      <td>中心</td>\n      <td>15选5</td>\n      <td>2350</td>\n      <td>202405</td>\n    </tr>\n    <tr>\n      <th>...</th>\n      <td>...</td>\n      <td>...</td>\n      <td>...</td>\n      <td>...</td>\n      <td>...</td>\n      <td>...</td>\n    </tr>\n    <tr>\n      <th>2362</th>\n      <td>45413</td>\n      <td>23时</td>\n      <td>黄浦</td>\n      <td>双色球</td>\n      <td>952</td>\n      <td>202405</td>\n    </tr>\n    <tr>\n      <th>2363</th>\n      <td>45413</td>\n      <td>23时</td>\n      <td>黄浦</td>\n      <td>七乐彩</td>\n      <td>6</td>\n      <td>202405</td>\n    </tr>\n    <tr>\n      <th>2364</th>\n      <td>45413</td>\n      <td>23时</td>\n      <td>黄浦</td>\n      <td>福彩3D</td>\n      <td>64</td>\n      <td>202405</td>\n    </tr>\n    <tr>\n      <th>2365</th>\n      <td>45413</td>\n      <td>23时</td>\n      <td>黄浦</td>\n      <td>快乐8</td>\n      <td>826</td>\n      <td>202405</td>\n    </tr>\n    <tr>\n      <th>2366</th>\n      <td>45413</td>\n      <td>23时</td>\n      <td>黄浦</td>\n      <td>东方6+1</td>\n      <td>48</td>\n      <td>202405</td>\n    </tr>\n  </tbody>\n</table>\n<p>2367 rows × 6 columns</p>\n</div>"
     },
     "execution_count": 12,
     "metadata": {},
     "output_type": "execute_result"
    }
   ],
   "source": [
    "import pandas as pd\n",
    "data2=pd.read_excel(r\"E:\\彩票数据\\山西\\山西月报\\2024年5月报\\日期-小时-地市-游戏.xlsx\",sheet_name=0)\n",
    "data2"
   ],
   "metadata": {
    "collapsed": false,
    "pycharm": {
     "name": "#%%\n"
    }
   }
  },
  {
   "cell_type": "code",
   "execution_count": 13,
   "outputs": [
    {
     "data": {
      "text/plain": "         双色球      快乐8     福彩3D    七乐彩\n小时                                   \n00时    19.26     1.45     6.35   0.81\n01时    18.50     0.48     5.44   0.92\n02时    10.37     0.05     2.68   0.50\n03时     0.09     0.14     0.39   0.00\n04时     0.18     0.06     0.22    nan\n05时     2.04     0.40     0.47   0.02\n06时    15.25     4.42     5.28   0.30\n07时    80.84    25.55    31.58   1.09\n08时   587.66    89.70   117.06  23.67\n09时   867.98   188.16   223.17  15.32\n10时  1112.08   278.06   278.85  14.48\n11时  1076.05   300.88   244.13  13.37\n12时  1004.56   270.31   263.47  13.29\n13时   951.94   292.08   280.88  13.75\n14时  1091.90   321.77   341.37  15.69\n15时  1344.57   376.81   394.63  18.55\n16时  1613.69   462.95   521.46  20.07\n17时  1996.99   579.01   645.64  24.94\n18时  2570.79   707.54  1298.36  31.52\n19时  3826.52   963.17  2511.87  44.82\n20时   354.70  1426.05  1595.44   2.74\n21时   145.51    14.31    51.50   2.06\n22时   148.48    30.19    37.00   4.28\n23时    70.69     5.96    11.86   2.15",
      "text/html": "<div>\n<style scoped>\n    .dataframe tbody tr th:only-of-type {\n        vertical-align: middle;\n    }\n\n    .dataframe tbody tr th {\n        vertical-align: top;\n    }\n\n    .dataframe thead th {\n        text-align: right;\n    }\n</style>\n<table border=\"1\" class=\"dataframe\">\n  <thead>\n    <tr style=\"text-align: right;\">\n      <th></th>\n      <th>双色球</th>\n      <th>快乐8</th>\n      <th>福彩3D</th>\n      <th>七乐彩</th>\n    </tr>\n    <tr>\n      <th>小时</th>\n      <th></th>\n      <th></th>\n      <th></th>\n      <th></th>\n    </tr>\n  </thead>\n  <tbody>\n    <tr>\n      <th>00时</th>\n      <td>19.26</td>\n      <td>1.45</td>\n      <td>6.35</td>\n      <td>0.81</td>\n    </tr>\n    <tr>\n      <th>01时</th>\n      <td>18.50</td>\n      <td>0.48</td>\n      <td>5.44</td>\n      <td>0.92</td>\n    </tr>\n    <tr>\n      <th>02时</th>\n      <td>10.37</td>\n      <td>0.05</td>\n      <td>2.68</td>\n      <td>0.50</td>\n    </tr>\n    <tr>\n      <th>03时</th>\n      <td>0.09</td>\n      <td>0.14</td>\n      <td>0.39</td>\n      <td>0.00</td>\n    </tr>\n    <tr>\n      <th>04时</th>\n      <td>0.18</td>\n      <td>0.06</td>\n      <td>0.22</td>\n      <td>nan</td>\n    </tr>\n    <tr>\n      <th>05时</th>\n      <td>2.04</td>\n      <td>0.40</td>\n      <td>0.47</td>\n      <td>0.02</td>\n    </tr>\n    <tr>\n      <th>06时</th>\n      <td>15.25</td>\n      <td>4.42</td>\n      <td>5.28</td>\n      <td>0.30</td>\n    </tr>\n    <tr>\n      <th>07时</th>\n      <td>80.84</td>\n      <td>25.55</td>\n      <td>31.58</td>\n      <td>1.09</td>\n    </tr>\n    <tr>\n      <th>08时</th>\n      <td>587.66</td>\n      <td>89.70</td>\n      <td>117.06</td>\n      <td>23.67</td>\n    </tr>\n    <tr>\n      <th>09时</th>\n      <td>867.98</td>\n      <td>188.16</td>\n      <td>223.17</td>\n      <td>15.32</td>\n    </tr>\n    <tr>\n      <th>10时</th>\n      <td>1112.08</td>\n      <td>278.06</td>\n      <td>278.85</td>\n      <td>14.48</td>\n    </tr>\n    <tr>\n      <th>11时</th>\n      <td>1076.05</td>\n      <td>300.88</td>\n      <td>244.13</td>\n      <td>13.37</td>\n    </tr>\n    <tr>\n      <th>12时</th>\n      <td>1004.56</td>\n      <td>270.31</td>\n      <td>263.47</td>\n      <td>13.29</td>\n    </tr>\n    <tr>\n      <th>13时</th>\n      <td>951.94</td>\n      <td>292.08</td>\n      <td>280.88</td>\n      <td>13.75</td>\n    </tr>\n    <tr>\n      <th>14时</th>\n      <td>1091.90</td>\n      <td>321.77</td>\n      <td>341.37</td>\n      <td>15.69</td>\n    </tr>\n    <tr>\n      <th>15时</th>\n      <td>1344.57</td>\n      <td>376.81</td>\n      <td>394.63</td>\n      <td>18.55</td>\n    </tr>\n    <tr>\n      <th>16时</th>\n      <td>1613.69</td>\n      <td>462.95</td>\n      <td>521.46</td>\n      <td>20.07</td>\n    </tr>\n    <tr>\n      <th>17时</th>\n      <td>1996.99</td>\n      <td>579.01</td>\n      <td>645.64</td>\n      <td>24.94</td>\n    </tr>\n    <tr>\n      <th>18时</th>\n      <td>2570.79</td>\n      <td>707.54</td>\n      <td>1298.36</td>\n      <td>31.52</td>\n    </tr>\n    <tr>\n      <th>19时</th>\n      <td>3826.52</td>\n      <td>963.17</td>\n      <td>2511.87</td>\n      <td>44.82</td>\n    </tr>\n    <tr>\n      <th>20时</th>\n      <td>354.70</td>\n      <td>1426.05</td>\n      <td>1595.44</td>\n      <td>2.74</td>\n    </tr>\n    <tr>\n      <th>21时</th>\n      <td>145.51</td>\n      <td>14.31</td>\n      <td>51.50</td>\n      <td>2.06</td>\n    </tr>\n    <tr>\n      <th>22时</th>\n      <td>148.48</td>\n      <td>30.19</td>\n      <td>37.00</td>\n      <td>4.28</td>\n    </tr>\n    <tr>\n      <th>23时</th>\n      <td>70.69</td>\n      <td>5.96</td>\n      <td>11.86</td>\n      <td>2.15</td>\n    </tr>\n  </tbody>\n</table>\n</div>"
     },
     "execution_count": 13,
     "metadata": {},
     "output_type": "execute_result"
    }
   ],
   "source": [
    "ppt=pd.DataFrame()\n",
    "c_data = data2[(data2['月份'] == year*100+month) ]\n",
    "ppt['双色球销量'] = c_data[(c_data['游戏'] == '双色球') ].groupby('小时')['销量'].sum()*1e-4\n",
    "ppt['快乐8销量'] = c_data[(c_data['游戏'] == '快乐8') ].groupby('小时')['销量'].sum()*1e-4\n",
    "ppt['福彩3D销量'] = c_data[(c_data['游戏'] == '福彩3D') ].groupby('小时')['销量'].sum()*1e-4\n",
    "ppt['七乐彩销量'] = c_data[(c_data['游戏'] == '七乐彩') ].groupby('小时')['销量'].sum()*1e-4\n",
    "ppt_17_excel=pd.DataFrame()\n",
    "ppt_17_excel['双色球'] = ppt['双色球销量'].apply(lambda x: '{:.2f}'.format(x))\n",
    "ppt_17_excel['快乐8'] = ppt['快乐8销量'].apply(lambda x: '{:.2f}'.format(x))\n",
    "ppt_17_excel['福彩3D'] = ppt['福彩3D销量'].apply(lambda x: '{:.2f}'.format(x))\n",
    "ppt_17_excel['七乐彩'] = ppt['七乐彩销量'].apply(lambda x: '{:.2f}'.format(x))\n",
    "# ppt_17_excel.to_excel(r\"E:\\彩票数据\\山西\\山西月报\\2024年%d月报\\ppt_17.xlsx\"%(month))\n",
    "ppt_17_excel"
   ],
   "metadata": {
    "collapsed": false,
    "pycharm": {
     "name": "#%%\n"
    }
   }
  },
  {
   "cell_type": "code",
   "execution_count": 14,
   "outputs": [
    {
     "data": {
      "text/plain": "            202307    202308    202309    202310    202311    202312  \\\n0    双色球  18232.82  19037.92  18049.62  17310.84  22277.27  23195.01   \n1   福彩3D   5816.59   7370.72   6338.19   5547.00   6114.93   7097.97   \n2    七乐彩    266.53    241.91    242.08    229.15    253.85    274.17   \n3    即开票  14197.80  25220.55  22244.89   7908.06  14690.27  16278.06   \n4    快乐8   5749.77   5520.68   5516.92   5088.49   5701.64   6058.17   \n5   15选5    295.21    255.59    413.25    311.87    279.10    292.80   \n6  东方6+1    127.74    124.18    123.81    109.78    125.04    131.22   \n7     选4    842.35    883.79    874.23    748.64    830.94    888.45   \n8   地方游戏      0.00      0.00      0.00      0.00      0.00      0.00   \n\n     202401    202402    202403    202404    202405  本月在近12月销量排名  \n0  20895.05  12051.04  20269.69  19132.48  18910.65            7  \n1   7391.74   3747.59   7201.73  12293.56   8869.09            2  \n2    270.61    174.15    264.91    265.96    264.33            6  \n3  19004.17  11728.68  21863.36  19361.03   9511.20           10  \n4   6262.49   3315.89   6292.99   5948.67   6339.51            1  \n5    292.90    173.55    282.34    263.70    284.36            6  \n6    135.15     84.36    137.93    134.31    135.53            2  \n7    904.64    548.14    929.66    848.89    884.58            4  \n8      0.00      0.00      0.00      0.00      0.00            1  ",
      "text/html": "<div>\n<style scoped>\n    .dataframe tbody tr th:only-of-type {\n        vertical-align: middle;\n    }\n\n    .dataframe tbody tr th {\n        vertical-align: top;\n    }\n\n    .dataframe thead th {\n        text-align: right;\n    }\n</style>\n<table border=\"1\" class=\"dataframe\">\n  <thead>\n    <tr style=\"text-align: right;\">\n      <th></th>\n      <th></th>\n      <th>202307</th>\n      <th>202308</th>\n      <th>202309</th>\n      <th>202310</th>\n      <th>202311</th>\n      <th>202312</th>\n      <th>202401</th>\n      <th>202402</th>\n      <th>202403</th>\n      <th>202404</th>\n      <th>202405</th>\n      <th>本月在近12月销量排名</th>\n    </tr>\n  </thead>\n  <tbody>\n    <tr>\n      <th>0</th>\n      <td>双色球</td>\n      <td>18232.82</td>\n      <td>19037.92</td>\n      <td>18049.62</td>\n      <td>17310.84</td>\n      <td>22277.27</td>\n      <td>23195.01</td>\n      <td>20895.05</td>\n      <td>12051.04</td>\n      <td>20269.69</td>\n      <td>19132.48</td>\n      <td>18910.65</td>\n      <td>7</td>\n    </tr>\n    <tr>\n      <th>1</th>\n      <td>福彩3D</td>\n      <td>5816.59</td>\n      <td>7370.72</td>\n      <td>6338.19</td>\n      <td>5547.00</td>\n      <td>6114.93</td>\n      <td>7097.97</td>\n      <td>7391.74</td>\n      <td>3747.59</td>\n      <td>7201.73</td>\n      <td>12293.56</td>\n      <td>8869.09</td>\n      <td>2</td>\n    </tr>\n    <tr>\n      <th>2</th>\n      <td>七乐彩</td>\n      <td>266.53</td>\n      <td>241.91</td>\n      <td>242.08</td>\n      <td>229.15</td>\n      <td>253.85</td>\n      <td>274.17</td>\n      <td>270.61</td>\n      <td>174.15</td>\n      <td>264.91</td>\n      <td>265.96</td>\n      <td>264.33</td>\n      <td>6</td>\n    </tr>\n    <tr>\n      <th>3</th>\n      <td>即开票</td>\n      <td>14197.80</td>\n      <td>25220.55</td>\n      <td>22244.89</td>\n      <td>7908.06</td>\n      <td>14690.27</td>\n      <td>16278.06</td>\n      <td>19004.17</td>\n      <td>11728.68</td>\n      <td>21863.36</td>\n      <td>19361.03</td>\n      <td>9511.20</td>\n      <td>10</td>\n    </tr>\n    <tr>\n      <th>4</th>\n      <td>快乐8</td>\n      <td>5749.77</td>\n      <td>5520.68</td>\n      <td>5516.92</td>\n      <td>5088.49</td>\n      <td>5701.64</td>\n      <td>6058.17</td>\n      <td>6262.49</td>\n      <td>3315.89</td>\n      <td>6292.99</td>\n      <td>5948.67</td>\n      <td>6339.51</td>\n      <td>1</td>\n    </tr>\n    <tr>\n      <th>5</th>\n      <td>15选5</td>\n      <td>295.21</td>\n      <td>255.59</td>\n      <td>413.25</td>\n      <td>311.87</td>\n      <td>279.10</td>\n      <td>292.80</td>\n      <td>292.90</td>\n      <td>173.55</td>\n      <td>282.34</td>\n      <td>263.70</td>\n      <td>284.36</td>\n      <td>6</td>\n    </tr>\n    <tr>\n      <th>6</th>\n      <td>东方6+1</td>\n      <td>127.74</td>\n      <td>124.18</td>\n      <td>123.81</td>\n      <td>109.78</td>\n      <td>125.04</td>\n      <td>131.22</td>\n      <td>135.15</td>\n      <td>84.36</td>\n      <td>137.93</td>\n      <td>134.31</td>\n      <td>135.53</td>\n      <td>2</td>\n    </tr>\n    <tr>\n      <th>7</th>\n      <td>选4</td>\n      <td>842.35</td>\n      <td>883.79</td>\n      <td>874.23</td>\n      <td>748.64</td>\n      <td>830.94</td>\n      <td>888.45</td>\n      <td>904.64</td>\n      <td>548.14</td>\n      <td>929.66</td>\n      <td>848.89</td>\n      <td>884.58</td>\n      <td>4</td>\n    </tr>\n    <tr>\n      <th>8</th>\n      <td>地方游戏</td>\n      <td>0.00</td>\n      <td>0.00</td>\n      <td>0.00</td>\n      <td>0.00</td>\n      <td>0.00</td>\n      <td>0.00</td>\n      <td>0.00</td>\n      <td>0.00</td>\n      <td>0.00</td>\n      <td>0.00</td>\n      <td>0.00</td>\n      <td>1</td>\n    </tr>\n  </tbody>\n</table>\n</div>"
     },
     "execution_count": 14,
     "metadata": {},
     "output_type": "execute_result"
    }
   ],
   "source": [
    "months_near12=get_13_months(year,month)[1:]\n",
    "game_name=[\"双色球\",\"福彩3D\",\"七乐彩\",\"即开票\",\"快乐8\",\"15选5\",\"东方6+1\",\"选4\",\"地方游戏\"]\n",
    "game_sales={i:[] for i in months_near12}\n",
    "for i in game_name:\n",
    "    for j in months_near12:\n",
    "        a=data.loc[data[\"月份\"]==j].loc[data[\"gamename\"]==i][\"销量\"].sum()\n",
    "        game_sales[j].append(a*1e-4)\n",
    "def get_weici(list_data,num):\n",
    "    weici=1\n",
    "    for i in list_data:\n",
    "        if i>num:\n",
    "            weici+=1\n",
    "    return weici\n",
    "weici=[get_weici([j[i] for j in list(game_sales.values())],[j[i] for j in list(game_sales.values())][-1]) for i in range(len(game_name))]\n",
    "ppt_19_excel=pd.DataFrame()\n",
    "ppt_19_excel[\"\"]=game_name\n",
    "for i in months_near12:\n",
    "    ppt_19_excel[i]=game_sales[i]\n",
    "    ppt_19_excel[i]=ppt_19_excel[i].apply(lambda x:format(x,\".2f\"))\n",
    "ppt_19_excel[\"本月在近12月销量排名\"]=weici\n",
    "# ppt_19_excel.to_excel(r\"E:\\彩票数据\\山西\\山西月报\\2024年%d月报\\ppt_19.xlsx\"%(month))\n",
    "ppt_19_excel"
   ],
   "metadata": {
    "collapsed": false,
    "pycharm": {
     "name": "#%%\n"
    }
   }
  },
  {
   "cell_type": "code",
   "execution_count": 15,
   "outputs": [
    {
     "data": {
      "text/plain": "       快乐8市场份额 即开票市场份额 3D市场份额 双色球市场份额\n月份                                   \n202307   12.6%   31.2%  12.8%   40.0%\n202308    9.4%   43.0%  12.6%   32.5%\n202309   10.3%   41.3%  11.8%   33.5%\n202310   13.7%   21.2%  14.9%   46.5%\n202311   11.3%   29.2%  12.2%   44.3%\n202312   11.2%   30.0%  13.1%   42.8%\n202401   11.4%   34.5%  13.4%   37.9%\n202402   10.4%   36.9%  11.8%   37.9%\n202403   11.0%   38.2%  12.6%   35.4%\n202404   10.2%   33.2%  21.1%   32.8%\n202405   14.0%   21.0%  19.6%   41.8%",
      "text/html": "<div>\n<style scoped>\n    .dataframe tbody tr th:only-of-type {\n        vertical-align: middle;\n    }\n\n    .dataframe tbody tr th {\n        vertical-align: top;\n    }\n\n    .dataframe thead th {\n        text-align: right;\n    }\n</style>\n<table border=\"1\" class=\"dataframe\">\n  <thead>\n    <tr style=\"text-align: right;\">\n      <th></th>\n      <th>快乐8市场份额</th>\n      <th>即开票市场份额</th>\n      <th>3D市场份额</th>\n      <th>双色球市场份额</th>\n    </tr>\n    <tr>\n      <th>月份</th>\n      <th></th>\n      <th></th>\n      <th></th>\n      <th></th>\n    </tr>\n  </thead>\n  <tbody>\n    <tr>\n      <th>202307</th>\n      <td>12.6%</td>\n      <td>31.2%</td>\n      <td>12.8%</td>\n      <td>40.0%</td>\n    </tr>\n    <tr>\n      <th>202308</th>\n      <td>9.4%</td>\n      <td>43.0%</td>\n      <td>12.6%</td>\n      <td>32.5%</td>\n    </tr>\n    <tr>\n      <th>202309</th>\n      <td>10.3%</td>\n      <td>41.3%</td>\n      <td>11.8%</td>\n      <td>33.5%</td>\n    </tr>\n    <tr>\n      <th>202310</th>\n      <td>13.7%</td>\n      <td>21.2%</td>\n      <td>14.9%</td>\n      <td>46.5%</td>\n    </tr>\n    <tr>\n      <th>202311</th>\n      <td>11.3%</td>\n      <td>29.2%</td>\n      <td>12.2%</td>\n      <td>44.3%</td>\n    </tr>\n    <tr>\n      <th>202312</th>\n      <td>11.2%</td>\n      <td>30.0%</td>\n      <td>13.1%</td>\n      <td>42.8%</td>\n    </tr>\n    <tr>\n      <th>202401</th>\n      <td>11.4%</td>\n      <td>34.5%</td>\n      <td>13.4%</td>\n      <td>37.9%</td>\n    </tr>\n    <tr>\n      <th>202402</th>\n      <td>10.4%</td>\n      <td>36.9%</td>\n      <td>11.8%</td>\n      <td>37.9%</td>\n    </tr>\n    <tr>\n      <th>202403</th>\n      <td>11.0%</td>\n      <td>38.2%</td>\n      <td>12.6%</td>\n      <td>35.4%</td>\n    </tr>\n    <tr>\n      <th>202404</th>\n      <td>10.2%</td>\n      <td>33.2%</td>\n      <td>21.1%</td>\n      <td>32.8%</td>\n    </tr>\n    <tr>\n      <th>202405</th>\n      <td>14.0%</td>\n      <td>21.0%</td>\n      <td>19.6%</td>\n      <td>41.8%</td>\n    </tr>\n  </tbody>\n</table>\n</div>"
     },
     "execution_count": 15,
     "metadata": {},
     "output_type": "execute_result"
    }
   ],
   "source": [
    "from datetime import datetime\n",
    "ppt = pd.DataFrame()\n",
    "a_data = data[(data['月份'] >= year*100-100+month+2) & (data['月份'] <= year*100+month)]\n",
    "ppt['双色球'] = a_data[a_data['游戏'] == '双色球'].groupby('月份')['销量'].sum()\n",
    "ppt['即开票'] = a_data[a_data['游戏'] == '即开票'].groupby('月份')['销量'].sum()\n",
    "ppt['快乐8'] = a_data[a_data['游戏'] == '快乐8'].groupby('月份')['销量'].sum()\n",
    "ppt['3D'] = a_data[a_data['游戏'] == '福彩3D'].groupby('月份')['销量'].sum()\n",
    "ppt['总销量'] = a_data.groupby('月份')['销量'].sum()\n",
    "ppt_20_excel = pd.DataFrame()\n",
    "ppt_20_excel['快乐8市场份额'] = (ppt['快乐8'] / ppt['总销量']).apply(lambda x: '{:.1%}'.format(x))\n",
    "ppt_20_excel['即开票市场份额'] = (ppt['即开票'] / ppt['总销量']).apply(lambda x: '{:.1%}'.format(x))\n",
    "ppt_20_excel['3D市场份额'] = (ppt['3D'] / ppt['总销量']).apply(lambda x: '{:.1%}'.format(x))\n",
    "ppt_20_excel['双色球市场份额'] = (ppt['双色球'] / ppt['总销量']).apply(lambda x: '{:.1%}'.format(x))\n",
    "# ppt_20_excel.to_excel(r\"E:\\彩票数据\\山西\\山西月报\\2024年%d月报\\ppt_20.xlsx\"%(month))\n",
    "ppt_20_excel"
   ],
   "metadata": {
    "collapsed": false,
    "pycharm": {
     "name": "#%%\n"
    }
   }
  },
  {
   "cell_type": "code",
   "execution_count": 16,
   "outputs": [
    {
     "data": {
      "text/plain": "                202307   202308   202309   202310   202311   202312   202401  \\\n0        02$2   392.95   406.52   393.95   357.91   412.31   396.56   397.35   \n1      04$4-8  1547.03  1615.40  1527.55  1467.07  1526.40  1759.53  2233.23   \n2       05$10  4552.14  4732.31  4502.96  4342.13  4170.62  4064.31  4328.03   \n3    06$12-18  1100.44  1163.12  1085.85  1049.99   893.45   833.36   971.01   \n4       07$20  1827.58  1882.96  1779.57  1704.06  3804.88  3622.78  1768.45   \n5    08$22-48  2005.27  2089.23  1973.32  1890.23  2883.64  3572.46  4155.45   \n6    09$50-98  2028.83  2124.88  1987.73  1904.19  2384.66  2464.32  2185.74   \n7  10$100-198  2174.64  2271.11  2104.94  2034.05  2583.28  2646.56  2068.83   \n8  11$200-998  1968.35  2032.55  1901.00  1882.53  2558.34  2654.52  1963.86   \n9   12$1000以上   635.58   719.83   792.77   678.67  1059.69  1180.61   823.11   \n\n    202402   202403   202404   202405  本月在近12月销量排名  \n0   233.74   419.07   408.94   416.44            2  \n1   878.49  1649.72  1612.84  1621.37            4  \n2  2589.42  4817.45  4681.85  4654.58            4  \n3   652.15  1157.39  1133.30  1132.82            4  \n4  1170.26  1989.07  1894.05  1869.75            6  \n5  1513.72  2420.81  2287.99  2260.55            6  \n6  1374.92  2215.42  2077.28  2075.69            7  \n7  1520.25  2424.28  2228.70  2191.38            6  \n8  1478.87  2292.42  2073.00  1994.56            6  \n9   639.23   884.06   734.54   693.52            8  ",
      "text/html": "<div>\n<style scoped>\n    .dataframe tbody tr th:only-of-type {\n        vertical-align: middle;\n    }\n\n    .dataframe tbody tr th {\n        vertical-align: top;\n    }\n\n    .dataframe thead th {\n        text-align: right;\n    }\n</style>\n<table border=\"1\" class=\"dataframe\">\n  <thead>\n    <tr style=\"text-align: right;\">\n      <th></th>\n      <th></th>\n      <th>202307</th>\n      <th>202308</th>\n      <th>202309</th>\n      <th>202310</th>\n      <th>202311</th>\n      <th>202312</th>\n      <th>202401</th>\n      <th>202402</th>\n      <th>202403</th>\n      <th>202404</th>\n      <th>202405</th>\n      <th>本月在近12月销量排名</th>\n    </tr>\n  </thead>\n  <tbody>\n    <tr>\n      <th>0</th>\n      <td>02$2</td>\n      <td>392.95</td>\n      <td>406.52</td>\n      <td>393.95</td>\n      <td>357.91</td>\n      <td>412.31</td>\n      <td>396.56</td>\n      <td>397.35</td>\n      <td>233.74</td>\n      <td>419.07</td>\n      <td>408.94</td>\n      <td>416.44</td>\n      <td>2</td>\n    </tr>\n    <tr>\n      <th>1</th>\n      <td>04$4-8</td>\n      <td>1547.03</td>\n      <td>1615.40</td>\n      <td>1527.55</td>\n      <td>1467.07</td>\n      <td>1526.40</td>\n      <td>1759.53</td>\n      <td>2233.23</td>\n      <td>878.49</td>\n      <td>1649.72</td>\n      <td>1612.84</td>\n      <td>1621.37</td>\n      <td>4</td>\n    </tr>\n    <tr>\n      <th>2</th>\n      <td>05$10</td>\n      <td>4552.14</td>\n      <td>4732.31</td>\n      <td>4502.96</td>\n      <td>4342.13</td>\n      <td>4170.62</td>\n      <td>4064.31</td>\n      <td>4328.03</td>\n      <td>2589.42</td>\n      <td>4817.45</td>\n      <td>4681.85</td>\n      <td>4654.58</td>\n      <td>4</td>\n    </tr>\n    <tr>\n      <th>3</th>\n      <td>06$12-18</td>\n      <td>1100.44</td>\n      <td>1163.12</td>\n      <td>1085.85</td>\n      <td>1049.99</td>\n      <td>893.45</td>\n      <td>833.36</td>\n      <td>971.01</td>\n      <td>652.15</td>\n      <td>1157.39</td>\n      <td>1133.30</td>\n      <td>1132.82</td>\n      <td>4</td>\n    </tr>\n    <tr>\n      <th>4</th>\n      <td>07$20</td>\n      <td>1827.58</td>\n      <td>1882.96</td>\n      <td>1779.57</td>\n      <td>1704.06</td>\n      <td>3804.88</td>\n      <td>3622.78</td>\n      <td>1768.45</td>\n      <td>1170.26</td>\n      <td>1989.07</td>\n      <td>1894.05</td>\n      <td>1869.75</td>\n      <td>6</td>\n    </tr>\n    <tr>\n      <th>5</th>\n      <td>08$22-48</td>\n      <td>2005.27</td>\n      <td>2089.23</td>\n      <td>1973.32</td>\n      <td>1890.23</td>\n      <td>2883.64</td>\n      <td>3572.46</td>\n      <td>4155.45</td>\n      <td>1513.72</td>\n      <td>2420.81</td>\n      <td>2287.99</td>\n      <td>2260.55</td>\n      <td>6</td>\n    </tr>\n    <tr>\n      <th>6</th>\n      <td>09$50-98</td>\n      <td>2028.83</td>\n      <td>2124.88</td>\n      <td>1987.73</td>\n      <td>1904.19</td>\n      <td>2384.66</td>\n      <td>2464.32</td>\n      <td>2185.74</td>\n      <td>1374.92</td>\n      <td>2215.42</td>\n      <td>2077.28</td>\n      <td>2075.69</td>\n      <td>7</td>\n    </tr>\n    <tr>\n      <th>7</th>\n      <td>10$100-198</td>\n      <td>2174.64</td>\n      <td>2271.11</td>\n      <td>2104.94</td>\n      <td>2034.05</td>\n      <td>2583.28</td>\n      <td>2646.56</td>\n      <td>2068.83</td>\n      <td>1520.25</td>\n      <td>2424.28</td>\n      <td>2228.70</td>\n      <td>2191.38</td>\n      <td>6</td>\n    </tr>\n    <tr>\n      <th>8</th>\n      <td>11$200-998</td>\n      <td>1968.35</td>\n      <td>2032.55</td>\n      <td>1901.00</td>\n      <td>1882.53</td>\n      <td>2558.34</td>\n      <td>2654.52</td>\n      <td>1963.86</td>\n      <td>1478.87</td>\n      <td>2292.42</td>\n      <td>2073.00</td>\n      <td>1994.56</td>\n      <td>6</td>\n    </tr>\n    <tr>\n      <th>9</th>\n      <td>12$1000以上</td>\n      <td>635.58</td>\n      <td>719.83</td>\n      <td>792.77</td>\n      <td>678.67</td>\n      <td>1059.69</td>\n      <td>1180.61</td>\n      <td>823.11</td>\n      <td>639.23</td>\n      <td>884.06</td>\n      <td>734.54</td>\n      <td>693.52</td>\n      <td>8</td>\n    </tr>\n  </tbody>\n</table>\n</div>"
     },
     "execution_count": 16,
     "metadata": {},
     "output_type": "execute_result"
    }
   ],
   "source": [
    "data1 = data1[(data1['游戏'] == \"双色球\") ]\n",
    "\n",
    "months_near12=get_13_months(year,month)[1:]\n",
    "# game_name=[\"2\",\"4-8\",\"10\",\"12-18\",\"20\",\"22-48\",\"50-98\",\"100-198\",\"200-998\",\"1000以上\"]\n",
    "game_name=[\"02$2\",\"04$4-8\",\"05$10\",\"06$12-18\",\"07$20\",\"08$22-48\",\"09$50-98\",\"10$100-198\",\"11$200-998\",\"12$1000以上\"]\n",
    "game_sales={i:[] for i in months_near12}\n",
    "for i in game_name:\n",
    "    for j in months_near12:\n",
    "        a=data1.loc[data1[\"月份\"]==j].loc[data1[\"票价区间\"]==i][\"销量\"].sum()\n",
    "        game_sales[j].append(a*1e-4)\n",
    "def get_weici(list_data,num):\n",
    "    weici=1\n",
    "    for i in list_data:\n",
    "        if i>num:\n",
    "            weici+=1\n",
    "    return weici\n",
    "weici=[get_weici([j[i] for j in list(game_sales.values())],[j[i] for j in list(game_sales.values())][-1]) for i in range(len(game_name))]\n",
    "ppt_21_excel=pd.DataFrame()\n",
    "ppt_21_excel[\"\"]=game_name\n",
    "for i in months_near12:\n",
    "    ppt_21_excel[i]=game_sales[i]\n",
    "    ppt_21_excel[i]=ppt_21_excel[i].apply(lambda x:format(x,\".2f\"))\n",
    "ppt_21_excel[\"本月在近12月销量排名\"]=weici\n",
    "# ppt_21_excel.to_excel(r\"E:\\彩票数据\\山西\\山西月报\\2024年%d月报\\ppt_21.xlsx\"%(month))\n",
    "ppt_21_excel"
   ],
   "metadata": {
    "collapsed": false,
    "pycharm": {
     "name": "#%%\n"
    }
   }
  },
  {
   "cell_type": "code",
   "execution_count": 17,
   "outputs": [
    {
     "data": {
      "text/plain": "         日期  地市     游戏          倍投        销量      月份\n0     45108  中心    双色球       01$单倍  14067700  202307\n1     45108  中心    双色球       02$两倍   2741752  202307\n2     45108  中心    双色球     03$3到5倍   3879084  202307\n3     45108  中心    双色球    04$6到10倍   1677026  202307\n4     45108  中心    双色球   05$11到20倍    809388  202307\n...     ...  ..    ...         ...       ...     ...\n7692  45413  黄浦  东方6+1       02$两倍      1830  202405\n7693  45413  黄浦  东方6+1     03$3到5倍      3872  202405\n7694  45413  黄浦  东方6+1    04$6到10倍      2654  202405\n7695  45413  黄浦  东方6+1   05$11到20倍       866  202405\n7696  45413  黄浦  东方6+1  06$21到100倍       792  202405\n\n[7697 rows x 6 columns]",
      "text/html": "<div>\n<style scoped>\n    .dataframe tbody tr th:only-of-type {\n        vertical-align: middle;\n    }\n\n    .dataframe tbody tr th {\n        vertical-align: top;\n    }\n\n    .dataframe thead th {\n        text-align: right;\n    }\n</style>\n<table border=\"1\" class=\"dataframe\">\n  <thead>\n    <tr style=\"text-align: right;\">\n      <th></th>\n      <th>日期</th>\n      <th>地市</th>\n      <th>游戏</th>\n      <th>倍投</th>\n      <th>销量</th>\n      <th>月份</th>\n    </tr>\n  </thead>\n  <tbody>\n    <tr>\n      <th>0</th>\n      <td>45108</td>\n      <td>中心</td>\n      <td>双色球</td>\n      <td>01$单倍</td>\n      <td>14067700</td>\n      <td>202307</td>\n    </tr>\n    <tr>\n      <th>1</th>\n      <td>45108</td>\n      <td>中心</td>\n      <td>双色球</td>\n      <td>02$两倍</td>\n      <td>2741752</td>\n      <td>202307</td>\n    </tr>\n    <tr>\n      <th>2</th>\n      <td>45108</td>\n      <td>中心</td>\n      <td>双色球</td>\n      <td>03$3到5倍</td>\n      <td>3879084</td>\n      <td>202307</td>\n    </tr>\n    <tr>\n      <th>3</th>\n      <td>45108</td>\n      <td>中心</td>\n      <td>双色球</td>\n      <td>04$6到10倍</td>\n      <td>1677026</td>\n      <td>202307</td>\n    </tr>\n    <tr>\n      <th>4</th>\n      <td>45108</td>\n      <td>中心</td>\n      <td>双色球</td>\n      <td>05$11到20倍</td>\n      <td>809388</td>\n      <td>202307</td>\n    </tr>\n    <tr>\n      <th>...</th>\n      <td>...</td>\n      <td>...</td>\n      <td>...</td>\n      <td>...</td>\n      <td>...</td>\n      <td>...</td>\n    </tr>\n    <tr>\n      <th>7692</th>\n      <td>45413</td>\n      <td>黄浦</td>\n      <td>东方6+1</td>\n      <td>02$两倍</td>\n      <td>1830</td>\n      <td>202405</td>\n    </tr>\n    <tr>\n      <th>7693</th>\n      <td>45413</td>\n      <td>黄浦</td>\n      <td>东方6+1</td>\n      <td>03$3到5倍</td>\n      <td>3872</td>\n      <td>202405</td>\n    </tr>\n    <tr>\n      <th>7694</th>\n      <td>45413</td>\n      <td>黄浦</td>\n      <td>东方6+1</td>\n      <td>04$6到10倍</td>\n      <td>2654</td>\n      <td>202405</td>\n    </tr>\n    <tr>\n      <th>7695</th>\n      <td>45413</td>\n      <td>黄浦</td>\n      <td>东方6+1</td>\n      <td>05$11到20倍</td>\n      <td>866</td>\n      <td>202405</td>\n    </tr>\n    <tr>\n      <th>7696</th>\n      <td>45413</td>\n      <td>黄浦</td>\n      <td>东方6+1</td>\n      <td>06$21到100倍</td>\n      <td>792</td>\n      <td>202405</td>\n    </tr>\n  </tbody>\n</table>\n<p>7697 rows × 6 columns</p>\n</div>"
     },
     "execution_count": 17,
     "metadata": {},
     "output_type": "execute_result"
    }
   ],
   "source": [
    "import pandas as pd\n",
    "data3=pd.read_excel(r\"E:\\彩票数据\\山西\\山西月报\\2024年5月报\\月份-地市-游戏-倍投.xlsx\",sheet_name=0)\n",
    "data3"
   ],
   "metadata": {
    "collapsed": false,
    "pycharm": {
     "name": "#%%\n"
    }
   }
  },
  {
   "cell_type": "code",
   "execution_count": 18,
   "outputs": [
    {
     "data": {
      "text/plain": "                 202307    202308    202309   202310    202311    202312  \\\n0       01$单倍  10203.50  10708.39  10066.15  9644.82  11730.25  12356.92   \n1       02$两倍   1784.57   1848.43   1752.69  1677.86   3371.59   3292.28   \n2     03$3到5倍   2727.30   2839.83   2691.66  2575.25   3050.10   3276.11   \n3    04$6到10倍   1348.23   1424.41   1393.39  1285.92   1719.04   1745.13   \n4   05$11到20倍    442.43    444.69    440.56   422.16    496.78    609.53   \n5  06$21到100倍   1726.79   1772.17   1705.18  1704.83   1909.52   1915.03   \n\n     202401   202402    202403    202404    202405  本月在近12月销量排名  \n0  12096.80  6604.00  11356.56  10807.39  10555.62            7  \n1   1916.92  1149.08   1988.82   1908.60   1877.56            6  \n2   3274.71  1764.01   2966.58   2826.63   2829.23            6  \n3   1340.02   910.76   1482.75   1386.53   1406.28            5  \n4    767.96   307.67    478.03    445.61    458.30            5  \n5   1498.64  1315.53   1996.95   1757.72   1783.67            4  ",
      "text/html": "<div>\n<style scoped>\n    .dataframe tbody tr th:only-of-type {\n        vertical-align: middle;\n    }\n\n    .dataframe tbody tr th {\n        vertical-align: top;\n    }\n\n    .dataframe thead th {\n        text-align: right;\n    }\n</style>\n<table border=\"1\" class=\"dataframe\">\n  <thead>\n    <tr style=\"text-align: right;\">\n      <th></th>\n      <th></th>\n      <th>202307</th>\n      <th>202308</th>\n      <th>202309</th>\n      <th>202310</th>\n      <th>202311</th>\n      <th>202312</th>\n      <th>202401</th>\n      <th>202402</th>\n      <th>202403</th>\n      <th>202404</th>\n      <th>202405</th>\n      <th>本月在近12月销量排名</th>\n    </tr>\n  </thead>\n  <tbody>\n    <tr>\n      <th>0</th>\n      <td>01$单倍</td>\n      <td>10203.50</td>\n      <td>10708.39</td>\n      <td>10066.15</td>\n      <td>9644.82</td>\n      <td>11730.25</td>\n      <td>12356.92</td>\n      <td>12096.80</td>\n      <td>6604.00</td>\n      <td>11356.56</td>\n      <td>10807.39</td>\n      <td>10555.62</td>\n      <td>7</td>\n    </tr>\n    <tr>\n      <th>1</th>\n      <td>02$两倍</td>\n      <td>1784.57</td>\n      <td>1848.43</td>\n      <td>1752.69</td>\n      <td>1677.86</td>\n      <td>3371.59</td>\n      <td>3292.28</td>\n      <td>1916.92</td>\n      <td>1149.08</td>\n      <td>1988.82</td>\n      <td>1908.60</td>\n      <td>1877.56</td>\n      <td>6</td>\n    </tr>\n    <tr>\n      <th>2</th>\n      <td>03$3到5倍</td>\n      <td>2727.30</td>\n      <td>2839.83</td>\n      <td>2691.66</td>\n      <td>2575.25</td>\n      <td>3050.10</td>\n      <td>3276.11</td>\n      <td>3274.71</td>\n      <td>1764.01</td>\n      <td>2966.58</td>\n      <td>2826.63</td>\n      <td>2829.23</td>\n      <td>6</td>\n    </tr>\n    <tr>\n      <th>3</th>\n      <td>04$6到10倍</td>\n      <td>1348.23</td>\n      <td>1424.41</td>\n      <td>1393.39</td>\n      <td>1285.92</td>\n      <td>1719.04</td>\n      <td>1745.13</td>\n      <td>1340.02</td>\n      <td>910.76</td>\n      <td>1482.75</td>\n      <td>1386.53</td>\n      <td>1406.28</td>\n      <td>5</td>\n    </tr>\n    <tr>\n      <th>4</th>\n      <td>05$11到20倍</td>\n      <td>442.43</td>\n      <td>444.69</td>\n      <td>440.56</td>\n      <td>422.16</td>\n      <td>496.78</td>\n      <td>609.53</td>\n      <td>767.96</td>\n      <td>307.67</td>\n      <td>478.03</td>\n      <td>445.61</td>\n      <td>458.30</td>\n      <td>5</td>\n    </tr>\n    <tr>\n      <th>5</th>\n      <td>06$21到100倍</td>\n      <td>1726.79</td>\n      <td>1772.17</td>\n      <td>1705.18</td>\n      <td>1704.83</td>\n      <td>1909.52</td>\n      <td>1915.03</td>\n      <td>1498.64</td>\n      <td>1315.53</td>\n      <td>1996.95</td>\n      <td>1757.72</td>\n      <td>1783.67</td>\n      <td>4</td>\n    </tr>\n  </tbody>\n</table>\n</div>"
     },
     "execution_count": 18,
     "metadata": {},
     "output_type": "execute_result"
    }
   ],
   "source": [
    "data3 = data3[(data3['游戏'] == \"双色球\") ]\n",
    "months_near12=get_13_months(year,month)[1:]\n",
    "game_name=[\"01$单倍\",\"02$两倍\",\"03$3到5倍\",\"04$6到10倍\",\"05$11到20倍\",\"06$21到100倍\"]\n",
    "game_sales={i:[] for i in months_near12}\n",
    "for i in game_name:\n",
    "    for j in months_near12:\n",
    "        a=data3.loc[data3[\"月份\"]==j].loc[data3[\"倍投\"]==i][\"销量\"].sum()\n",
    "        game_sales[j].append(a*1e-4)\n",
    "def get_weici(list_data,num):\n",
    "    weici=1\n",
    "    for i in list_data:\n",
    "        if i>num:\n",
    "            weici+=1\n",
    "    return weici\n",
    "weici=[get_weici([j[i] for j in list(game_sales.values())],[j[i] for j in list(game_sales.values())][-1]) for i in range(len(game_name))]\n",
    "ppt_24_excel=pd.DataFrame()\n",
    "ppt_24_excel[\"\"]=game_name\n",
    "for i in months_near12:\n",
    "    ppt_24_excel[i]=game_sales[i]\n",
    "    ppt_24_excel[i]=ppt_24_excel[i].apply(lambda x:format(x,\".2f\"))\n",
    "ppt_24_excel[\"本月在近12月销量排名\"]=weici\n",
    "# ppt_24_excel.to_excel(r\"E:\\彩票数据\\山西\\山西月报\\2024年%d月报\\ppt_20.xlsx\"%(month))\n",
    "ppt_24_excel"
   ],
   "metadata": {
    "collapsed": false,
    "pycharm": {
     "name": "#%%\n"
    }
   }
  },
  {
   "cell_type": "code",
   "execution_count": 19,
   "outputs": [
    {
     "data": {
      "text/plain": "      02$2  04$4-8   05$10 06$12-18   07$20 08$22-48 09$50-98 10$100-198  \\\n地市                                                                         \n中心  267.82  418.37  536.95   196.36  222.09   345.18   261.51     284.61   \n嘉定   12.20  102.63  323.35    77.93  120.96   144.09   138.28     147.07   \n奉贤    8.13   67.62  207.19    48.33   73.52    87.40    85.31      80.56   \n宝山   13.54  110.90  371.15    83.75  146.45   165.76   153.63     156.38   \n崇明    3.59   25.84   79.08    17.97   26.24    29.09    26.55      26.38   \n徐汇    5.91   47.00  174.48    37.03   78.02    89.06    86.65      93.98   \n普陀    6.82   57.88  210.31    48.04   90.89    98.55   100.13      96.45   \n杨浦    6.35   52.34  185.77    40.96   78.53    86.22    81.69      79.62   \n松江   13.36  107.99  356.07    85.26  137.77   178.22   160.77     176.83   \n浦东   31.43  253.43  874.22   190.70  348.57   397.44   376.78     404.05   \n虹口    4.34   35.63  132.94    30.31   58.08    66.73    61.48      55.89   \n金山    5.87   44.14  149.32    37.26   52.37    58.68    54.93      60.88   \n长宁    4.27   29.26  110.92    24.90   50.13    62.83    54.48      62.04   \n闵行   14.81  123.83  436.99    96.03  178.93   202.33   197.76     213.69   \n青浦    7.48   60.70  197.85    45.65   71.28    81.97    80.51      87.13   \n静安    6.70   54.36  195.68    47.45   87.98   105.87    97.85     101.40   \n黄浦    3.82   29.46  112.33    24.89   47.96    61.10    57.37      64.42   \n\n   11$200-998 12$1000以上  \n地市                       \n中心     178.43       nan  \n嘉定     149.03     87.68  \n奉贤      89.88     39.17  \n宝山     142.55     57.17  \n崇明      21.48      3.90  \n徐汇      77.90     16.78  \n普陀      86.02     40.14  \n杨浦      61.94     12.11  \n松江     177.49     66.15  \n浦东     363.32    128.92  \n虹口      70.43     16.47  \n金山      57.75     56.01  \n长宁      58.25     45.77  \n闵行     216.12     53.90  \n青浦      84.69     17.75  \n静安      94.00     24.13  \n黄浦      65.29     27.47  ",
      "text/html": "<div>\n<style scoped>\n    .dataframe tbody tr th:only-of-type {\n        vertical-align: middle;\n    }\n\n    .dataframe tbody tr th {\n        vertical-align: top;\n    }\n\n    .dataframe thead th {\n        text-align: right;\n    }\n</style>\n<table border=\"1\" class=\"dataframe\">\n  <thead>\n    <tr style=\"text-align: right;\">\n      <th></th>\n      <th>02$2</th>\n      <th>04$4-8</th>\n      <th>05$10</th>\n      <th>06$12-18</th>\n      <th>07$20</th>\n      <th>08$22-48</th>\n      <th>09$50-98</th>\n      <th>10$100-198</th>\n      <th>11$200-998</th>\n      <th>12$1000以上</th>\n    </tr>\n    <tr>\n      <th>地市</th>\n      <th></th>\n      <th></th>\n      <th></th>\n      <th></th>\n      <th></th>\n      <th></th>\n      <th></th>\n      <th></th>\n      <th></th>\n      <th></th>\n    </tr>\n  </thead>\n  <tbody>\n    <tr>\n      <th>中心</th>\n      <td>267.82</td>\n      <td>418.37</td>\n      <td>536.95</td>\n      <td>196.36</td>\n      <td>222.09</td>\n      <td>345.18</td>\n      <td>261.51</td>\n      <td>284.61</td>\n      <td>178.43</td>\n      <td>nan</td>\n    </tr>\n    <tr>\n      <th>嘉定</th>\n      <td>12.20</td>\n      <td>102.63</td>\n      <td>323.35</td>\n      <td>77.93</td>\n      <td>120.96</td>\n      <td>144.09</td>\n      <td>138.28</td>\n      <td>147.07</td>\n      <td>149.03</td>\n      <td>87.68</td>\n    </tr>\n    <tr>\n      <th>奉贤</th>\n      <td>8.13</td>\n      <td>67.62</td>\n      <td>207.19</td>\n      <td>48.33</td>\n      <td>73.52</td>\n      <td>87.40</td>\n      <td>85.31</td>\n      <td>80.56</td>\n      <td>89.88</td>\n      <td>39.17</td>\n    </tr>\n    <tr>\n      <th>宝山</th>\n      <td>13.54</td>\n      <td>110.90</td>\n      <td>371.15</td>\n      <td>83.75</td>\n      <td>146.45</td>\n      <td>165.76</td>\n      <td>153.63</td>\n      <td>156.38</td>\n      <td>142.55</td>\n      <td>57.17</td>\n    </tr>\n    <tr>\n      <th>崇明</th>\n      <td>3.59</td>\n      <td>25.84</td>\n      <td>79.08</td>\n      <td>17.97</td>\n      <td>26.24</td>\n      <td>29.09</td>\n      <td>26.55</td>\n      <td>26.38</td>\n      <td>21.48</td>\n      <td>3.90</td>\n    </tr>\n    <tr>\n      <th>徐汇</th>\n      <td>5.91</td>\n      <td>47.00</td>\n      <td>174.48</td>\n      <td>37.03</td>\n      <td>78.02</td>\n      <td>89.06</td>\n      <td>86.65</td>\n      <td>93.98</td>\n      <td>77.90</td>\n      <td>16.78</td>\n    </tr>\n    <tr>\n      <th>普陀</th>\n      <td>6.82</td>\n      <td>57.88</td>\n      <td>210.31</td>\n      <td>48.04</td>\n      <td>90.89</td>\n      <td>98.55</td>\n      <td>100.13</td>\n      <td>96.45</td>\n      <td>86.02</td>\n      <td>40.14</td>\n    </tr>\n    <tr>\n      <th>杨浦</th>\n      <td>6.35</td>\n      <td>52.34</td>\n      <td>185.77</td>\n      <td>40.96</td>\n      <td>78.53</td>\n      <td>86.22</td>\n      <td>81.69</td>\n      <td>79.62</td>\n      <td>61.94</td>\n      <td>12.11</td>\n    </tr>\n    <tr>\n      <th>松江</th>\n      <td>13.36</td>\n      <td>107.99</td>\n      <td>356.07</td>\n      <td>85.26</td>\n      <td>137.77</td>\n      <td>178.22</td>\n      <td>160.77</td>\n      <td>176.83</td>\n      <td>177.49</td>\n      <td>66.15</td>\n    </tr>\n    <tr>\n      <th>浦东</th>\n      <td>31.43</td>\n      <td>253.43</td>\n      <td>874.22</td>\n      <td>190.70</td>\n      <td>348.57</td>\n      <td>397.44</td>\n      <td>376.78</td>\n      <td>404.05</td>\n      <td>363.32</td>\n      <td>128.92</td>\n    </tr>\n    <tr>\n      <th>虹口</th>\n      <td>4.34</td>\n      <td>35.63</td>\n      <td>132.94</td>\n      <td>30.31</td>\n      <td>58.08</td>\n      <td>66.73</td>\n      <td>61.48</td>\n      <td>55.89</td>\n      <td>70.43</td>\n      <td>16.47</td>\n    </tr>\n    <tr>\n      <th>金山</th>\n      <td>5.87</td>\n      <td>44.14</td>\n      <td>149.32</td>\n      <td>37.26</td>\n      <td>52.37</td>\n      <td>58.68</td>\n      <td>54.93</td>\n      <td>60.88</td>\n      <td>57.75</td>\n      <td>56.01</td>\n    </tr>\n    <tr>\n      <th>长宁</th>\n      <td>4.27</td>\n      <td>29.26</td>\n      <td>110.92</td>\n      <td>24.90</td>\n      <td>50.13</td>\n      <td>62.83</td>\n      <td>54.48</td>\n      <td>62.04</td>\n      <td>58.25</td>\n      <td>45.77</td>\n    </tr>\n    <tr>\n      <th>闵行</th>\n      <td>14.81</td>\n      <td>123.83</td>\n      <td>436.99</td>\n      <td>96.03</td>\n      <td>178.93</td>\n      <td>202.33</td>\n      <td>197.76</td>\n      <td>213.69</td>\n      <td>216.12</td>\n      <td>53.90</td>\n    </tr>\n    <tr>\n      <th>青浦</th>\n      <td>7.48</td>\n      <td>60.70</td>\n      <td>197.85</td>\n      <td>45.65</td>\n      <td>71.28</td>\n      <td>81.97</td>\n      <td>80.51</td>\n      <td>87.13</td>\n      <td>84.69</td>\n      <td>17.75</td>\n    </tr>\n    <tr>\n      <th>静安</th>\n      <td>6.70</td>\n      <td>54.36</td>\n      <td>195.68</td>\n      <td>47.45</td>\n      <td>87.98</td>\n      <td>105.87</td>\n      <td>97.85</td>\n      <td>101.40</td>\n      <td>94.00</td>\n      <td>24.13</td>\n    </tr>\n    <tr>\n      <th>黄浦</th>\n      <td>3.82</td>\n      <td>29.46</td>\n      <td>112.33</td>\n      <td>24.89</td>\n      <td>47.96</td>\n      <td>61.10</td>\n      <td>57.37</td>\n      <td>64.42</td>\n      <td>65.29</td>\n      <td>27.47</td>\n    </tr>\n  </tbody>\n</table>\n</div>"
     },
     "execution_count": 19,
     "metadata": {},
     "output_type": "execute_result"
    }
   ],
   "source": [
    "import pandas as pd\n",
    "# data1=pd.read_excel(r\"E:\\彩票数据\\山西\\山西月报\\2024年5月报\\月份-地市-游戏-票单价.xlsx\",sheet_name=0)\n",
    "ppt=pd.DataFrame()\n",
    "a_data = data1[(data1['月份'] == year*100+month) ]\n",
    "games = [\"02$2\", \"04$4-8\", \"05$10\", \"06$12-18\", \"07$20\", \"08$22-48\", \"09$50-98\", \"10$100-198\", \"11$200-998\", \"12$1000以上\"]\n",
    "ppt_28_excel = pd.DataFrame()\n",
    "for game in games:\n",
    "    ppt_28_excel[game] = a_data[a_data['票价区间'] == game].groupby('地市')['销量'].sum() * 1e-4\n",
    "    ppt_28_excel[game] = ppt_28_excel[game].apply(lambda x: '{:.2f}'.format(x))\n",
    "# ppt_28_excel.to_excel(r\"E:\\彩票数据\\山西\\山西月报\\2024年%d月报\\ppt_28.xlsx\" % (month))\n",
    "ppt_28_excel"
   ],
   "metadata": {
    "collapsed": false,
    "pycharm": {
     "name": "#%%\n"
    }
   }
  },
  {
   "cell_type": "code",
   "execution_count": 20,
   "outputs": [
    {
     "data": {
      "text/plain": "        00时    01时    02时   03时   04时   05时   06时    07时     08时     09时  ...  \\\n地市                                                                        ...   \n中心    23.51  24.36  13.38  0.01   nan   nan   nan    nan  318.63  292.71  ...   \n嘉定   939.76   0.66   0.02  0.01   nan  0.14  3.23  14.69   36.82   80.41  ...   \n奉贤   433.62   0.00   0.00  0.01  0.05  0.15  0.67   5.90   22.22   43.84  ...   \n宝山   789.21   0.07   0.05  0.01   nan  0.04  1.53  13.50   50.19   96.14  ...   \n崇明   147.44   0.04   0.03   nan   nan  0.20  1.67   8.54   15.76   20.74  ...   \n徐汇   293.79   0.28   0.09  0.01   nan  0.00  0.86   4.74   28.38   47.67  ...   \n普陀   330.17   0.00   0.01   nan   nan  0.02  0.90   8.10   29.98   59.21  ...   \n杨浦   383.41   0.00   0.03  0.00  0.00  0.08  0.55   6.01   21.51   46.49  ...   \n松江   868.43   0.36   0.10  0.05   nan  1.28  2.87   9.54   47.24   91.14  ...   \n浦东  2153.35   0.17   0.30  0.54  0.27  0.88  8.16  39.02  131.75  235.81  ...   \n渠道    60.00    nan    nan   nan   nan   nan   nan    nan     nan     nan  ...   \n虹口   291.03   0.01   0.00  0.00  0.00  0.07  0.72   5.09   17.00   39.42  ...   \n金山   237.87   0.00    nan   nan   nan  0.05  0.63   7.53   28.22   52.03  ...   \n长宁   305.15   0.10   0.01   nan   nan  0.00  0.18   3.33   18.32   41.18  ...   \n闵行  1000.49   0.56   0.37  0.02  0.01  0.12  2.62  14.21   58.35  101.12  ...   \n青浦   518.06   0.28   0.02   nan  0.13  0.02  0.55   4.09   16.83   39.67  ...   \n静安   453.86   0.26   0.01  0.01   nan  0.12  1.08   4.16   20.74   61.37  ...   \n黄浦   311.57    nan    nan   nan   nan  0.00  1.24   2.87    8.58   20.01  ...   \n\n       15时     16时     17时     18时      19时     20时    21时     22时    23时  24时  \n地市                                                                              \n中心  166.24  194.89  236.74  348.40   495.82   76.55  55.80  137.05  72.36  nan  \n嘉定  172.95  218.84  273.44  396.99   637.96  367.89  16.32   10.84   2.43  nan  \n奉贤   87.41  116.27  161.54  242.77   369.09  204.29   5.51    4.83   0.42  nan  \n宝山  175.01  223.96  269.77  388.31   608.31  251.35  11.37    7.68   2.48  nan  \n崇明   35.57   47.91   62.52   81.90   126.62   54.31   2.68    0.76   0.35  nan  \n徐汇   85.65   94.86  111.31  142.84   215.76   72.61   4.75    2.77   0.53  nan  \n普陀   99.40  121.37  142.64  195.40   309.27   95.31   6.80    4.87   0.88  nan  \n杨浦   94.89  101.80  132.41  181.34   275.58  118.29   5.45    2.97   0.45  nan  \n松江  192.96  229.83  315.27  451.51   759.33  498.33  20.39   10.79   1.25  nan  \n浦东  427.88  524.90  649.43  937.83  1468.66  736.90  36.92   20.01   5.91  nan  \n渠道     nan     nan     nan     nan      nan     nan    nan     nan    nan  nan  \n虹口   71.74   80.34   93.58  125.46   187.61   61.25   4.24    3.45   0.94  nan  \n金山   65.89   99.31  113.21  170.74   246.10   81.93   1.70    0.28   0.04  nan  \n长宁   55.47   87.84   83.86   97.74   144.93   60.60   3.96    2.87   1.32  nan  \n闵行  221.94  271.11  332.33  464.83   788.89  407.31  19.08    9.18   2.63  nan  \n青浦   90.27  113.95  153.30  234.88   382.36  197.20  14.54    3.30   1.86  nan  \n静安  123.06  132.38  160.24  210.06   300.52  130.03   8.23    7.57   1.01  nan  \n黄浦   65.73   74.05   94.32  112.89   180.33   68.41   3.96    1.08   0.19  nan  \n\n[18 rows x 25 columns]",
      "text/html": "<div>\n<style scoped>\n    .dataframe tbody tr th:only-of-type {\n        vertical-align: middle;\n    }\n\n    .dataframe tbody tr th {\n        vertical-align: top;\n    }\n\n    .dataframe thead th {\n        text-align: right;\n    }\n</style>\n<table border=\"1\" class=\"dataframe\">\n  <thead>\n    <tr style=\"text-align: right;\">\n      <th></th>\n      <th>00时</th>\n      <th>01时</th>\n      <th>02时</th>\n      <th>03时</th>\n      <th>04时</th>\n      <th>05时</th>\n      <th>06时</th>\n      <th>07时</th>\n      <th>08时</th>\n      <th>09时</th>\n      <th>...</th>\n      <th>15时</th>\n      <th>16时</th>\n      <th>17时</th>\n      <th>18时</th>\n      <th>19时</th>\n      <th>20时</th>\n      <th>21时</th>\n      <th>22时</th>\n      <th>23时</th>\n      <th>24时</th>\n    </tr>\n    <tr>\n      <th>地市</th>\n      <th></th>\n      <th></th>\n      <th></th>\n      <th></th>\n      <th></th>\n      <th></th>\n      <th></th>\n      <th></th>\n      <th></th>\n      <th></th>\n      <th></th>\n      <th></th>\n      <th></th>\n      <th></th>\n      <th></th>\n      <th></th>\n      <th></th>\n      <th></th>\n      <th></th>\n      <th></th>\n      <th></th>\n    </tr>\n  </thead>\n  <tbody>\n    <tr>\n      <th>中心</th>\n      <td>23.51</td>\n      <td>24.36</td>\n      <td>13.38</td>\n      <td>0.01</td>\n      <td>nan</td>\n      <td>nan</td>\n      <td>nan</td>\n      <td>nan</td>\n      <td>318.63</td>\n      <td>292.71</td>\n      <td>...</td>\n      <td>166.24</td>\n      <td>194.89</td>\n      <td>236.74</td>\n      <td>348.40</td>\n      <td>495.82</td>\n      <td>76.55</td>\n      <td>55.80</td>\n      <td>137.05</td>\n      <td>72.36</td>\n      <td>nan</td>\n    </tr>\n    <tr>\n      <th>嘉定</th>\n      <td>939.76</td>\n      <td>0.66</td>\n      <td>0.02</td>\n      <td>0.01</td>\n      <td>nan</td>\n      <td>0.14</td>\n      <td>3.23</td>\n      <td>14.69</td>\n      <td>36.82</td>\n      <td>80.41</td>\n      <td>...</td>\n      <td>172.95</td>\n      <td>218.84</td>\n      <td>273.44</td>\n      <td>396.99</td>\n      <td>637.96</td>\n      <td>367.89</td>\n      <td>16.32</td>\n      <td>10.84</td>\n      <td>2.43</td>\n      <td>nan</td>\n    </tr>\n    <tr>\n      <th>奉贤</th>\n      <td>433.62</td>\n      <td>0.00</td>\n      <td>0.00</td>\n      <td>0.01</td>\n      <td>0.05</td>\n      <td>0.15</td>\n      <td>0.67</td>\n      <td>5.90</td>\n      <td>22.22</td>\n      <td>43.84</td>\n      <td>...</td>\n      <td>87.41</td>\n      <td>116.27</td>\n      <td>161.54</td>\n      <td>242.77</td>\n      <td>369.09</td>\n      <td>204.29</td>\n      <td>5.51</td>\n      <td>4.83</td>\n      <td>0.42</td>\n      <td>nan</td>\n    </tr>\n    <tr>\n      <th>宝山</th>\n      <td>789.21</td>\n      <td>0.07</td>\n      <td>0.05</td>\n      <td>0.01</td>\n      <td>nan</td>\n      <td>0.04</td>\n      <td>1.53</td>\n      <td>13.50</td>\n      <td>50.19</td>\n      <td>96.14</td>\n      <td>...</td>\n      <td>175.01</td>\n      <td>223.96</td>\n      <td>269.77</td>\n      <td>388.31</td>\n      <td>608.31</td>\n      <td>251.35</td>\n      <td>11.37</td>\n      <td>7.68</td>\n      <td>2.48</td>\n      <td>nan</td>\n    </tr>\n    <tr>\n      <th>崇明</th>\n      <td>147.44</td>\n      <td>0.04</td>\n      <td>0.03</td>\n      <td>nan</td>\n      <td>nan</td>\n      <td>0.20</td>\n      <td>1.67</td>\n      <td>8.54</td>\n      <td>15.76</td>\n      <td>20.74</td>\n      <td>...</td>\n      <td>35.57</td>\n      <td>47.91</td>\n      <td>62.52</td>\n      <td>81.90</td>\n      <td>126.62</td>\n      <td>54.31</td>\n      <td>2.68</td>\n      <td>0.76</td>\n      <td>0.35</td>\n      <td>nan</td>\n    </tr>\n    <tr>\n      <th>徐汇</th>\n      <td>293.79</td>\n      <td>0.28</td>\n      <td>0.09</td>\n      <td>0.01</td>\n      <td>nan</td>\n      <td>0.00</td>\n      <td>0.86</td>\n      <td>4.74</td>\n      <td>28.38</td>\n      <td>47.67</td>\n      <td>...</td>\n      <td>85.65</td>\n      <td>94.86</td>\n      <td>111.31</td>\n      <td>142.84</td>\n      <td>215.76</td>\n      <td>72.61</td>\n      <td>4.75</td>\n      <td>2.77</td>\n      <td>0.53</td>\n      <td>nan</td>\n    </tr>\n    <tr>\n      <th>普陀</th>\n      <td>330.17</td>\n      <td>0.00</td>\n      <td>0.01</td>\n      <td>nan</td>\n      <td>nan</td>\n      <td>0.02</td>\n      <td>0.90</td>\n      <td>8.10</td>\n      <td>29.98</td>\n      <td>59.21</td>\n      <td>...</td>\n      <td>99.40</td>\n      <td>121.37</td>\n      <td>142.64</td>\n      <td>195.40</td>\n      <td>309.27</td>\n      <td>95.31</td>\n      <td>6.80</td>\n      <td>4.87</td>\n      <td>0.88</td>\n      <td>nan</td>\n    </tr>\n    <tr>\n      <th>杨浦</th>\n      <td>383.41</td>\n      <td>0.00</td>\n      <td>0.03</td>\n      <td>0.00</td>\n      <td>0.00</td>\n      <td>0.08</td>\n      <td>0.55</td>\n      <td>6.01</td>\n      <td>21.51</td>\n      <td>46.49</td>\n      <td>...</td>\n      <td>94.89</td>\n      <td>101.80</td>\n      <td>132.41</td>\n      <td>181.34</td>\n      <td>275.58</td>\n      <td>118.29</td>\n      <td>5.45</td>\n      <td>2.97</td>\n      <td>0.45</td>\n      <td>nan</td>\n    </tr>\n    <tr>\n      <th>松江</th>\n      <td>868.43</td>\n      <td>0.36</td>\n      <td>0.10</td>\n      <td>0.05</td>\n      <td>nan</td>\n      <td>1.28</td>\n      <td>2.87</td>\n      <td>9.54</td>\n      <td>47.24</td>\n      <td>91.14</td>\n      <td>...</td>\n      <td>192.96</td>\n      <td>229.83</td>\n      <td>315.27</td>\n      <td>451.51</td>\n      <td>759.33</td>\n      <td>498.33</td>\n      <td>20.39</td>\n      <td>10.79</td>\n      <td>1.25</td>\n      <td>nan</td>\n    </tr>\n    <tr>\n      <th>浦东</th>\n      <td>2153.35</td>\n      <td>0.17</td>\n      <td>0.30</td>\n      <td>0.54</td>\n      <td>0.27</td>\n      <td>0.88</td>\n      <td>8.16</td>\n      <td>39.02</td>\n      <td>131.75</td>\n      <td>235.81</td>\n      <td>...</td>\n      <td>427.88</td>\n      <td>524.90</td>\n      <td>649.43</td>\n      <td>937.83</td>\n      <td>1468.66</td>\n      <td>736.90</td>\n      <td>36.92</td>\n      <td>20.01</td>\n      <td>5.91</td>\n      <td>nan</td>\n    </tr>\n    <tr>\n      <th>渠道</th>\n      <td>60.00</td>\n      <td>nan</td>\n      <td>nan</td>\n      <td>nan</td>\n      <td>nan</td>\n      <td>nan</td>\n      <td>nan</td>\n      <td>nan</td>\n      <td>nan</td>\n      <td>nan</td>\n      <td>...</td>\n      <td>nan</td>\n      <td>nan</td>\n      <td>nan</td>\n      <td>nan</td>\n      <td>nan</td>\n      <td>nan</td>\n      <td>nan</td>\n      <td>nan</td>\n      <td>nan</td>\n      <td>nan</td>\n    </tr>\n    <tr>\n      <th>虹口</th>\n      <td>291.03</td>\n      <td>0.01</td>\n      <td>0.00</td>\n      <td>0.00</td>\n      <td>0.00</td>\n      <td>0.07</td>\n      <td>0.72</td>\n      <td>5.09</td>\n      <td>17.00</td>\n      <td>39.42</td>\n      <td>...</td>\n      <td>71.74</td>\n      <td>80.34</td>\n      <td>93.58</td>\n      <td>125.46</td>\n      <td>187.61</td>\n      <td>61.25</td>\n      <td>4.24</td>\n      <td>3.45</td>\n      <td>0.94</td>\n      <td>nan</td>\n    </tr>\n    <tr>\n      <th>金山</th>\n      <td>237.87</td>\n      <td>0.00</td>\n      <td>nan</td>\n      <td>nan</td>\n      <td>nan</td>\n      <td>0.05</td>\n      <td>0.63</td>\n      <td>7.53</td>\n      <td>28.22</td>\n      <td>52.03</td>\n      <td>...</td>\n      <td>65.89</td>\n      <td>99.31</td>\n      <td>113.21</td>\n      <td>170.74</td>\n      <td>246.10</td>\n      <td>81.93</td>\n      <td>1.70</td>\n      <td>0.28</td>\n      <td>0.04</td>\n      <td>nan</td>\n    </tr>\n    <tr>\n      <th>长宁</th>\n      <td>305.15</td>\n      <td>0.10</td>\n      <td>0.01</td>\n      <td>nan</td>\n      <td>nan</td>\n      <td>0.00</td>\n      <td>0.18</td>\n      <td>3.33</td>\n      <td>18.32</td>\n      <td>41.18</td>\n      <td>...</td>\n      <td>55.47</td>\n      <td>87.84</td>\n      <td>83.86</td>\n      <td>97.74</td>\n      <td>144.93</td>\n      <td>60.60</td>\n      <td>3.96</td>\n      <td>2.87</td>\n      <td>1.32</td>\n      <td>nan</td>\n    </tr>\n    <tr>\n      <th>闵行</th>\n      <td>1000.49</td>\n      <td>0.56</td>\n      <td>0.37</td>\n      <td>0.02</td>\n      <td>0.01</td>\n      <td>0.12</td>\n      <td>2.62</td>\n      <td>14.21</td>\n      <td>58.35</td>\n      <td>101.12</td>\n      <td>...</td>\n      <td>221.94</td>\n      <td>271.11</td>\n      <td>332.33</td>\n      <td>464.83</td>\n      <td>788.89</td>\n      <td>407.31</td>\n      <td>19.08</td>\n      <td>9.18</td>\n      <td>2.63</td>\n      <td>nan</td>\n    </tr>\n    <tr>\n      <th>青浦</th>\n      <td>518.06</td>\n      <td>0.28</td>\n      <td>0.02</td>\n      <td>nan</td>\n      <td>0.13</td>\n      <td>0.02</td>\n      <td>0.55</td>\n      <td>4.09</td>\n      <td>16.83</td>\n      <td>39.67</td>\n      <td>...</td>\n      <td>90.27</td>\n      <td>113.95</td>\n      <td>153.30</td>\n      <td>234.88</td>\n      <td>382.36</td>\n      <td>197.20</td>\n      <td>14.54</td>\n      <td>3.30</td>\n      <td>1.86</td>\n      <td>nan</td>\n    </tr>\n    <tr>\n      <th>静安</th>\n      <td>453.86</td>\n      <td>0.26</td>\n      <td>0.01</td>\n      <td>0.01</td>\n      <td>nan</td>\n      <td>0.12</td>\n      <td>1.08</td>\n      <td>4.16</td>\n      <td>20.74</td>\n      <td>61.37</td>\n      <td>...</td>\n      <td>123.06</td>\n      <td>132.38</td>\n      <td>160.24</td>\n      <td>210.06</td>\n      <td>300.52</td>\n      <td>130.03</td>\n      <td>8.23</td>\n      <td>7.57</td>\n      <td>1.01</td>\n      <td>nan</td>\n    </tr>\n    <tr>\n      <th>黄浦</th>\n      <td>311.57</td>\n      <td>nan</td>\n      <td>nan</td>\n      <td>nan</td>\n      <td>nan</td>\n      <td>0.00</td>\n      <td>1.24</td>\n      <td>2.87</td>\n      <td>8.58</td>\n      <td>20.01</td>\n      <td>...</td>\n      <td>65.73</td>\n      <td>74.05</td>\n      <td>94.32</td>\n      <td>112.89</td>\n      <td>180.33</td>\n      <td>68.41</td>\n      <td>3.96</td>\n      <td>1.08</td>\n      <td>0.19</td>\n      <td>nan</td>\n    </tr>\n  </tbody>\n</table>\n<p>18 rows × 25 columns</p>\n</div>"
     },
     "execution_count": 20,
     "metadata": {},
     "output_type": "execute_result"
    }
   ],
   "source": [
    "# import pandas as pd\n",
    "# data2=pd.read_excel(r\"E:\\彩票数据\\山西\\山西月报\\2024年5月报\\日期-小时-地市-游戏.xlsx\",sheet_name=0)\n",
    "# data2\n",
    "import pandas as pd\n",
    "# data2=pd.read_excel(r\"E:\\彩票数据\\山西\\山西月报\\2024年5月报\\月份-地市-游戏-票单价.xlsx\",sheet_name=0)\n",
    "a_data = data2[(data2['月份'] == year*100+month) ]\n",
    "games = [\"00时\", \"01时\", \"02时\", \"03时\", \"04时\", \"05时\",\"06时\", \"07时\", \"08时\", \"09时\", \"10时\", \"11时\",\"12时\", \"13时\", \"14时\", \"15时\", \"16时\", \"17时\",\"18时\", \"19时\", \"20时\", \"21时\", \"22时\", \"23时\" ,\"24时\"]\n",
    "ppt_30_excel = pd.DataFrame()\n",
    "for game in games:\n",
    "    ppt_30_excel[game] = a_data[a_data['小时'] == game].groupby('地市')['销量'].sum() * 1e-4\n",
    "    ppt_30_excel[game] = ppt_30_excel[game].apply(lambda x: '{:.2f}'.format(x))\n",
    "# ppt_28_excel.to_excel(r\"E:\\彩票数据\\山西\\山西月报\\2024年%d月报\\ppt_28.xlsx\" % (month))\n",
    "ppt_30_excel"
   ],
   "metadata": {
    "collapsed": false,
    "pycharm": {
     "name": "#%%\n"
    }
   }
  },
  {
   "cell_type": "code",
   "execution_count": 21,
   "outputs": [
    {
     "data": {
      "text/plain": "         202307    202308    202309   202310   202311    202312    202401  \\\n0   中心  3295.58   3285.33   3139.84  2849.23  3721.75   3803.09   3373.01   \n1   嘉定  3649.54   4993.06   4597.18  2886.26  4246.26   4515.92   4867.44   \n2   奉贤  2180.18   2820.85   2611.77  1741.96  2312.20   2443.79   2608.53   \n3   宝山  3498.40   4572.99   4110.09  2852.34  3944.42   4307.44   4463.14   \n4   崇明   697.06    884.58    786.41   556.31   711.51    845.17    877.23   \n5   徐汇  1484.63   1822.97   1749.07  1236.87  1589.52   1731.83   1800.72   \n6   普陀  1669.18   2008.48   1933.62  1485.93  1922.52   2102.58   2138.08   \n7   杨浦  1514.65   1919.68   1786.98  1297.31  1752.95   1855.53   1937.44   \n8   松江  4122.06   5601.05   5056.84  3604.61  4752.35   5138.89   5312.39   \n9   浦东  9549.70  11761.26  10734.94  7163.17  9659.41  10760.99  10996.06   \n10  虹口  1139.05   1394.03   1377.57   979.89  1296.81   1410.35   1456.09   \n11  金山  1190.76   1518.10   1412.74  1024.33  1362.93   1552.47   1602.77   \n12  长宁  1206.29   1600.70   1450.43   981.61  1327.78   1510.92   1420.58   \n13  闵行  4379.23   6136.75   5489.62  3650.48  4937.08   5498.83   5456.33   \n14  青浦  2179.36   3156.83   2713.15  1821.70  2395.39   2506.83   2719.65   \n15  静安  2020.03   2680.18   2475.72  1660.32  2220.69   2530.73   2477.68   \n16  黄浦  1117.86   1421.24   1348.84   974.76  1304.72   1417.54   1488.61   \n\n     202402    202403    202404   202405  本月在近12月销量排名  \n0   2190.54   3587.58   3574.09  3495.39            5  \n1   2546.58   4627.78   5165.96  3753.20            8  \n2   1453.30   2654.27   2586.98  2023.73            9  \n3   2640.39   4643.00   4569.58  3522.61            8  \n4    533.93    892.21   1009.38   722.45            7  \n5   1113.75   1872.82   1842.94  1410.94            9  \n6   1285.50   2169.13   2388.73  1769.09            8  \n7   1152.49   2046.28   2235.18  1774.37            7  \n8   2770.11   5451.06   5430.20  4196.05            8  \n9   6372.85  12043.46  11134.08  8939.01            9  \n10   910.81   1479.30   1510.98  1216.99            8  \n11   878.53   1616.97   1616.26  1354.34            8  \n12   927.83   1467.94   2359.60  1161.44            9  \n13  2962.71   5671.38   5877.98  4485.96            8  \n14  1487.39   2713.33   2793.15  2097.95            9  \n15  1538.35   2644.09   2590.31  2017.04            9  \n16   855.35   1462.06   1439.20  1198.69            8  ",
      "text/html": "<div>\n<style scoped>\n    .dataframe tbody tr th:only-of-type {\n        vertical-align: middle;\n    }\n\n    .dataframe tbody tr th {\n        vertical-align: top;\n    }\n\n    .dataframe thead th {\n        text-align: right;\n    }\n</style>\n<table border=\"1\" class=\"dataframe\">\n  <thead>\n    <tr style=\"text-align: right;\">\n      <th></th>\n      <th></th>\n      <th>202307</th>\n      <th>202308</th>\n      <th>202309</th>\n      <th>202310</th>\n      <th>202311</th>\n      <th>202312</th>\n      <th>202401</th>\n      <th>202402</th>\n      <th>202403</th>\n      <th>202404</th>\n      <th>202405</th>\n      <th>本月在近12月销量排名</th>\n    </tr>\n  </thead>\n  <tbody>\n    <tr>\n      <th>0</th>\n      <td>中心</td>\n      <td>3295.58</td>\n      <td>3285.33</td>\n      <td>3139.84</td>\n      <td>2849.23</td>\n      <td>3721.75</td>\n      <td>3803.09</td>\n      <td>3373.01</td>\n      <td>2190.54</td>\n      <td>3587.58</td>\n      <td>3574.09</td>\n      <td>3495.39</td>\n      <td>5</td>\n    </tr>\n    <tr>\n      <th>1</th>\n      <td>嘉定</td>\n      <td>3649.54</td>\n      <td>4993.06</td>\n      <td>4597.18</td>\n      <td>2886.26</td>\n      <td>4246.26</td>\n      <td>4515.92</td>\n      <td>4867.44</td>\n      <td>2546.58</td>\n      <td>4627.78</td>\n      <td>5165.96</td>\n      <td>3753.20</td>\n      <td>8</td>\n    </tr>\n    <tr>\n      <th>2</th>\n      <td>奉贤</td>\n      <td>2180.18</td>\n      <td>2820.85</td>\n      <td>2611.77</td>\n      <td>1741.96</td>\n      <td>2312.20</td>\n      <td>2443.79</td>\n      <td>2608.53</td>\n      <td>1453.30</td>\n      <td>2654.27</td>\n      <td>2586.98</td>\n      <td>2023.73</td>\n      <td>9</td>\n    </tr>\n    <tr>\n      <th>3</th>\n      <td>宝山</td>\n      <td>3498.40</td>\n      <td>4572.99</td>\n      <td>4110.09</td>\n      <td>2852.34</td>\n      <td>3944.42</td>\n      <td>4307.44</td>\n      <td>4463.14</td>\n      <td>2640.39</td>\n      <td>4643.00</td>\n      <td>4569.58</td>\n      <td>3522.61</td>\n      <td>8</td>\n    </tr>\n    <tr>\n      <th>4</th>\n      <td>崇明</td>\n      <td>697.06</td>\n      <td>884.58</td>\n      <td>786.41</td>\n      <td>556.31</td>\n      <td>711.51</td>\n      <td>845.17</td>\n      <td>877.23</td>\n      <td>533.93</td>\n      <td>892.21</td>\n      <td>1009.38</td>\n      <td>722.45</td>\n      <td>7</td>\n    </tr>\n    <tr>\n      <th>5</th>\n      <td>徐汇</td>\n      <td>1484.63</td>\n      <td>1822.97</td>\n      <td>1749.07</td>\n      <td>1236.87</td>\n      <td>1589.52</td>\n      <td>1731.83</td>\n      <td>1800.72</td>\n      <td>1113.75</td>\n      <td>1872.82</td>\n      <td>1842.94</td>\n      <td>1410.94</td>\n      <td>9</td>\n    </tr>\n    <tr>\n      <th>6</th>\n      <td>普陀</td>\n      <td>1669.18</td>\n      <td>2008.48</td>\n      <td>1933.62</td>\n      <td>1485.93</td>\n      <td>1922.52</td>\n      <td>2102.58</td>\n      <td>2138.08</td>\n      <td>1285.50</td>\n      <td>2169.13</td>\n      <td>2388.73</td>\n      <td>1769.09</td>\n      <td>8</td>\n    </tr>\n    <tr>\n      <th>7</th>\n      <td>杨浦</td>\n      <td>1514.65</td>\n      <td>1919.68</td>\n      <td>1786.98</td>\n      <td>1297.31</td>\n      <td>1752.95</td>\n      <td>1855.53</td>\n      <td>1937.44</td>\n      <td>1152.49</td>\n      <td>2046.28</td>\n      <td>2235.18</td>\n      <td>1774.37</td>\n      <td>7</td>\n    </tr>\n    <tr>\n      <th>8</th>\n      <td>松江</td>\n      <td>4122.06</td>\n      <td>5601.05</td>\n      <td>5056.84</td>\n      <td>3604.61</td>\n      <td>4752.35</td>\n      <td>5138.89</td>\n      <td>5312.39</td>\n      <td>2770.11</td>\n      <td>5451.06</td>\n      <td>5430.20</td>\n      <td>4196.05</td>\n      <td>8</td>\n    </tr>\n    <tr>\n      <th>9</th>\n      <td>浦东</td>\n      <td>9549.70</td>\n      <td>11761.26</td>\n      <td>10734.94</td>\n      <td>7163.17</td>\n      <td>9659.41</td>\n      <td>10760.99</td>\n      <td>10996.06</td>\n      <td>6372.85</td>\n      <td>12043.46</td>\n      <td>11134.08</td>\n      <td>8939.01</td>\n      <td>9</td>\n    </tr>\n    <tr>\n      <th>10</th>\n      <td>虹口</td>\n      <td>1139.05</td>\n      <td>1394.03</td>\n      <td>1377.57</td>\n      <td>979.89</td>\n      <td>1296.81</td>\n      <td>1410.35</td>\n      <td>1456.09</td>\n      <td>910.81</td>\n      <td>1479.30</td>\n      <td>1510.98</td>\n      <td>1216.99</td>\n      <td>8</td>\n    </tr>\n    <tr>\n      <th>11</th>\n      <td>金山</td>\n      <td>1190.76</td>\n      <td>1518.10</td>\n      <td>1412.74</td>\n      <td>1024.33</td>\n      <td>1362.93</td>\n      <td>1552.47</td>\n      <td>1602.77</td>\n      <td>878.53</td>\n      <td>1616.97</td>\n      <td>1616.26</td>\n      <td>1354.34</td>\n      <td>8</td>\n    </tr>\n    <tr>\n      <th>12</th>\n      <td>长宁</td>\n      <td>1206.29</td>\n      <td>1600.70</td>\n      <td>1450.43</td>\n      <td>981.61</td>\n      <td>1327.78</td>\n      <td>1510.92</td>\n      <td>1420.58</td>\n      <td>927.83</td>\n      <td>1467.94</td>\n      <td>2359.60</td>\n      <td>1161.44</td>\n      <td>9</td>\n    </tr>\n    <tr>\n      <th>13</th>\n      <td>闵行</td>\n      <td>4379.23</td>\n      <td>6136.75</td>\n      <td>5489.62</td>\n      <td>3650.48</td>\n      <td>4937.08</td>\n      <td>5498.83</td>\n      <td>5456.33</td>\n      <td>2962.71</td>\n      <td>5671.38</td>\n      <td>5877.98</td>\n      <td>4485.96</td>\n      <td>8</td>\n    </tr>\n    <tr>\n      <th>14</th>\n      <td>青浦</td>\n      <td>2179.36</td>\n      <td>3156.83</td>\n      <td>2713.15</td>\n      <td>1821.70</td>\n      <td>2395.39</td>\n      <td>2506.83</td>\n      <td>2719.65</td>\n      <td>1487.39</td>\n      <td>2713.33</td>\n      <td>2793.15</td>\n      <td>2097.95</td>\n      <td>9</td>\n    </tr>\n    <tr>\n      <th>15</th>\n      <td>静安</td>\n      <td>2020.03</td>\n      <td>2680.18</td>\n      <td>2475.72</td>\n      <td>1660.32</td>\n      <td>2220.69</td>\n      <td>2530.73</td>\n      <td>2477.68</td>\n      <td>1538.35</td>\n      <td>2644.09</td>\n      <td>2590.31</td>\n      <td>2017.04</td>\n      <td>9</td>\n    </tr>\n    <tr>\n      <th>16</th>\n      <td>黄浦</td>\n      <td>1117.86</td>\n      <td>1421.24</td>\n      <td>1348.84</td>\n      <td>974.76</td>\n      <td>1304.72</td>\n      <td>1417.54</td>\n      <td>1488.61</td>\n      <td>855.35</td>\n      <td>1462.06</td>\n      <td>1439.20</td>\n      <td>1198.69</td>\n      <td>8</td>\n    </tr>\n  </tbody>\n</table>\n</div>"
     },
     "execution_count": 21,
     "metadata": {},
     "output_type": "execute_result"
    }
   ],
   "source": [
    "months_near12=get_13_months(year,month)[1:]\n",
    "# game_name=[\"太原市\",\"大同市\",\"朔州市\",\"忻州市\",\"吕梁市\",\"晋中市\",\"长治市\",\"临汾市\",\"晋城市\",\"运城市\",\"阳泉市\"]\n",
    "game_name=[\"中心\",\"嘉定\",\"奉贤\",\"宝山\",\"崇明\",\"徐汇\",\"普陀\",\"杨浦\",\"松江\",\"浦东\",\"虹口\",\"金山\",\"长宁\",\"闵行\",\"青浦\",\"静安\",\"黄浦\"]\n",
    "game_sales={i:[] for i in months_near12}\n",
    "for i in game_name:\n",
    "    for j in months_near12:\n",
    "        a=data.loc[data[\"月份\"]==j].loc[data[\"地市\"]==i][\"销量\"].sum()\n",
    "        game_sales[j].append(a*1e-4)\n",
    "def get_weici(list_data,num):\n",
    "    weici=1\n",
    "    for i in list_data:\n",
    "        if i>num:\n",
    "            weici+=1\n",
    "    return weici\n",
    "# [j[i] for j in list(game_sales.values())]\n",
    "weici=[get_weici([j[i] for j in list(game_sales.values())],[j[i] for j in list(game_sales.values())][-1]) for i in range(len(game_name))]\n",
    "ppt_31_excel=pd.DataFrame()\n",
    "ppt_31_excel[\"\"]=game_name\n",
    "for i in months_near12:\n",
    "    ppt_31_excel[i]=game_sales[i]\n",
    "    ppt_31_excel[i]=ppt_31_excel[i].apply(lambda x:format(x,\".2f\"))\n",
    "ppt_31_excel[\"本月在近12月销量排名\"]=weici\n",
    "# ppt_31_excel.to_excel(r\"E:\\彩票数据\\山西\\山西月报\\2024年%d月报\\ppt_31.xlsx\"%(month))\n",
    "ppt_31_excel"
   ],
   "metadata": {
    "collapsed": false,
    "pycharm": {
     "name": "#%%\n"
    }
   }
  },
  {
   "cell_type": "code",
   "execution_count": 22,
   "outputs": [
    {
     "data": {
      "text/plain": "      01$单倍   02$两倍 03$3到5倍 04$6到10倍 05$11到20倍 06$21到100倍\n地市                                                       \n中心  1506.24  297.04  410.27   182.43     85.08     230.24\n嘉定   773.92  126.96  180.36    88.84     25.41     107.72\n奉贤   485.60   77.15  105.24    50.58     13.96      54.58\n宝山   792.26  140.36  215.08   102.47     32.90     118.22\n崇明   155.17   27.96   37.06    16.46      5.28      18.19\n徐汇   347.70   67.43  112.76    72.18     21.15      85.58\n普陀   445.60   84.03  136.21    67.35     18.73      83.30\n杨浦   365.20   68.10  114.75    56.71     15.66      65.11\n松江   864.16  136.89  203.76   101.25     35.15     118.72\n浦东  1876.82  339.05  499.37   249.59     82.62     321.40\n虹口   275.27   50.47   86.04    41.54     10.99      68.00\n金山   352.84   56.05   79.08    40.25     10.26      38.71\n长宁   254.99   44.52   76.27    39.35     13.65      74.07\n闵行   949.71  167.29  260.32   133.60     39.86     183.60\n青浦   433.15   72.29  104.75    49.42     13.73      61.67\n静安   429.06   79.31  129.49    69.32     19.25      88.97\n黄浦   247.93   42.65   78.40    44.94     14.62      65.58",
      "text/html": "<div>\n<style scoped>\n    .dataframe tbody tr th:only-of-type {\n        vertical-align: middle;\n    }\n\n    .dataframe tbody tr th {\n        vertical-align: top;\n    }\n\n    .dataframe thead th {\n        text-align: right;\n    }\n</style>\n<table border=\"1\" class=\"dataframe\">\n  <thead>\n    <tr style=\"text-align: right;\">\n      <th></th>\n      <th>01$单倍</th>\n      <th>02$两倍</th>\n      <th>03$3到5倍</th>\n      <th>04$6到10倍</th>\n      <th>05$11到20倍</th>\n      <th>06$21到100倍</th>\n    </tr>\n    <tr>\n      <th>地市</th>\n      <th></th>\n      <th></th>\n      <th></th>\n      <th></th>\n      <th></th>\n      <th></th>\n    </tr>\n  </thead>\n  <tbody>\n    <tr>\n      <th>中心</th>\n      <td>1506.24</td>\n      <td>297.04</td>\n      <td>410.27</td>\n      <td>182.43</td>\n      <td>85.08</td>\n      <td>230.24</td>\n    </tr>\n    <tr>\n      <th>嘉定</th>\n      <td>773.92</td>\n      <td>126.96</td>\n      <td>180.36</td>\n      <td>88.84</td>\n      <td>25.41</td>\n      <td>107.72</td>\n    </tr>\n    <tr>\n      <th>奉贤</th>\n      <td>485.60</td>\n      <td>77.15</td>\n      <td>105.24</td>\n      <td>50.58</td>\n      <td>13.96</td>\n      <td>54.58</td>\n    </tr>\n    <tr>\n      <th>宝山</th>\n      <td>792.26</td>\n      <td>140.36</td>\n      <td>215.08</td>\n      <td>102.47</td>\n      <td>32.90</td>\n      <td>118.22</td>\n    </tr>\n    <tr>\n      <th>崇明</th>\n      <td>155.17</td>\n      <td>27.96</td>\n      <td>37.06</td>\n      <td>16.46</td>\n      <td>5.28</td>\n      <td>18.19</td>\n    </tr>\n    <tr>\n      <th>徐汇</th>\n      <td>347.70</td>\n      <td>67.43</td>\n      <td>112.76</td>\n      <td>72.18</td>\n      <td>21.15</td>\n      <td>85.58</td>\n    </tr>\n    <tr>\n      <th>普陀</th>\n      <td>445.60</td>\n      <td>84.03</td>\n      <td>136.21</td>\n      <td>67.35</td>\n      <td>18.73</td>\n      <td>83.30</td>\n    </tr>\n    <tr>\n      <th>杨浦</th>\n      <td>365.20</td>\n      <td>68.10</td>\n      <td>114.75</td>\n      <td>56.71</td>\n      <td>15.66</td>\n      <td>65.11</td>\n    </tr>\n    <tr>\n      <th>松江</th>\n      <td>864.16</td>\n      <td>136.89</td>\n      <td>203.76</td>\n      <td>101.25</td>\n      <td>35.15</td>\n      <td>118.72</td>\n    </tr>\n    <tr>\n      <th>浦东</th>\n      <td>1876.82</td>\n      <td>339.05</td>\n      <td>499.37</td>\n      <td>249.59</td>\n      <td>82.62</td>\n      <td>321.40</td>\n    </tr>\n    <tr>\n      <th>虹口</th>\n      <td>275.27</td>\n      <td>50.47</td>\n      <td>86.04</td>\n      <td>41.54</td>\n      <td>10.99</td>\n      <td>68.00</td>\n    </tr>\n    <tr>\n      <th>金山</th>\n      <td>352.84</td>\n      <td>56.05</td>\n      <td>79.08</td>\n      <td>40.25</td>\n      <td>10.26</td>\n      <td>38.71</td>\n    </tr>\n    <tr>\n      <th>长宁</th>\n      <td>254.99</td>\n      <td>44.52</td>\n      <td>76.27</td>\n      <td>39.35</td>\n      <td>13.65</td>\n      <td>74.07</td>\n    </tr>\n    <tr>\n      <th>闵行</th>\n      <td>949.71</td>\n      <td>167.29</td>\n      <td>260.32</td>\n      <td>133.60</td>\n      <td>39.86</td>\n      <td>183.60</td>\n    </tr>\n    <tr>\n      <th>青浦</th>\n      <td>433.15</td>\n      <td>72.29</td>\n      <td>104.75</td>\n      <td>49.42</td>\n      <td>13.73</td>\n      <td>61.67</td>\n    </tr>\n    <tr>\n      <th>静安</th>\n      <td>429.06</td>\n      <td>79.31</td>\n      <td>129.49</td>\n      <td>69.32</td>\n      <td>19.25</td>\n      <td>88.97</td>\n    </tr>\n    <tr>\n      <th>黄浦</th>\n      <td>247.93</td>\n      <td>42.65</td>\n      <td>78.40</td>\n      <td>44.94</td>\n      <td>14.62</td>\n      <td>65.58</td>\n    </tr>\n  </tbody>\n</table>\n</div>"
     },
     "execution_count": 22,
     "metadata": {},
     "output_type": "execute_result"
    }
   ],
   "source": [
    "import pandas as pd\n",
    "# data3=pd.read_excel(r\"E:\\彩票数据\\山西\\山西月报\\2024年5月报\\月份-地市-游戏-倍投.xlsx\",sheet_name=0)\n",
    "ppt=pd.DataFrame()\n",
    "a_data = data3[(data3['月份'] == year*100+month) ]\n",
    "games = [\"01$单倍\",\"02$两倍\",\"03$3到5倍\",\"04$6到10倍\",\"05$11到20倍\",\"06$21到100倍\"]\n",
    "ppt_46_excel = pd.DataFrame()\n",
    "for game in games:\n",
    "    ppt_46_excel[game] = a_data[a_data['倍投'] == game].groupby('地市')['销量'].sum() * 1e-4\n",
    "    ppt_46_excel[game] = ppt_46_excel[game].apply(lambda x: '{:.2f}'.format(x))\n",
    "# ppt_46_excel.to_excel(r\"E:\\彩票数据\\山西\\山西月报\\2024年%d月报\\ppt_46.xlsx\" % (month))\n",
    "ppt_46_excel"
   ],
   "metadata": {
    "collapsed": false,
    "pycharm": {
     "name": "#%%\n"
    }
   }
  },
  {
   "cell_type": "code",
   "execution_count": 23,
   "outputs": [
    {
     "data": {
      "text/plain": "          01$单倍    02$两倍  03$3到5倍 04$6到10倍 05$11到20倍 06$21到100倍\n游戏                                                             \n15选5     172.54    25.84    41.83    17.56      8.55      18.04\n七乐彩      230.74    12.66    14.87     3.29      0.89       1.88\n东方6+1     80.15    12.56    18.79    10.33      5.53       8.17\n即开票     9511.20      nan      nan      nan       nan        nan\n双色球    10555.62  1877.56  2829.23  1406.28    458.30    1783.67\n快乐8     3449.19   303.32   691.13  1065.57    830.29        nan\n福彩3D    1669.10   671.25  1902.67  1352.61    684.25    2589.23\n选4       434.09    97.01   184.02    85.79     35.44      48.22",
      "text/html": "<div>\n<style scoped>\n    .dataframe tbody tr th:only-of-type {\n        vertical-align: middle;\n    }\n\n    .dataframe tbody tr th {\n        vertical-align: top;\n    }\n\n    .dataframe thead th {\n        text-align: right;\n    }\n</style>\n<table border=\"1\" class=\"dataframe\">\n  <thead>\n    <tr style=\"text-align: right;\">\n      <th></th>\n      <th>01$单倍</th>\n      <th>02$两倍</th>\n      <th>03$3到5倍</th>\n      <th>04$6到10倍</th>\n      <th>05$11到20倍</th>\n      <th>06$21到100倍</th>\n    </tr>\n    <tr>\n      <th>游戏</th>\n      <th></th>\n      <th></th>\n      <th></th>\n      <th></th>\n      <th></th>\n      <th></th>\n    </tr>\n  </thead>\n  <tbody>\n    <tr>\n      <th>15选5</th>\n      <td>172.54</td>\n      <td>25.84</td>\n      <td>41.83</td>\n      <td>17.56</td>\n      <td>8.55</td>\n      <td>18.04</td>\n    </tr>\n    <tr>\n      <th>七乐彩</th>\n      <td>230.74</td>\n      <td>12.66</td>\n      <td>14.87</td>\n      <td>3.29</td>\n      <td>0.89</td>\n      <td>1.88</td>\n    </tr>\n    <tr>\n      <th>东方6+1</th>\n      <td>80.15</td>\n      <td>12.56</td>\n      <td>18.79</td>\n      <td>10.33</td>\n      <td>5.53</td>\n      <td>8.17</td>\n    </tr>\n    <tr>\n      <th>即开票</th>\n      <td>9511.20</td>\n      <td>nan</td>\n      <td>nan</td>\n      <td>nan</td>\n      <td>nan</td>\n      <td>nan</td>\n    </tr>\n    <tr>\n      <th>双色球</th>\n      <td>10555.62</td>\n      <td>1877.56</td>\n      <td>2829.23</td>\n      <td>1406.28</td>\n      <td>458.30</td>\n      <td>1783.67</td>\n    </tr>\n    <tr>\n      <th>快乐8</th>\n      <td>3449.19</td>\n      <td>303.32</td>\n      <td>691.13</td>\n      <td>1065.57</td>\n      <td>830.29</td>\n      <td>nan</td>\n    </tr>\n    <tr>\n      <th>福彩3D</th>\n      <td>1669.10</td>\n      <td>671.25</td>\n      <td>1902.67</td>\n      <td>1352.61</td>\n      <td>684.25</td>\n      <td>2589.23</td>\n    </tr>\n    <tr>\n      <th>选4</th>\n      <td>434.09</td>\n      <td>97.01</td>\n      <td>184.02</td>\n      <td>85.79</td>\n      <td>35.44</td>\n      <td>48.22</td>\n    </tr>\n  </tbody>\n</table>\n</div>"
     },
     "execution_count": 23,
     "metadata": {},
     "output_type": "execute_result"
    }
   ],
   "source": [
    "import pandas as pd\n",
    "data3=pd.read_excel(r\"E:\\彩票数据\\山西\\山西月报\\2024年5月报\\月份-地市-游戏-倍投.xlsx\",sheet_name=0)\n",
    "ppt=pd.DataFrame()\n",
    "a_data = data3[(data3['月份'] == year*100+month) ]\n",
    "games = [\"01$单倍\",\"02$两倍\",\"03$3到5倍\",\"04$6到10倍\",\"05$11到20倍\",\"06$21到100倍\"]\n",
    "ppt_47_excel = pd.DataFrame()\n",
    "for game in games:\n",
    "    ppt_47_excel[game] = a_data[a_data['倍投'] == game].groupby('游戏')['销量'].sum() * 1e-4\n",
    "    ppt_47_excel[game] = ppt_47_excel[game].apply(lambda x: '{:.2f}'.format(x))\n",
    "# ppt_47_excel.to_excel(r\"E:\\彩票数据\\山西\\山西月报\\2024年%d月报\\ppt_47.xlsx\" % (month))\n",
    "ppt_47_excel"
   ],
   "metadata": {
    "collapsed": false,
    "pycharm": {
     "name": "#%%\n"
    }
   }
  },
  {
   "cell_type": "code",
   "execution_count": 24,
   "outputs": [
    {
     "data": {
      "text/plain": "         日期     地市        游戏 选号方式 投注方式          游戏玩法        销量      月份\n0     45413  31$中心    01$双色球   手选   单式     01$双色球-单式  17871714  202405\n1     45413  31$中心    01$双色球   手选   复式   02$双色球-红复式7   1067346  202405\n2     45413  31$中心    01$双色球   手选   复式   03$双色球-红复式8    838096  202405\n3     45413  31$中心    01$双色球   手选   复式   04$双色球-红复式9    603288  202405\n4     45413  31$中心    01$双色球   手选   复式  05$双色球-红复式10    375480  202405\n...     ...    ...       ...  ...  ...           ...       ...     ...\n8888  45444  31$黄浦  25$东方6+1   手选   单式   01$东方6+1-单式      3134  202406\n8889  45444  31$黄浦  25$东方6+1   手选   复式   02$东方6+1-复式      8182  202406\n8890  45444  31$黄浦  25$东方6+1   机选   单式   01$东方6+1-单式      4672  202406\n8891  45444  31$黄浦  25$东方6+1   自动   单式   01$东方6+1-单式     14316  202406\n8892  45444  31$黄浦  25$东方6+1   自动   复式   02$东方6+1-复式      1112  202406\n\n[8893 rows x 8 columns]",
      "text/html": "<div>\n<style scoped>\n    .dataframe tbody tr th:only-of-type {\n        vertical-align: middle;\n    }\n\n    .dataframe tbody tr th {\n        vertical-align: top;\n    }\n\n    .dataframe thead th {\n        text-align: right;\n    }\n</style>\n<table border=\"1\" class=\"dataframe\">\n  <thead>\n    <tr style=\"text-align: right;\">\n      <th></th>\n      <th>日期</th>\n      <th>地市</th>\n      <th>游戏</th>\n      <th>选号方式</th>\n      <th>投注方式</th>\n      <th>游戏玩法</th>\n      <th>销量</th>\n      <th>月份</th>\n    </tr>\n  </thead>\n  <tbody>\n    <tr>\n      <th>0</th>\n      <td>45413</td>\n      <td>31$中心</td>\n      <td>01$双色球</td>\n      <td>手选</td>\n      <td>单式</td>\n      <td>01$双色球-单式</td>\n      <td>17871714</td>\n      <td>202405</td>\n    </tr>\n    <tr>\n      <th>1</th>\n      <td>45413</td>\n      <td>31$中心</td>\n      <td>01$双色球</td>\n      <td>手选</td>\n      <td>复式</td>\n      <td>02$双色球-红复式7</td>\n      <td>1067346</td>\n      <td>202405</td>\n    </tr>\n    <tr>\n      <th>2</th>\n      <td>45413</td>\n      <td>31$中心</td>\n      <td>01$双色球</td>\n      <td>手选</td>\n      <td>复式</td>\n      <td>03$双色球-红复式8</td>\n      <td>838096</td>\n      <td>202405</td>\n    </tr>\n    <tr>\n      <th>3</th>\n      <td>45413</td>\n      <td>31$中心</td>\n      <td>01$双色球</td>\n      <td>手选</td>\n      <td>复式</td>\n      <td>04$双色球-红复式9</td>\n      <td>603288</td>\n      <td>202405</td>\n    </tr>\n    <tr>\n      <th>4</th>\n      <td>45413</td>\n      <td>31$中心</td>\n      <td>01$双色球</td>\n      <td>手选</td>\n      <td>复式</td>\n      <td>05$双色球-红复式10</td>\n      <td>375480</td>\n      <td>202405</td>\n    </tr>\n    <tr>\n      <th>...</th>\n      <td>...</td>\n      <td>...</td>\n      <td>...</td>\n      <td>...</td>\n      <td>...</td>\n      <td>...</td>\n      <td>...</td>\n      <td>...</td>\n    </tr>\n    <tr>\n      <th>8888</th>\n      <td>45444</td>\n      <td>31$黄浦</td>\n      <td>25$东方6+1</td>\n      <td>手选</td>\n      <td>单式</td>\n      <td>01$东方6+1-单式</td>\n      <td>3134</td>\n      <td>202406</td>\n    </tr>\n    <tr>\n      <th>8889</th>\n      <td>45444</td>\n      <td>31$黄浦</td>\n      <td>25$东方6+1</td>\n      <td>手选</td>\n      <td>复式</td>\n      <td>02$东方6+1-复式</td>\n      <td>8182</td>\n      <td>202406</td>\n    </tr>\n    <tr>\n      <th>8890</th>\n      <td>45444</td>\n      <td>31$黄浦</td>\n      <td>25$东方6+1</td>\n      <td>机选</td>\n      <td>单式</td>\n      <td>01$东方6+1-单式</td>\n      <td>4672</td>\n      <td>202406</td>\n    </tr>\n    <tr>\n      <th>8891</th>\n      <td>45444</td>\n      <td>31$黄浦</td>\n      <td>25$东方6+1</td>\n      <td>自动</td>\n      <td>单式</td>\n      <td>01$东方6+1-单式</td>\n      <td>14316</td>\n      <td>202406</td>\n    </tr>\n    <tr>\n      <th>8892</th>\n      <td>45444</td>\n      <td>31$黄浦</td>\n      <td>25$东方6+1</td>\n      <td>自动</td>\n      <td>复式</td>\n      <td>02$东方6+1-复式</td>\n      <td>1112</td>\n      <td>202406</td>\n    </tr>\n  </tbody>\n</table>\n<p>8893 rows × 8 columns</p>\n</div>"
     },
     "execution_count": 24,
     "metadata": {},
     "output_type": "execute_result"
    }
   ],
   "source": [
    "import pandas as pd\n",
    "data4 = pd.read_excel(r\"E:\\彩票数据\\山西\\山西月报\\2024年5月报\\月份-地市-游戏-选号方式-投注方式-游戏玩法.xlsx\", sheet_name=0)\n",
    "data4"
   ],
   "metadata": {
    "collapsed": false,
    "pycharm": {
     "name": "#%%\n"
    }
   }
  },
  {
   "cell_type": "code",
   "execution_count": 25,
   "outputs": [
    {
     "data": {
      "text/plain": "     2024年6月销量 2024年5月销量     环比增幅  各城市销量增长情况\n投注方式                                        \n包选       53.31      7.07  654.45%    46.2462\n单式    21558.68  22829.73   -5.57% -1271.0548\n即开    18298.60   9511.20   92.39%  8787.4000\n复式     9855.38  10582.59   -6.87%  -727.2106\n胆拖     4088.45   2268.66   80.21%  1819.7872",
      "text/html": "<div>\n<style scoped>\n    .dataframe tbody tr th:only-of-type {\n        vertical-align: middle;\n    }\n\n    .dataframe tbody tr th {\n        vertical-align: top;\n    }\n\n    .dataframe thead th {\n        text-align: right;\n    }\n</style>\n<table border=\"1\" class=\"dataframe\">\n  <thead>\n    <tr style=\"text-align: right;\">\n      <th></th>\n      <th>2024年6月销量</th>\n      <th>2024年5月销量</th>\n      <th>环比增幅</th>\n      <th>各城市销量增长情况</th>\n    </tr>\n    <tr>\n      <th>投注方式</th>\n      <th></th>\n      <th></th>\n      <th></th>\n      <th></th>\n    </tr>\n  </thead>\n  <tbody>\n    <tr>\n      <th>包选</th>\n      <td>53.31</td>\n      <td>7.07</td>\n      <td>654.45%</td>\n      <td>46.2462</td>\n    </tr>\n    <tr>\n      <th>单式</th>\n      <td>21558.68</td>\n      <td>22829.73</td>\n      <td>-5.57%</td>\n      <td>-1271.0548</td>\n    </tr>\n    <tr>\n      <th>即开</th>\n      <td>18298.60</td>\n      <td>9511.20</td>\n      <td>92.39%</td>\n      <td>8787.4000</td>\n    </tr>\n    <tr>\n      <th>复式</th>\n      <td>9855.38</td>\n      <td>10582.59</td>\n      <td>-6.87%</td>\n      <td>-727.2106</td>\n    </tr>\n    <tr>\n      <th>胆拖</th>\n      <td>4088.45</td>\n      <td>2268.66</td>\n      <td>80.21%</td>\n      <td>1819.7872</td>\n    </tr>\n  </tbody>\n</table>\n</div>"
     },
     "execution_count": 25,
     "metadata": {},
     "output_type": "execute_result"
    }
   ],
   "source": [
    "ppt=pd.DataFrame()\n",
    "a_data = data4[(data4['月份'] == 202406) ]\n",
    "b_data = data4[(data4['月份'] == 202405) ]\n",
    "ppt['2024年本月销量'] = a_data.groupby('投注方式')['销量'].sum()*1e-4\n",
    "ppt['2024年上月销量'] = b_data.groupby('投注方式')['销量'].sum()*1e-4\n",
    "ppt_49_excel=pd.DataFrame()\n",
    "ppt_49_excel['2024年6月销量'] = ppt['2024年本月销量'].apply(lambda x: '{:.2f}'.format(x))\n",
    "ppt_49_excel['2024年5月销量'] = ppt['2024年上月销量'].apply(lambda x: '{:.2f}'.format(x))\n",
    "ppt_49_excel['环比增幅'] = ( ppt['2024年本月销量']/ ppt['2024年上月销量']-1).apply(lambda x: '{:.2%}'.format(x))\n",
    "ppt_49_excel['各城市销量增长情况'] = ( ppt['2024年本月销量']- ppt['2024年上月销量'])\n",
    "# ppt_49_excel.to_excel(r\"E:\\彩票数据\\山西\\山西月报\\2024年%d月报\\ppt_49.xlsx\"%(month))\n",
    "ppt_49_excel"
   ],
   "metadata": {
    "collapsed": false,
    "pycharm": {
     "name": "#%%\n"
    }
   }
  }
 ],
 "metadata": {
  "kernelspec": {
   "display_name": "Python 3",
   "language": "python",
   "name": "python3"
  },
  "language_info": {
   "codemirror_mode": {
    "name": "ipython",
    "version": 2
   },
   "file_extension": ".py",
   "mimetype": "text/x-python",
   "name": "python",
   "nbconvert_exporter": "python",
   "pygments_lexer": "ipython2",
   "version": "2.7.6"
  }
 },
 "nbformat": 4,
 "nbformat_minor": 0
}