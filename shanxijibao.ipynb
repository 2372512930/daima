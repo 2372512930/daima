{
 "cells": [
  {
   "cell_type": "code",
   "execution_count": 1,
   "metadata": {
    "collapsed": true,
    "pycharm": {
     "name": "#%%\n"
    }
   },
   "outputs": [],
   "source": [
    "# E:\\彩票数据\\山西\\山西季报\\近4年上海统计数据.xlsx\n",
    "year = int(input(\"请输入年份：\"))\n",
    "month = int(input(\"请输入月份：\"))"
   ]
  },
  {
   "cell_type": "code",
   "execution_count": 2,
   "outputs": [
    {
     "data": {
      "text/plain": "         日期  地市     游戏       销量      月份   季度\n0     44166  中心    双色球    47502  202012  NaN\n1     44166  中心    七乐彩    20940  202012  NaN\n2     44166  中心   福彩3D     4874  202012  NaN\n3     44166  中心     选4     1556  202012  NaN\n4     44166  中心   15选5     8502  202012  NaN\n...     ...  ..    ...      ...     ...  ...\n5699  45474  黄浦    快乐8   951642  202407  NaN\n5700  45474  黄浦    即开票  3169700  202407  NaN\n5701  45474  黄浦     选4   186474  202407  NaN\n5702  45474  黄浦   15选5   120470  202407  NaN\n5703  45474  黄浦  东方6+1    23354  202407  NaN\n\n[5704 rows x 6 columns]",
      "text/html": "<div>\n<style scoped>\n    .dataframe tbody tr th:only-of-type {\n        vertical-align: middle;\n    }\n\n    .dataframe tbody tr th {\n        vertical-align: top;\n    }\n\n    .dataframe thead th {\n        text-align: right;\n    }\n</style>\n<table border=\"1\" class=\"dataframe\">\n  <thead>\n    <tr style=\"text-align: right;\">\n      <th></th>\n      <th>日期</th>\n      <th>地市</th>\n      <th>游戏</th>\n      <th>销量</th>\n      <th>月份</th>\n      <th>季度</th>\n    </tr>\n  </thead>\n  <tbody>\n    <tr>\n      <th>0</th>\n      <td>44166</td>\n      <td>中心</td>\n      <td>双色球</td>\n      <td>47502</td>\n      <td>202012</td>\n      <td>NaN</td>\n    </tr>\n    <tr>\n      <th>1</th>\n      <td>44166</td>\n      <td>中心</td>\n      <td>七乐彩</td>\n      <td>20940</td>\n      <td>202012</td>\n      <td>NaN</td>\n    </tr>\n    <tr>\n      <th>2</th>\n      <td>44166</td>\n      <td>中心</td>\n      <td>福彩3D</td>\n      <td>4874</td>\n      <td>202012</td>\n      <td>NaN</td>\n    </tr>\n    <tr>\n      <th>3</th>\n      <td>44166</td>\n      <td>中心</td>\n      <td>选4</td>\n      <td>1556</td>\n      <td>202012</td>\n      <td>NaN</td>\n    </tr>\n    <tr>\n      <th>4</th>\n      <td>44166</td>\n      <td>中心</td>\n      <td>15选5</td>\n      <td>8502</td>\n      <td>202012</td>\n      <td>NaN</td>\n    </tr>\n    <tr>\n      <th>...</th>\n      <td>...</td>\n      <td>...</td>\n      <td>...</td>\n      <td>...</td>\n      <td>...</td>\n      <td>...</td>\n    </tr>\n    <tr>\n      <th>5699</th>\n      <td>45474</td>\n      <td>黄浦</td>\n      <td>快乐8</td>\n      <td>951642</td>\n      <td>202407</td>\n      <td>NaN</td>\n    </tr>\n    <tr>\n      <th>5700</th>\n      <td>45474</td>\n      <td>黄浦</td>\n      <td>即开票</td>\n      <td>3169700</td>\n      <td>202407</td>\n      <td>NaN</td>\n    </tr>\n    <tr>\n      <th>5701</th>\n      <td>45474</td>\n      <td>黄浦</td>\n      <td>选4</td>\n      <td>186474</td>\n      <td>202407</td>\n      <td>NaN</td>\n    </tr>\n    <tr>\n      <th>5702</th>\n      <td>45474</td>\n      <td>黄浦</td>\n      <td>15选5</td>\n      <td>120470</td>\n      <td>202407</td>\n      <td>NaN</td>\n    </tr>\n    <tr>\n      <th>5703</th>\n      <td>45474</td>\n      <td>黄浦</td>\n      <td>东方6+1</td>\n      <td>23354</td>\n      <td>202407</td>\n      <td>NaN</td>\n    </tr>\n  </tbody>\n</table>\n<p>5704 rows × 6 columns</p>\n</div>"
     },
     "execution_count": 2,
     "metadata": {},
     "output_type": "execute_result"
    }
   ],
   "source": [
    "\n",
    "import numpy\n",
    "import pandas as pd\n",
    "data=pd.read_excel(\"E:\\彩票数据\\山西\\山西季报\\近4年上海统计数据.xlsx\",sheet_name=0)\n",
    "data"
   ],
   "metadata": {
    "collapsed": false,
    "pycharm": {
     "name": "#%%\n"
    }
   }
  },
  {
   "cell_type": "code",
   "execution_count": 3,
   "outputs": [
    {
     "data": {
      "text/plain": "    2024年第1季度销量 2024年第2季度销量\n总销量       14.42       15.73",
      "text/html": "<div>\n<style scoped>\n    .dataframe tbody tr th:only-of-type {\n        vertical-align: middle;\n    }\n\n    .dataframe tbody tr th {\n        vertical-align: top;\n    }\n\n    .dataframe thead th {\n        text-align: right;\n    }\n</style>\n<table border=\"1\" class=\"dataframe\">\n  <thead>\n    <tr style=\"text-align: right;\">\n      <th></th>\n      <th>2024年第1季度销量</th>\n      <th>2024年第2季度销量</th>\n    </tr>\n  </thead>\n  <tbody>\n    <tr>\n      <th>总销量</th>\n      <td>14.42</td>\n      <td>15.73</td>\n    </tr>\n  </tbody>\n</table>\n</div>"
     },
     "execution_count": 3,
     "metadata": {},
     "output_type": "execute_result"
    }
   ],
   "source": [
    "ppt_4_excel = pd.DataFrame()\n",
    "# 计算不同年份的销量总和\n",
    "a_data = data[data['季度'] == \"2024年第2季度\"]\n",
    "b_data = data[data['季度'] == \"2024年第1季度\"]\n",
    "c_data = data[data['季度'] == \"2023年第2季度\"]\n",
    "a_sum = a_data['销量'].sum() * 1e-8\n",
    "b_sum = b_data['销量'].sum() * 1e-8\n",
    "c_sum = c_data['销量'].sum() * 1e-8\n",
    "# 格式化销量数据并存入ppt_4_excel\n",
    "ppt_4_excel.loc['总销量', '2024年第1季度销量'] = '{:.2f}'.format(b_sum)\n",
    "ppt_4_excel.loc['总销量', '2024年第2季度销量'] = '{:.2f}'.format(a_sum)\n",
    "ppt_4_excel"
   ],
   "metadata": {
    "collapsed": false,
    "pycharm": {
     "name": "#%%\n"
    }
   }
  },
  {
   "cell_type": "code",
   "execution_count": 4,
   "outputs": [
    {
     "data": {
      "text/plain": "        月份       累计月份 累计销量(亿元)\n0  2024年4月  2023年1-5月    20.88\n1  2024年5月  2024年1-5月    24.77",
      "text/html": "<div>\n<style scoped>\n    .dataframe tbody tr th:only-of-type {\n        vertical-align: middle;\n    }\n\n    .dataframe tbody tr th {\n        vertical-align: top;\n    }\n\n    .dataframe thead th {\n        text-align: right;\n    }\n</style>\n<table border=\"1\" class=\"dataframe\">\n  <thead>\n    <tr style=\"text-align: right;\">\n      <th></th>\n      <th>月份</th>\n      <th>累计月份</th>\n      <th>累计销量(亿元)</th>\n    </tr>\n  </thead>\n  <tbody>\n    <tr>\n      <th>0</th>\n      <td>2024年4月</td>\n      <td>2023年1-5月</td>\n      <td>20.88</td>\n    </tr>\n    <tr>\n      <th>1</th>\n      <td>2024年5月</td>\n      <td>2024年1-5月</td>\n      <td>24.77</td>\n    </tr>\n  </tbody>\n</table>\n</div>"
     },
     "execution_count": 4,
     "metadata": {},
     "output_type": "execute_result"
    }
   ],
   "source": [
    "# 环比计算\n",
    "months=[\"01\",\"02\",\"03\",\"04\",\"05\",\"06\",\"07\",\"08\",\"09\",\"10\",\"11\",\"12\"]\n",
    "leiji_month1=[int(str(year)+months[i]) for i in range(month)]\n",
    "\n",
    "leiji_month2=[int(str(year-1)+months[i]) for i in range(month)]\n",
    "leiji_sale1=0\n",
    "leiji_sale2=0\n",
    "for i in range(month):\n",
    "    leiji_sale1+=data[data[\"月份\"]==leiji_month1[i]][\"销量\"].sum()\n",
    "    leiji_sale2+=data[data[\"月份\"]==leiji_month2[i]][\"销量\"].sum()\n",
    "ppt_4_excel=pd.DataFrame()\n",
    "if month!=1:\n",
    "    ppt_4_excel[\"月份\"]=[str(year)+\"年\"+str(month-1)+\"月\",str(year)+\"年\"+str(month)+\"月\"]\n",
    "else:\n",
    "    ppt_4_excel[\"月份\"]=[str(year-1)+\"年\"+str(12)+\"月\",str(year)+\"年\"+str(1)+\"月\"]\n",
    "ppt_4_excel[\"累计月份\"]=[\"%d年1-%d月\"%(year-1,month),\"%d年1-%d月\"%(year,month)]\n",
    "ppt_4_excel[\"累计销量(亿元)\"]=[leiji_sale2*1e-8,leiji_sale1*1e-8]\n",
    "ppt_4_excel[\"累计销量(亿元)\"]=ppt_4_excel[\"累计销量(亿元)\"].apply(lambda x:format(x,\".2f\"))\n",
    "# ppt_4_excel.to_excel(r\"E:\\彩票数据\\山西\\山西月报\\2024年%d月报\\ppt_4.xlsx\"%(month))\n",
    "ppt_4_excel"
   ],
   "metadata": {
    "collapsed": false,
    "pycharm": {
     "name": "#%%\n"
    }
   }
  },
  {
   "cell_type": "code",
   "execution_count": 5,
   "outputs": [
    {
     "data": {
      "text/plain": "季度\n2021年第1季度    110702.8932\n2021年第2季度    105385.5516\n2021年第3季度    100161.0366\n2021年第4季度    118148.3104\n2022年第1季度    101555.1832\n2022年第2季度     34947.9032\n2022年第3季度    100073.9428\n2022年第4季度    105569.0726\n2023年第1季度    111986.3782\n2023年第2季度    152842.0744\n2023年第3季度    157987.1454\n2023年第4季度    141742.7058\n2024年第1季度    144222.7698\n2024年第2季度    157302.2666\nName: 销量, dtype: float64"
     },
     "execution_count": 5,
     "metadata": {},
     "output_type": "execute_result"
    }
   ],
   "source": [
    "import pandas as pd\n",
    "data=pd.read_excel(r\"E:\\彩票数据\\山西\\山西季报\\近4年上海统计数据.xlsx\",sheet_name=0)\n",
    "data\n",
    "ppt_5_excel=pd.DataFrame()\n",
    "ppt_5_excel = data.groupby('季度')['销量'].sum()*1e-4\n",
    "ppt_5_excel\n",
    "# # ppt_7_excel.to_excel(r\"E:\\彩票数据\\山西\\山西月报\\2024年%d月报\\ppt_7.xlsx\"%(month))"
   ],
   "metadata": {
    "collapsed": false,
    "pycharm": {
     "name": "#%%\n"
    }
   }
  },
  {
   "cell_type": "code",
   "execution_count": 6,
   "outputs": [
    {
     "name": "stdout",
     "output_type": "stream",
     "text": [
      "2024年游戏  双色球  销量:558449498\n",
      "环比上季度:4.94%\n",
      "同比去年本季度:-1.35%\n",
      "\n",
      "2024年游戏  福彩3D  销量:290743578\n",
      "环比上季度:58.52%\n",
      "同比去年本季度:65.23%\n",
      "\n",
      "2024年游戏  七乐彩  销量:7835966\n",
      "环比上季度:10.42%\n",
      "同比去年本季度:-0.15%\n",
      "\n",
      "2024年游戏  即开票  销量:471708300\n",
      "环比上季度:-10.32%\n",
      "同比去年本季度:-18.08%\n",
      "\n",
      "2024年游戏  快乐8  销量:205471770\n",
      "环比上季度:29.46%\n",
      "同比去年本季度:24.68%\n",
      "\n",
      "2024年游戏  15选5  销量:9195088\n",
      "环比上季度:22.80%\n",
      "同比去年本季度:18.84%\n",
      "\n",
      "2024年游戏  东方6+1  销量:4003512\n",
      "环比上季度:12.01%\n",
      "同比去年本季度:4.03%\n",
      "\n",
      "2024年游戏  选4  销量:25614954\n",
      "环比上季度:7.52%\n",
      "同比去年本季度:-2.68%\n",
      "\n",
      "2024年游戏  地方游戏  销量:0\n",
      "环比上季度:nan%\n",
      "同比去年本季度:nan%\n",
      "\n"
     ]
    },
    {
     "name": "stderr",
     "output_type": "stream",
     "text": [
      "D:\\biye\\python37\\lib\\site-packages\\ipykernel_launcher.py:30: RuntimeWarning: invalid value encountered in longlong_scalars\n",
      "D:\\biye\\python37\\lib\\site-packages\\ipykernel_launcher.py:47: RuntimeWarning: invalid value encountered in longlong_scalars\n"
     ]
    },
    {
     "data": {
      "text/plain": "      游戏 2024年5月销量(亿元)\n0    双色球    53215.7810\n1   福彩3D    18341.0618\n2    七乐彩      709.6636\n3    即开票    52596.2100\n4    快乐8    15871.3756\n5   15选5      748.7888\n6  东方6+1      357.4388\n7     选4     2382.4502\n8   地方游戏        0.0000",
      "text/html": "<div>\n<style scoped>\n    .dataframe tbody tr th:only-of-type {\n        vertical-align: middle;\n    }\n\n    .dataframe tbody tr th {\n        vertical-align: top;\n    }\n\n    .dataframe thead th {\n        text-align: right;\n    }\n</style>\n<table border=\"1\" class=\"dataframe\">\n  <thead>\n    <tr style=\"text-align: right;\">\n      <th></th>\n      <th>游戏</th>\n      <th>2024年5月销量(亿元)</th>\n    </tr>\n  </thead>\n  <tbody>\n    <tr>\n      <th>0</th>\n      <td>双色球</td>\n      <td>53215.7810</td>\n    </tr>\n    <tr>\n      <th>1</th>\n      <td>福彩3D</td>\n      <td>18341.0618</td>\n    </tr>\n    <tr>\n      <th>2</th>\n      <td>七乐彩</td>\n      <td>709.6636</td>\n    </tr>\n    <tr>\n      <th>3</th>\n      <td>即开票</td>\n      <td>52596.2100</td>\n    </tr>\n    <tr>\n      <th>4</th>\n      <td>快乐8</td>\n      <td>15871.3756</td>\n    </tr>\n    <tr>\n      <th>5</th>\n      <td>15选5</td>\n      <td>748.7888</td>\n    </tr>\n    <tr>\n      <th>6</th>\n      <td>东方6+1</td>\n      <td>357.4388</td>\n    </tr>\n    <tr>\n      <th>7</th>\n      <td>选4</td>\n      <td>2382.4502</td>\n    </tr>\n    <tr>\n      <th>8</th>\n      <td>地方游戏</td>\n      <td>0.0000</td>\n    </tr>\n  </tbody>\n</table>\n</div>"
     },
     "execution_count": 6,
     "metadata": {},
     "output_type": "execute_result"
    }
   ],
   "source": [
    "import_game_list=[\"双色球\",\"福彩3D\",\"七乐彩\",\"即开票\",\"快乐8\",\"15选5\",\"东方6+1\",\"选4\"]\n",
    "game_list=list(data[\"游戏\"])\n",
    "new_game_list=[]\n",
    "# 将福彩游戏进行区分（其他的本地游戏进行统一命名）\n",
    "for i in game_list:\n",
    "    if i in import_game_list:\n",
    "        new_game_list.append(i)\n",
    "    else:\n",
    "        #new_game_list.append(\"地方游戏\")\n",
    "        if i ==\"快乐8(新)\":\n",
    "            new_game_list.append(\"快乐8\")\n",
    "        else:\n",
    "            new_game_list.append(\"地方游戏\")\n",
    "data[\"gamename\"]=new_game_list\n",
    "data[\"gamename\"].value_counts()\n",
    "game_name=[\"双色球\",\"福彩3D\",\"七乐彩\",\"即开票\",\"快乐8\",\"15选5\",\"东方6+1\",\"选4\",\"地方游戏\"]\n",
    "sales=[]\n",
    "huanbis=[]\n",
    "tongbis=[]\n",
    "for i in game_name:\n",
    "    #2023年6月游戏i总销量\n",
    "    data_sale=data.loc[data[\"季度\"]==\"2024年第2季度\"].loc[data[\"gamename\"]==i][\"销量\"]\n",
    "    a=data_sale.sum()\n",
    "    #2023年5月游戏i总销量\n",
    "    data_sale=data.loc[data[\"季度\"]==\"2024年第1季度\"].loc[data[\"gamename\"]==i][\"销量\"]\n",
    "    b=data_sale.sum()\n",
    "    #2022年6月游戏i总销量\n",
    "    data_sale=data.loc[data[\"季度\"]==\"2023年第2季度\"].loc[data[\"gamename\"]==i][\"销量\"]\n",
    "    c=data_sale.sum()\n",
    "    huanbi,tongbi=a/b-1,a/c-1\n",
    "    sales.append(a)\n",
    "    huanbis.append(huanbi)\n",
    "    tongbis.append(tongbi)\n",
    "    #print(\"2023年5月总销量:%d\\n2023年4月总销量:%d\\n2022年5月总销量:%d\"%(a,b,c))\n",
    "    print(\"%d年游戏  %s  销量:%d\"%(year,i,a))\n",
    "    print(\"环比上季度:%.2f%%\\n同比去年本季度:%.2f%%\\n\"%(huanbi*100,tongbi*100))\n",
    "game_sale1=[]\n",
    "game_sale2=[]\n",
    "game_sale_change=[]\n",
    "game_sale_huanbi_add=[]\n",
    "for i in game_name:\n",
    "    a=data.loc[data[\"季度\"]==\"2024年第2季度\"].loc[data[\"gamename\"]==i][\"销量\"].sum()\n",
    "    b=data.loc[data[\"季度\"]==\"2024年第1季度\"].loc[data[\"gamename\"]==i][\"销量\"].sum()\n",
    "    game_sale1.append(a*1e-4)\n",
    "    game_sale2.append(b*1e-4)\n",
    "    game_sale_change.append((b-a)*1e-4)\n",
    "    game_sale_huanbi_add.append(b/a-1)\n",
    "ppt_6_excel=pd.DataFrame()\n",
    "ppt_6_excel[\"游戏\"]=game_name\n",
    "ppt_6_excel[\"%d年%d月销量(亿元)\"%(year,month)]=game_sale2\n",
    "ppt_6_excel[\"%d年%d月销量(亿元)\"%(year,month)]=ppt_6_excel[\"%d年%d月销量(亿元)\"%(year,month)].apply(lambda x:format(x,\".4f\"))\n",
    "# ppt_6_excel.to_excel(r\"E:\\彩票数据\\山西\\山西月报\\2024年%d月报\\ppt_6.xlsx\"%(month))\n",
    "ppt_6_excel"
   ],
   "metadata": {
    "collapsed": false,
    "pycharm": {
     "name": "#%%\n"
    }
   }
  },
  {
   "cell_type": "code",
   "execution_count": 7,
   "outputs": [
    {
     "name": "stderr",
     "output_type": "stream",
     "text": [
      "D:\\biye\\python37\\lib\\site-packages\\ipykernel_launcher.py:20: RuntimeWarning: invalid value encountered in longlong_scalars\n"
     ]
    },
    {
     "data": {
      "text/plain": "      游戏 2023年1-5月累计销量(亿元) 2024年1-5月累计销量(亿元)   同比增长% gameName 同比去年累计增长金额(亿元)\n0    双色球              8.73              9.13   4.58%      双色球           0.40\n1   福彩3D              2.92              3.95  35.39%     福彩3D           1.03\n2    七乐彩              0.12              0.12   2.78%      七乐彩           0.00\n3    即开票              6.58              8.15  23.83%      即开票           1.57\n4    快乐8              1.98              2.82  42.50%      快乐8           0.84\n5   15选5              0.12              0.13   9.80%     15选5           0.01\n6  东方6+1              0.06              0.06   2.18%    东方6+1           0.00\n7     选4              0.38              0.41   7.01%       选4           0.03\n8   地方游戏              0.00              0.00    nan%     地方游戏           0.00",
      "text/html": "<div>\n<style scoped>\n    .dataframe tbody tr th:only-of-type {\n        vertical-align: middle;\n    }\n\n    .dataframe tbody tr th {\n        vertical-align: top;\n    }\n\n    .dataframe thead th {\n        text-align: right;\n    }\n</style>\n<table border=\"1\" class=\"dataframe\">\n  <thead>\n    <tr style=\"text-align: right;\">\n      <th></th>\n      <th>游戏</th>\n      <th>2023年1-5月累计销量(亿元)</th>\n      <th>2024年1-5月累计销量(亿元)</th>\n      <th>同比增长%</th>\n      <th>gameName</th>\n      <th>同比去年累计增长金额(亿元)</th>\n    </tr>\n  </thead>\n  <tbody>\n    <tr>\n      <th>0</th>\n      <td>双色球</td>\n      <td>8.73</td>\n      <td>9.13</td>\n      <td>4.58%</td>\n      <td>双色球</td>\n      <td>0.40</td>\n    </tr>\n    <tr>\n      <th>1</th>\n      <td>福彩3D</td>\n      <td>2.92</td>\n      <td>3.95</td>\n      <td>35.39%</td>\n      <td>福彩3D</td>\n      <td>1.03</td>\n    </tr>\n    <tr>\n      <th>2</th>\n      <td>七乐彩</td>\n      <td>0.12</td>\n      <td>0.12</td>\n      <td>2.78%</td>\n      <td>七乐彩</td>\n      <td>0.00</td>\n    </tr>\n    <tr>\n      <th>3</th>\n      <td>即开票</td>\n      <td>6.58</td>\n      <td>8.15</td>\n      <td>23.83%</td>\n      <td>即开票</td>\n      <td>1.57</td>\n    </tr>\n    <tr>\n      <th>4</th>\n      <td>快乐8</td>\n      <td>1.98</td>\n      <td>2.82</td>\n      <td>42.50%</td>\n      <td>快乐8</td>\n      <td>0.84</td>\n    </tr>\n    <tr>\n      <th>5</th>\n      <td>15选5</td>\n      <td>0.12</td>\n      <td>0.13</td>\n      <td>9.80%</td>\n      <td>15选5</td>\n      <td>0.01</td>\n    </tr>\n    <tr>\n      <th>6</th>\n      <td>东方6+1</td>\n      <td>0.06</td>\n      <td>0.06</td>\n      <td>2.18%</td>\n      <td>东方6+1</td>\n      <td>0.00</td>\n    </tr>\n    <tr>\n      <th>7</th>\n      <td>选4</td>\n      <td>0.38</td>\n      <td>0.41</td>\n      <td>7.01%</td>\n      <td>选4</td>\n      <td>0.03</td>\n    </tr>\n    <tr>\n      <th>8</th>\n      <td>地方游戏</td>\n      <td>0.00</td>\n      <td>0.00</td>\n      <td>nan%</td>\n      <td>地方游戏</td>\n      <td>0.00</td>\n    </tr>\n  </tbody>\n</table>\n</div>"
     },
     "execution_count": 7,
     "metadata": {},
     "output_type": "execute_result"
    }
   ],
   "source": [
    "### 生成本年本月累计月份表\n",
    "def get_add_months(y,m):\n",
    "    ###y:year  m:month\n",
    "    return [int(str(y)+months[i]) for i in range(m)]\n",
    "game_name=[\"双色球\",\"福彩3D\",\"七乐彩\",\"即开票\",\"快乐8\",\"15选5\",\"东方6+1\",\"选4\",\"地方游戏\"]\n",
    "leiji_month1=get_add_months(year-1,month)\n",
    "leiji_month2=get_add_months(year,month)\n",
    "leiji_game_sale1=[]\n",
    "leiji_game_sale2=[]\n",
    "leiji_game_sale_change=[]\n",
    "leiji_game_sale_tongbi_add=[]\n",
    "for i in game_name:\n",
    "    a,b=0,0\n",
    "    for j in range(len(leiji_month1)):\n",
    "        a=a+data.loc[data[\"月份\"]==leiji_month1[j]].loc[data[\"gamename\"]==i][\"销量\"].sum()\n",
    "        b=b+data.loc[data[\"月份\"]==leiji_month2[j]].loc[data[\"gamename\"]==i][\"销量\"].sum()\n",
    "    leiji_game_sale1.append(a*1e-8)\n",
    "    leiji_game_sale2.append(b*1e-8)\n",
    "    leiji_game_sale_change.append((b-a)*1e-8)\n",
    "    leiji_game_sale_tongbi_add.append(b/a-1)\n",
    "ppt_7_excel=pd.DataFrame()\n",
    "ppt_7_excel[\"游戏\"]=game_name\n",
    "ppt_7_excel[\"%d年1-%d月累计销量(亿元)\"%(year-1,month)]=leiji_game_sale1\n",
    "ppt_7_excel[\"%d年1-%d月累计销量(亿元)\"%(year-1,month)]=ppt_7_excel[\"%d年1-%d月累计销量(亿元)\"%(year-1,month)].apply(lambda x:format(x,\".2f\"))\n",
    "ppt_7_excel[\"%d年1-%d月累计销量(亿元)\"%(year,month)]=leiji_game_sale2\n",
    "ppt_7_excel[\"%d年1-%d月累计销量(亿元)\"%(year,month)]=ppt_7_excel[\"%d年1-%d月累计销量(亿元)\"%(year,month)].apply(lambda x:format(x,\".2f\"))\n",
    "ppt_7_excel[\"同比增长%\"]=leiji_game_sale_tongbi_add\n",
    "ppt_7_excel[\"同比增长%\"]=ppt_7_excel[\"同比增长%\"].apply(lambda x:format(x,\".2%\"))\n",
    "ppt_7_excel[\"gameName\"]=game_name\n",
    "ppt_7_excel[\"同比去年累计增长金额(亿元)\"]=leiji_game_sale_change\n",
    "ppt_7_excel[\"同比去年累计增长金额(亿元)\"]=ppt_7_excel[\"同比去年累计增长金额(亿元)\"].apply(lambda x:format(x,\".2f\"))\n",
    "# ppt_7_excel.to_excel(r\"E:\\彩票数据\\山西\\山西月报\\2024年%d月报\\ppt_7.xlsx\"%(month))\n",
    "ppt_7_excel"
   ],
   "metadata": {
    "collapsed": false,
    "pycharm": {
     "name": "#%%\n"
    }
   }
  },
  {
   "cell_type": "code",
   "execution_count": 8,
   "outputs": [
    {
     "data": {
      "text/plain": "   2024年第2季度销量 2024年第1季度销量     环比增幅  各城市销量增长情况\n地市                                            \n中心    10331.17     9151.13   12.90%  1180.0394\n嘉定    13928.38    12041.81   15.67%  1886.5776\n奉贤     6893.02     6716.10    2.63%   176.9238\n宝山    12224.17    11746.52    4.07%   477.6512\n崇明     2490.95     2303.38    8.14%   187.5740\n徐汇     4877.41     4787.30    1.88%    90.1140\n普陀     6140.70     5592.70    9.80%   547.9932\n杨浦     6034.79     5136.21   17.49%   898.5782\n松江    14890.83    13533.56   10.03%  1357.2632\n浦东    31481.57    29412.37    7.04%  2069.2062\n渠道      244.00      563.95  -56.73%  -319.9500\n虹口     4244.00     3846.19   10.34%   397.8058\n金山     4494.44     4098.27    9.67%   396.1658\n长宁     4925.73     3816.34   29.07%  1109.3926\n闵行    15594.59    14090.42   10.68%  1504.1726\n青浦     7426.07     6920.37    7.31%   505.6974\n静安     6969.11     6660.13    4.64%   308.9790\n黄浦     4111.34     3806.03    8.02%   305.3128",
      "text/html": "<div>\n<style scoped>\n    .dataframe tbody tr th:only-of-type {\n        vertical-align: middle;\n    }\n\n    .dataframe tbody tr th {\n        vertical-align: top;\n    }\n\n    .dataframe thead th {\n        text-align: right;\n    }\n</style>\n<table border=\"1\" class=\"dataframe\">\n  <thead>\n    <tr style=\"text-align: right;\">\n      <th></th>\n      <th>2024年第2季度销量</th>\n      <th>2024年第1季度销量</th>\n      <th>环比增幅</th>\n      <th>各城市销量增长情况</th>\n    </tr>\n    <tr>\n      <th>地市</th>\n      <th></th>\n      <th></th>\n      <th></th>\n      <th></th>\n    </tr>\n  </thead>\n  <tbody>\n    <tr>\n      <th>中心</th>\n      <td>10331.17</td>\n      <td>9151.13</td>\n      <td>12.90%</td>\n      <td>1180.0394</td>\n    </tr>\n    <tr>\n      <th>嘉定</th>\n      <td>13928.38</td>\n      <td>12041.81</td>\n      <td>15.67%</td>\n      <td>1886.5776</td>\n    </tr>\n    <tr>\n      <th>奉贤</th>\n      <td>6893.02</td>\n      <td>6716.10</td>\n      <td>2.63%</td>\n      <td>176.9238</td>\n    </tr>\n    <tr>\n      <th>宝山</th>\n      <td>12224.17</td>\n      <td>11746.52</td>\n      <td>4.07%</td>\n      <td>477.6512</td>\n    </tr>\n    <tr>\n      <th>崇明</th>\n      <td>2490.95</td>\n      <td>2303.38</td>\n      <td>8.14%</td>\n      <td>187.5740</td>\n    </tr>\n    <tr>\n      <th>徐汇</th>\n      <td>4877.41</td>\n      <td>4787.30</td>\n      <td>1.88%</td>\n      <td>90.1140</td>\n    </tr>\n    <tr>\n      <th>普陀</th>\n      <td>6140.70</td>\n      <td>5592.70</td>\n      <td>9.80%</td>\n      <td>547.9932</td>\n    </tr>\n    <tr>\n      <th>杨浦</th>\n      <td>6034.79</td>\n      <td>5136.21</td>\n      <td>17.49%</td>\n      <td>898.5782</td>\n    </tr>\n    <tr>\n      <th>松江</th>\n      <td>14890.83</td>\n      <td>13533.56</td>\n      <td>10.03%</td>\n      <td>1357.2632</td>\n    </tr>\n    <tr>\n      <th>浦东</th>\n      <td>31481.57</td>\n      <td>29412.37</td>\n      <td>7.04%</td>\n      <td>2069.2062</td>\n    </tr>\n    <tr>\n      <th>渠道</th>\n      <td>244.00</td>\n      <td>563.95</td>\n      <td>-56.73%</td>\n      <td>-319.9500</td>\n    </tr>\n    <tr>\n      <th>虹口</th>\n      <td>4244.00</td>\n      <td>3846.19</td>\n      <td>10.34%</td>\n      <td>397.8058</td>\n    </tr>\n    <tr>\n      <th>金山</th>\n      <td>4494.44</td>\n      <td>4098.27</td>\n      <td>9.67%</td>\n      <td>396.1658</td>\n    </tr>\n    <tr>\n      <th>长宁</th>\n      <td>4925.73</td>\n      <td>3816.34</td>\n      <td>29.07%</td>\n      <td>1109.3926</td>\n    </tr>\n    <tr>\n      <th>闵行</th>\n      <td>15594.59</td>\n      <td>14090.42</td>\n      <td>10.68%</td>\n      <td>1504.1726</td>\n    </tr>\n    <tr>\n      <th>青浦</th>\n      <td>7426.07</td>\n      <td>6920.37</td>\n      <td>7.31%</td>\n      <td>505.6974</td>\n    </tr>\n    <tr>\n      <th>静安</th>\n      <td>6969.11</td>\n      <td>6660.13</td>\n      <td>4.64%</td>\n      <td>308.9790</td>\n    </tr>\n    <tr>\n      <th>黄浦</th>\n      <td>4111.34</td>\n      <td>3806.03</td>\n      <td>8.02%</td>\n      <td>305.3128</td>\n    </tr>\n  </tbody>\n</table>\n</div>"
     },
     "execution_count": 8,
     "metadata": {},
     "output_type": "execute_result"
    }
   ],
   "source": [
    "ppt=pd.DataFrame()\n",
    "a_data = data[(data['季度'] == \"2024年第2季度\") ]\n",
    "b_data = data[(data['季度'] == \"2024年第1季度\") ]\n",
    "ppt['2024年本季度销量'] = a_data.groupby('地市')['销量'].sum()*1e-4\n",
    "ppt['2024年上季度销量'] = b_data.groupby('地市')['销量'].sum()*1e-4\n",
    "ppt_8_excel=pd.DataFrame()\n",
    "ppt_8_excel['2024年第2季度销量'] = ppt['2024年本季度销量'].apply(lambda x: '{:.2f}'.format(x))\n",
    "ppt_8_excel['2024年第1季度销量'] = ppt['2024年上季度销量'].apply(lambda x: '{:.2f}'.format(x))\n",
    "ppt_8_excel['环比增幅'] = ( ppt['2024年本季度销量']/ ppt['2024年上季度销量']-1).apply(lambda x: '{:.2%}'.format(x))\n",
    "ppt_8_excel['各城市销量增长情况'] = ( ppt['2024年本季度销量']- ppt['2024年上季度销量'])\n",
    "# ppt_8_excel.to_excel(r\"E:\\彩票数据\\山西\\山西月报\\2024年%d月报\\ppt_8.xlsx\"%(month))\n",
    "ppt_8_excel"
   ],
   "metadata": {
    "collapsed": false,
    "pycharm": {
     "name": "#%%\n"
    }
   }
  },
  {
   "cell_type": "code",
   "execution_count": 9,
   "outputs": [
    {
     "data": {
      "text/plain": "        双色球       即开票      快乐8     福彩3D     七乐彩\n地市                                             \n中心  7945.90       nan      nan  1510.55  294.51\n嘉定  3831.94   4778.02  2450.05  2668.32   40.02\n奉贤  2324.45   2051.97  1041.58  1347.69   14.95\n宝山  4164.43   3914.33  1802.33  1975.07   42.86\n崇明   775.33    718.94   230.54   639.54    9.82\n徐汇  2082.78   1491.44   452.60   643.39   25.79\n普陀  2506.51   1649.56   596.26  1157.18   29.87\n杨浦  2028.37   1858.96   898.93  1025.92   22.96\n松江  4299.45   4612.11  2808.81  2959.22   38.35\n浦东  9986.41  10590.91  4849.96  5314.80   91.10\n虹口  1573.37   1417.08   510.21   557.60   19.15\n金山  1658.72   1138.86   543.72  1020.61   14.96\n长宁  1484.07   1584.06   326.41  1407.92   17.17\n闵行  5127.10   4904.72  1858.54  3302.87   50.07\n青浦  2196.64   2533.88   922.52  1677.15   14.98\n静安  2417.73   2252.44   856.30  1182.50   40.84\n黄浦  1441.76   1429.55   398.42   684.02   16.21",
      "text/html": "<div>\n<style scoped>\n    .dataframe tbody tr th:only-of-type {\n        vertical-align: middle;\n    }\n\n    .dataframe tbody tr th {\n        vertical-align: top;\n    }\n\n    .dataframe thead th {\n        text-align: right;\n    }\n</style>\n<table border=\"1\" class=\"dataframe\">\n  <thead>\n    <tr style=\"text-align: right;\">\n      <th></th>\n      <th>双色球</th>\n      <th>即开票</th>\n      <th>快乐8</th>\n      <th>福彩3D</th>\n      <th>七乐彩</th>\n    </tr>\n    <tr>\n      <th>地市</th>\n      <th></th>\n      <th></th>\n      <th></th>\n      <th></th>\n      <th></th>\n    </tr>\n  </thead>\n  <tbody>\n    <tr>\n      <th>中心</th>\n      <td>7945.90</td>\n      <td>nan</td>\n      <td>nan</td>\n      <td>1510.55</td>\n      <td>294.51</td>\n    </tr>\n    <tr>\n      <th>嘉定</th>\n      <td>3831.94</td>\n      <td>4778.02</td>\n      <td>2450.05</td>\n      <td>2668.32</td>\n      <td>40.02</td>\n    </tr>\n    <tr>\n      <th>奉贤</th>\n      <td>2324.45</td>\n      <td>2051.97</td>\n      <td>1041.58</td>\n      <td>1347.69</td>\n      <td>14.95</td>\n    </tr>\n    <tr>\n      <th>宝山</th>\n      <td>4164.43</td>\n      <td>3914.33</td>\n      <td>1802.33</td>\n      <td>1975.07</td>\n      <td>42.86</td>\n    </tr>\n    <tr>\n      <th>崇明</th>\n      <td>775.33</td>\n      <td>718.94</td>\n      <td>230.54</td>\n      <td>639.54</td>\n      <td>9.82</td>\n    </tr>\n    <tr>\n      <th>徐汇</th>\n      <td>2082.78</td>\n      <td>1491.44</td>\n      <td>452.60</td>\n      <td>643.39</td>\n      <td>25.79</td>\n    </tr>\n    <tr>\n      <th>普陀</th>\n      <td>2506.51</td>\n      <td>1649.56</td>\n      <td>596.26</td>\n      <td>1157.18</td>\n      <td>29.87</td>\n    </tr>\n    <tr>\n      <th>杨浦</th>\n      <td>2028.37</td>\n      <td>1858.96</td>\n      <td>898.93</td>\n      <td>1025.92</td>\n      <td>22.96</td>\n    </tr>\n    <tr>\n      <th>松江</th>\n      <td>4299.45</td>\n      <td>4612.11</td>\n      <td>2808.81</td>\n      <td>2959.22</td>\n      <td>38.35</td>\n    </tr>\n    <tr>\n      <th>浦东</th>\n      <td>9986.41</td>\n      <td>10590.91</td>\n      <td>4849.96</td>\n      <td>5314.80</td>\n      <td>91.10</td>\n    </tr>\n    <tr>\n      <th>虹口</th>\n      <td>1573.37</td>\n      <td>1417.08</td>\n      <td>510.21</td>\n      <td>557.60</td>\n      <td>19.15</td>\n    </tr>\n    <tr>\n      <th>金山</th>\n      <td>1658.72</td>\n      <td>1138.86</td>\n      <td>543.72</td>\n      <td>1020.61</td>\n      <td>14.96</td>\n    </tr>\n    <tr>\n      <th>长宁</th>\n      <td>1484.07</td>\n      <td>1584.06</td>\n      <td>326.41</td>\n      <td>1407.92</td>\n      <td>17.17</td>\n    </tr>\n    <tr>\n      <th>闵行</th>\n      <td>5127.10</td>\n      <td>4904.72</td>\n      <td>1858.54</td>\n      <td>3302.87</td>\n      <td>50.07</td>\n    </tr>\n    <tr>\n      <th>青浦</th>\n      <td>2196.64</td>\n      <td>2533.88</td>\n      <td>922.52</td>\n      <td>1677.15</td>\n      <td>14.98</td>\n    </tr>\n    <tr>\n      <th>静安</th>\n      <td>2417.73</td>\n      <td>2252.44</td>\n      <td>856.30</td>\n      <td>1182.50</td>\n      <td>40.84</td>\n    </tr>\n    <tr>\n      <th>黄浦</th>\n      <td>1441.76</td>\n      <td>1429.55</td>\n      <td>398.42</td>\n      <td>684.02</td>\n      <td>16.21</td>\n    </tr>\n  </tbody>\n</table>\n</div>"
     },
     "execution_count": 9,
     "metadata": {},
     "output_type": "execute_result"
    }
   ],
   "source": [
    "ppt=pd.DataFrame()\n",
    "a_data = data[(data['季度'] == \"2024年第2季度\") ]\n",
    "games = ['双色球', '即开票', '快乐8', '福彩3D', '七乐彩', '地方游戏']\n",
    "for game in games:\n",
    "    ppt[f'{game}销量'] = a_data[a_data['游戏'] == game].groupby('地市')['销量'].sum() * 1e-4\n",
    "ppt_10_excel=pd.DataFrame()\n",
    "ppt_10_excel['双色球'] = ppt['双色球销量'].apply(lambda x: '{:.2f}'.format(x))\n",
    "ppt_10_excel['即开票'] = ppt['即开票销量'].apply(lambda x: '{:.2f}'.format(x))\n",
    "ppt_10_excel['快乐8'] = ppt['快乐8销量'].apply(lambda x: '{:.2f}'.format(x))\n",
    "ppt_10_excel['福彩3D'] = ppt['福彩3D销量'].apply(lambda x: '{:.2f}'.format(x))\n",
    "ppt_10_excel['七乐彩'] = ppt['七乐彩销量'].apply(lambda x: '{:.2f}'.format(x))\n",
    "# ppt_10_excel.to_excel(r\"E:\\彩票数据\\山西\\山西月报\\2024年%d月报\\ppt_10.xlsx\"%(month))\n",
    "ppt_10_excel"
   ],
   "metadata": {
    "collapsed": false,
    "pycharm": {
     "name": "#%%\n"
    }
   }
  },
  {
   "cell_type": "code",
   "execution_count": 10,
   "outputs": [
    {
     "data": {
      "text/plain": "         日期     地市        游戏        票价区间       销量         季度\n0     45413  31$中心    01$双色球        02$2  2678178  2024年第2季度\n1     45413  31$中心    01$双色球      04$4-8  4183692  2024年第2季度\n2     45413  31$中心    01$双色球       05$10  5369460  2024年第2季度\n3     45413  31$中心    01$双色球    06$12-18  1963584  2024年第2季度\n4     45413  31$中心    01$双色球       07$20  2220900  2024年第2季度\n...     ...    ...       ...         ...      ...        ...\n2373  45444  31$黄浦  25$东方6+1    08$22-48     4286  2024年第2季度\n2374  45444  31$黄浦  25$东方6+1    09$50-98      392  2024年第2季度\n2375  45444  31$黄浦  25$东方6+1  10$100-198      794  2024年第2季度\n2376  45444  31$黄浦  25$东方6+1  11$200-998     3170  2024年第2季度\n2377  45444  31$黄浦  25$东方6+1   12$1000以上     2592  2024年第2季度\n\n[2378 rows x 6 columns]",
      "text/html": "<div>\n<style scoped>\n    .dataframe tbody tr th:only-of-type {\n        vertical-align: middle;\n    }\n\n    .dataframe tbody tr th {\n        vertical-align: top;\n    }\n\n    .dataframe thead th {\n        text-align: right;\n    }\n</style>\n<table border=\"1\" class=\"dataframe\">\n  <thead>\n    <tr style=\"text-align: right;\">\n      <th></th>\n      <th>日期</th>\n      <th>地市</th>\n      <th>游戏</th>\n      <th>票价区间</th>\n      <th>销量</th>\n      <th>季度</th>\n    </tr>\n  </thead>\n  <tbody>\n    <tr>\n      <th>0</th>\n      <td>45413</td>\n      <td>31$中心</td>\n      <td>01$双色球</td>\n      <td>02$2</td>\n      <td>2678178</td>\n      <td>2024年第2季度</td>\n    </tr>\n    <tr>\n      <th>1</th>\n      <td>45413</td>\n      <td>31$中心</td>\n      <td>01$双色球</td>\n      <td>04$4-8</td>\n      <td>4183692</td>\n      <td>2024年第2季度</td>\n    </tr>\n    <tr>\n      <th>2</th>\n      <td>45413</td>\n      <td>31$中心</td>\n      <td>01$双色球</td>\n      <td>05$10</td>\n      <td>5369460</td>\n      <td>2024年第2季度</td>\n    </tr>\n    <tr>\n      <th>3</th>\n      <td>45413</td>\n      <td>31$中心</td>\n      <td>01$双色球</td>\n      <td>06$12-18</td>\n      <td>1963584</td>\n      <td>2024年第2季度</td>\n    </tr>\n    <tr>\n      <th>4</th>\n      <td>45413</td>\n      <td>31$中心</td>\n      <td>01$双色球</td>\n      <td>07$20</td>\n      <td>2220900</td>\n      <td>2024年第2季度</td>\n    </tr>\n    <tr>\n      <th>...</th>\n      <td>...</td>\n      <td>...</td>\n      <td>...</td>\n      <td>...</td>\n      <td>...</td>\n      <td>...</td>\n    </tr>\n    <tr>\n      <th>2373</th>\n      <td>45444</td>\n      <td>31$黄浦</td>\n      <td>25$东方6+1</td>\n      <td>08$22-48</td>\n      <td>4286</td>\n      <td>2024年第2季度</td>\n    </tr>\n    <tr>\n      <th>2374</th>\n      <td>45444</td>\n      <td>31$黄浦</td>\n      <td>25$东方6+1</td>\n      <td>09$50-98</td>\n      <td>392</td>\n      <td>2024年第2季度</td>\n    </tr>\n    <tr>\n      <th>2375</th>\n      <td>45444</td>\n      <td>31$黄浦</td>\n      <td>25$东方6+1</td>\n      <td>10$100-198</td>\n      <td>794</td>\n      <td>2024年第2季度</td>\n    </tr>\n    <tr>\n      <th>2376</th>\n      <td>45444</td>\n      <td>31$黄浦</td>\n      <td>25$东方6+1</td>\n      <td>11$200-998</td>\n      <td>3170</td>\n      <td>2024年第2季度</td>\n    </tr>\n    <tr>\n      <th>2377</th>\n      <td>45444</td>\n      <td>31$黄浦</td>\n      <td>25$东方6+1</td>\n      <td>12$1000以上</td>\n      <td>2592</td>\n      <td>2024年第2季度</td>\n    </tr>\n  </tbody>\n</table>\n<p>2378 rows × 6 columns</p>\n</div>"
     },
     "execution_count": 10,
     "metadata": {},
     "output_type": "execute_result"
    }
   ],
   "source": [
    "import pandas as pd\n",
    "data1=pd.read_excel(r\"E:\\彩票数据\\山西\\山西季报\\月份-地市-游戏-票单价.xlsx\",sheet_name=0)\n",
    "data1"
   ],
   "metadata": {
    "collapsed": false,
    "pycharm": {
     "name": "#%%\n"
    }
   }
  },
  {
   "cell_type": "code",
   "execution_count": 11,
   "outputs": [
    {
     "data": {
      "text/plain": "                双色球      快乐8     福彩3D     七乐彩\n票价区间                                         \n02$2         793.54   136.63   126.00   47.37\n04$4-8      3148.28   607.32  1037.06   77.60\n05$10       8979.43  1060.21  1891.63  150.45\n06$12-18    2214.23   572.63   761.64   77.07\n07$20       3623.52   906.19  1482.43   12.71\n08$22-48    4398.31  1489.52  2270.57   15.30\n09$50-98    4041.71  1154.87  2249.70   58.80\n10$100-198  4295.68  6738.52  2287.67    7.41\n11$200-998  3906.44  1312.94  3691.95   50.55\n12$1000以上   1311.32   619.67   982.14   20.36",
      "text/html": "<div>\n<style scoped>\n    .dataframe tbody tr th:only-of-type {\n        vertical-align: middle;\n    }\n\n    .dataframe tbody tr th {\n        vertical-align: top;\n    }\n\n    .dataframe thead th {\n        text-align: right;\n    }\n</style>\n<table border=\"1\" class=\"dataframe\">\n  <thead>\n    <tr style=\"text-align: right;\">\n      <th></th>\n      <th>双色球</th>\n      <th>快乐8</th>\n      <th>福彩3D</th>\n      <th>七乐彩</th>\n    </tr>\n    <tr>\n      <th>票价区间</th>\n      <th></th>\n      <th></th>\n      <th></th>\n      <th></th>\n    </tr>\n  </thead>\n  <tbody>\n    <tr>\n      <th>02$2</th>\n      <td>793.54</td>\n      <td>136.63</td>\n      <td>126.00</td>\n      <td>47.37</td>\n    </tr>\n    <tr>\n      <th>04$4-8</th>\n      <td>3148.28</td>\n      <td>607.32</td>\n      <td>1037.06</td>\n      <td>77.60</td>\n    </tr>\n    <tr>\n      <th>05$10</th>\n      <td>8979.43</td>\n      <td>1060.21</td>\n      <td>1891.63</td>\n      <td>150.45</td>\n    </tr>\n    <tr>\n      <th>06$12-18</th>\n      <td>2214.23</td>\n      <td>572.63</td>\n      <td>761.64</td>\n      <td>77.07</td>\n    </tr>\n    <tr>\n      <th>07$20</th>\n      <td>3623.52</td>\n      <td>906.19</td>\n      <td>1482.43</td>\n      <td>12.71</td>\n    </tr>\n    <tr>\n      <th>08$22-48</th>\n      <td>4398.31</td>\n      <td>1489.52</td>\n      <td>2270.57</td>\n      <td>15.30</td>\n    </tr>\n    <tr>\n      <th>09$50-98</th>\n      <td>4041.71</td>\n      <td>1154.87</td>\n      <td>2249.70</td>\n      <td>58.80</td>\n    </tr>\n    <tr>\n      <th>10$100-198</th>\n      <td>4295.68</td>\n      <td>6738.52</td>\n      <td>2287.67</td>\n      <td>7.41</td>\n    </tr>\n    <tr>\n      <th>11$200-998</th>\n      <td>3906.44</td>\n      <td>1312.94</td>\n      <td>3691.95</td>\n      <td>50.55</td>\n    </tr>\n    <tr>\n      <th>12$1000以上</th>\n      <td>1311.32</td>\n      <td>619.67</td>\n      <td>982.14</td>\n      <td>20.36</td>\n    </tr>\n  </tbody>\n</table>\n</div>"
     },
     "execution_count": 11,
     "metadata": {},
     "output_type": "execute_result"
    }
   ],
   "source": [
    "ppt=pd.DataFrame()\n",
    "b_data = data1[(data1['季度'] ==\"2024年第2季度\") ]\n",
    "ppt['双色球销量'] = b_data[(b_data['游戏'] == '01$双色球') ].groupby('票价区间')['销量'].sum()*1e-4\n",
    "ppt['快乐8销量'] = b_data[(b_data['游戏'] == '04$快乐8') ].groupby('票价区间')['销量'].sum()*1e-4\n",
    "ppt['福彩3D销量'] = b_data[(b_data['游戏'] == '03$福彩3D') ].groupby('票价区间')['销量'].sum()*1e-4\n",
    "ppt['七乐彩销量'] = b_data[(b_data['游戏'] == '02$七乐彩') ].groupby('票价区间')['销量'].sum()*1e-4\n",
    "ppt_15_excel=pd.DataFrame()\n",
    "ppt_15_excel['双色球'] = ppt['双色球销量'].apply(lambda x: '{:.2f}'.format(x))\n",
    "ppt_15_excel['快乐8'] = ppt['快乐8销量'].apply(lambda x: '{:.2f}'.format(x))\n",
    "ppt_15_excel['福彩3D'] = ppt['福彩3D销量'].apply(lambda x: '{:.2f}'.format(x))\n",
    "ppt_15_excel['七乐彩'] = ppt['七乐彩销量'].apply(lambda x: '{:.2f}'.format(x))\n",
    "# ppt_15_excel.to_excel(r\"E:\\彩票数据\\山西\\山西月报\\2024年%d月报\\ppt_15.xlsx\"%(month))\n",
    "ppt_15_excel"
   ],
   "metadata": {
    "collapsed": false,
    "pycharm": {
     "name": "#%%\n"
    }
   }
  },
  {
   "cell_type": "code",
   "execution_count": 12,
   "outputs": [
    {
     "data": {
      "text/plain": "         双色球      快乐8     福彩3D    七乐彩\n小时                                   \n00时    37.12     3.87    11.98   1.50\n01时    36.82     0.71     9.85   1.79\n02时    20.39     0.13     4.96   0.88\n03时     0.15     0.34     0.42   0.00\n04时     0.23     0.13     0.25   0.00\n05时     3.18     0.66     1.10   0.06\n06时    29.11    12.20     9.95   0.66\n07时   151.96    60.36    71.95   2.21\n08时  1073.28   188.21   229.95  46.00\n09时  1646.21   397.54   416.16  29.76\n10时  2087.86   608.64   514.33  27.36\n11时  2063.54   670.25   484.00  25.81\n12时  1952.96   651.98   512.10  29.11\n13时  1853.19   689.45   544.21  26.86\n14时  2120.97   764.92   639.94  31.11\n15时  2627.06   898.05   753.59  36.81\n16时  3154.74  1076.85   978.48  39.64\n17时  3957.90  1356.18  1210.81  49.75\n18时  5047.64  1630.40  2463.68  60.26\n19时  7497.56  2170.55  4628.90  85.46\n20时   676.95  3292.63  3047.67   5.07\n21时   283.59    35.62    99.67   3.87\n22时   291.59    75.34   131.66   8.62\n23时   136.52    12.68    21.98   4.25",
      "text/html": "<div>\n<style scoped>\n    .dataframe tbody tr th:only-of-type {\n        vertical-align: middle;\n    }\n\n    .dataframe tbody tr th {\n        vertical-align: top;\n    }\n\n    .dataframe thead th {\n        text-align: right;\n    }\n</style>\n<table border=\"1\" class=\"dataframe\">\n  <thead>\n    <tr style=\"text-align: right;\">\n      <th></th>\n      <th>双色球</th>\n      <th>快乐8</th>\n      <th>福彩3D</th>\n      <th>七乐彩</th>\n    </tr>\n    <tr>\n      <th>小时</th>\n      <th></th>\n      <th></th>\n      <th></th>\n      <th></th>\n    </tr>\n  </thead>\n  <tbody>\n    <tr>\n      <th>00时</th>\n      <td>37.12</td>\n      <td>3.87</td>\n      <td>11.98</td>\n      <td>1.50</td>\n    </tr>\n    <tr>\n      <th>01时</th>\n      <td>36.82</td>\n      <td>0.71</td>\n      <td>9.85</td>\n      <td>1.79</td>\n    </tr>\n    <tr>\n      <th>02时</th>\n      <td>20.39</td>\n      <td>0.13</td>\n      <td>4.96</td>\n      <td>0.88</td>\n    </tr>\n    <tr>\n      <th>03时</th>\n      <td>0.15</td>\n      <td>0.34</td>\n      <td>0.42</td>\n      <td>0.00</td>\n    </tr>\n    <tr>\n      <th>04时</th>\n      <td>0.23</td>\n      <td>0.13</td>\n      <td>0.25</td>\n      <td>0.00</td>\n    </tr>\n    <tr>\n      <th>05时</th>\n      <td>3.18</td>\n      <td>0.66</td>\n      <td>1.10</td>\n      <td>0.06</td>\n    </tr>\n    <tr>\n      <th>06时</th>\n      <td>29.11</td>\n      <td>12.20</td>\n      <td>9.95</td>\n      <td>0.66</td>\n    </tr>\n    <tr>\n      <th>07时</th>\n      <td>151.96</td>\n      <td>60.36</td>\n      <td>71.95</td>\n      <td>2.21</td>\n    </tr>\n    <tr>\n      <th>08时</th>\n      <td>1073.28</td>\n      <td>188.21</td>\n      <td>229.95</td>\n      <td>46.00</td>\n    </tr>\n    <tr>\n      <th>09时</th>\n      <td>1646.21</td>\n      <td>397.54</td>\n      <td>416.16</td>\n      <td>29.76</td>\n    </tr>\n    <tr>\n      <th>10时</th>\n      <td>2087.86</td>\n      <td>608.64</td>\n      <td>514.33</td>\n      <td>27.36</td>\n    </tr>\n    <tr>\n      <th>11时</th>\n      <td>2063.54</td>\n      <td>670.25</td>\n      <td>484.00</td>\n      <td>25.81</td>\n    </tr>\n    <tr>\n      <th>12时</th>\n      <td>1952.96</td>\n      <td>651.98</td>\n      <td>512.10</td>\n      <td>29.11</td>\n    </tr>\n    <tr>\n      <th>13时</th>\n      <td>1853.19</td>\n      <td>689.45</td>\n      <td>544.21</td>\n      <td>26.86</td>\n    </tr>\n    <tr>\n      <th>14时</th>\n      <td>2120.97</td>\n      <td>764.92</td>\n      <td>639.94</td>\n      <td>31.11</td>\n    </tr>\n    <tr>\n      <th>15时</th>\n      <td>2627.06</td>\n      <td>898.05</td>\n      <td>753.59</td>\n      <td>36.81</td>\n    </tr>\n    <tr>\n      <th>16时</th>\n      <td>3154.74</td>\n      <td>1076.85</td>\n      <td>978.48</td>\n      <td>39.64</td>\n    </tr>\n    <tr>\n      <th>17时</th>\n      <td>3957.90</td>\n      <td>1356.18</td>\n      <td>1210.81</td>\n      <td>49.75</td>\n    </tr>\n    <tr>\n      <th>18时</th>\n      <td>5047.64</td>\n      <td>1630.40</td>\n      <td>2463.68</td>\n      <td>60.26</td>\n    </tr>\n    <tr>\n      <th>19时</th>\n      <td>7497.56</td>\n      <td>2170.55</td>\n      <td>4628.90</td>\n      <td>85.46</td>\n    </tr>\n    <tr>\n      <th>20时</th>\n      <td>676.95</td>\n      <td>3292.63</td>\n      <td>3047.67</td>\n      <td>5.07</td>\n    </tr>\n    <tr>\n      <th>21时</th>\n      <td>283.59</td>\n      <td>35.62</td>\n      <td>99.67</td>\n      <td>3.87</td>\n    </tr>\n    <tr>\n      <th>22时</th>\n      <td>291.59</td>\n      <td>75.34</td>\n      <td>131.66</td>\n      <td>8.62</td>\n    </tr>\n    <tr>\n      <th>23时</th>\n      <td>136.52</td>\n      <td>12.68</td>\n      <td>21.98</td>\n      <td>4.25</td>\n    </tr>\n  </tbody>\n</table>\n</div>"
     },
     "execution_count": 12,
     "metadata": {},
     "output_type": "execute_result"
    }
   ],
   "source": [
    "import pandas as pd\n",
    "data2=pd.read_excel(r\"E:\\彩票数据\\山西\\山西季报\\日期-小时-游戏.xlsx\",sheet_name=0)\n",
    "data2\n",
    "ppt=pd.DataFrame()\n",
    "c_data = data2[(data2['季度'] == \"2024年第2季度\") ]\n",
    "ppt['双色球销量'] = c_data[(c_data['游戏'] == '双色球') ].groupby('小时')['销量'].sum()*1e-4\n",
    "ppt['快乐8销量'] = c_data[(c_data['游戏'] == '快乐8') ].groupby('小时')['销量'].sum()*1e-4\n",
    "ppt['福彩3D销量'] = c_data[(c_data['游戏'] == '福彩3D') ].groupby('小时')['销量'].sum()*1e-4\n",
    "ppt['七乐彩销量'] = c_data[(c_data['游戏'] == '七乐彩') ].groupby('小时')['销量'].sum()*1e-4\n",
    "ppt_17_excel=pd.DataFrame()\n",
    "ppt_17_excel['双色球'] = ppt['双色球销量'].apply(lambda x: '{:.2f}'.format(x))\n",
    "ppt_17_excel['快乐8'] = ppt['快乐8销量'].apply(lambda x: '{:.2f}'.format(x))\n",
    "ppt_17_excel['福彩3D'] = ppt['福彩3D销量'].apply(lambda x: '{:.2f}'.format(x))\n",
    "ppt_17_excel['七乐彩'] = ppt['七乐彩销量'].apply(lambda x: '{:.2f}'.format(x))\n",
    "# ppt_17_excel.to_excel(r\"E:\\彩票数据\\山西\\山西月报\\2024年%d月报\\ppt_17.xlsx\"%(month))\n",
    "ppt_17_excel"
   ],
   "metadata": {
    "collapsed": false,
    "pycharm": {
     "name": "#%%\n"
    }
   }
  },
  {
   "cell_type": "code",
   "execution_count": 13,
   "outputs": [
    {
     "data": {
      "text/plain": "                双色球       快乐8      福彩3D     七乐彩\n季度                                             \n2021年第1季度  49214.55   5316.23   6682.01  719.05\n2021年第2季度  58297.39   5950.53   8909.36  777.70\n2021年第3季度  56070.60   8331.36   9931.69  808.47\n2021年第4季度  62266.80  10396.17  11652.68  897.49\n2022年第1季度  49315.53   8364.24  12614.51  746.77\n2022年第2季度  20713.18   3096.78   3485.24  522.14\n2022年第3季度  51519.20  10338.60  13481.53  856.35\n2022年第4季度  56463.23  10660.28  14998.52  801.79\n2023年第1季度  49166.67  10000.29  17529.81  696.77\n2023年第2季度  56610.26  16480.13  17596.41  784.77\n2023年第3季度  55320.36  16787.37  19525.50  750.52\n2023年第4季度  62783.12  16848.29  18759.90  757.17\n2024年第1季度  53215.78  15871.38  18341.06  709.66\n2024年第2季度  55844.95  20547.18  29074.36  783.60",
      "text/html": "<div>\n<style scoped>\n    .dataframe tbody tr th:only-of-type {\n        vertical-align: middle;\n    }\n\n    .dataframe tbody tr th {\n        vertical-align: top;\n    }\n\n    .dataframe thead th {\n        text-align: right;\n    }\n</style>\n<table border=\"1\" class=\"dataframe\">\n  <thead>\n    <tr style=\"text-align: right;\">\n      <th></th>\n      <th>双色球</th>\n      <th>快乐8</th>\n      <th>福彩3D</th>\n      <th>七乐彩</th>\n    </tr>\n    <tr>\n      <th>季度</th>\n      <th></th>\n      <th></th>\n      <th></th>\n      <th></th>\n    </tr>\n  </thead>\n  <tbody>\n    <tr>\n      <th>2021年第1季度</th>\n      <td>49214.55</td>\n      <td>5316.23</td>\n      <td>6682.01</td>\n      <td>719.05</td>\n    </tr>\n    <tr>\n      <th>2021年第2季度</th>\n      <td>58297.39</td>\n      <td>5950.53</td>\n      <td>8909.36</td>\n      <td>777.70</td>\n    </tr>\n    <tr>\n      <th>2021年第3季度</th>\n      <td>56070.60</td>\n      <td>8331.36</td>\n      <td>9931.69</td>\n      <td>808.47</td>\n    </tr>\n    <tr>\n      <th>2021年第4季度</th>\n      <td>62266.80</td>\n      <td>10396.17</td>\n      <td>11652.68</td>\n      <td>897.49</td>\n    </tr>\n    <tr>\n      <th>2022年第1季度</th>\n      <td>49315.53</td>\n      <td>8364.24</td>\n      <td>12614.51</td>\n      <td>746.77</td>\n    </tr>\n    <tr>\n      <th>2022年第2季度</th>\n      <td>20713.18</td>\n      <td>3096.78</td>\n      <td>3485.24</td>\n      <td>522.14</td>\n    </tr>\n    <tr>\n      <th>2022年第3季度</th>\n      <td>51519.20</td>\n      <td>10338.60</td>\n      <td>13481.53</td>\n      <td>856.35</td>\n    </tr>\n    <tr>\n      <th>2022年第4季度</th>\n      <td>56463.23</td>\n      <td>10660.28</td>\n      <td>14998.52</td>\n      <td>801.79</td>\n    </tr>\n    <tr>\n      <th>2023年第1季度</th>\n      <td>49166.67</td>\n      <td>10000.29</td>\n      <td>17529.81</td>\n      <td>696.77</td>\n    </tr>\n    <tr>\n      <th>2023年第2季度</th>\n      <td>56610.26</td>\n      <td>16480.13</td>\n      <td>17596.41</td>\n      <td>784.77</td>\n    </tr>\n    <tr>\n      <th>2023年第3季度</th>\n      <td>55320.36</td>\n      <td>16787.37</td>\n      <td>19525.50</td>\n      <td>750.52</td>\n    </tr>\n    <tr>\n      <th>2023年第4季度</th>\n      <td>62783.12</td>\n      <td>16848.29</td>\n      <td>18759.90</td>\n      <td>757.17</td>\n    </tr>\n    <tr>\n      <th>2024年第1季度</th>\n      <td>53215.78</td>\n      <td>15871.38</td>\n      <td>18341.06</td>\n      <td>709.66</td>\n    </tr>\n    <tr>\n      <th>2024年第2季度</th>\n      <td>55844.95</td>\n      <td>20547.18</td>\n      <td>29074.36</td>\n      <td>783.60</td>\n    </tr>\n  </tbody>\n</table>\n</div>"
     },
     "execution_count": 13,
     "metadata": {},
     "output_type": "execute_result"
    }
   ],
   "source": [
    "ppt=pd.DataFrame()\n",
    "ppt['双色球销量'] = data[(data['游戏'] == '双色球') ].groupby('季度')['销量'].sum()*1e-4\n",
    "ppt['快乐8销量'] = data[(data['游戏'] == '快乐8') ].groupby('季度')['销量'].sum()*1e-4\n",
    "ppt['福彩3D销量'] = data[(data['游戏'] == '福彩3D') ].groupby('季度')['销量'].sum()*1e-4\n",
    "ppt['七乐彩销量'] = data[(data['游戏'] == '七乐彩') ].groupby('季度')['销量'].sum()*1e-4\n",
    "ppt_19_excel=pd.DataFrame()\n",
    "ppt_19_excel['双色球'] = ppt['双色球销量'].apply(lambda x: '{:.2f}'.format(x))\n",
    "ppt_19_excel['快乐8'] = ppt['快乐8销量'].apply(lambda x: '{:.2f}'.format(x))\n",
    "ppt_19_excel['福彩3D'] = ppt['福彩3D销量'].apply(lambda x: '{:.2f}'.format(x))\n",
    "ppt_19_excel['七乐彩'] = ppt['七乐彩销量'].apply(lambda x: '{:.2f}'.format(x))\n",
    "# ppt_19_excel.to_excel(r\"E:\\彩票数据\\山西\\山西月报\\2024年%d月报\\ppt_19.xlsx\"%(month))\n",
    "ppt_19_excel"
   ],
   "metadata": {
    "collapsed": false,
    "pycharm": {
     "name": "#%%\n"
    }
   }
  },
  {
   "cell_type": "code",
   "execution_count": 14,
   "outputs": [
    {
     "data": {
      "text/plain": "          快乐8市场份额 即开票市场份额 3D市场份额 双色球市场份额\n季度                                      \n2021年第1季度    4.8%   16.4%   6.0%   44.5%\n2021年第2季度    5.6%   26.9%   8.5%   55.3%\n2021年第3季度    8.3%   21.9%   9.9%   56.0%\n2021年第4季度    8.8%   25.2%   9.9%   52.7%\n2022年第1季度    8.2%   27.1%  12.4%   48.6%\n2022年第2季度    8.9%   16.5%  10.0%   59.3%\n2022年第3季度   10.3%   20.5%  13.5%   51.5%\n2022年第4季度   10.1%   18.1%  14.2%   53.5%\n2023年第1季度    8.9%   28.1%  15.7%   43.9%\n2023年第2季度   10.8%   37.7%  11.5%   37.0%\n2023年第3季度   10.6%   39.0%  12.4%   35.0%\n2023年第4季度   11.9%   27.4%  13.2%   44.3%\n2024年第1季度   11.0%   36.5%  12.7%   36.9%\n2024年第2季度   13.1%   30.0%  18.5%   35.5%",
      "text/html": "<div>\n<style scoped>\n    .dataframe tbody tr th:only-of-type {\n        vertical-align: middle;\n    }\n\n    .dataframe tbody tr th {\n        vertical-align: top;\n    }\n\n    .dataframe thead th {\n        text-align: right;\n    }\n</style>\n<table border=\"1\" class=\"dataframe\">\n  <thead>\n    <tr style=\"text-align: right;\">\n      <th></th>\n      <th>快乐8市场份额</th>\n      <th>即开票市场份额</th>\n      <th>3D市场份额</th>\n      <th>双色球市场份额</th>\n    </tr>\n    <tr>\n      <th>季度</th>\n      <th></th>\n      <th></th>\n      <th></th>\n      <th></th>\n    </tr>\n  </thead>\n  <tbody>\n    <tr>\n      <th>2021年第1季度</th>\n      <td>4.8%</td>\n      <td>16.4%</td>\n      <td>6.0%</td>\n      <td>44.5%</td>\n    </tr>\n    <tr>\n      <th>2021年第2季度</th>\n      <td>5.6%</td>\n      <td>26.9%</td>\n      <td>8.5%</td>\n      <td>55.3%</td>\n    </tr>\n    <tr>\n      <th>2021年第3季度</th>\n      <td>8.3%</td>\n      <td>21.9%</td>\n      <td>9.9%</td>\n      <td>56.0%</td>\n    </tr>\n    <tr>\n      <th>2021年第4季度</th>\n      <td>8.8%</td>\n      <td>25.2%</td>\n      <td>9.9%</td>\n      <td>52.7%</td>\n    </tr>\n    <tr>\n      <th>2022年第1季度</th>\n      <td>8.2%</td>\n      <td>27.1%</td>\n      <td>12.4%</td>\n      <td>48.6%</td>\n    </tr>\n    <tr>\n      <th>2022年第2季度</th>\n      <td>8.9%</td>\n      <td>16.5%</td>\n      <td>10.0%</td>\n      <td>59.3%</td>\n    </tr>\n    <tr>\n      <th>2022年第3季度</th>\n      <td>10.3%</td>\n      <td>20.5%</td>\n      <td>13.5%</td>\n      <td>51.5%</td>\n    </tr>\n    <tr>\n      <th>2022年第4季度</th>\n      <td>10.1%</td>\n      <td>18.1%</td>\n      <td>14.2%</td>\n      <td>53.5%</td>\n    </tr>\n    <tr>\n      <th>2023年第1季度</th>\n      <td>8.9%</td>\n      <td>28.1%</td>\n      <td>15.7%</td>\n      <td>43.9%</td>\n    </tr>\n    <tr>\n      <th>2023年第2季度</th>\n      <td>10.8%</td>\n      <td>37.7%</td>\n      <td>11.5%</td>\n      <td>37.0%</td>\n    </tr>\n    <tr>\n      <th>2023年第3季度</th>\n      <td>10.6%</td>\n      <td>39.0%</td>\n      <td>12.4%</td>\n      <td>35.0%</td>\n    </tr>\n    <tr>\n      <th>2023年第4季度</th>\n      <td>11.9%</td>\n      <td>27.4%</td>\n      <td>13.2%</td>\n      <td>44.3%</td>\n    </tr>\n    <tr>\n      <th>2024年第1季度</th>\n      <td>11.0%</td>\n      <td>36.5%</td>\n      <td>12.7%</td>\n      <td>36.9%</td>\n    </tr>\n    <tr>\n      <th>2024年第2季度</th>\n      <td>13.1%</td>\n      <td>30.0%</td>\n      <td>18.5%</td>\n      <td>35.5%</td>\n    </tr>\n  </tbody>\n</table>\n</div>"
     },
     "execution_count": 14,
     "metadata": {},
     "output_type": "execute_result"
    }
   ],
   "source": [
    "ppt = pd.DataFrame()\n",
    "ppt['双色球'] = data[data['游戏'] == '双色球'].groupby('季度')['销量'].sum()\n",
    "ppt['即开票'] = data[data['游戏'] == '即开票'].groupby('季度')['销量'].sum()\n",
    "ppt['快乐8'] = data[data['游戏'] == '快乐8'].groupby('季度')['销量'].sum()\n",
    "ppt['3D'] = data[data['游戏'] == '福彩3D'].groupby('季度')['销量'].sum()\n",
    "ppt['总销量'] = data.groupby('季度')['销量'].sum()\n",
    "ppt_20_excel = pd.DataFrame()\n",
    "ppt_20_excel['快乐8市场份额'] = (ppt['快乐8'] / ppt['总销量']).apply(lambda x: '{:.1%}'.format(x))\n",
    "ppt_20_excel['即开票市场份额'] = (ppt['即开票'] / ppt['总销量']).apply(lambda x: '{:.1%}'.format(x))\n",
    "ppt_20_excel['3D市场份额'] = (ppt['3D'] / ppt['总销量']).apply(lambda x: '{:.1%}'.format(x))\n",
    "ppt_20_excel['双色球市场份额'] = (ppt['双色球'] / ppt['总销量']).apply(lambda x: '{:.1%}'.format(x))\n",
    "# ppt_20_excel.to_excel(r\"E:\\彩票数据\\山西\\山西月报\\2024年%d月报\\ppt_20.xlsx\"%(month))\n",
    "ppt_20_excel"
   ],
   "metadata": {
    "collapsed": false,
    "pycharm": {
     "name": "#%%\n"
    }
   }
  },
  {
   "cell_type": "code",
   "execution_count": 15,
   "outputs": [
    {
     "data": {
      "text/plain": "            2024年第2季度  2024年第1季度  2023年第4季度  2023年第3季度\n票价区间                                                  \n02$2          7935384        NaN        NaN        NaN\n04$4-8       31482842        NaN        NaN        NaN\n05$10        89794340        NaN        NaN        NaN\n06$12-18     22142334        NaN        NaN        NaN\n07$20        36235220        NaN        NaN        NaN\n08$22-48     43983062        NaN        NaN        NaN\n09$50-98     40417130        NaN        NaN        NaN\n10$100-198   42956770        NaN        NaN        NaN\n11$200-998   39064410        NaN        NaN        NaN\n12$1000以上    13113172        NaN        NaN        NaN",
      "text/html": "<div>\n<style scoped>\n    .dataframe tbody tr th:only-of-type {\n        vertical-align: middle;\n    }\n\n    .dataframe tbody tr th {\n        vertical-align: top;\n    }\n\n    .dataframe thead th {\n        text-align: right;\n    }\n</style>\n<table border=\"1\" class=\"dataframe\">\n  <thead>\n    <tr style=\"text-align: right;\">\n      <th></th>\n      <th>2024年第2季度</th>\n      <th>2024年第1季度</th>\n      <th>2023年第4季度</th>\n      <th>2023年第3季度</th>\n    </tr>\n    <tr>\n      <th>票价区间</th>\n      <th></th>\n      <th></th>\n      <th></th>\n      <th></th>\n    </tr>\n  </thead>\n  <tbody>\n    <tr>\n      <th>02$2</th>\n      <td>7935384</td>\n      <td>NaN</td>\n      <td>NaN</td>\n      <td>NaN</td>\n    </tr>\n    <tr>\n      <th>04$4-8</th>\n      <td>31482842</td>\n      <td>NaN</td>\n      <td>NaN</td>\n      <td>NaN</td>\n    </tr>\n    <tr>\n      <th>05$10</th>\n      <td>89794340</td>\n      <td>NaN</td>\n      <td>NaN</td>\n      <td>NaN</td>\n    </tr>\n    <tr>\n      <th>06$12-18</th>\n      <td>22142334</td>\n      <td>NaN</td>\n      <td>NaN</td>\n      <td>NaN</td>\n    </tr>\n    <tr>\n      <th>07$20</th>\n      <td>36235220</td>\n      <td>NaN</td>\n      <td>NaN</td>\n      <td>NaN</td>\n    </tr>\n    <tr>\n      <th>08$22-48</th>\n      <td>43983062</td>\n      <td>NaN</td>\n      <td>NaN</td>\n      <td>NaN</td>\n    </tr>\n    <tr>\n      <th>09$50-98</th>\n      <td>40417130</td>\n      <td>NaN</td>\n      <td>NaN</td>\n      <td>NaN</td>\n    </tr>\n    <tr>\n      <th>10$100-198</th>\n      <td>42956770</td>\n      <td>NaN</td>\n      <td>NaN</td>\n      <td>NaN</td>\n    </tr>\n    <tr>\n      <th>11$200-998</th>\n      <td>39064410</td>\n      <td>NaN</td>\n      <td>NaN</td>\n      <td>NaN</td>\n    </tr>\n    <tr>\n      <th>12$1000以上</th>\n      <td>13113172</td>\n      <td>NaN</td>\n      <td>NaN</td>\n      <td>NaN</td>\n    </tr>\n  </tbody>\n</table>\n</div>"
     },
     "execution_count": 15,
     "metadata": {},
     "output_type": "execute_result"
    }
   ],
   "source": [
    "data1 = data1[(data1['游戏'] == \"01$双色球\") ]\n",
    "# game_name=[\"2\",\"4-8\",\"10\",\"12-18\",\"20\",\"22-48\",\"50-98\",\"100-198\",\"200-998\",\"1000以上\"]\n",
    "game_name=[\"02$2\",\"04$4-8\",\"05$10\",\"06$12-18\",\"07$20\",\"08$22-48\",\"09$50-98\",\"10$100-198\",\"11$200-998\",\"12$1000以上\"]\n",
    "ppt_21_excel = pd.DataFrame()\n",
    "ppt_21_excel['2024年第2季度'] = data1[data1['季度'] == '2024年第2季度'].groupby('票价区间')['销量'].sum()\n",
    "ppt_21_excel['2024年第1季度'] = data1[data1['季度'] == '2024年第1季度'].groupby('票价区间')['销量'].sum()\n",
    "ppt_21_excel['2023年第4季度'] = data1[data1['季度'] == '2023年第4季度'].groupby('票价区间')['销量'].sum()\n",
    "ppt_21_excel['2023年第3季度'] = data1[data1['季度'] == '2023年第3季度'].groupby('票价区间')['销量'].sum()\n",
    "ppt_21_excel"
   ],
   "metadata": {
    "collapsed": false,
    "pycharm": {
     "name": "#%%\n"
    }
   }
  },
  {
   "cell_type": "code",
   "execution_count": 16,
   "outputs": [
    {
     "data": {
      "text/plain": "         日期     地市        游戏          倍投        销量         季度\n0     45413  31$中心    01$双色球       01$单倍  15062396  2024年第2季度\n1     45413  31$中心    01$双色球       02$两倍   2970444  2024年第2季度\n2     45413  31$中心    01$双色球     03$3到5倍   4102740  2024年第2季度\n3     45413  31$中心    01$双色球    04$6到10倍   1824302  2024年第2季度\n4     45413  31$中心    01$双色球   05$11到20倍    850820  2024年第2季度\n...     ...    ...       ...         ...       ...        ...\n1395  45444  31$黄浦  25$东方6+1       02$两倍      1792  2024年第2季度\n1396  45444  31$黄浦  25$东方6+1     03$3到5倍      3344  2024年第2季度\n1397  45444  31$黄浦  25$东方6+1    04$6到10倍      2098  2024年第2季度\n1398  45444  31$黄浦  25$东方6+1   05$11到20倍       614  2024年第2季度\n1399  45444  31$黄浦  25$东方6+1  06$21到100倍       698  2024年第2季度\n\n[1400 rows x 6 columns]",
      "text/html": "<div>\n<style scoped>\n    .dataframe tbody tr th:only-of-type {\n        vertical-align: middle;\n    }\n\n    .dataframe tbody tr th {\n        vertical-align: top;\n    }\n\n    .dataframe thead th {\n        text-align: right;\n    }\n</style>\n<table border=\"1\" class=\"dataframe\">\n  <thead>\n    <tr style=\"text-align: right;\">\n      <th></th>\n      <th>日期</th>\n      <th>地市</th>\n      <th>游戏</th>\n      <th>倍投</th>\n      <th>销量</th>\n      <th>季度</th>\n    </tr>\n  </thead>\n  <tbody>\n    <tr>\n      <th>0</th>\n      <td>45413</td>\n      <td>31$中心</td>\n      <td>01$双色球</td>\n      <td>01$单倍</td>\n      <td>15062396</td>\n      <td>2024年第2季度</td>\n    </tr>\n    <tr>\n      <th>1</th>\n      <td>45413</td>\n      <td>31$中心</td>\n      <td>01$双色球</td>\n      <td>02$两倍</td>\n      <td>2970444</td>\n      <td>2024年第2季度</td>\n    </tr>\n    <tr>\n      <th>2</th>\n      <td>45413</td>\n      <td>31$中心</td>\n      <td>01$双色球</td>\n      <td>03$3到5倍</td>\n      <td>4102740</td>\n      <td>2024年第2季度</td>\n    </tr>\n    <tr>\n      <th>3</th>\n      <td>45413</td>\n      <td>31$中心</td>\n      <td>01$双色球</td>\n      <td>04$6到10倍</td>\n      <td>1824302</td>\n      <td>2024年第2季度</td>\n    </tr>\n    <tr>\n      <th>4</th>\n      <td>45413</td>\n      <td>31$中心</td>\n      <td>01$双色球</td>\n      <td>05$11到20倍</td>\n      <td>850820</td>\n      <td>2024年第2季度</td>\n    </tr>\n    <tr>\n      <th>...</th>\n      <td>...</td>\n      <td>...</td>\n      <td>...</td>\n      <td>...</td>\n      <td>...</td>\n      <td>...</td>\n    </tr>\n    <tr>\n      <th>1395</th>\n      <td>45444</td>\n      <td>31$黄浦</td>\n      <td>25$东方6+1</td>\n      <td>02$两倍</td>\n      <td>1792</td>\n      <td>2024年第2季度</td>\n    </tr>\n    <tr>\n      <th>1396</th>\n      <td>45444</td>\n      <td>31$黄浦</td>\n      <td>25$东方6+1</td>\n      <td>03$3到5倍</td>\n      <td>3344</td>\n      <td>2024年第2季度</td>\n    </tr>\n    <tr>\n      <th>1397</th>\n      <td>45444</td>\n      <td>31$黄浦</td>\n      <td>25$东方6+1</td>\n      <td>04$6到10倍</td>\n      <td>2098</td>\n      <td>2024年第2季度</td>\n    </tr>\n    <tr>\n      <th>1398</th>\n      <td>45444</td>\n      <td>31$黄浦</td>\n      <td>25$东方6+1</td>\n      <td>05$11到20倍</td>\n      <td>614</td>\n      <td>2024年第2季度</td>\n    </tr>\n    <tr>\n      <th>1399</th>\n      <td>45444</td>\n      <td>31$黄浦</td>\n      <td>25$东方6+1</td>\n      <td>06$21到100倍</td>\n      <td>698</td>\n      <td>2024年第2季度</td>\n    </tr>\n  </tbody>\n</table>\n<p>1400 rows × 6 columns</p>\n</div>"
     },
     "execution_count": 16,
     "metadata": {},
     "output_type": "execute_result"
    }
   ],
   "source": [
    "import pandas as pd\n",
    "data3=pd.read_excel(r\"E:\\彩票数据\\山西\\山西季报\\月份-地市-游戏-倍投.xlsx\",sheet_name=0)\n",
    "data3"
   ],
   "metadata": {
    "collapsed": false,
    "pycharm": {
     "name": "#%%\n"
    }
   }
  },
  {
   "cell_type": "code",
   "execution_count": 17,
   "outputs": [
    {
     "data": {
      "text/plain": "            2024年第2季度  2024年第1季度  2023年第4季度  2023年第3季度\n倍投                                                    \n01$单倍       204944924        NaN        NaN        NaN\n02$两倍        36309410        NaN        NaN        NaN\n03$3到5倍      54964928        NaN        NaN        NaN\n04$6到10倍     27330642        NaN        NaN        NaN\n05$11到20倍     8923052        NaN        NaN        NaN\n06$21到100倍   34651708        NaN        NaN        NaN",
      "text/html": "<div>\n<style scoped>\n    .dataframe tbody tr th:only-of-type {\n        vertical-align: middle;\n    }\n\n    .dataframe tbody tr th {\n        vertical-align: top;\n    }\n\n    .dataframe thead th {\n        text-align: right;\n    }\n</style>\n<table border=\"1\" class=\"dataframe\">\n  <thead>\n    <tr style=\"text-align: right;\">\n      <th></th>\n      <th>2024年第2季度</th>\n      <th>2024年第1季度</th>\n      <th>2023年第4季度</th>\n      <th>2023年第3季度</th>\n    </tr>\n    <tr>\n      <th>倍投</th>\n      <th></th>\n      <th></th>\n      <th></th>\n      <th></th>\n    </tr>\n  </thead>\n  <tbody>\n    <tr>\n      <th>01$单倍</th>\n      <td>204944924</td>\n      <td>NaN</td>\n      <td>NaN</td>\n      <td>NaN</td>\n    </tr>\n    <tr>\n      <th>02$两倍</th>\n      <td>36309410</td>\n      <td>NaN</td>\n      <td>NaN</td>\n      <td>NaN</td>\n    </tr>\n    <tr>\n      <th>03$3到5倍</th>\n      <td>54964928</td>\n      <td>NaN</td>\n      <td>NaN</td>\n      <td>NaN</td>\n    </tr>\n    <tr>\n      <th>04$6到10倍</th>\n      <td>27330642</td>\n      <td>NaN</td>\n      <td>NaN</td>\n      <td>NaN</td>\n    </tr>\n    <tr>\n      <th>05$11到20倍</th>\n      <td>8923052</td>\n      <td>NaN</td>\n      <td>NaN</td>\n      <td>NaN</td>\n    </tr>\n    <tr>\n      <th>06$21到100倍</th>\n      <td>34651708</td>\n      <td>NaN</td>\n      <td>NaN</td>\n      <td>NaN</td>\n    </tr>\n  </tbody>\n</table>\n</div>"
     },
     "execution_count": 17,
     "metadata": {},
     "output_type": "execute_result"
    }
   ],
   "source": [
    "data3 = data3[(data3['游戏'] == \"01$双色球\") ]\n",
    "ppt_24_excel = pd.DataFrame()\n",
    "ppt_24_excel['2024年第2季度'] = data3[data3['季度'] == '2024年第2季度'].groupby('倍投')['销量'].sum()\n",
    "ppt_24_excel['2024年第1季度'] = data3[data3['季度'] == '2024年第1季度'].groupby('倍投')['销量'].sum()\n",
    "ppt_24_excel['2023年第4季度'] = data3[data3['季度'] == '2023年第4季度'].groupby('倍投')['销量'].sum()\n",
    "ppt_24_excel['2023年第3季度'] = data3[data3['季度'] == '2023年第3季度'].groupby('倍投')['销量'].sum()\n",
    "\n",
    "ppt_24_excel"
   ],
   "metadata": {
    "collapsed": false,
    "pycharm": {
     "name": "#%%\n"
    }
   }
  },
  {
   "cell_type": "code",
   "execution_count": 18,
   "outputs": [
    {
     "data": {
      "text/plain": "         02$2   04$4-8    05$10 06$12-18    07$20 08$22-48 09$50-98  \\\n地市                                                                    \n31$中心  629.47  1023.66  1287.44   513.30   535.08   866.30   688.80   \n31$嘉定   45.78   336.28   947.32   276.08  1535.80  1563.21  1342.04   \n31$奉贤   30.14   222.61   589.38   175.51   740.04   773.68   645.53   \n31$宝山   53.74   395.76  1087.89   293.83  1399.69  1312.10  1126.66   \n31$崇明   15.34   103.48   248.57    69.70   264.56   240.16   240.11   \n31$徐汇   22.54   167.57   501.77   123.32   558.69   549.09   468.15   \n31$普陀   30.05   221.24   613.52   167.51   653.81   674.08   573.45   \n31$杨浦   26.45   200.85   566.31   143.38   713.35   646.17   578.04   \n31$松江   53.28   385.05  1068.34   322.98  1566.26  1633.38  1419.11   \n31$浦东  119.48   899.08  2574.53   668.58  3773.81  3727.14  3244.46   \n31$虹口   17.10   140.45   396.57   102.40   542.24   529.33   455.50   \n31$金山   21.86   161.89   438.52   128.92   489.14   458.13   365.59   \n31$长宁   14.26   103.09   328.25    78.66   494.10   507.76   425.79   \n31$闵行   53.15   417.12  1272.24   327.66  1710.67  1734.14  1564.26   \n31$青浦   26.25   215.14   579.35   171.72   860.85   852.53   734.60   \n31$静安   28.98   197.89   577.63   155.69   836.17   743.89   731.36   \n31$黄浦   14.63   107.26   325.56    90.69   569.33   480.43   437.17   \n\n      10$100-198 11$200-998 12$1000以上  \n地市                                     \n31$中心     735.17     477.85       nan  \n31$嘉定    1435.67     862.01    418.24  \n31$奉贤     586.16     407.39    135.60  \n31$宝山    1115.31     680.98    188.64  \n31$崇明     176.52     103.12     20.02  \n31$徐汇     349.15     244.48     49.73  \n31$普陀     394.95     288.95    134.40  \n31$杨浦     583.79     253.62     87.66  \n31$松江    1631.81    1069.42    311.00  \n31$浦东    2868.21    1820.86    651.33  \n31$虹口     298.49     215.50     35.45  \n31$金山     370.63     307.14    136.36  \n31$长宁     263.65     213.11    137.49  \n31$闵行    1254.50    1131.74    251.14  \n31$青浦     583.02     414.68    194.78  \n31$静安     550.28     392.24    164.66  \n31$黄浦     313.01     251.49     82.56  ",
      "text/html": "<div>\n<style scoped>\n    .dataframe tbody tr th:only-of-type {\n        vertical-align: middle;\n    }\n\n    .dataframe tbody tr th {\n        vertical-align: top;\n    }\n\n    .dataframe thead th {\n        text-align: right;\n    }\n</style>\n<table border=\"1\" class=\"dataframe\">\n  <thead>\n    <tr style=\"text-align: right;\">\n      <th></th>\n      <th>02$2</th>\n      <th>04$4-8</th>\n      <th>05$10</th>\n      <th>06$12-18</th>\n      <th>07$20</th>\n      <th>08$22-48</th>\n      <th>09$50-98</th>\n      <th>10$100-198</th>\n      <th>11$200-998</th>\n      <th>12$1000以上</th>\n    </tr>\n    <tr>\n      <th>地市</th>\n      <th></th>\n      <th></th>\n      <th></th>\n      <th></th>\n      <th></th>\n      <th></th>\n      <th></th>\n      <th></th>\n      <th></th>\n      <th></th>\n    </tr>\n  </thead>\n  <tbody>\n    <tr>\n      <th>31$中心</th>\n      <td>629.47</td>\n      <td>1023.66</td>\n      <td>1287.44</td>\n      <td>513.30</td>\n      <td>535.08</td>\n      <td>866.30</td>\n      <td>688.80</td>\n      <td>735.17</td>\n      <td>477.85</td>\n      <td>nan</td>\n    </tr>\n    <tr>\n      <th>31$嘉定</th>\n      <td>45.78</td>\n      <td>336.28</td>\n      <td>947.32</td>\n      <td>276.08</td>\n      <td>1535.80</td>\n      <td>1563.21</td>\n      <td>1342.04</td>\n      <td>1435.67</td>\n      <td>862.01</td>\n      <td>418.24</td>\n    </tr>\n    <tr>\n      <th>31$奉贤</th>\n      <td>30.14</td>\n      <td>222.61</td>\n      <td>589.38</td>\n      <td>175.51</td>\n      <td>740.04</td>\n      <td>773.68</td>\n      <td>645.53</td>\n      <td>586.16</td>\n      <td>407.39</td>\n      <td>135.60</td>\n    </tr>\n    <tr>\n      <th>31$宝山</th>\n      <td>53.74</td>\n      <td>395.76</td>\n      <td>1087.89</td>\n      <td>293.83</td>\n      <td>1399.69</td>\n      <td>1312.10</td>\n      <td>1126.66</td>\n      <td>1115.31</td>\n      <td>680.98</td>\n      <td>188.64</td>\n    </tr>\n    <tr>\n      <th>31$崇明</th>\n      <td>15.34</td>\n      <td>103.48</td>\n      <td>248.57</td>\n      <td>69.70</td>\n      <td>264.56</td>\n      <td>240.16</td>\n      <td>240.11</td>\n      <td>176.52</td>\n      <td>103.12</td>\n      <td>20.02</td>\n    </tr>\n    <tr>\n      <th>31$徐汇</th>\n      <td>22.54</td>\n      <td>167.57</td>\n      <td>501.77</td>\n      <td>123.32</td>\n      <td>558.69</td>\n      <td>549.09</td>\n      <td>468.15</td>\n      <td>349.15</td>\n      <td>244.48</td>\n      <td>49.73</td>\n    </tr>\n    <tr>\n      <th>31$普陀</th>\n      <td>30.05</td>\n      <td>221.24</td>\n      <td>613.52</td>\n      <td>167.51</td>\n      <td>653.81</td>\n      <td>674.08</td>\n      <td>573.45</td>\n      <td>394.95</td>\n      <td>288.95</td>\n      <td>134.40</td>\n    </tr>\n    <tr>\n      <th>31$杨浦</th>\n      <td>26.45</td>\n      <td>200.85</td>\n      <td>566.31</td>\n      <td>143.38</td>\n      <td>713.35</td>\n      <td>646.17</td>\n      <td>578.04</td>\n      <td>583.79</td>\n      <td>253.62</td>\n      <td>87.66</td>\n    </tr>\n    <tr>\n      <th>31$松江</th>\n      <td>53.28</td>\n      <td>385.05</td>\n      <td>1068.34</td>\n      <td>322.98</td>\n      <td>1566.26</td>\n      <td>1633.38</td>\n      <td>1419.11</td>\n      <td>1631.81</td>\n      <td>1069.42</td>\n      <td>311.00</td>\n    </tr>\n    <tr>\n      <th>31$浦东</th>\n      <td>119.48</td>\n      <td>899.08</td>\n      <td>2574.53</td>\n      <td>668.58</td>\n      <td>3773.81</td>\n      <td>3727.14</td>\n      <td>3244.46</td>\n      <td>2868.21</td>\n      <td>1820.86</td>\n      <td>651.33</td>\n    </tr>\n    <tr>\n      <th>31$虹口</th>\n      <td>17.10</td>\n      <td>140.45</td>\n      <td>396.57</td>\n      <td>102.40</td>\n      <td>542.24</td>\n      <td>529.33</td>\n      <td>455.50</td>\n      <td>298.49</td>\n      <td>215.50</td>\n      <td>35.45</td>\n    </tr>\n    <tr>\n      <th>31$金山</th>\n      <td>21.86</td>\n      <td>161.89</td>\n      <td>438.52</td>\n      <td>128.92</td>\n      <td>489.14</td>\n      <td>458.13</td>\n      <td>365.59</td>\n      <td>370.63</td>\n      <td>307.14</td>\n      <td>136.36</td>\n    </tr>\n    <tr>\n      <th>31$长宁</th>\n      <td>14.26</td>\n      <td>103.09</td>\n      <td>328.25</td>\n      <td>78.66</td>\n      <td>494.10</td>\n      <td>507.76</td>\n      <td>425.79</td>\n      <td>263.65</td>\n      <td>213.11</td>\n      <td>137.49</td>\n    </tr>\n    <tr>\n      <th>31$闵行</th>\n      <td>53.15</td>\n      <td>417.12</td>\n      <td>1272.24</td>\n      <td>327.66</td>\n      <td>1710.67</td>\n      <td>1734.14</td>\n      <td>1564.26</td>\n      <td>1254.50</td>\n      <td>1131.74</td>\n      <td>251.14</td>\n    </tr>\n    <tr>\n      <th>31$青浦</th>\n      <td>26.25</td>\n      <td>215.14</td>\n      <td>579.35</td>\n      <td>171.72</td>\n      <td>860.85</td>\n      <td>852.53</td>\n      <td>734.60</td>\n      <td>583.02</td>\n      <td>414.68</td>\n      <td>194.78</td>\n    </tr>\n    <tr>\n      <th>31$静安</th>\n      <td>28.98</td>\n      <td>197.89</td>\n      <td>577.63</td>\n      <td>155.69</td>\n      <td>836.17</td>\n      <td>743.89</td>\n      <td>731.36</td>\n      <td>550.28</td>\n      <td>392.24</td>\n      <td>164.66</td>\n    </tr>\n    <tr>\n      <th>31$黄浦</th>\n      <td>14.63</td>\n      <td>107.26</td>\n      <td>325.56</td>\n      <td>90.69</td>\n      <td>569.33</td>\n      <td>480.43</td>\n      <td>437.17</td>\n      <td>313.01</td>\n      <td>251.49</td>\n      <td>82.56</td>\n    </tr>\n  </tbody>\n</table>\n</div>"
     },
     "execution_count": 18,
     "metadata": {},
     "output_type": "execute_result"
    }
   ],
   "source": [
    "import pandas as pd\n",
    "data1=pd.read_excel(r\"E:\\彩票数据\\山西\\山西季报\\月份-地市-游戏-票单价.xlsx\",sheet_name=0)\n",
    "ppt=pd.DataFrame()\n",
    "a_data = data1[(data1['季度'] == '2024年第2季度') ]\n",
    "games = [\"02$2\", \"04$4-8\", \"05$10\", \"06$12-18\", \"07$20\", \"08$22-48\", \"09$50-98\", \"10$100-198\", \"11$200-998\", \"12$1000以上\"]\n",
    "ppt_28_excel = pd.DataFrame()\n",
    "for game in games:\n",
    "    ppt_28_excel[game] = a_data[a_data['票价区间'] == game].groupby('地市')['销量'].sum() * 1e-4\n",
    "    ppt_28_excel[game] = ppt_28_excel[game].apply(lambda x: '{:.2f}'.format(x))\n",
    "# ppt_28_excel.to_excel(r\"E:\\彩票数据\\山西\\山西月报\\2024年%d月报\\ppt_28.xlsx\" % (month))\n",
    "ppt_28_excel"
   ],
   "metadata": {
    "collapsed": false,
    "pycharm": {
     "name": "#%%\n"
    }
   }
  },
  {
   "cell_type": "code",
   "execution_count": 19,
   "outputs": [
    {
     "data": {
      "text/plain": "         日期   小时  省份     游戏      销量     票数         季度\n0     45421  07时  上海    双色球   59966   4606  2024年第2季度\n1     45414  06时  上海    双色球    8144    546  2024年第2季度\n2     45413  12时  上海   福彩3D  105590   3761  2024年第2季度\n3     45416  13时  上海   15选5    4352    568  2024年第2季度\n4     45413  00时  上海  东方6+1     414     45  2024年第2季度\n...     ...  ...  ..    ...     ...    ...        ...\n7183  45465  20时  上海    快乐8  751838  15881  2024年第2季度\n7184  45460  03时  上海    快乐8     608      4  2024年第2季度\n7185  45462  05时  上海     选4      34      4  2024年第2季度\n7186  45418  05时  上海     选4      48      5  2024年第2季度\n7187  45413  04时  上海   福彩3D      50      1  2024年第2季度\n\n[7188 rows x 7 columns]",
      "text/html": "<div>\n<style scoped>\n    .dataframe tbody tr th:only-of-type {\n        vertical-align: middle;\n    }\n\n    .dataframe tbody tr th {\n        vertical-align: top;\n    }\n\n    .dataframe thead th {\n        text-align: right;\n    }\n</style>\n<table border=\"1\" class=\"dataframe\">\n  <thead>\n    <tr style=\"text-align: right;\">\n      <th></th>\n      <th>日期</th>\n      <th>小时</th>\n      <th>省份</th>\n      <th>游戏</th>\n      <th>销量</th>\n      <th>票数</th>\n      <th>季度</th>\n    </tr>\n  </thead>\n  <tbody>\n    <tr>\n      <th>0</th>\n      <td>45421</td>\n      <td>07时</td>\n      <td>上海</td>\n      <td>双色球</td>\n      <td>59966</td>\n      <td>4606</td>\n      <td>2024年第2季度</td>\n    </tr>\n    <tr>\n      <th>1</th>\n      <td>45414</td>\n      <td>06时</td>\n      <td>上海</td>\n      <td>双色球</td>\n      <td>8144</td>\n      <td>546</td>\n      <td>2024年第2季度</td>\n    </tr>\n    <tr>\n      <th>2</th>\n      <td>45413</td>\n      <td>12时</td>\n      <td>上海</td>\n      <td>福彩3D</td>\n      <td>105590</td>\n      <td>3761</td>\n      <td>2024年第2季度</td>\n    </tr>\n    <tr>\n      <th>3</th>\n      <td>45416</td>\n      <td>13时</td>\n      <td>上海</td>\n      <td>15选5</td>\n      <td>4352</td>\n      <td>568</td>\n      <td>2024年第2季度</td>\n    </tr>\n    <tr>\n      <th>4</th>\n      <td>45413</td>\n      <td>00时</td>\n      <td>上海</td>\n      <td>东方6+1</td>\n      <td>414</td>\n      <td>45</td>\n      <td>2024年第2季度</td>\n    </tr>\n    <tr>\n      <th>...</th>\n      <td>...</td>\n      <td>...</td>\n      <td>...</td>\n      <td>...</td>\n      <td>...</td>\n      <td>...</td>\n      <td>...</td>\n    </tr>\n    <tr>\n      <th>7183</th>\n      <td>45465</td>\n      <td>20时</td>\n      <td>上海</td>\n      <td>快乐8</td>\n      <td>751838</td>\n      <td>15881</td>\n      <td>2024年第2季度</td>\n    </tr>\n    <tr>\n      <th>7184</th>\n      <td>45460</td>\n      <td>03时</td>\n      <td>上海</td>\n      <td>快乐8</td>\n      <td>608</td>\n      <td>4</td>\n      <td>2024年第2季度</td>\n    </tr>\n    <tr>\n      <th>7185</th>\n      <td>45462</td>\n      <td>05时</td>\n      <td>上海</td>\n      <td>选4</td>\n      <td>34</td>\n      <td>4</td>\n      <td>2024年第2季度</td>\n    </tr>\n    <tr>\n      <th>7186</th>\n      <td>45418</td>\n      <td>05时</td>\n      <td>上海</td>\n      <td>选4</td>\n      <td>48</td>\n      <td>5</td>\n      <td>2024年第2季度</td>\n    </tr>\n    <tr>\n      <th>7187</th>\n      <td>45413</td>\n      <td>04时</td>\n      <td>上海</td>\n      <td>福彩3D</td>\n      <td>50</td>\n      <td>1</td>\n      <td>2024年第2季度</td>\n    </tr>\n  </tbody>\n</table>\n<p>7188 rows × 7 columns</p>\n</div>"
     },
     "execution_count": 19,
     "metadata": {},
     "output_type": "execute_result"
    }
   ],
   "source": [
    "import pandas as pd\n",
    "data2=pd.read_excel(r\"E:\\彩票数据\\山西\\山西季报\\日期-小时-游戏.xlsx\",sheet_name=0)\n",
    "data2"
   ],
   "metadata": {
    "collapsed": false,
    "pycharm": {
     "name": "#%%\n"
    }
   }
  },
  {
   "cell_type": "code",
   "execution_count": 20,
   "outputs": [
    {
     "data": {
      "text/plain": "         00时    01时    02时   03时   04时   05时    06时     07时      08时      09时  \\\n省份                                                                              \n上海  27867.61  52.86  28.11  0.98  0.62  5.47  56.62  309.27  1639.54  2638.58   \n\n    ...      15时      16时      17时      18时       19时      20时     21时  \\\n省份  ...                                                                  \n上海  ...  4517.27  5490.09  6872.57  9564.14  14674.71  7221.16  440.06   \n\n       22时     23时  24时  \n省份                       \n上海  527.65  183.57  nan  \n\n[1 rows x 25 columns]",
      "text/html": "<div>\n<style scoped>\n    .dataframe tbody tr th:only-of-type {\n        vertical-align: middle;\n    }\n\n    .dataframe tbody tr th {\n        vertical-align: top;\n    }\n\n    .dataframe thead th {\n        text-align: right;\n    }\n</style>\n<table border=\"1\" class=\"dataframe\">\n  <thead>\n    <tr style=\"text-align: right;\">\n      <th></th>\n      <th>00时</th>\n      <th>01时</th>\n      <th>02时</th>\n      <th>03时</th>\n      <th>04时</th>\n      <th>05时</th>\n      <th>06时</th>\n      <th>07时</th>\n      <th>08时</th>\n      <th>09时</th>\n      <th>...</th>\n      <th>15时</th>\n      <th>16时</th>\n      <th>17时</th>\n      <th>18时</th>\n      <th>19时</th>\n      <th>20时</th>\n      <th>21时</th>\n      <th>22时</th>\n      <th>23时</th>\n      <th>24时</th>\n    </tr>\n    <tr>\n      <th>省份</th>\n      <th></th>\n      <th></th>\n      <th></th>\n      <th></th>\n      <th></th>\n      <th></th>\n      <th></th>\n      <th></th>\n      <th></th>\n      <th></th>\n      <th></th>\n      <th></th>\n      <th></th>\n      <th></th>\n      <th></th>\n      <th></th>\n      <th></th>\n      <th></th>\n      <th></th>\n      <th></th>\n      <th></th>\n    </tr>\n  </thead>\n  <tbody>\n    <tr>\n      <th>上海</th>\n      <td>27867.61</td>\n      <td>52.86</td>\n      <td>28.11</td>\n      <td>0.98</td>\n      <td>0.62</td>\n      <td>5.47</td>\n      <td>56.62</td>\n      <td>309.27</td>\n      <td>1639.54</td>\n      <td>2638.58</td>\n      <td>...</td>\n      <td>4517.27</td>\n      <td>5490.09</td>\n      <td>6872.57</td>\n      <td>9564.14</td>\n      <td>14674.71</td>\n      <td>7221.16</td>\n      <td>440.06</td>\n      <td>527.65</td>\n      <td>183.57</td>\n      <td>nan</td>\n    </tr>\n  </tbody>\n</table>\n<p>1 rows × 25 columns</p>\n</div>"
     },
     "execution_count": 20,
     "metadata": {},
     "output_type": "execute_result"
    }
   ],
   "source": [
    "import pandas as pd\n",
    "# data2=pd.read_excel(r\"E:\\彩票数据\\山西\\山西月报\\2024年5月报\\月份-地市-游戏-票单价.xlsx\",sheet_name=0)\n",
    "a_data = data2[(data2['季度'] == '2024年第2季度') ]\n",
    "a_data\n",
    "games = [\"00时\", \"01时\", \"02时\", \"03时\", \"04时\", \"05时\",\"06时\", \"07时\", \"08时\", \"09时\", \"10时\", \"11时\",\"12时\", \"13时\", \"14时\", \"15时\", \"16时\", \"17时\",\"18时\", \"19时\", \"20时\", \"21时\", \"22时\", \"23时\" ,\"24时\"]\n",
    "ppt_30_excel = pd.DataFrame()\n",
    "for game in games:\n",
    "    ppt_30_excel[game] = a_data[a_data['小时'] == game].groupby('省份')['销量'].sum() * 1e-4\n",
    "    ppt_30_excel[game] = ppt_30_excel[game].apply(lambda x: '{:.2f}'.format(x))\n",
    "# ppt_28_excel.to_excel(r\"E:\\彩票数据\\山西\\山西月报\\2024年%d月报\\ppt_28.xlsx\" % (month))\n",
    "ppt_30_excel"
   ],
   "metadata": {
    "collapsed": false,
    "pycharm": {
     "name": "#%%\n"
    }
   }
  },
  {
   "cell_type": "code",
   "execution_count": 21,
   "outputs": [
    {
     "data": {
      "text/plain": "         日期  地市     游戏       销量      月份   季度\n0     44166  中心    双色球    47502  202012  NaN\n1     44166  中心    七乐彩    20940  202012  NaN\n2     44166  中心   福彩3D     4874  202012  NaN\n3     44166  中心     选4     1556  202012  NaN\n4     44166  中心   15选5     8502  202012  NaN\n...     ...  ..    ...      ...     ...  ...\n5699  45474  黄浦    快乐8   951642  202407  NaN\n5700  45474  黄浦    即开票  3169700  202407  NaN\n5701  45474  黄浦     选4   186474  202407  NaN\n5702  45474  黄浦   15选5   120470  202407  NaN\n5703  45474  黄浦  东方6+1    23354  202407  NaN\n\n[5704 rows x 6 columns]",
      "text/html": "<div>\n<style scoped>\n    .dataframe tbody tr th:only-of-type {\n        vertical-align: middle;\n    }\n\n    .dataframe tbody tr th {\n        vertical-align: top;\n    }\n\n    .dataframe thead th {\n        text-align: right;\n    }\n</style>\n<table border=\"1\" class=\"dataframe\">\n  <thead>\n    <tr style=\"text-align: right;\">\n      <th></th>\n      <th>日期</th>\n      <th>地市</th>\n      <th>游戏</th>\n      <th>销量</th>\n      <th>月份</th>\n      <th>季度</th>\n    </tr>\n  </thead>\n  <tbody>\n    <tr>\n      <th>0</th>\n      <td>44166</td>\n      <td>中心</td>\n      <td>双色球</td>\n      <td>47502</td>\n      <td>202012</td>\n      <td>NaN</td>\n    </tr>\n    <tr>\n      <th>1</th>\n      <td>44166</td>\n      <td>中心</td>\n      <td>七乐彩</td>\n      <td>20940</td>\n      <td>202012</td>\n      <td>NaN</td>\n    </tr>\n    <tr>\n      <th>2</th>\n      <td>44166</td>\n      <td>中心</td>\n      <td>福彩3D</td>\n      <td>4874</td>\n      <td>202012</td>\n      <td>NaN</td>\n    </tr>\n    <tr>\n      <th>3</th>\n      <td>44166</td>\n      <td>中心</td>\n      <td>选4</td>\n      <td>1556</td>\n      <td>202012</td>\n      <td>NaN</td>\n    </tr>\n    <tr>\n      <th>4</th>\n      <td>44166</td>\n      <td>中心</td>\n      <td>15选5</td>\n      <td>8502</td>\n      <td>202012</td>\n      <td>NaN</td>\n    </tr>\n    <tr>\n      <th>...</th>\n      <td>...</td>\n      <td>...</td>\n      <td>...</td>\n      <td>...</td>\n      <td>...</td>\n      <td>...</td>\n    </tr>\n    <tr>\n      <th>5699</th>\n      <td>45474</td>\n      <td>黄浦</td>\n      <td>快乐8</td>\n      <td>951642</td>\n      <td>202407</td>\n      <td>NaN</td>\n    </tr>\n    <tr>\n      <th>5700</th>\n      <td>45474</td>\n      <td>黄浦</td>\n      <td>即开票</td>\n      <td>3169700</td>\n      <td>202407</td>\n      <td>NaN</td>\n    </tr>\n    <tr>\n      <th>5701</th>\n      <td>45474</td>\n      <td>黄浦</td>\n      <td>选4</td>\n      <td>186474</td>\n      <td>202407</td>\n      <td>NaN</td>\n    </tr>\n    <tr>\n      <th>5702</th>\n      <td>45474</td>\n      <td>黄浦</td>\n      <td>15选5</td>\n      <td>120470</td>\n      <td>202407</td>\n      <td>NaN</td>\n    </tr>\n    <tr>\n      <th>5703</th>\n      <td>45474</td>\n      <td>黄浦</td>\n      <td>东方6+1</td>\n      <td>23354</td>\n      <td>202407</td>\n      <td>NaN</td>\n    </tr>\n  </tbody>\n</table>\n<p>5704 rows × 6 columns</p>\n</div>"
     },
     "execution_count": 21,
     "metadata": {},
     "output_type": "execute_result"
    }
   ],
   "source": [
    "import pandas as pd\n",
    "data=pd.read_excel(r\"E:\\彩票数据\\山西\\山西季报\\近4年上海统计数据.xlsx\",sheet_name=0)\n",
    "data"
   ],
   "metadata": {
    "collapsed": false,
    "pycharm": {
     "name": "#%%\n"
    }
   }
  },
  {
   "cell_type": "code",
   "execution_count": 22,
   "outputs": [
    {
     "data": {
      "text/plain": "    2024年第2季度  2024年第1季度  2023年第4季度  2023年第3季度\n地市                                            \n中心  103311702   91511308  103740792   97207486\n嘉定  139283838  120418062  116484354  132397818\n奉贤   68930230   67160992   64979520   76127960\n宝山  122241746  117465234  111041946  121814838\n崇明   24909490   23033750   21130008   23680528\n徐汇   48774092   47872952   45582254   50566620\n普陀   61406960   55927028   55110346   56112840\n杨浦   60347908   51362126   49057798   52213018\n松江  148908252  135335620  134958526  147799444\n浦东  314815714  294123652  275835560  320459064\n渠道    2440000    5639500   15844500   27406800\n虹口   42439964   38461906   36870538   39106584\n金山   44944360   40982702   39397252   41216018\n长宁   49257324   38163398   38203098   42574266\n闵行  155945926  140904200  140863900  160055992\n青浦   74260704   69203730   67239104   80493518\n静安   69691066   66601276   64117426   71759284\n黄浦   41113390   38060262   36970136   38879376",
      "text/html": "<div>\n<style scoped>\n    .dataframe tbody tr th:only-of-type {\n        vertical-align: middle;\n    }\n\n    .dataframe tbody tr th {\n        vertical-align: top;\n    }\n\n    .dataframe thead th {\n        text-align: right;\n    }\n</style>\n<table border=\"1\" class=\"dataframe\">\n  <thead>\n    <tr style=\"text-align: right;\">\n      <th></th>\n      <th>2024年第2季度</th>\n      <th>2024年第1季度</th>\n      <th>2023年第4季度</th>\n      <th>2023年第3季度</th>\n    </tr>\n    <tr>\n      <th>地市</th>\n      <th></th>\n      <th></th>\n      <th></th>\n      <th></th>\n    </tr>\n  </thead>\n  <tbody>\n    <tr>\n      <th>中心</th>\n      <td>103311702</td>\n      <td>91511308</td>\n      <td>103740792</td>\n      <td>97207486</td>\n    </tr>\n    <tr>\n      <th>嘉定</th>\n      <td>139283838</td>\n      <td>120418062</td>\n      <td>116484354</td>\n      <td>132397818</td>\n    </tr>\n    <tr>\n      <th>奉贤</th>\n      <td>68930230</td>\n      <td>67160992</td>\n      <td>64979520</td>\n      <td>76127960</td>\n    </tr>\n    <tr>\n      <th>宝山</th>\n      <td>122241746</td>\n      <td>117465234</td>\n      <td>111041946</td>\n      <td>121814838</td>\n    </tr>\n    <tr>\n      <th>崇明</th>\n      <td>24909490</td>\n      <td>23033750</td>\n      <td>21130008</td>\n      <td>23680528</td>\n    </tr>\n    <tr>\n      <th>徐汇</th>\n      <td>48774092</td>\n      <td>47872952</td>\n      <td>45582254</td>\n      <td>50566620</td>\n    </tr>\n    <tr>\n      <th>普陀</th>\n      <td>61406960</td>\n      <td>55927028</td>\n      <td>55110346</td>\n      <td>56112840</td>\n    </tr>\n    <tr>\n      <th>杨浦</th>\n      <td>60347908</td>\n      <td>51362126</td>\n      <td>49057798</td>\n      <td>52213018</td>\n    </tr>\n    <tr>\n      <th>松江</th>\n      <td>148908252</td>\n      <td>135335620</td>\n      <td>134958526</td>\n      <td>147799444</td>\n    </tr>\n    <tr>\n      <th>浦东</th>\n      <td>314815714</td>\n      <td>294123652</td>\n      <td>275835560</td>\n      <td>320459064</td>\n    </tr>\n    <tr>\n      <th>渠道</th>\n      <td>2440000</td>\n      <td>5639500</td>\n      <td>15844500</td>\n      <td>27406800</td>\n    </tr>\n    <tr>\n      <th>虹口</th>\n      <td>42439964</td>\n      <td>38461906</td>\n      <td>36870538</td>\n      <td>39106584</td>\n    </tr>\n    <tr>\n      <th>金山</th>\n      <td>44944360</td>\n      <td>40982702</td>\n      <td>39397252</td>\n      <td>41216018</td>\n    </tr>\n    <tr>\n      <th>长宁</th>\n      <td>49257324</td>\n      <td>38163398</td>\n      <td>38203098</td>\n      <td>42574266</td>\n    </tr>\n    <tr>\n      <th>闵行</th>\n      <td>155945926</td>\n      <td>140904200</td>\n      <td>140863900</td>\n      <td>160055992</td>\n    </tr>\n    <tr>\n      <th>青浦</th>\n      <td>74260704</td>\n      <td>69203730</td>\n      <td>67239104</td>\n      <td>80493518</td>\n    </tr>\n    <tr>\n      <th>静安</th>\n      <td>69691066</td>\n      <td>66601276</td>\n      <td>64117426</td>\n      <td>71759284</td>\n    </tr>\n    <tr>\n      <th>黄浦</th>\n      <td>41113390</td>\n      <td>38060262</td>\n      <td>36970136</td>\n      <td>38879376</td>\n    </tr>\n  </tbody>\n</table>\n</div>"
     },
     "execution_count": 22,
     "metadata": {},
     "output_type": "execute_result"
    }
   ],
   "source": [
    "ppt_31_excel = pd.DataFrame()\n",
    "ppt_31_excel['2024年第2季度'] = data[data['季度'] == '2024年第2季度'].groupby('地市')['销量'].sum()\n",
    "ppt_31_excel['2024年第1季度'] = data[data['季度'] == '2024年第1季度'].groupby('地市')['销量'].sum()\n",
    "ppt_31_excel['2023年第4季度'] = data[data['季度'] == '2023年第4季度'].groupby('地市')['销量'].sum()\n",
    "ppt_31_excel['2023年第3季度'] = data[data['季度'] == '2023年第3季度'].groupby('地市')['销量'].sum()\n",
    "ppt_31_excel"
   ],
   "metadata": {
    "collapsed": false,
    "pycharm": {
     "name": "#%%\n"
    }
   }
  },
  {
   "cell_type": "code",
   "execution_count": 23,
   "outputs": [
    {
     "data": {
      "text/plain": "          01$单倍    02$两倍  03$3到5倍 04$6到10倍 05$11到20倍 06$21到100倍\n地市                                                             \n31$中心   3520.84   692.09  1057.91   542.49    261.28     682.48\n31$嘉定   5899.03   428.74   824.36   613.92    362.08     634.29\n31$奉贤   2749.59   256.72   490.46   334.36    159.39     315.54\n31$宝山   4873.44   446.83   831.00   584.69    375.47     543.17\n31$崇明    877.41   100.36   197.56   128.76     83.90      93.58\n31$徐汇   1854.65   189.68   371.25   262.47    102.54     253.89\n31$普陀   2320.53   261.35   484.50   278.24    107.96     299.39\n31$杨浦   2310.73   225.89   454.64   390.76    179.04     238.55\n31$松江   5870.08   462.34   945.14   789.97    502.39     890.71\n31$浦东  13115.24  1085.54  2089.64  1520.22    812.66    1724.18\n31$渠道    120.00      nan      nan      nan       nan        nan\n31$虹口   1793.94   151.19   328.62   191.77     96.82     170.68\n31$金山   1741.55   174.41   350.76   242.23     99.29     269.93\n31$长宁   1689.27   133.74   252.08   153.76     72.09     265.20\n31$闵行   6023.05   529.99  1051.53   750.72    350.33    1011.00\n31$青浦   2879.58   244.16   490.75   350.51    161.10     506.81\n31$静安   2782.23   240.41   481.88   317.70    195.60     360.97\n31$黄浦   1693.22   138.12   296.23   190.53     95.91     258.12",
      "text/html": "<div>\n<style scoped>\n    .dataframe tbody tr th:only-of-type {\n        vertical-align: middle;\n    }\n\n    .dataframe tbody tr th {\n        vertical-align: top;\n    }\n\n    .dataframe thead th {\n        text-align: right;\n    }\n</style>\n<table border=\"1\" class=\"dataframe\">\n  <thead>\n    <tr style=\"text-align: right;\">\n      <th></th>\n      <th>01$单倍</th>\n      <th>02$两倍</th>\n      <th>03$3到5倍</th>\n      <th>04$6到10倍</th>\n      <th>05$11到20倍</th>\n      <th>06$21到100倍</th>\n    </tr>\n    <tr>\n      <th>地市</th>\n      <th></th>\n      <th></th>\n      <th></th>\n      <th></th>\n      <th></th>\n      <th></th>\n    </tr>\n  </thead>\n  <tbody>\n    <tr>\n      <th>31$中心</th>\n      <td>3520.84</td>\n      <td>692.09</td>\n      <td>1057.91</td>\n      <td>542.49</td>\n      <td>261.28</td>\n      <td>682.48</td>\n    </tr>\n    <tr>\n      <th>31$嘉定</th>\n      <td>5899.03</td>\n      <td>428.74</td>\n      <td>824.36</td>\n      <td>613.92</td>\n      <td>362.08</td>\n      <td>634.29</td>\n    </tr>\n    <tr>\n      <th>31$奉贤</th>\n      <td>2749.59</td>\n      <td>256.72</td>\n      <td>490.46</td>\n      <td>334.36</td>\n      <td>159.39</td>\n      <td>315.54</td>\n    </tr>\n    <tr>\n      <th>31$宝山</th>\n      <td>4873.44</td>\n      <td>446.83</td>\n      <td>831.00</td>\n      <td>584.69</td>\n      <td>375.47</td>\n      <td>543.17</td>\n    </tr>\n    <tr>\n      <th>31$崇明</th>\n      <td>877.41</td>\n      <td>100.36</td>\n      <td>197.56</td>\n      <td>128.76</td>\n      <td>83.90</td>\n      <td>93.58</td>\n    </tr>\n    <tr>\n      <th>31$徐汇</th>\n      <td>1854.65</td>\n      <td>189.68</td>\n      <td>371.25</td>\n      <td>262.47</td>\n      <td>102.54</td>\n      <td>253.89</td>\n    </tr>\n    <tr>\n      <th>31$普陀</th>\n      <td>2320.53</td>\n      <td>261.35</td>\n      <td>484.50</td>\n      <td>278.24</td>\n      <td>107.96</td>\n      <td>299.39</td>\n    </tr>\n    <tr>\n      <th>31$杨浦</th>\n      <td>2310.73</td>\n      <td>225.89</td>\n      <td>454.64</td>\n      <td>390.76</td>\n      <td>179.04</td>\n      <td>238.55</td>\n    </tr>\n    <tr>\n      <th>31$松江</th>\n      <td>5870.08</td>\n      <td>462.34</td>\n      <td>945.14</td>\n      <td>789.97</td>\n      <td>502.39</td>\n      <td>890.71</td>\n    </tr>\n    <tr>\n      <th>31$浦东</th>\n      <td>13115.24</td>\n      <td>1085.54</td>\n      <td>2089.64</td>\n      <td>1520.22</td>\n      <td>812.66</td>\n      <td>1724.18</td>\n    </tr>\n    <tr>\n      <th>31$渠道</th>\n      <td>120.00</td>\n      <td>nan</td>\n      <td>nan</td>\n      <td>nan</td>\n      <td>nan</td>\n      <td>nan</td>\n    </tr>\n    <tr>\n      <th>31$虹口</th>\n      <td>1793.94</td>\n      <td>151.19</td>\n      <td>328.62</td>\n      <td>191.77</td>\n      <td>96.82</td>\n      <td>170.68</td>\n    </tr>\n    <tr>\n      <th>31$金山</th>\n      <td>1741.55</td>\n      <td>174.41</td>\n      <td>350.76</td>\n      <td>242.23</td>\n      <td>99.29</td>\n      <td>269.93</td>\n    </tr>\n    <tr>\n      <th>31$长宁</th>\n      <td>1689.27</td>\n      <td>133.74</td>\n      <td>252.08</td>\n      <td>153.76</td>\n      <td>72.09</td>\n      <td>265.20</td>\n    </tr>\n    <tr>\n      <th>31$闵行</th>\n      <td>6023.05</td>\n      <td>529.99</td>\n      <td>1051.53</td>\n      <td>750.72</td>\n      <td>350.33</td>\n      <td>1011.00</td>\n    </tr>\n    <tr>\n      <th>31$青浦</th>\n      <td>2879.58</td>\n      <td>244.16</td>\n      <td>490.75</td>\n      <td>350.51</td>\n      <td>161.10</td>\n      <td>506.81</td>\n    </tr>\n    <tr>\n      <th>31$静安</th>\n      <td>2782.23</td>\n      <td>240.41</td>\n      <td>481.88</td>\n      <td>317.70</td>\n      <td>195.60</td>\n      <td>360.97</td>\n    </tr>\n    <tr>\n      <th>31$黄浦</th>\n      <td>1693.22</td>\n      <td>138.12</td>\n      <td>296.23</td>\n      <td>190.53</td>\n      <td>95.91</td>\n      <td>258.12</td>\n    </tr>\n  </tbody>\n</table>\n</div>"
     },
     "execution_count": 23,
     "metadata": {},
     "output_type": "execute_result"
    }
   ],
   "source": [
    "import pandas as pd\n",
    "data3=pd.read_excel(r\"E:\\彩票数据\\山西\\山西季报\\月份-地市-游戏-倍投.xlsx\",sheet_name=0)\n",
    "ppt=pd.DataFrame()\n",
    "a_data = data3[(data3['季度'] == \"2024年第2季度\") ]\n",
    "games = [\"01$单倍\",\"02$两倍\",\"03$3到5倍\",\"04$6到10倍\",\"05$11到20倍\",\"06$21到100倍\"]\n",
    "ppt_46_excel = pd.DataFrame()\n",
    "for game in games:\n",
    "    ppt_46_excel[game] = a_data[a_data['倍投'] == game].groupby('地市')['销量'].sum() * 1e-4\n",
    "    ppt_46_excel[game] = ppt_46_excel[game].apply(lambda x: '{:.2f}'.format(x))\n",
    "# ppt_46_excel.to_excel(r\"E:\\彩票数据\\山西\\山西月报\\2024年%d月报\\ppt_46.xlsx\" % (month))\n",
    "ppt_46_excel"
   ],
   "metadata": {
    "collapsed": false,
    "pycharm": {
     "name": "#%%\n"
    }
   }
  },
  {
   "cell_type": "code",
   "execution_count": 24,
   "outputs": [
    {
     "data": {
      "text/plain": "             01$单倍    02$两倍  03$3到5倍 04$6到10倍 05$11到20倍 06$21到100倍\n游戏                                                                \n01$双色球    20494.49  3630.94  5496.49  2733.06    892.31    3465.17\n02$七乐彩      453.95    24.11    28.97     6.18      1.61       2.82\n03$福彩3D    3153.20  1256.69  3595.95  2589.78   1294.24    4890.94\n04$快乐8     8833.60   579.86  1392.49  2078.75   1713.80        nan\n05$即开票    27809.80      nan      nan      nan       nan        nan\n17$选4       835.22   186.02   354.36   167.75     68.05     101.21\n24$15选5     375.58    59.56    93.51    47.44     37.12      42.60\n25$东方6+1    158.53    24.37    36.52    20.14     10.72      15.76",
      "text/html": "<div>\n<style scoped>\n    .dataframe tbody tr th:only-of-type {\n        vertical-align: middle;\n    }\n\n    .dataframe tbody tr th {\n        vertical-align: top;\n    }\n\n    .dataframe thead th {\n        text-align: right;\n    }\n</style>\n<table border=\"1\" class=\"dataframe\">\n  <thead>\n    <tr style=\"text-align: right;\">\n      <th></th>\n      <th>01$单倍</th>\n      <th>02$两倍</th>\n      <th>03$3到5倍</th>\n      <th>04$6到10倍</th>\n      <th>05$11到20倍</th>\n      <th>06$21到100倍</th>\n    </tr>\n    <tr>\n      <th>游戏</th>\n      <th></th>\n      <th></th>\n      <th></th>\n      <th></th>\n      <th></th>\n      <th></th>\n    </tr>\n  </thead>\n  <tbody>\n    <tr>\n      <th>01$双色球</th>\n      <td>20494.49</td>\n      <td>3630.94</td>\n      <td>5496.49</td>\n      <td>2733.06</td>\n      <td>892.31</td>\n      <td>3465.17</td>\n    </tr>\n    <tr>\n      <th>02$七乐彩</th>\n      <td>453.95</td>\n      <td>24.11</td>\n      <td>28.97</td>\n      <td>6.18</td>\n      <td>1.61</td>\n      <td>2.82</td>\n    </tr>\n    <tr>\n      <th>03$福彩3D</th>\n      <td>3153.20</td>\n      <td>1256.69</td>\n      <td>3595.95</td>\n      <td>2589.78</td>\n      <td>1294.24</td>\n      <td>4890.94</td>\n    </tr>\n    <tr>\n      <th>04$快乐8</th>\n      <td>8833.60</td>\n      <td>579.86</td>\n      <td>1392.49</td>\n      <td>2078.75</td>\n      <td>1713.80</td>\n      <td>nan</td>\n    </tr>\n    <tr>\n      <th>05$即开票</th>\n      <td>27809.80</td>\n      <td>nan</td>\n      <td>nan</td>\n      <td>nan</td>\n      <td>nan</td>\n      <td>nan</td>\n    </tr>\n    <tr>\n      <th>17$选4</th>\n      <td>835.22</td>\n      <td>186.02</td>\n      <td>354.36</td>\n      <td>167.75</td>\n      <td>68.05</td>\n      <td>101.21</td>\n    </tr>\n    <tr>\n      <th>24$15选5</th>\n      <td>375.58</td>\n      <td>59.56</td>\n      <td>93.51</td>\n      <td>47.44</td>\n      <td>37.12</td>\n      <td>42.60</td>\n    </tr>\n    <tr>\n      <th>25$东方6+1</th>\n      <td>158.53</td>\n      <td>24.37</td>\n      <td>36.52</td>\n      <td>20.14</td>\n      <td>10.72</td>\n      <td>15.76</td>\n    </tr>\n  </tbody>\n</table>\n</div>"
     },
     "execution_count": 24,
     "metadata": {},
     "output_type": "execute_result"
    }
   ],
   "source": [
    "import pandas as pd\n",
    "data3=pd.read_excel(r\"E:\\彩票数据\\山西\\山西季报\\月份-地市-游戏-倍投.xlsx\",sheet_name=0)\n",
    "ppt=pd.DataFrame()\n",
    "a_data = data3[(data3['季度'] == \"2024年第2季度\") ]\n",
    "games = [\"01$单倍\",\"02$两倍\",\"03$3到5倍\",\"04$6到10倍\",\"05$11到20倍\",\"06$21到100倍\"]\n",
    "ppt_47_excel = pd.DataFrame()\n",
    "for game in games:\n",
    "    ppt_47_excel[game] = a_data[a_data['倍投'] == game].groupby('游戏')['销量'].sum() * 1e-4\n",
    "    ppt_47_excel[game] = ppt_47_excel[game].apply(lambda x: '{:.2f}'.format(x))\n",
    "# ppt_47_excel.to_excel(r\"E:\\彩票数据\\山西\\山西月报\\2024年%d月报\\ppt_47.xlsx\" % (month))\n",
    "ppt_47_excel"
   ],
   "metadata": {
    "collapsed": false,
    "pycharm": {
     "name": "#%%\n"
    }
   }
  }
 ],
 "metadata": {
  "kernelspec": {
   "display_name": "Python 3",
   "language": "python",
   "name": "python3"
  },
  "language_info": {
   "codemirror_mode": {
    "name": "ipython",
    "version": 2
   },
   "file_extension": ".py",
   "mimetype": "text/x-python",
   "name": "python",
   "nbconvert_exporter": "python",
   "pygments_lexer": "ipython2",
   "version": "2.7.6"
  }
 },
 "nbformat": 4,
 "nbformat_minor": 0
}