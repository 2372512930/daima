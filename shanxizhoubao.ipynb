{
 "cells": [
  {
   "cell_type": "code",
   "execution_count": 1,
   "metadata": {
    "collapsed": true,
    "pycharm": {
     "name": "#%%\n"
    }
   },
   "outputs": [],
   "source": [
    "#27\n",
    "year = int(input(\"请输入年份：\"))\n",
    "week = int(input(\"请输入周：\"))"
   ]
  },
  {
   "cell_type": "code",
   "execution_count": 2,
   "outputs": [
    {
     "data": {
      "text/plain": "               周数   星期  地市     游戏      票价区间      销量\n0       2024年第01周  星期一  中心    双色球      02$2  128032\n1       2024年第01周  星期一  中心    双色球    04$4-8  146004\n2       2024年第01周  星期一  中心    双色球     05$10  156390\n3       2024年第01周  星期一  中心    双色球  06$12-18   47392\n4       2024年第01周  星期一  中心    双色球     07$20   79280\n...           ...  ...  ..    ...       ...     ...\n186656  2024年第27周  星期日  黄浦  东方6+1      02$2      28\n186657  2024年第27周  星期日  黄浦  东方6+1    04$4-8     174\n186658  2024年第27周  星期日  黄浦  东方6+1     05$10     200\n186659  2024年第27周  星期日  黄浦  东方6+1  06$12-18      24\n186660  2024年第27周  星期日  黄浦  东方6+1  08$22-48      30\n\n[186661 rows x 6 columns]",
      "text/html": "<div>\n<style scoped>\n    .dataframe tbody tr th:only-of-type {\n        vertical-align: middle;\n    }\n\n    .dataframe tbody tr th {\n        vertical-align: top;\n    }\n\n    .dataframe thead th {\n        text-align: right;\n    }\n</style>\n<table border=\"1\" class=\"dataframe\">\n  <thead>\n    <tr style=\"text-align: right;\">\n      <th></th>\n      <th>周数</th>\n      <th>星期</th>\n      <th>地市</th>\n      <th>游戏</th>\n      <th>票价区间</th>\n      <th>销量</th>\n    </tr>\n  </thead>\n  <tbody>\n    <tr>\n      <th>0</th>\n      <td>2024年第01周</td>\n      <td>星期一</td>\n      <td>中心</td>\n      <td>双色球</td>\n      <td>02$2</td>\n      <td>128032</td>\n    </tr>\n    <tr>\n      <th>1</th>\n      <td>2024年第01周</td>\n      <td>星期一</td>\n      <td>中心</td>\n      <td>双色球</td>\n      <td>04$4-8</td>\n      <td>146004</td>\n    </tr>\n    <tr>\n      <th>2</th>\n      <td>2024年第01周</td>\n      <td>星期一</td>\n      <td>中心</td>\n      <td>双色球</td>\n      <td>05$10</td>\n      <td>156390</td>\n    </tr>\n    <tr>\n      <th>3</th>\n      <td>2024年第01周</td>\n      <td>星期一</td>\n      <td>中心</td>\n      <td>双色球</td>\n      <td>06$12-18</td>\n      <td>47392</td>\n    </tr>\n    <tr>\n      <th>4</th>\n      <td>2024年第01周</td>\n      <td>星期一</td>\n      <td>中心</td>\n      <td>双色球</td>\n      <td>07$20</td>\n      <td>79280</td>\n    </tr>\n    <tr>\n      <th>...</th>\n      <td>...</td>\n      <td>...</td>\n      <td>...</td>\n      <td>...</td>\n      <td>...</td>\n      <td>...</td>\n    </tr>\n    <tr>\n      <th>186656</th>\n      <td>2024年第27周</td>\n      <td>星期日</td>\n      <td>黄浦</td>\n      <td>东方6+1</td>\n      <td>02$2</td>\n      <td>28</td>\n    </tr>\n    <tr>\n      <th>186657</th>\n      <td>2024年第27周</td>\n      <td>星期日</td>\n      <td>黄浦</td>\n      <td>东方6+1</td>\n      <td>04$4-8</td>\n      <td>174</td>\n    </tr>\n    <tr>\n      <th>186658</th>\n      <td>2024年第27周</td>\n      <td>星期日</td>\n      <td>黄浦</td>\n      <td>东方6+1</td>\n      <td>05$10</td>\n      <td>200</td>\n    </tr>\n    <tr>\n      <th>186659</th>\n      <td>2024年第27周</td>\n      <td>星期日</td>\n      <td>黄浦</td>\n      <td>东方6+1</td>\n      <td>06$12-18</td>\n      <td>24</td>\n    </tr>\n    <tr>\n      <th>186660</th>\n      <td>2024年第27周</td>\n      <td>星期日</td>\n      <td>黄浦</td>\n      <td>东方6+1</td>\n      <td>08$22-48</td>\n      <td>30</td>\n    </tr>\n  </tbody>\n</table>\n<p>186661 rows × 6 columns</p>\n</div>"
     },
     "execution_count": 2,
     "metadata": {},
     "output_type": "execute_result"
    }
   ],
   "source": [
    "import numpy\n",
    "import pandas as pd\n",
    "data=pd.read_excel(\"E:\\彩票数据\\山西\\山西周报\\票单价.xlsx\",sheet_name=0)\n",
    "# data.head(50)\n",
    "data"
   ],
   "metadata": {
    "collapsed": false,
    "pycharm": {
     "name": "#%%\n"
    }
   }
  },
  {
   "cell_type": "code",
   "execution_count": 3,
   "outputs": [
    {
     "data": {
      "text/plain": "      2024年第27周销量\n游戏               \n15选5        63.14\n七乐彩         69.55\n东方6+1       29.80\n即开票       4018.68\n双色球       3998.61\n快乐8       1519.68\n福彩3D      1632.45\n选4         180.39",
      "text/html": "<div>\n<style scoped>\n    .dataframe tbody tr th:only-of-type {\n        vertical-align: middle;\n    }\n\n    .dataframe tbody tr th {\n        vertical-align: top;\n    }\n\n    .dataframe thead th {\n        text-align: right;\n    }\n</style>\n<table border=\"1\" class=\"dataframe\">\n  <thead>\n    <tr style=\"text-align: right;\">\n      <th></th>\n      <th>2024年第27周销量</th>\n    </tr>\n    <tr>\n      <th>游戏</th>\n      <th></th>\n    </tr>\n  </thead>\n  <tbody>\n    <tr>\n      <th>15选5</th>\n      <td>63.14</td>\n    </tr>\n    <tr>\n      <th>七乐彩</th>\n      <td>69.55</td>\n    </tr>\n    <tr>\n      <th>东方6+1</th>\n      <td>29.80</td>\n    </tr>\n    <tr>\n      <th>即开票</th>\n      <td>4018.68</td>\n    </tr>\n    <tr>\n      <th>双色球</th>\n      <td>3998.61</td>\n    </tr>\n    <tr>\n      <th>快乐8</th>\n      <td>1519.68</td>\n    </tr>\n    <tr>\n      <th>福彩3D</th>\n      <td>1632.45</td>\n    </tr>\n    <tr>\n      <th>选4</th>\n      <td>180.39</td>\n    </tr>\n  </tbody>\n</table>\n</div>"
     },
     "execution_count": 3,
     "metadata": {},
     "output_type": "execute_result"
    }
   ],
   "source": [
    "ppt=pd.DataFrame()\n",
    "a_data = data[(data['周数'] == \"2024年第27周\") ]\n",
    "ppt['2024年第27周销量'] = a_data.groupby('游戏')['销量'].sum()*1e-4\n",
    "ppt_3_excel=pd.DataFrame()\n",
    "ppt_3_excel['2024年第27周销量'] = ppt['2024年第27周销量'].apply(lambda x: '{:.2f}'.format(x))\n",
    "# ppt_3_excel.to_excel(r\"E:\\彩票数据\\山西\\山西周报\\ppt_3.1.xlsx\")\n",
    "ppt_3_excel"
   ],
   "metadata": {
    "collapsed": false,
    "pycharm": {
     "name": "#%%\n"
    }
   }
  },
  {
   "cell_type": "code",
   "execution_count": 4,
   "outputs": [
    {
     "data": {
      "text/plain": "        日期   星期              期数     游戏        销量\n0    45474  星期一   15选5第2024173期   15选5     81682\n1    45474  星期一    七乐彩第2024075期    七乐彩    137810\n2    45474  星期一  东方6+1第2024075期  东方6+1     64284\n3    45474  星期一   即开票第20240701期    即开票   2716300\n4    45474  星期一    快乐8第2024173期    快乐8   2163746\n..     ...  ...             ...    ...       ...\n204  45480  星期日   即开票第20240707期    即开票  18864400\n205  45480  星期日    双色球第2024077期    双色球   8953980\n206  45480  星期日    快乐8第2024179期    快乐8   2048716\n207  45480  星期日   福彩3D第2024179期   福彩3D   2218730\n208  45480  星期日     选4第2024179期     选4    240256\n\n[209 rows x 5 columns]",
      "text/html": "<div>\n<style scoped>\n    .dataframe tbody tr th:only-of-type {\n        vertical-align: middle;\n    }\n\n    .dataframe tbody tr th {\n        vertical-align: top;\n    }\n\n    .dataframe thead th {\n        text-align: right;\n    }\n</style>\n<table border=\"1\" class=\"dataframe\">\n  <thead>\n    <tr style=\"text-align: right;\">\n      <th></th>\n      <th>日期</th>\n      <th>星期</th>\n      <th>期数</th>\n      <th>游戏</th>\n      <th>销量</th>\n    </tr>\n  </thead>\n  <tbody>\n    <tr>\n      <th>0</th>\n      <td>45474</td>\n      <td>星期一</td>\n      <td>15选5第2024173期</td>\n      <td>15选5</td>\n      <td>81682</td>\n    </tr>\n    <tr>\n      <th>1</th>\n      <td>45474</td>\n      <td>星期一</td>\n      <td>七乐彩第2024075期</td>\n      <td>七乐彩</td>\n      <td>137810</td>\n    </tr>\n    <tr>\n      <th>2</th>\n      <td>45474</td>\n      <td>星期一</td>\n      <td>东方6+1第2024075期</td>\n      <td>东方6+1</td>\n      <td>64284</td>\n    </tr>\n    <tr>\n      <th>3</th>\n      <td>45474</td>\n      <td>星期一</td>\n      <td>即开票第20240701期</td>\n      <td>即开票</td>\n      <td>2716300</td>\n    </tr>\n    <tr>\n      <th>4</th>\n      <td>45474</td>\n      <td>星期一</td>\n      <td>快乐8第2024173期</td>\n      <td>快乐8</td>\n      <td>2163746</td>\n    </tr>\n    <tr>\n      <th>...</th>\n      <td>...</td>\n      <td>...</td>\n      <td>...</td>\n      <td>...</td>\n      <td>...</td>\n    </tr>\n    <tr>\n      <th>204</th>\n      <td>45480</td>\n      <td>星期日</td>\n      <td>即开票第20240707期</td>\n      <td>即开票</td>\n      <td>18864400</td>\n    </tr>\n    <tr>\n      <th>205</th>\n      <td>45480</td>\n      <td>星期日</td>\n      <td>双色球第2024077期</td>\n      <td>双色球</td>\n      <td>8953980</td>\n    </tr>\n    <tr>\n      <th>206</th>\n      <td>45480</td>\n      <td>星期日</td>\n      <td>快乐8第2024179期</td>\n      <td>快乐8</td>\n      <td>2048716</td>\n    </tr>\n    <tr>\n      <th>207</th>\n      <td>45480</td>\n      <td>星期日</td>\n      <td>福彩3D第2024179期</td>\n      <td>福彩3D</td>\n      <td>2218730</td>\n    </tr>\n    <tr>\n      <th>208</th>\n      <td>45480</td>\n      <td>星期日</td>\n      <td>选4第2024179期</td>\n      <td>选4</td>\n      <td>240256</td>\n    </tr>\n  </tbody>\n</table>\n<p>209 rows × 5 columns</p>\n</div>"
     },
     "execution_count": 4,
     "metadata": {},
     "output_type": "execute_result"
    }
   ],
   "source": [
    "import numpy\n",
    "import pandas as pd\n",
    "data3=pd.read_excel(\"E:\\彩票数据\\山西\\山西周报\\期结.xlsx\",sheet_name=0)\n",
    "# data.head(50)\n",
    "data3"
   ],
   "metadata": {
    "collapsed": false,
    "pycharm": {
     "name": "#%%\n"
    }
   }
  },
  {
   "cell_type": "code",
   "execution_count": 5,
   "outputs": [
    {
     "data": {
      "text/plain": "       本周期销售总额\n游戏            \n15选5     63.17\n七乐彩      70.05\n东方6+1    29.67\n即开票    4018.68\n双色球    3990.44\n快乐8    1519.43\n福彩3D   1632.27\n选4      180.58",
      "text/html": "<div>\n<style scoped>\n    .dataframe tbody tr th:only-of-type {\n        vertical-align: middle;\n    }\n\n    .dataframe tbody tr th {\n        vertical-align: top;\n    }\n\n    .dataframe thead th {\n        text-align: right;\n    }\n</style>\n<table border=\"1\" class=\"dataframe\">\n  <thead>\n    <tr style=\"text-align: right;\">\n      <th></th>\n      <th>本周期销售总额</th>\n    </tr>\n    <tr>\n      <th>游戏</th>\n      <th></th>\n    </tr>\n  </thead>\n  <tbody>\n    <tr>\n      <th>15选5</th>\n      <td>63.17</td>\n    </tr>\n    <tr>\n      <th>七乐彩</th>\n      <td>70.05</td>\n    </tr>\n    <tr>\n      <th>东方6+1</th>\n      <td>29.67</td>\n    </tr>\n    <tr>\n      <th>即开票</th>\n      <td>4018.68</td>\n    </tr>\n    <tr>\n      <th>双色球</th>\n      <td>3990.44</td>\n    </tr>\n    <tr>\n      <th>快乐8</th>\n      <td>1519.43</td>\n    </tr>\n    <tr>\n      <th>福彩3D</th>\n      <td>1632.27</td>\n    </tr>\n    <tr>\n      <th>选4</th>\n      <td>180.58</td>\n    </tr>\n  </tbody>\n</table>\n</div>"
     },
     "execution_count": 5,
     "metadata": {},
     "output_type": "execute_result"
    }
   ],
   "source": [
    "ppt=pd.DataFrame()\n",
    "ppt['本周期销售总额'] = data3.groupby('游戏')['销量'].sum()*1e-4\n",
    "ppt_3_excel=pd.DataFrame()\n",
    "ppt_3_excel['本周期销售总额'] = ppt['本周期销售总额'].apply(lambda x: '{:.2f}'.format(x))\n",
    "# ppt_3_excel.to_excel(r\"E:\\彩票数据\\山西\\山西周报\\ppt_3.2.xlsx\")\n",
    "ppt_3_excel"
   ],
   "metadata": {
    "collapsed": false,
    "pycharm": {
     "name": "#%%\n"
    }
   }
  },
  {
   "cell_type": "code",
   "execution_count": 6,
   "outputs": [
    {
     "data": {
      "text/plain": "          周数       周销量\n0  2024年第26周  12305.67\n1  2024年第27周  11512.29",
      "text/html": "<div>\n<style scoped>\n    .dataframe tbody tr th:only-of-type {\n        vertical-align: middle;\n    }\n\n    .dataframe tbody tr th {\n        vertical-align: top;\n    }\n\n    .dataframe thead th {\n        text-align: right;\n    }\n</style>\n<table border=\"1\" class=\"dataframe\">\n  <thead>\n    <tr style=\"text-align: right;\">\n      <th></th>\n      <th>周数</th>\n      <th>周销量</th>\n    </tr>\n  </thead>\n  <tbody>\n    <tr>\n      <th>0</th>\n      <td>2024年第26周</td>\n      <td>12305.67</td>\n    </tr>\n    <tr>\n      <th>1</th>\n      <td>2024年第27周</td>\n      <td>11512.29</td>\n    </tr>\n  </tbody>\n</table>\n</div>"
     },
     "execution_count": 6,
     "metadata": {},
     "output_type": "execute_result"
    }
   ],
   "source": [
    "data_sale=data[data[\"周数\"]==\"2024年第27周\"][\"销量\"]#这里的month-1是用来确定months的索引位置\n",
    "a=data_sale.sum()\n",
    "a\n",
    "data_sale=data[data[\"周数\"]==\"2024年第26周\"][\"销量\"]#这里的month-1是用来确定months的索引位置\n",
    "b=data_sale.sum()\n",
    "b\n",
    "ppt_4_excel=pd.DataFrame()\n",
    "ppt_4_excel['周数'] = [\"2024年第26周\",\"2024年第27周\"]\n",
    "ppt_4_excel['周销量'] = [b*1e-4,a*1e-4]\n",
    "ppt_4_excel[\"周销量\"]=ppt_4_excel[\"周销量\"].apply(lambda x:format(x,\".2f\"))\n",
    "# ppt_4_excel.to_excel(r\"E:\\彩票数据\\山西\\山西周报\\ppt_4.1.xlsx\")\n",
    "ppt_4_excel"
   ],
   "metadata": {
    "collapsed": false,
    "pycharm": {
     "name": "#%%\n"
    }
   }
  },
  {
   "cell_type": "code",
   "execution_count": 7,
   "outputs": [
    {
     "data": {
      "text/plain": "               周数   星期  地市     游戏        票价区间      销量\n0       2023年第01周  星期日  中心    双色球        02$2   43224\n1       2023年第01周  星期日  中心    双色球      04$4-8   99482\n2       2023年第01周  星期日  中心    双色球       05$10  185250\n3       2023年第01周  星期日  中心    双色球    06$12-18   64636\n4       2023年第01周  星期日  中心    双色球       07$20   91140\n...           ...  ...  ..    ...         ...     ...\n193362  2023年第28周  星期五  黄浦  东方6+1       05$10     140\n193363  2023年第28周  星期五  黄浦  东方6+1       07$20     100\n193364  2023年第28周  星期五  黄浦  东方6+1    08$22-48      30\n193365  2023年第28周  星期五  黄浦  东方6+1    09$50-98     100\n193366  2023年第28周  星期五  黄浦  东方6+1  10$100-198     292\n\n[193367 rows x 6 columns]",
      "text/html": "<div>\n<style scoped>\n    .dataframe tbody tr th:only-of-type {\n        vertical-align: middle;\n    }\n\n    .dataframe tbody tr th {\n        vertical-align: top;\n    }\n\n    .dataframe thead th {\n        text-align: right;\n    }\n</style>\n<table border=\"1\" class=\"dataframe\">\n  <thead>\n    <tr style=\"text-align: right;\">\n      <th></th>\n      <th>周数</th>\n      <th>星期</th>\n      <th>地市</th>\n      <th>游戏</th>\n      <th>票价区间</th>\n      <th>销量</th>\n    </tr>\n  </thead>\n  <tbody>\n    <tr>\n      <th>0</th>\n      <td>2023年第01周</td>\n      <td>星期日</td>\n      <td>中心</td>\n      <td>双色球</td>\n      <td>02$2</td>\n      <td>43224</td>\n    </tr>\n    <tr>\n      <th>1</th>\n      <td>2023年第01周</td>\n      <td>星期日</td>\n      <td>中心</td>\n      <td>双色球</td>\n      <td>04$4-8</td>\n      <td>99482</td>\n    </tr>\n    <tr>\n      <th>2</th>\n      <td>2023年第01周</td>\n      <td>星期日</td>\n      <td>中心</td>\n      <td>双色球</td>\n      <td>05$10</td>\n      <td>185250</td>\n    </tr>\n    <tr>\n      <th>3</th>\n      <td>2023年第01周</td>\n      <td>星期日</td>\n      <td>中心</td>\n      <td>双色球</td>\n      <td>06$12-18</td>\n      <td>64636</td>\n    </tr>\n    <tr>\n      <th>4</th>\n      <td>2023年第01周</td>\n      <td>星期日</td>\n      <td>中心</td>\n      <td>双色球</td>\n      <td>07$20</td>\n      <td>91140</td>\n    </tr>\n    <tr>\n      <th>...</th>\n      <td>...</td>\n      <td>...</td>\n      <td>...</td>\n      <td>...</td>\n      <td>...</td>\n      <td>...</td>\n    </tr>\n    <tr>\n      <th>193362</th>\n      <td>2023年第28周</td>\n      <td>星期五</td>\n      <td>黄浦</td>\n      <td>东方6+1</td>\n      <td>05$10</td>\n      <td>140</td>\n    </tr>\n    <tr>\n      <th>193363</th>\n      <td>2023年第28周</td>\n      <td>星期五</td>\n      <td>黄浦</td>\n      <td>东方6+1</td>\n      <td>07$20</td>\n      <td>100</td>\n    </tr>\n    <tr>\n      <th>193364</th>\n      <td>2023年第28周</td>\n      <td>星期五</td>\n      <td>黄浦</td>\n      <td>东方6+1</td>\n      <td>08$22-48</td>\n      <td>30</td>\n    </tr>\n    <tr>\n      <th>193365</th>\n      <td>2023年第28周</td>\n      <td>星期五</td>\n      <td>黄浦</td>\n      <td>东方6+1</td>\n      <td>09$50-98</td>\n      <td>100</td>\n    </tr>\n    <tr>\n      <th>193366</th>\n      <td>2023年第28周</td>\n      <td>星期五</td>\n      <td>黄浦</td>\n      <td>东方6+1</td>\n      <td>10$100-198</td>\n      <td>292</td>\n    </tr>\n  </tbody>\n</table>\n<p>193367 rows × 6 columns</p>\n</div>"
     },
     "execution_count": 7,
     "metadata": {},
     "output_type": "execute_result"
    }
   ],
   "source": [
    "import numpy\n",
    "import pandas as pd\n",
    "data0=pd.read_excel(\"E:\\彩票数据\\山西\\山西周报\\票单价2023.xlsx\",sheet_name=0)\n",
    "# data.head(50)\n",
    "data0"
   ],
   "metadata": {
    "collapsed": false,
    "pycharm": {
     "name": "#%%\n"
    }
   }
  },
  {
   "cell_type": "code",
   "execution_count": 8,
   "outputs": [
    {
     "data": {
      "text/plain": "            日期  年累计销量\n0  2023年截至第26周  27.51\n1  2024年截至第27周  31.30",
      "text/html": "<div>\n<style scoped>\n    .dataframe tbody tr th:only-of-type {\n        vertical-align: middle;\n    }\n\n    .dataframe tbody tr th {\n        vertical-align: top;\n    }\n\n    .dataframe thead th {\n        text-align: right;\n    }\n</style>\n<table border=\"1\" class=\"dataframe\">\n  <thead>\n    <tr style=\"text-align: right;\">\n      <th></th>\n      <th>日期</th>\n      <th>年累计销量</th>\n    </tr>\n  </thead>\n  <tbody>\n    <tr>\n      <th>0</th>\n      <td>2023年截至第26周</td>\n      <td>27.51</td>\n    </tr>\n    <tr>\n      <th>1</th>\n      <td>2024年截至第27周</td>\n      <td>31.30</td>\n    </tr>\n  </tbody>\n</table>\n</div>"
     },
     "execution_count": 8,
     "metadata": {},
     "output_type": "execute_result"
    }
   ],
   "source": [
    "data_sale = data[data[\"周数\"].str.contains(\"2024年\", na=False)][\"销量\"]\n",
    "a=data_sale.sum()\n",
    "data_sale = data0[data0[\"周数\"].str.contains(\"2023年\", na=False)][\"销量\"]\n",
    "b=data_sale.sum()\n",
    "ppt_4_excel=pd.DataFrame()\n",
    "ppt_4_excel['日期'] = [\"2023年截至第26周\",\"2024年截至第27周\"]\n",
    "ppt_4_excel['年累计销量'] = [b*1e-8,a*1e-8]\n",
    "ppt_4_excel[\"年累计销量\"]=ppt_4_excel[\"年累计销量\"].apply(lambda x:format(x,\".2f\"))\n",
    "# ppt_4_excel.to_excel(r\"E:\\彩票数据\\山西\\山西周报\\ppt_4.2.xlsx\")\n",
    "ppt_4_excel"
   ],
   "metadata": {
    "collapsed": false,
    "pycharm": {
     "name": "#%%\n"
    }
   }
  },
  {
   "cell_type": "code",
   "execution_count": 9,
   "outputs": [
    {
     "name": "stdout",
     "output_type": "stream",
     "text": [
      "2024年游戏  双色球  销量:39986110\n",
      "环比上周:1.41%\n",
      "同比去年本周:-5.07%\n",
      "\n",
      "2024年游戏  福彩3D  销量:16324488\n",
      "环比上周:-7.45%\n",
      "同比去年本周:14.99%\n",
      "\n",
      "2024年游戏  七乐彩  销量:695478\n",
      "环比上周:28.49%\n",
      "同比去年本周:8.48%\n",
      "\n",
      "2024年游戏  即开票  销量:40186800\n",
      "环比上周:-13.04%\n",
      "同比去年本周:-35.25%\n",
      "\n",
      "2024年游戏  快乐8  销量:15196788\n",
      "环比上周:-7.20%\n",
      "同比去年本周:-1.28%\n",
      "\n",
      "2024年游戏  15选5  销量:631396\n",
      "环比上周:-9.60%\n",
      "同比去年本周:10.36%\n",
      "\n",
      "2024年游戏  东方6+1  销量:297988\n",
      "环比上周:-1.24%\n",
      "同比去年本周:1.75%\n",
      "\n",
      "2024年游戏  选4  销量:1803880\n",
      "环比上周:-2.76%\n",
      "同比去年本周:-6.70%\n",
      "\n"
     ]
    },
    {
     "name": "stderr",
     "output_type": "stream",
     "text": [
      "D:\\biye\\python37\\lib\\site-packages\\ipykernel_launcher.py:41: RuntimeWarning: invalid value encountered in longlong_scalars\n"
     ]
    },
    {
     "name": "stdout",
     "output_type": "stream",
     "text": [
      "2024年游戏  地方游戏  销量:0\n",
      "环比上周:nan%\n",
      "同比去年本周:nan%\n",
      "\n"
     ]
    },
    {
     "name": "stderr",
     "output_type": "stream",
     "text": [
      "D:\\biye\\python37\\lib\\site-packages\\ipykernel_launcher.py:58: RuntimeWarning: invalid value encountered in longlong_scalars\n"
     ]
    },
    {
     "data": {
      "text/plain": "      游戏 2024年第27周销量(亿元)\n0    双色球       3943.1248\n1   福彩3D       1763.8826\n2    七乐彩         54.1258\n3    即开票       4621.4100\n4    快乐8       1637.5910\n5   15选5         69.8444\n6  东方6+1         30.1736\n7     选4        185.5164\n8   地方游戏          0.0000",
      "text/html": "<div>\n<style scoped>\n    .dataframe tbody tr th:only-of-type {\n        vertical-align: middle;\n    }\n\n    .dataframe tbody tr th {\n        vertical-align: top;\n    }\n\n    .dataframe thead th {\n        text-align: right;\n    }\n</style>\n<table border=\"1\" class=\"dataframe\">\n  <thead>\n    <tr style=\"text-align: right;\">\n      <th></th>\n      <th>游戏</th>\n      <th>2024年第27周销量(亿元)</th>\n    </tr>\n  </thead>\n  <tbody>\n    <tr>\n      <th>0</th>\n      <td>双色球</td>\n      <td>3943.1248</td>\n    </tr>\n    <tr>\n      <th>1</th>\n      <td>福彩3D</td>\n      <td>1763.8826</td>\n    </tr>\n    <tr>\n      <th>2</th>\n      <td>七乐彩</td>\n      <td>54.1258</td>\n    </tr>\n    <tr>\n      <th>3</th>\n      <td>即开票</td>\n      <td>4621.4100</td>\n    </tr>\n    <tr>\n      <th>4</th>\n      <td>快乐8</td>\n      <td>1637.5910</td>\n    </tr>\n    <tr>\n      <th>5</th>\n      <td>15选5</td>\n      <td>69.8444</td>\n    </tr>\n    <tr>\n      <th>6</th>\n      <td>东方6+1</td>\n      <td>30.1736</td>\n    </tr>\n    <tr>\n      <th>7</th>\n      <td>选4</td>\n      <td>185.5164</td>\n    </tr>\n    <tr>\n      <th>8</th>\n      <td>地方游戏</td>\n      <td>0.0000</td>\n    </tr>\n  </tbody>\n</table>\n</div>"
     },
     "execution_count": 9,
     "metadata": {},
     "output_type": "execute_result"
    }
   ],
   "source": [
    "import_game_list=[\"双色球\",\"福彩3D\",\"七乐彩\",\"即开票\",\"快乐8\",\"15选5\",\"东方6+1\",\"选4\"]\n",
    "game_list=list(data[\"游戏\"])\n",
    "game_list0=list(data0[\"游戏\"])\n",
    "new_game_list=[]\n",
    "# 将福彩游戏进行区分（其他的本地游戏进行统一命名）\n",
    "for i in game_list:\n",
    "    if i in import_game_list:\n",
    "        new_game_list.append(i)\n",
    "    else:\n",
    "        #new_game_list.append(\"地方游戏\")\n",
    "        if i ==\"快乐8(新)\":\n",
    "            new_game_list.append(\"快乐8\")\n",
    "        else:\n",
    "            new_game_list.append(\"地方游戏\")\n",
    "data[\"gamename\"]=new_game_list\n",
    "data[\"gamename\"].value_counts()\n",
    "new_game_list0=[]\n",
    "# 将福彩游戏进行区分（其他的本地游戏进行统一命名）\n",
    "for i in game_list0:\n",
    "    if i in import_game_list:\n",
    "        new_game_list0.append(i)\n",
    "    else:\n",
    "        #new_game_list.append(\"地方游戏\")\n",
    "        if i ==\"快乐8(新)\":\n",
    "            new_game_list0.append(\"快乐8\")\n",
    "        else:\n",
    "            new_game_list0.append(\"地方游戏\")\n",
    "data0[\"gamename\"]=new_game_list0\n",
    "data0[\"gamename\"].value_counts()\n",
    "game_name=[\"双色球\",\"福彩3D\",\"七乐彩\",\"即开票\",\"快乐8\",\"15选5\",\"东方6+1\",\"选4\",\"地方游戏\"]\n",
    "sales=[]\n",
    "huanbis=[]\n",
    "tongbis=[]\n",
    "for i in game_name:\n",
    "    data_sale=data.loc[data[\"周数\"]==\"2024年第27周\"].loc[data[\"gamename\"]==i][\"销量\"]\n",
    "    a=data_sale.sum()\n",
    "    data_sale=data.loc[data[\"周数\"]==\"2024年第26周\"].loc[data[\"gamename\"]==i][\"销量\"]\n",
    "    b=data_sale.sum()\n",
    "    data_sale=data0.loc[data0[\"周数\"]==\"2023年第27周\"].loc[data0[\"gamename\"]==i][\"销量\"]\n",
    "    c=data_sale.sum()\n",
    "    huanbi,tongbi=a/b-1,a/c-1\n",
    "    sales.append(a)\n",
    "    huanbis.append(huanbi)\n",
    "    tongbis.append(tongbi)\n",
    "    #print(\"2023年5月总销量:%d\\n2023年4月总销量:%d\\n2022年5月总销量:%d\"%(a,b,c))\n",
    "    print(\"%d年游戏  %s  销量:%d\"%(year,i,a))\n",
    "    print(\"环比上周:%.2f%%\\n同比去年本周:%.2f%%\\n\"%(huanbi*100,tongbi*100))\n",
    "game_sale1=[]\n",
    "game_sale2=[]\n",
    "game_sale_change=[]\n",
    "game_sale_huanbi_add=[]\n",
    "for i in game_name:\n",
    "    a=data.loc[data[\"周数\"]==\"2024年第27周\"].loc[data[\"gamename\"]==i][\"销量\"].sum()\n",
    "    b=data.loc[data[\"周数\"]==\"2024年第26周\"].loc[data[\"gamename\"]==i][\"销量\"].sum()\n",
    "    game_sale1.append(a*1e-4)\n",
    "    game_sale2.append(b*1e-4)\n",
    "    game_sale_change.append((b-a)*1e-4)\n",
    "    game_sale_huanbi_add.append(b/a-1)\n",
    "ppt_5_excel=pd.DataFrame()\n",
    "ppt_5_excel[\"游戏\"]=game_name\n",
    "ppt_5_excel[\"%d年第%d周销量(亿元)\"%(year,week)]=game_sale2\n",
    "ppt_5_excel[\"%d年第%d周销量(亿元)\"%(year,week)]=ppt_5_excel[\"%d年第%d周销量(亿元)\"%(year,week)].apply(lambda x:format(x,\".4f\"))\n",
    "# ppt_5_excel.to_excel(r\"E:\\彩票数据\\山西\\山西周报\\ppt_5.xlsx\")\n",
    "ppt_5_excel"
   ],
   "metadata": {
    "collapsed": false,
    "pycharm": {
     "name": "#%%\n"
    }
   }
  },
  {
   "cell_type": "code",
   "execution_count": 10,
   "outputs": [
    {
     "data": {
      "text/plain": "   2024年第26周销量 2024年第27周销量     环比增幅  各城市销量增长情况\n地市                                            \n中心      757.89      745.80   -1.60%   -12.0960\n嘉定     1117.14      738.33  -33.91%  -378.8184\n奉贤      501.74      475.83   -5.16%   -25.9096\n宝山      913.76      873.84   -4.37%   -39.9224\n崇明      162.08      159.84   -1.38%    -2.2344\n徐汇      367.65      356.01   -3.16%   -11.6344\n普陀      461.43      445.14   -3.53%   -16.2926\n杨浦      460.37      427.64   -7.11%   -32.7288\n松江     1218.90     1166.38   -4.31%   -52.5198\n浦东     2632.35     2575.68   -2.15%   -56.6694\n虹口      358.77      319.93  -10.83%   -38.8372\n金山      348.47      313.07  -10.16%   -35.3946\n长宁      329.07      302.26   -8.15%   -26.8092\n闵行     1159.98     1243.96    7.24%    83.9844\n青浦      561.60      534.00   -4.91%   -27.5968\n静安      538.17      526.09   -2.24%   -12.0800\n黄浦      356.30      308.48  -13.42%   -47.8166",
      "text/html": "<div>\n<style scoped>\n    .dataframe tbody tr th:only-of-type {\n        vertical-align: middle;\n    }\n\n    .dataframe tbody tr th {\n        vertical-align: top;\n    }\n\n    .dataframe thead th {\n        text-align: right;\n    }\n</style>\n<table border=\"1\" class=\"dataframe\">\n  <thead>\n    <tr style=\"text-align: right;\">\n      <th></th>\n      <th>2024年第26周销量</th>\n      <th>2024年第27周销量</th>\n      <th>环比增幅</th>\n      <th>各城市销量增长情况</th>\n    </tr>\n    <tr>\n      <th>地市</th>\n      <th></th>\n      <th></th>\n      <th></th>\n      <th></th>\n    </tr>\n  </thead>\n  <tbody>\n    <tr>\n      <th>中心</th>\n      <td>757.89</td>\n      <td>745.80</td>\n      <td>-1.60%</td>\n      <td>-12.0960</td>\n    </tr>\n    <tr>\n      <th>嘉定</th>\n      <td>1117.14</td>\n      <td>738.33</td>\n      <td>-33.91%</td>\n      <td>-378.8184</td>\n    </tr>\n    <tr>\n      <th>奉贤</th>\n      <td>501.74</td>\n      <td>475.83</td>\n      <td>-5.16%</td>\n      <td>-25.9096</td>\n    </tr>\n    <tr>\n      <th>宝山</th>\n      <td>913.76</td>\n      <td>873.84</td>\n      <td>-4.37%</td>\n      <td>-39.9224</td>\n    </tr>\n    <tr>\n      <th>崇明</th>\n      <td>162.08</td>\n      <td>159.84</td>\n      <td>-1.38%</td>\n      <td>-2.2344</td>\n    </tr>\n    <tr>\n      <th>徐汇</th>\n      <td>367.65</td>\n      <td>356.01</td>\n      <td>-3.16%</td>\n      <td>-11.6344</td>\n    </tr>\n    <tr>\n      <th>普陀</th>\n      <td>461.43</td>\n      <td>445.14</td>\n      <td>-3.53%</td>\n      <td>-16.2926</td>\n    </tr>\n    <tr>\n      <th>杨浦</th>\n      <td>460.37</td>\n      <td>427.64</td>\n      <td>-7.11%</td>\n      <td>-32.7288</td>\n    </tr>\n    <tr>\n      <th>松江</th>\n      <td>1218.90</td>\n      <td>1166.38</td>\n      <td>-4.31%</td>\n      <td>-52.5198</td>\n    </tr>\n    <tr>\n      <th>浦东</th>\n      <td>2632.35</td>\n      <td>2575.68</td>\n      <td>-2.15%</td>\n      <td>-56.6694</td>\n    </tr>\n    <tr>\n      <th>虹口</th>\n      <td>358.77</td>\n      <td>319.93</td>\n      <td>-10.83%</td>\n      <td>-38.8372</td>\n    </tr>\n    <tr>\n      <th>金山</th>\n      <td>348.47</td>\n      <td>313.07</td>\n      <td>-10.16%</td>\n      <td>-35.3946</td>\n    </tr>\n    <tr>\n      <th>长宁</th>\n      <td>329.07</td>\n      <td>302.26</td>\n      <td>-8.15%</td>\n      <td>-26.8092</td>\n    </tr>\n    <tr>\n      <th>闵行</th>\n      <td>1159.98</td>\n      <td>1243.96</td>\n      <td>7.24%</td>\n      <td>83.9844</td>\n    </tr>\n    <tr>\n      <th>青浦</th>\n      <td>561.60</td>\n      <td>534.00</td>\n      <td>-4.91%</td>\n      <td>-27.5968</td>\n    </tr>\n    <tr>\n      <th>静安</th>\n      <td>538.17</td>\n      <td>526.09</td>\n      <td>-2.24%</td>\n      <td>-12.0800</td>\n    </tr>\n    <tr>\n      <th>黄浦</th>\n      <td>356.30</td>\n      <td>308.48</td>\n      <td>-13.42%</td>\n      <td>-47.8166</td>\n    </tr>\n  </tbody>\n</table>\n</div>"
     },
     "execution_count": 10,
     "metadata": {},
     "output_type": "execute_result"
    }
   ],
   "source": [
    "ppt=pd.DataFrame()\n",
    "a_data = data[(data['周数'] == \"2024年第27周\") ]\n",
    "b_data = data[(data['周数'] == \"2024年第26周\") ]\n",
    "ppt['2024年第本周'] = a_data.groupby('地市')['销量'].sum()*1e-4\n",
    "ppt['2024年第上周'] = b_data.groupby('地市')['销量'].sum()*1e-4\n",
    "ppt_6_excel=pd.DataFrame()\n",
    "ppt_6_excel['2024年第26周销量'] = ppt['2024年第上周'].apply(lambda x: '{:.2f}'.format(x))\n",
    "ppt_6_excel['2024年第27周销量'] = ppt['2024年第本周'].apply(lambda x: '{:.2f}'.format(x))\n",
    "ppt_6_excel['环比增幅'] = ( ppt['2024年第本周']/ ppt['2024年第上周']-1).apply(lambda x: '{:.2%}'.format(x))\n",
    "ppt_6_excel['各城市销量增长情况'] = ( ppt['2024年第本周']- ppt['2024年第上周'])\n",
    "# ppt_6_excel.to_excel(r\"E:\\彩票数据\\山西\\山西周报\\ppt_6.xlsx\")\n",
    "ppt_6_excel"
   ],
   "metadata": {
    "collapsed": false,
    "pycharm": {
     "name": "#%%\n"
    }
   }
  },
  {
   "cell_type": "code",
   "execution_count": 11,
   "outputs": [
    {
     "data": {
      "text/plain": "   2023年累计销量 2024年累计销量     同比增幅  各城市销量增长情况\n地市                                        \n中心  24894.15  20228.10  -18.74% -4666.0570\n嘉定  22687.49  26708.88   17.73%  4021.3932\n奉贤  12563.86  14085.31   12.11%  1521.4544\n宝山  21033.08  24845.11   18.12%  3812.0288\n崇明   4481.92   4954.31   10.54%   472.3942\n徐汇   8729.20  10021.13   14.80%  1291.9296\n普陀  10071.75  12178.90   20.92%  2107.1508\n杨浦   9077.43  11599.01   27.78%  2521.5850\n松江  25376.27  29591.24   16.61%  4214.9660\n浦东  54772.94  63471.10   15.88%  8698.1626\n渠道    366.90    807.95  120.21%   441.0500\n虹口   6697.84   8410.33   25.57%  1712.4904\n金山   7373.30   8905.98   20.79%  1532.6776\n长宁   6833.94   9044.64   32.35%  2210.6972\n闵行  27357.22  30929.57   13.06%  3572.3498\n青浦  13268.85  14880.72   12.15%  1611.8678\n静安  12838.43  14155.80   10.26%  1317.3682\n黄浦   6710.31   8226.05   22.59%  1515.7476",
      "text/html": "<div>\n<style scoped>\n    .dataframe tbody tr th:only-of-type {\n        vertical-align: middle;\n    }\n\n    .dataframe tbody tr th {\n        vertical-align: top;\n    }\n\n    .dataframe thead th {\n        text-align: right;\n    }\n</style>\n<table border=\"1\" class=\"dataframe\">\n  <thead>\n    <tr style=\"text-align: right;\">\n      <th></th>\n      <th>2023年累计销量</th>\n      <th>2024年累计销量</th>\n      <th>同比增幅</th>\n      <th>各城市销量增长情况</th>\n    </tr>\n    <tr>\n      <th>地市</th>\n      <th></th>\n      <th></th>\n      <th></th>\n      <th></th>\n    </tr>\n  </thead>\n  <tbody>\n    <tr>\n      <th>中心</th>\n      <td>24894.15</td>\n      <td>20228.10</td>\n      <td>-18.74%</td>\n      <td>-4666.0570</td>\n    </tr>\n    <tr>\n      <th>嘉定</th>\n      <td>22687.49</td>\n      <td>26708.88</td>\n      <td>17.73%</td>\n      <td>4021.3932</td>\n    </tr>\n    <tr>\n      <th>奉贤</th>\n      <td>12563.86</td>\n      <td>14085.31</td>\n      <td>12.11%</td>\n      <td>1521.4544</td>\n    </tr>\n    <tr>\n      <th>宝山</th>\n      <td>21033.08</td>\n      <td>24845.11</td>\n      <td>18.12%</td>\n      <td>3812.0288</td>\n    </tr>\n    <tr>\n      <th>崇明</th>\n      <td>4481.92</td>\n      <td>4954.31</td>\n      <td>10.54%</td>\n      <td>472.3942</td>\n    </tr>\n    <tr>\n      <th>徐汇</th>\n      <td>8729.20</td>\n      <td>10021.13</td>\n      <td>14.80%</td>\n      <td>1291.9296</td>\n    </tr>\n    <tr>\n      <th>普陀</th>\n      <td>10071.75</td>\n      <td>12178.90</td>\n      <td>20.92%</td>\n      <td>2107.1508</td>\n    </tr>\n    <tr>\n      <th>杨浦</th>\n      <td>9077.43</td>\n      <td>11599.01</td>\n      <td>27.78%</td>\n      <td>2521.5850</td>\n    </tr>\n    <tr>\n      <th>松江</th>\n      <td>25376.27</td>\n      <td>29591.24</td>\n      <td>16.61%</td>\n      <td>4214.9660</td>\n    </tr>\n    <tr>\n      <th>浦东</th>\n      <td>54772.94</td>\n      <td>63471.10</td>\n      <td>15.88%</td>\n      <td>8698.1626</td>\n    </tr>\n    <tr>\n      <th>渠道</th>\n      <td>366.90</td>\n      <td>807.95</td>\n      <td>120.21%</td>\n      <td>441.0500</td>\n    </tr>\n    <tr>\n      <th>虹口</th>\n      <td>6697.84</td>\n      <td>8410.33</td>\n      <td>25.57%</td>\n      <td>1712.4904</td>\n    </tr>\n    <tr>\n      <th>金山</th>\n      <td>7373.30</td>\n      <td>8905.98</td>\n      <td>20.79%</td>\n      <td>1532.6776</td>\n    </tr>\n    <tr>\n      <th>长宁</th>\n      <td>6833.94</td>\n      <td>9044.64</td>\n      <td>32.35%</td>\n      <td>2210.6972</td>\n    </tr>\n    <tr>\n      <th>闵行</th>\n      <td>27357.22</td>\n      <td>30929.57</td>\n      <td>13.06%</td>\n      <td>3572.3498</td>\n    </tr>\n    <tr>\n      <th>青浦</th>\n      <td>13268.85</td>\n      <td>14880.72</td>\n      <td>12.15%</td>\n      <td>1611.8678</td>\n    </tr>\n    <tr>\n      <th>静安</th>\n      <td>12838.43</td>\n      <td>14155.80</td>\n      <td>10.26%</td>\n      <td>1317.3682</td>\n    </tr>\n    <tr>\n      <th>黄浦</th>\n      <td>6710.31</td>\n      <td>8226.05</td>\n      <td>22.59%</td>\n      <td>1515.7476</td>\n    </tr>\n  </tbody>\n</table>\n</div>"
     },
     "execution_count": 11,
     "metadata": {},
     "output_type": "execute_result"
    }
   ],
   "source": [
    "ppt=pd.DataFrame()\n",
    "a_data = data[data['周数'].str.contains(\"2024年\")]\n",
    "b_data = data0[data0['周数'].str.contains(\"2023年\")]\n",
    "ppt['2024年'] = a_data.groupby('地市')['销量'].sum()*1e-4\n",
    "ppt['2023年'] = b_data.groupby('地市')['销量'].sum()*1e-4\n",
    "ppt_8_excel=pd.DataFrame()\n",
    "ppt_8_excel['2023年累计销量'] = ppt['2023年'].apply(lambda x: '{:.2f}'.format(x))\n",
    "ppt_8_excel['2024年累计销量'] = ppt['2024年'].apply(lambda x: '{:.2f}'.format(x))\n",
    "ppt_8_excel['同比增幅'] = ( ppt['2024年']/ ppt['2023年']-1).apply(lambda x: '{:.2%}'.format(x))\n",
    "ppt_8_excel['各城市销量增长情况'] = ( ppt['2024年']- ppt['2023年'])\n",
    "# ppt_8_excel.to_excel(r\"E:\\彩票数据\\山西\\山西周报\\ppt_8.xlsx\")\n",
    "ppt_8_excel"
   ],
   "metadata": {
    "collapsed": false,
    "pycharm": {
     "name": "#%%\n"
    }
   }
  },
  {
   "cell_type": "code",
   "execution_count": 12,
   "outputs": [
    {
     "data": {
      "text/plain": "      2024年第26周销量 2024年第27周销量     环比增幅  各游戏销量增长情况\n游戏                                               \n15选5        69.84       63.14   -9.60%    -6.7048\n七乐彩         54.13       69.55   28.49%    15.4220\n东方6+1       30.17       29.80   -1.24%    -0.3748\n即开票       4621.41     4018.68  -13.04%  -602.7300\n双色球       3943.12     3998.61    1.41%    55.4862\n快乐8       1637.59     1519.68   -7.20%  -117.9122\n福彩3D      1763.88     1632.45   -7.45%  -131.4338\n选4         185.52      180.39   -2.76%    -5.1284",
      "text/html": "<div>\n<style scoped>\n    .dataframe tbody tr th:only-of-type {\n        vertical-align: middle;\n    }\n\n    .dataframe tbody tr th {\n        vertical-align: top;\n    }\n\n    .dataframe thead th {\n        text-align: right;\n    }\n</style>\n<table border=\"1\" class=\"dataframe\">\n  <thead>\n    <tr style=\"text-align: right;\">\n      <th></th>\n      <th>2024年第26周销量</th>\n      <th>2024年第27周销量</th>\n      <th>环比增幅</th>\n      <th>各游戏销量增长情况</th>\n    </tr>\n    <tr>\n      <th>游戏</th>\n      <th></th>\n      <th></th>\n      <th></th>\n      <th></th>\n    </tr>\n  </thead>\n  <tbody>\n    <tr>\n      <th>15选5</th>\n      <td>69.84</td>\n      <td>63.14</td>\n      <td>-9.60%</td>\n      <td>-6.7048</td>\n    </tr>\n    <tr>\n      <th>七乐彩</th>\n      <td>54.13</td>\n      <td>69.55</td>\n      <td>28.49%</td>\n      <td>15.4220</td>\n    </tr>\n    <tr>\n      <th>东方6+1</th>\n      <td>30.17</td>\n      <td>29.80</td>\n      <td>-1.24%</td>\n      <td>-0.3748</td>\n    </tr>\n    <tr>\n      <th>即开票</th>\n      <td>4621.41</td>\n      <td>4018.68</td>\n      <td>-13.04%</td>\n      <td>-602.7300</td>\n    </tr>\n    <tr>\n      <th>双色球</th>\n      <td>3943.12</td>\n      <td>3998.61</td>\n      <td>1.41%</td>\n      <td>55.4862</td>\n    </tr>\n    <tr>\n      <th>快乐8</th>\n      <td>1637.59</td>\n      <td>1519.68</td>\n      <td>-7.20%</td>\n      <td>-117.9122</td>\n    </tr>\n    <tr>\n      <th>福彩3D</th>\n      <td>1763.88</td>\n      <td>1632.45</td>\n      <td>-7.45%</td>\n      <td>-131.4338</td>\n    </tr>\n    <tr>\n      <th>选4</th>\n      <td>185.52</td>\n      <td>180.39</td>\n      <td>-2.76%</td>\n      <td>-5.1284</td>\n    </tr>\n  </tbody>\n</table>\n</div>"
     },
     "execution_count": 12,
     "metadata": {},
     "output_type": "execute_result"
    }
   ],
   "source": [
    "ppt=pd.DataFrame()\n",
    "a_data = data[(data['周数'] == \"2024年第27周\") ]\n",
    "b_data = data[(data['周数'] == \"2024年第26周\") ]\n",
    "ppt['2024年第本周'] = a_data.groupby('游戏')['销量'].sum()*1e-4\n",
    "ppt['2024年第上周'] = b_data.groupby('游戏')['销量'].sum()*1e-4\n",
    "ppt_10_excel=pd.DataFrame()\n",
    "ppt_10_excel['2024年第26周销量'] = ppt['2024年第上周'].apply(lambda x: '{:.2f}'.format(x))\n",
    "ppt_10_excel['2024年第27周销量'] = ppt['2024年第本周'].apply(lambda x: '{:.2f}'.format(x))\n",
    "ppt_10_excel['环比增幅'] = ( ppt['2024年第本周']/ ppt['2024年第上周']-1).apply(lambda x: '{:.2%}'.format(x))\n",
    "ppt_10_excel['各游戏销量增长情况'] = ( ppt['2024年第本周']- ppt['2024年第上周'])\n",
    "# ppt_10_excel.to_excel(r\"E:\\彩票数据\\山西\\山西周报\\ppt_10.xlsx\")\n",
    "ppt_10_excel"
   ],
   "metadata": {
    "collapsed": false,
    "pycharm": {
     "name": "#%%\n"
    }
   }
  },
  {
   "cell_type": "code",
   "execution_count": 13,
   "outputs": [
    {
     "data": {
      "text/plain": "      2024年第23周 2024年第24周 2024年第25周 2024年第26周 2024年第27周\n游戏                                                     \n15选5      80.72     94.71    103.98     69.84     63.14\n七乐彩       70.68     60.81     62.52     54.13     69.55\n东方6+1     30.73     31.38     29.26     30.17     29.80\n即开票     5186.85   1329.86   3348.06   4621.41   4018.68\n双色球     4238.03   4260.84   4078.01   3943.12   3998.61\n快乐8     1744.39   2139.24   2323.83   1637.59   1519.68\n福彩3D    1906.89   1844.70   1863.01   1763.88   1632.45\n选4       199.07    195.09    191.70    185.52    180.39",
      "text/html": "<div>\n<style scoped>\n    .dataframe tbody tr th:only-of-type {\n        vertical-align: middle;\n    }\n\n    .dataframe tbody tr th {\n        vertical-align: top;\n    }\n\n    .dataframe thead th {\n        text-align: right;\n    }\n</style>\n<table border=\"1\" class=\"dataframe\">\n  <thead>\n    <tr style=\"text-align: right;\">\n      <th></th>\n      <th>2024年第23周</th>\n      <th>2024年第24周</th>\n      <th>2024年第25周</th>\n      <th>2024年第26周</th>\n      <th>2024年第27周</th>\n    </tr>\n    <tr>\n      <th>游戏</th>\n      <th></th>\n      <th></th>\n      <th></th>\n      <th></th>\n      <th></th>\n    </tr>\n  </thead>\n  <tbody>\n    <tr>\n      <th>15选5</th>\n      <td>80.72</td>\n      <td>94.71</td>\n      <td>103.98</td>\n      <td>69.84</td>\n      <td>63.14</td>\n    </tr>\n    <tr>\n      <th>七乐彩</th>\n      <td>70.68</td>\n      <td>60.81</td>\n      <td>62.52</td>\n      <td>54.13</td>\n      <td>69.55</td>\n    </tr>\n    <tr>\n      <th>东方6+1</th>\n      <td>30.73</td>\n      <td>31.38</td>\n      <td>29.26</td>\n      <td>30.17</td>\n      <td>29.80</td>\n    </tr>\n    <tr>\n      <th>即开票</th>\n      <td>5186.85</td>\n      <td>1329.86</td>\n      <td>3348.06</td>\n      <td>4621.41</td>\n      <td>4018.68</td>\n    </tr>\n    <tr>\n      <th>双色球</th>\n      <td>4238.03</td>\n      <td>4260.84</td>\n      <td>4078.01</td>\n      <td>3943.12</td>\n      <td>3998.61</td>\n    </tr>\n    <tr>\n      <th>快乐8</th>\n      <td>1744.39</td>\n      <td>2139.24</td>\n      <td>2323.83</td>\n      <td>1637.59</td>\n      <td>1519.68</td>\n    </tr>\n    <tr>\n      <th>福彩3D</th>\n      <td>1906.89</td>\n      <td>1844.70</td>\n      <td>1863.01</td>\n      <td>1763.88</td>\n      <td>1632.45</td>\n    </tr>\n    <tr>\n      <th>选4</th>\n      <td>199.07</td>\n      <td>195.09</td>\n      <td>191.70</td>\n      <td>185.52</td>\n      <td>180.39</td>\n    </tr>\n  </tbody>\n</table>\n</div>"
     },
     "execution_count": 13,
     "metadata": {},
     "output_type": "execute_result"
    }
   ],
   "source": [
    "import pandas as pd\n",
    "# 按周数筛选数据\n",
    "weeks = [ \"2024年第23周\", \"2024年第24周\",\"2024年第25周\" ,\"2024年第26周\",\"2024年第27周\"]\n",
    "ppt = pd.DataFrame()\n",
    "# 循环计算每周的销量并存入 ppt DataFrame\n",
    "for week in weeks:\n",
    "    week_data = data[data['周数'] == week]\n",
    "    ppt[week] = week_data.groupby('游戏')['销量'].sum() * 1e-4\n",
    "# 格式化输出 DataFrame\n",
    "ppt_11_excel = ppt.applymap(lambda x: '{:.2f}'.format(x))\n",
    "# ppt_11_excel.to_excel(r\"E:\\彩票数据\\山西\\山西周报\\ppt_11.xlsx\")\n",
    "ppt_11_excel"
   ],
   "metadata": {
    "collapsed": false,
    "pycharm": {
     "name": "#%%\n"
    }
   }
  },
  {
   "cell_type": "code",
   "execution_count": 14,
   "outputs": [
    {
     "data": {
      "text/plain": "                 双色球     福彩3D     七乐彩       即开票       快乐8    15选5   东方6+1  \\\n票价区间                                                                        \n02$2         2340.52   365.62  141.10       nan    376.35   81.84   79.44   \n04$4-8       9869.48  2845.61  230.39       nan   1718.26  206.30  160.34   \n05$10       26362.39  5341.85  451.58  12865.25   2863.44  392.90  230.02   \n06$12-18     6373.46  2105.32  231.62       nan   1561.34  181.57   38.53   \n07$20       10840.70  5046.06   38.15  43368.05   2539.00  119.96   59.05   \n08$22-48    15255.39  6700.42   46.88  26031.12   4370.02  253.53   96.25   \n09$50-98    12341.40  6238.62  176.64  21521.30   3296.71   97.91   50.67   \n10$100-198  13003.88  6216.09   20.00       nan  15409.60  118.52   30.24   \n11$200-998  12149.67  9686.95  162.75       nan   3816.15  173.17   27.09   \n12$1000以上    4529.26  4501.32   63.69       nan   1987.36  105.74   15.95   \n\n                 选4 地方游戏  \n票价区间                      \n02$2         129.53  nan  \n04$4-8       883.71  nan  \n05$10       1500.29  nan  \n06$12-18     313.74  nan  \n07$20        472.99  nan  \n08$22-48     616.83  nan  \n09$50-98     474.07  nan  \n10$100-198   494.71  nan  \n11$200-998   226.45  nan  \n12$1000以上     12.02  nan  ",
      "text/html": "<div>\n<style scoped>\n    .dataframe tbody tr th:only-of-type {\n        vertical-align: middle;\n    }\n\n    .dataframe tbody tr th {\n        vertical-align: top;\n    }\n\n    .dataframe thead th {\n        text-align: right;\n    }\n</style>\n<table border=\"1\" class=\"dataframe\">\n  <thead>\n    <tr style=\"text-align: right;\">\n      <th></th>\n      <th>双色球</th>\n      <th>福彩3D</th>\n      <th>七乐彩</th>\n      <th>即开票</th>\n      <th>快乐8</th>\n      <th>15选5</th>\n      <th>东方6+1</th>\n      <th>选4</th>\n      <th>地方游戏</th>\n    </tr>\n    <tr>\n      <th>票价区间</th>\n      <th></th>\n      <th></th>\n      <th></th>\n      <th></th>\n      <th></th>\n      <th></th>\n      <th></th>\n      <th></th>\n      <th></th>\n    </tr>\n  </thead>\n  <tbody>\n    <tr>\n      <th>02$2</th>\n      <td>2340.52</td>\n      <td>365.62</td>\n      <td>141.10</td>\n      <td>nan</td>\n      <td>376.35</td>\n      <td>81.84</td>\n      <td>79.44</td>\n      <td>129.53</td>\n      <td>nan</td>\n    </tr>\n    <tr>\n      <th>04$4-8</th>\n      <td>9869.48</td>\n      <td>2845.61</td>\n      <td>230.39</td>\n      <td>nan</td>\n      <td>1718.26</td>\n      <td>206.30</td>\n      <td>160.34</td>\n      <td>883.71</td>\n      <td>nan</td>\n    </tr>\n    <tr>\n      <th>05$10</th>\n      <td>26362.39</td>\n      <td>5341.85</td>\n      <td>451.58</td>\n      <td>12865.25</td>\n      <td>2863.44</td>\n      <td>392.90</td>\n      <td>230.02</td>\n      <td>1500.29</td>\n      <td>nan</td>\n    </tr>\n    <tr>\n      <th>06$12-18</th>\n      <td>6373.46</td>\n      <td>2105.32</td>\n      <td>231.62</td>\n      <td>nan</td>\n      <td>1561.34</td>\n      <td>181.57</td>\n      <td>38.53</td>\n      <td>313.74</td>\n      <td>nan</td>\n    </tr>\n    <tr>\n      <th>07$20</th>\n      <td>10840.70</td>\n      <td>5046.06</td>\n      <td>38.15</td>\n      <td>43368.05</td>\n      <td>2539.00</td>\n      <td>119.96</td>\n      <td>59.05</td>\n      <td>472.99</td>\n      <td>nan</td>\n    </tr>\n    <tr>\n      <th>08$22-48</th>\n      <td>15255.39</td>\n      <td>6700.42</td>\n      <td>46.88</td>\n      <td>26031.12</td>\n      <td>4370.02</td>\n      <td>253.53</td>\n      <td>96.25</td>\n      <td>616.83</td>\n      <td>nan</td>\n    </tr>\n    <tr>\n      <th>09$50-98</th>\n      <td>12341.40</td>\n      <td>6238.62</td>\n      <td>176.64</td>\n      <td>21521.30</td>\n      <td>3296.71</td>\n      <td>97.91</td>\n      <td>50.67</td>\n      <td>474.07</td>\n      <td>nan</td>\n    </tr>\n    <tr>\n      <th>10$100-198</th>\n      <td>13003.88</td>\n      <td>6216.09</td>\n      <td>20.00</td>\n      <td>nan</td>\n      <td>15409.60</td>\n      <td>118.52</td>\n      <td>30.24</td>\n      <td>494.71</td>\n      <td>nan</td>\n    </tr>\n    <tr>\n      <th>11$200-998</th>\n      <td>12149.67</td>\n      <td>9686.95</td>\n      <td>162.75</td>\n      <td>nan</td>\n      <td>3816.15</td>\n      <td>173.17</td>\n      <td>27.09</td>\n      <td>226.45</td>\n      <td>nan</td>\n    </tr>\n    <tr>\n      <th>12$1000以上</th>\n      <td>4529.26</td>\n      <td>4501.32</td>\n      <td>63.69</td>\n      <td>nan</td>\n      <td>1987.36</td>\n      <td>105.74</td>\n      <td>15.95</td>\n      <td>12.02</td>\n      <td>nan</td>\n    </tr>\n  </tbody>\n</table>\n</div>"
     },
     "execution_count": 14,
     "metadata": {},
     "output_type": "execute_result"
    }
   ],
   "source": [
    "import pandas as pd\n",
    "# 按周数筛选数据\n",
    "games = [ \"双色球\",\"福彩3D\",\"七乐彩\",\"即开票\",\"快乐8\",\"15选5\",\"东方6+1\",\"选4\",\"地方游戏\"]\n",
    "ppt = pd.DataFrame()\n",
    "# 循环计算每周的销量并存入 ppt DataFrame\n",
    "for game in games:\n",
    "    week_data = data[data['游戏'] == game]\n",
    "    ppt[game] = week_data.groupby('票价区间')['销量'].sum() * 1e-4\n",
    "# 格式化输出 DataFrame\n",
    "ppt_12_excel = ppt.applymap(lambda x: '{:.2f}'.format(x))\n",
    "# ppt_12_excel.to_excel(r\"E:\\彩票数据\\山西\\山西周报\\ppt_12.xlsx\")\n",
    "ppt_12_excel"
   ],
   "metadata": {
    "collapsed": false,
    "pycharm": {
     "name": "#%%\n"
    }
   }
  },
  {
   "cell_type": "code",
   "execution_count": 15,
   "outputs": [
    {
     "data": {
      "text/plain": "              周数      星期     地市     游戏   小时      销量\n0      2024年第26周  01$星期一  31$中心    双色球  00时    5528\n1      2024年第26周  01$星期一  31$中心    双色球  01时    7650\n2      2024年第26周  01$星期一  31$中心    双色球  02时    2700\n3      2024年第26周  01$星期一  31$中心    双色球  08时  102792\n4      2024年第26周  01$星期一  31$中心    双色球  09时  145426\n...          ...     ...    ...    ...  ...     ...\n27449  2024年第27周  07$星期日  31$黄浦  东方6+1  17时       6\n27450  2024年第27周  07$星期日  31$黄浦  东方6+1  18时      74\n27451  2024年第27周  07$星期日  31$黄浦  东方6+1  19时      60\n27452  2024年第27周  07$星期日  31$黄浦  东方6+1  20时       6\n27453  2024年第27周  07$星期日  31$黄浦  东方6+1  21时      24\n\n[27454 rows x 6 columns]",
      "text/html": "<div>\n<style scoped>\n    .dataframe tbody tr th:only-of-type {\n        vertical-align: middle;\n    }\n\n    .dataframe tbody tr th {\n        vertical-align: top;\n    }\n\n    .dataframe thead th {\n        text-align: right;\n    }\n</style>\n<table border=\"1\" class=\"dataframe\">\n  <thead>\n    <tr style=\"text-align: right;\">\n      <th></th>\n      <th>周数</th>\n      <th>星期</th>\n      <th>地市</th>\n      <th>游戏</th>\n      <th>小时</th>\n      <th>销量</th>\n    </tr>\n  </thead>\n  <tbody>\n    <tr>\n      <th>0</th>\n      <td>2024年第26周</td>\n      <td>01$星期一</td>\n      <td>31$中心</td>\n      <td>双色球</td>\n      <td>00时</td>\n      <td>5528</td>\n    </tr>\n    <tr>\n      <th>1</th>\n      <td>2024年第26周</td>\n      <td>01$星期一</td>\n      <td>31$中心</td>\n      <td>双色球</td>\n      <td>01时</td>\n      <td>7650</td>\n    </tr>\n    <tr>\n      <th>2</th>\n      <td>2024年第26周</td>\n      <td>01$星期一</td>\n      <td>31$中心</td>\n      <td>双色球</td>\n      <td>02时</td>\n      <td>2700</td>\n    </tr>\n    <tr>\n      <th>3</th>\n      <td>2024年第26周</td>\n      <td>01$星期一</td>\n      <td>31$中心</td>\n      <td>双色球</td>\n      <td>08时</td>\n      <td>102792</td>\n    </tr>\n    <tr>\n      <th>4</th>\n      <td>2024年第26周</td>\n      <td>01$星期一</td>\n      <td>31$中心</td>\n      <td>双色球</td>\n      <td>09时</td>\n      <td>145426</td>\n    </tr>\n    <tr>\n      <th>...</th>\n      <td>...</td>\n      <td>...</td>\n      <td>...</td>\n      <td>...</td>\n      <td>...</td>\n      <td>...</td>\n    </tr>\n    <tr>\n      <th>27449</th>\n      <td>2024年第27周</td>\n      <td>07$星期日</td>\n      <td>31$黄浦</td>\n      <td>东方6+1</td>\n      <td>17时</td>\n      <td>6</td>\n    </tr>\n    <tr>\n      <th>27450</th>\n      <td>2024年第27周</td>\n      <td>07$星期日</td>\n      <td>31$黄浦</td>\n      <td>东方6+1</td>\n      <td>18时</td>\n      <td>74</td>\n    </tr>\n    <tr>\n      <th>27451</th>\n      <td>2024年第27周</td>\n      <td>07$星期日</td>\n      <td>31$黄浦</td>\n      <td>东方6+1</td>\n      <td>19时</td>\n      <td>60</td>\n    </tr>\n    <tr>\n      <th>27452</th>\n      <td>2024年第27周</td>\n      <td>07$星期日</td>\n      <td>31$黄浦</td>\n      <td>东方6+1</td>\n      <td>20时</td>\n      <td>6</td>\n    </tr>\n    <tr>\n      <th>27453</th>\n      <td>2024年第27周</td>\n      <td>07$星期日</td>\n      <td>31$黄浦</td>\n      <td>东方6+1</td>\n      <td>21时</td>\n      <td>24</td>\n    </tr>\n  </tbody>\n</table>\n<p>27454 rows × 6 columns</p>\n</div>"
     },
     "execution_count": 15,
     "metadata": {},
     "output_type": "execute_result"
    }
   ],
   "source": [
    "import pandas as pd\n",
    "data1=pd.read_excel(r\"E:\\彩票数据\\山西\\山西周报\\小时.xlsx\",sheet_name=0)\n",
    "data1"
   ],
   "metadata": {
    "collapsed": false,
    "pycharm": {
     "name": "#%%\n"
    }
   }
  },
  {
   "cell_type": "code",
   "execution_count": 16,
   "outputs": [
    {
     "data": {
      "text/plain": "        双色球     快乐8    福彩3D    七乐彩\n小时                                \n00时    4.14    0.09    2.06   0.33\n01时    4.46    0.00    1.13   0.26\n02时    2.11    0.01    0.36   0.08\n03时    0.01    0.00    0.00    nan\n04时    0.01    0.02    0.00    nan\n05时    0.49    0.04    0.20   0.00\n06时    3.88    1.54    1.30   0.10\n07时   19.32    6.60    6.31   0.34\n08时  118.38   19.10   22.96   6.03\n09时  182.44   40.62   37.84   4.10\n10时  225.44   61.84   54.92   3.93\n11时  215.35   58.92   48.05   3.47\n12时  199.28   64.63   45.45   3.63\n13时  179.45   71.74   44.38   3.16\n14时  195.66   73.58   56.54   3.30\n15时  256.68  106.50   69.97   4.79\n16时  333.53  112.82   89.68   5.68\n17时  435.02  152.72  123.00   7.29\n18时  578.10  170.49  249.25   8.83\n19时  890.54  228.50  445.20  11.47\n20时   75.80  339.10  314.72   0.64\n21时   31.19    2.69    7.76   0.37\n22时   32.11    6.74    7.77   1.15\n23时   15.21    1.40    3.55   0.59",
      "text/html": "<div>\n<style scoped>\n    .dataframe tbody tr th:only-of-type {\n        vertical-align: middle;\n    }\n\n    .dataframe tbody tr th {\n        vertical-align: top;\n    }\n\n    .dataframe thead th {\n        text-align: right;\n    }\n</style>\n<table border=\"1\" class=\"dataframe\">\n  <thead>\n    <tr style=\"text-align: right;\">\n      <th></th>\n      <th>双色球</th>\n      <th>快乐8</th>\n      <th>福彩3D</th>\n      <th>七乐彩</th>\n    </tr>\n    <tr>\n      <th>小时</th>\n      <th></th>\n      <th></th>\n      <th></th>\n      <th></th>\n    </tr>\n  </thead>\n  <tbody>\n    <tr>\n      <th>00时</th>\n      <td>4.14</td>\n      <td>0.09</td>\n      <td>2.06</td>\n      <td>0.33</td>\n    </tr>\n    <tr>\n      <th>01时</th>\n      <td>4.46</td>\n      <td>0.00</td>\n      <td>1.13</td>\n      <td>0.26</td>\n    </tr>\n    <tr>\n      <th>02时</th>\n      <td>2.11</td>\n      <td>0.01</td>\n      <td>0.36</td>\n      <td>0.08</td>\n    </tr>\n    <tr>\n      <th>03时</th>\n      <td>0.01</td>\n      <td>0.00</td>\n      <td>0.00</td>\n      <td>nan</td>\n    </tr>\n    <tr>\n      <th>04时</th>\n      <td>0.01</td>\n      <td>0.02</td>\n      <td>0.00</td>\n      <td>nan</td>\n    </tr>\n    <tr>\n      <th>05时</th>\n      <td>0.49</td>\n      <td>0.04</td>\n      <td>0.20</td>\n      <td>0.00</td>\n    </tr>\n    <tr>\n      <th>06时</th>\n      <td>3.88</td>\n      <td>1.54</td>\n      <td>1.30</td>\n      <td>0.10</td>\n    </tr>\n    <tr>\n      <th>07时</th>\n      <td>19.32</td>\n      <td>6.60</td>\n      <td>6.31</td>\n      <td>0.34</td>\n    </tr>\n    <tr>\n      <th>08时</th>\n      <td>118.38</td>\n      <td>19.10</td>\n      <td>22.96</td>\n      <td>6.03</td>\n    </tr>\n    <tr>\n      <th>09时</th>\n      <td>182.44</td>\n      <td>40.62</td>\n      <td>37.84</td>\n      <td>4.10</td>\n    </tr>\n    <tr>\n      <th>10时</th>\n      <td>225.44</td>\n      <td>61.84</td>\n      <td>54.92</td>\n      <td>3.93</td>\n    </tr>\n    <tr>\n      <th>11时</th>\n      <td>215.35</td>\n      <td>58.92</td>\n      <td>48.05</td>\n      <td>3.47</td>\n    </tr>\n    <tr>\n      <th>12时</th>\n      <td>199.28</td>\n      <td>64.63</td>\n      <td>45.45</td>\n      <td>3.63</td>\n    </tr>\n    <tr>\n      <th>13时</th>\n      <td>179.45</td>\n      <td>71.74</td>\n      <td>44.38</td>\n      <td>3.16</td>\n    </tr>\n    <tr>\n      <th>14时</th>\n      <td>195.66</td>\n      <td>73.58</td>\n      <td>56.54</td>\n      <td>3.30</td>\n    </tr>\n    <tr>\n      <th>15时</th>\n      <td>256.68</td>\n      <td>106.50</td>\n      <td>69.97</td>\n      <td>4.79</td>\n    </tr>\n    <tr>\n      <th>16时</th>\n      <td>333.53</td>\n      <td>112.82</td>\n      <td>89.68</td>\n      <td>5.68</td>\n    </tr>\n    <tr>\n      <th>17时</th>\n      <td>435.02</td>\n      <td>152.72</td>\n      <td>123.00</td>\n      <td>7.29</td>\n    </tr>\n    <tr>\n      <th>18时</th>\n      <td>578.10</td>\n      <td>170.49</td>\n      <td>249.25</td>\n      <td>8.83</td>\n    </tr>\n    <tr>\n      <th>19时</th>\n      <td>890.54</td>\n      <td>228.50</td>\n      <td>445.20</td>\n      <td>11.47</td>\n    </tr>\n    <tr>\n      <th>20时</th>\n      <td>75.80</td>\n      <td>339.10</td>\n      <td>314.72</td>\n      <td>0.64</td>\n    </tr>\n    <tr>\n      <th>21时</th>\n      <td>31.19</td>\n      <td>2.69</td>\n      <td>7.76</td>\n      <td>0.37</td>\n    </tr>\n    <tr>\n      <th>22时</th>\n      <td>32.11</td>\n      <td>6.74</td>\n      <td>7.77</td>\n      <td>1.15</td>\n    </tr>\n    <tr>\n      <th>23时</th>\n      <td>15.21</td>\n      <td>1.40</td>\n      <td>3.55</td>\n      <td>0.59</td>\n    </tr>\n  </tbody>\n</table>\n</div>"
     },
     "execution_count": 16,
     "metadata": {},
     "output_type": "execute_result"
    }
   ],
   "source": [
    "ppt=pd.DataFrame()\n",
    "c_data = data1[(data1['周数'] == \"2024年第27周\") ]\n",
    "ppt['双色球销量'] = c_data[(c_data['游戏'] == '双色球') ].groupby('小时')['销量'].sum()*1e-4\n",
    "ppt['快乐8销量'] = c_data[(c_data['游戏'] == '快乐8') ].groupby('小时')['销量'].sum()*1e-4\n",
    "ppt['福彩3D销量'] = c_data[(c_data['游戏'] == '福彩3D') ].groupby('小时')['销量'].sum()*1e-4\n",
    "ppt['七乐彩销量'] = c_data[(c_data['游戏'] == '七乐彩') ].groupby('小时')['销量'].sum()*1e-4\n",
    "ppt_14_excel=pd.DataFrame()\n",
    "ppt_14_excel['双色球'] = ppt['双色球销量'].apply(lambda x: '{:.2f}'.format(x))\n",
    "ppt_14_excel['快乐8'] = ppt['快乐8销量'].apply(lambda x: '{:.2f}'.format(x))\n",
    "ppt_14_excel['福彩3D'] = ppt['福彩3D销量'].apply(lambda x: '{:.2f}'.format(x))\n",
    "ppt_14_excel['七乐彩'] = ppt['七乐彩销量'].apply(lambda x: '{:.2f}'.format(x))\n",
    "# ppt_14_excel.to_excel(r\"E:\\彩票数据\\山西\\山西周报\\ppt_14.xlsx\")\n",
    "ppt_14_excel"
   ],
   "metadata": {
    "collapsed": false,
    "pycharm": {
     "name": "#%%\n"
    }
   }
  },
  {
   "cell_type": "code",
   "execution_count": 17,
   "outputs": [
    {
     "data": {
      "text/plain": "       双色球      即开票     快乐8    福彩3D    七乐彩\n地市                                        \n中心  581.34      nan     nan   98.43  23.36\n嘉定  271.50   105.94  182.23  162.86   3.26\n奉贤  160.54   153.15   76.52   76.93   1.19\n宝山  295.77   308.53  129.16  113.18   3.67\n崇明   53.34    52.28   15.34   30.81   0.88\n徐汇  148.78   122.22   33.97   36.88   2.13\n普陀  185.11   139.70   45.03   57.45   3.67\n杨浦  142.12   152.48   61.91   56.25   1.82\n松江  312.04   437.32  236.06  164.14   4.74\n浦东  707.97  1129.28  339.58  347.82   8.60\n虹口  116.17   122.42   36.88   31.87   1.53\n金山  117.16    85.28   40.96   59.98   1.24\n长宁  108.07   128.94   21.99   33.54   1.58\n闵行  367.01   552.66  136.29  157.11   5.30\n青浦  156.07   204.94   71.92   93.41   1.39\n静安  169.89   212.47   62.53   62.30   3.82\n黄浦  105.75   111.07   29.31   49.50   1.38",
      "text/html": "<div>\n<style scoped>\n    .dataframe tbody tr th:only-of-type {\n        vertical-align: middle;\n    }\n\n    .dataframe tbody tr th {\n        vertical-align: top;\n    }\n\n    .dataframe thead th {\n        text-align: right;\n    }\n</style>\n<table border=\"1\" class=\"dataframe\">\n  <thead>\n    <tr style=\"text-align: right;\">\n      <th></th>\n      <th>双色球</th>\n      <th>即开票</th>\n      <th>快乐8</th>\n      <th>福彩3D</th>\n      <th>七乐彩</th>\n    </tr>\n    <tr>\n      <th>地市</th>\n      <th></th>\n      <th></th>\n      <th></th>\n      <th></th>\n      <th></th>\n    </tr>\n  </thead>\n  <tbody>\n    <tr>\n      <th>中心</th>\n      <td>581.34</td>\n      <td>nan</td>\n      <td>nan</td>\n      <td>98.43</td>\n      <td>23.36</td>\n    </tr>\n    <tr>\n      <th>嘉定</th>\n      <td>271.50</td>\n      <td>105.94</td>\n      <td>182.23</td>\n      <td>162.86</td>\n      <td>3.26</td>\n    </tr>\n    <tr>\n      <th>奉贤</th>\n      <td>160.54</td>\n      <td>153.15</td>\n      <td>76.52</td>\n      <td>76.93</td>\n      <td>1.19</td>\n    </tr>\n    <tr>\n      <th>宝山</th>\n      <td>295.77</td>\n      <td>308.53</td>\n      <td>129.16</td>\n      <td>113.18</td>\n      <td>3.67</td>\n    </tr>\n    <tr>\n      <th>崇明</th>\n      <td>53.34</td>\n      <td>52.28</td>\n      <td>15.34</td>\n      <td>30.81</td>\n      <td>0.88</td>\n    </tr>\n    <tr>\n      <th>徐汇</th>\n      <td>148.78</td>\n      <td>122.22</td>\n      <td>33.97</td>\n      <td>36.88</td>\n      <td>2.13</td>\n    </tr>\n    <tr>\n      <th>普陀</th>\n      <td>185.11</td>\n      <td>139.70</td>\n      <td>45.03</td>\n      <td>57.45</td>\n      <td>3.67</td>\n    </tr>\n    <tr>\n      <th>杨浦</th>\n      <td>142.12</td>\n      <td>152.48</td>\n      <td>61.91</td>\n      <td>56.25</td>\n      <td>1.82</td>\n    </tr>\n    <tr>\n      <th>松江</th>\n      <td>312.04</td>\n      <td>437.32</td>\n      <td>236.06</td>\n      <td>164.14</td>\n      <td>4.74</td>\n    </tr>\n    <tr>\n      <th>浦东</th>\n      <td>707.97</td>\n      <td>1129.28</td>\n      <td>339.58</td>\n      <td>347.82</td>\n      <td>8.60</td>\n    </tr>\n    <tr>\n      <th>虹口</th>\n      <td>116.17</td>\n      <td>122.42</td>\n      <td>36.88</td>\n      <td>31.87</td>\n      <td>1.53</td>\n    </tr>\n    <tr>\n      <th>金山</th>\n      <td>117.16</td>\n      <td>85.28</td>\n      <td>40.96</td>\n      <td>59.98</td>\n      <td>1.24</td>\n    </tr>\n    <tr>\n      <th>长宁</th>\n      <td>108.07</td>\n      <td>128.94</td>\n      <td>21.99</td>\n      <td>33.54</td>\n      <td>1.58</td>\n    </tr>\n    <tr>\n      <th>闵行</th>\n      <td>367.01</td>\n      <td>552.66</td>\n      <td>136.29</td>\n      <td>157.11</td>\n      <td>5.30</td>\n    </tr>\n    <tr>\n      <th>青浦</th>\n      <td>156.07</td>\n      <td>204.94</td>\n      <td>71.92</td>\n      <td>93.41</td>\n      <td>1.39</td>\n    </tr>\n    <tr>\n      <th>静安</th>\n      <td>169.89</td>\n      <td>212.47</td>\n      <td>62.53</td>\n      <td>62.30</td>\n      <td>3.82</td>\n    </tr>\n    <tr>\n      <th>黄浦</th>\n      <td>105.75</td>\n      <td>111.07</td>\n      <td>29.31</td>\n      <td>49.50</td>\n      <td>1.38</td>\n    </tr>\n  </tbody>\n</table>\n</div>"
     },
     "execution_count": 17,
     "metadata": {},
     "output_type": "execute_result"
    }
   ],
   "source": [
    "ppt=pd.DataFrame()\n",
    "a_data = data[(data['周数'] == \"2024年第27周\") ]\n",
    "games = ['双色球', '即开票', '快乐8', '福彩3D', '七乐彩', '地方游戏']\n",
    "for game in games:\n",
    "    ppt[f'{game}销量'] = a_data[a_data['游戏'] == game].groupby('地市')['销量'].sum() * 1e-4\n",
    "ppt_17_excel=pd.DataFrame()\n",
    "ppt_17_excel['双色球'] = ppt['双色球销量'].apply(lambda x: '{:.2f}'.format(x))\n",
    "ppt_17_excel['即开票'] = ppt['即开票销量'].apply(lambda x: '{:.2f}'.format(x))\n",
    "ppt_17_excel['快乐8'] = ppt['快乐8销量'].apply(lambda x: '{:.2f}'.format(x))\n",
    "ppt_17_excel['福彩3D'] = ppt['福彩3D销量'].apply(lambda x: '{:.2f}'.format(x))\n",
    "ppt_17_excel['七乐彩'] = ppt['七乐彩销量'].apply(lambda x: '{:.2f}'.format(x))\n",
    "# ppt_17_excel.to_excel(r\"E:\\彩票数据\\山西\\山西周报\\ppt_17.xlsx\")\n",
    "ppt_17_excel"
   ],
   "metadata": {
    "collapsed": false,
    "pycharm": {
     "name": "#%%\n"
    }
   }
  },
  {
   "cell_type": "code",
   "execution_count": 18,
   "outputs": [
    {
     "data": {
      "text/plain": "     02$2  04$4-8   05$10 06$12-18   07$20 08$22-48 09$50-98 10$100-198  \\\n地市                                                                        \n中心  69.16  112.36  142.89    56.60   57.92    92.69    76.30      81.60   \n嘉定   5.01   36.59   94.27    30.89   85.34   110.46    96.74     129.74   \n奉贤   3.11   23.93   58.27    18.91   79.41    80.61    99.04      54.97   \n宝山   6.49   42.73  109.75    31.72  156.73   147.92   189.21     103.01   \n崇明   1.51   10.80   24.59     7.38   28.84    23.50    39.13      15.48   \n徐汇   2.33   18.34   51.04    13.29   70.16    57.66    77.39      34.18   \n普陀   3.41   23.57   62.99    19.35   78.29    68.25    98.02      42.95   \n杨浦   2.67   20.90   57.34    16.05   73.14    61.64   105.30      55.97   \n松江   5.65   41.77  104.52    34.84  207.20   195.92   248.86     154.04   \n浦东  12.51   95.93  257.83    72.79  559.62   486.43   549.58     261.74   \n虹口   1.72   15.24   40.46    10.91   61.10    51.48    76.18      34.06   \n金山   2.33   17.10   44.17    14.08   52.55    47.56    57.76      38.18   \n长宁   1.52   11.61   33.48     8.51   56.34    54.35    76.25      28.37   \n闵行   5.51   44.96  127.33    36.00  255.69   235.85   289.69     120.96   \n青浦   2.61   22.61   57.42    18.10   96.18   105.49   110.91      59.88   \n静安   3.79   20.94   59.02    17.39   84.86    91.90   141.21      56.12   \n黄浦   1.62   11.74   33.66     9.45   53.06    51.80    70.81      33.16   \n\n   11$200-998 12$1000以上  \n地市                       \n中心      56.28       nan  \n嘉定      96.59     52.69  \n奉贤      44.81     12.78  \n宝山      71.17     15.12  \n崇明       8.06      0.55  \n徐汇      26.10      5.52  \n普陀      30.33     17.99  \n杨浦      25.48      9.14  \n松江     106.96     66.63  \n浦东     215.15     64.09  \n虹口      24.33      4.44  \n金山      28.35     11.00  \n长宁      22.03      9.79  \n闵行     107.57     20.40  \n青浦      49.89     10.91  \n静安      42.44      8.41  \n黄浦      33.12     10.08  ",
      "text/html": "<div>\n<style scoped>\n    .dataframe tbody tr th:only-of-type {\n        vertical-align: middle;\n    }\n\n    .dataframe tbody tr th {\n        vertical-align: top;\n    }\n\n    .dataframe thead th {\n        text-align: right;\n    }\n</style>\n<table border=\"1\" class=\"dataframe\">\n  <thead>\n    <tr style=\"text-align: right;\">\n      <th></th>\n      <th>02$2</th>\n      <th>04$4-8</th>\n      <th>05$10</th>\n      <th>06$12-18</th>\n      <th>07$20</th>\n      <th>08$22-48</th>\n      <th>09$50-98</th>\n      <th>10$100-198</th>\n      <th>11$200-998</th>\n      <th>12$1000以上</th>\n    </tr>\n    <tr>\n      <th>地市</th>\n      <th></th>\n      <th></th>\n      <th></th>\n      <th></th>\n      <th></th>\n      <th></th>\n      <th></th>\n      <th></th>\n      <th></th>\n      <th></th>\n    </tr>\n  </thead>\n  <tbody>\n    <tr>\n      <th>中心</th>\n      <td>69.16</td>\n      <td>112.36</td>\n      <td>142.89</td>\n      <td>56.60</td>\n      <td>57.92</td>\n      <td>92.69</td>\n      <td>76.30</td>\n      <td>81.60</td>\n      <td>56.28</td>\n      <td>nan</td>\n    </tr>\n    <tr>\n      <th>嘉定</th>\n      <td>5.01</td>\n      <td>36.59</td>\n      <td>94.27</td>\n      <td>30.89</td>\n      <td>85.34</td>\n      <td>110.46</td>\n      <td>96.74</td>\n      <td>129.74</td>\n      <td>96.59</td>\n      <td>52.69</td>\n    </tr>\n    <tr>\n      <th>奉贤</th>\n      <td>3.11</td>\n      <td>23.93</td>\n      <td>58.27</td>\n      <td>18.91</td>\n      <td>79.41</td>\n      <td>80.61</td>\n      <td>99.04</td>\n      <td>54.97</td>\n      <td>44.81</td>\n      <td>12.78</td>\n    </tr>\n    <tr>\n      <th>宝山</th>\n      <td>6.49</td>\n      <td>42.73</td>\n      <td>109.75</td>\n      <td>31.72</td>\n      <td>156.73</td>\n      <td>147.92</td>\n      <td>189.21</td>\n      <td>103.01</td>\n      <td>71.17</td>\n      <td>15.12</td>\n    </tr>\n    <tr>\n      <th>崇明</th>\n      <td>1.51</td>\n      <td>10.80</td>\n      <td>24.59</td>\n      <td>7.38</td>\n      <td>28.84</td>\n      <td>23.50</td>\n      <td>39.13</td>\n      <td>15.48</td>\n      <td>8.06</td>\n      <td>0.55</td>\n    </tr>\n    <tr>\n      <th>徐汇</th>\n      <td>2.33</td>\n      <td>18.34</td>\n      <td>51.04</td>\n      <td>13.29</td>\n      <td>70.16</td>\n      <td>57.66</td>\n      <td>77.39</td>\n      <td>34.18</td>\n      <td>26.10</td>\n      <td>5.52</td>\n    </tr>\n    <tr>\n      <th>普陀</th>\n      <td>3.41</td>\n      <td>23.57</td>\n      <td>62.99</td>\n      <td>19.35</td>\n      <td>78.29</td>\n      <td>68.25</td>\n      <td>98.02</td>\n      <td>42.95</td>\n      <td>30.33</td>\n      <td>17.99</td>\n    </tr>\n    <tr>\n      <th>杨浦</th>\n      <td>2.67</td>\n      <td>20.90</td>\n      <td>57.34</td>\n      <td>16.05</td>\n      <td>73.14</td>\n      <td>61.64</td>\n      <td>105.30</td>\n      <td>55.97</td>\n      <td>25.48</td>\n      <td>9.14</td>\n    </tr>\n    <tr>\n      <th>松江</th>\n      <td>5.65</td>\n      <td>41.77</td>\n      <td>104.52</td>\n      <td>34.84</td>\n      <td>207.20</td>\n      <td>195.92</td>\n      <td>248.86</td>\n      <td>154.04</td>\n      <td>106.96</td>\n      <td>66.63</td>\n    </tr>\n    <tr>\n      <th>浦东</th>\n      <td>12.51</td>\n      <td>95.93</td>\n      <td>257.83</td>\n      <td>72.79</td>\n      <td>559.62</td>\n      <td>486.43</td>\n      <td>549.58</td>\n      <td>261.74</td>\n      <td>215.15</td>\n      <td>64.09</td>\n    </tr>\n    <tr>\n      <th>虹口</th>\n      <td>1.72</td>\n      <td>15.24</td>\n      <td>40.46</td>\n      <td>10.91</td>\n      <td>61.10</td>\n      <td>51.48</td>\n      <td>76.18</td>\n      <td>34.06</td>\n      <td>24.33</td>\n      <td>4.44</td>\n    </tr>\n    <tr>\n      <th>金山</th>\n      <td>2.33</td>\n      <td>17.10</td>\n      <td>44.17</td>\n      <td>14.08</td>\n      <td>52.55</td>\n      <td>47.56</td>\n      <td>57.76</td>\n      <td>38.18</td>\n      <td>28.35</td>\n      <td>11.00</td>\n    </tr>\n    <tr>\n      <th>长宁</th>\n      <td>1.52</td>\n      <td>11.61</td>\n      <td>33.48</td>\n      <td>8.51</td>\n      <td>56.34</td>\n      <td>54.35</td>\n      <td>76.25</td>\n      <td>28.37</td>\n      <td>22.03</td>\n      <td>9.79</td>\n    </tr>\n    <tr>\n      <th>闵行</th>\n      <td>5.51</td>\n      <td>44.96</td>\n      <td>127.33</td>\n      <td>36.00</td>\n      <td>255.69</td>\n      <td>235.85</td>\n      <td>289.69</td>\n      <td>120.96</td>\n      <td>107.57</td>\n      <td>20.40</td>\n    </tr>\n    <tr>\n      <th>青浦</th>\n      <td>2.61</td>\n      <td>22.61</td>\n      <td>57.42</td>\n      <td>18.10</td>\n      <td>96.18</td>\n      <td>105.49</td>\n      <td>110.91</td>\n      <td>59.88</td>\n      <td>49.89</td>\n      <td>10.91</td>\n    </tr>\n    <tr>\n      <th>静安</th>\n      <td>3.79</td>\n      <td>20.94</td>\n      <td>59.02</td>\n      <td>17.39</td>\n      <td>84.86</td>\n      <td>91.90</td>\n      <td>141.21</td>\n      <td>56.12</td>\n      <td>42.44</td>\n      <td>8.41</td>\n    </tr>\n    <tr>\n      <th>黄浦</th>\n      <td>1.62</td>\n      <td>11.74</td>\n      <td>33.66</td>\n      <td>9.45</td>\n      <td>53.06</td>\n      <td>51.80</td>\n      <td>70.81</td>\n      <td>33.16</td>\n      <td>33.12</td>\n      <td>10.08</td>\n    </tr>\n  </tbody>\n</table>\n</div>"
     },
     "execution_count": 18,
     "metadata": {},
     "output_type": "execute_result"
    }
   ],
   "source": [
    "ppt=pd.DataFrame()\n",
    "a_data = data[(data['周数'] == \"2024年第27周\") ]\n",
    "games = [\"02$2\", \"04$4-8\", \"05$10\", \"06$12-18\", \"07$20\", \"08$22-48\", \"09$50-98\", \"10$100-198\", \"11$200-998\", \"12$1000以上\"]\n",
    "ppt_18_excel = pd.DataFrame()\n",
    "for game in games:\n",
    "    ppt_18_excel[game] = a_data[a_data['票价区间'] == game].groupby('地市')['销量'].sum() * 1e-4\n",
    "    ppt_18_excel[game] = ppt_18_excel[game].apply(lambda x: '{:.2f}'.format(x))\n",
    "# ppt_18_excel.to_excel(r\"E:\\彩票数据\\山西\\山西周报\\ppt_18.xlsx\")\n",
    "ppt_18_excel"
   ],
   "metadata": {
    "collapsed": false,
    "pycharm": {
     "name": "#%%\n"
    }
   }
  },
  {
   "cell_type": "code",
   "execution_count": 19,
   "outputs": [
    {
     "data": {
      "text/plain": "   2024年第23周 2024年第24周 2024年第25周 2024年第26周 2024年第27周\n地市                                                  \n中心    775.52    771.24    778.45    757.89    745.80\n嘉定   1587.26    959.72   1155.02   1117.14    738.33\n奉贤    556.40    421.00    515.26    501.74    475.83\n宝山    887.69    844.30    953.26    913.76    873.84\n崇明    177.17    151.02    176.92    162.08    159.84\n徐汇    402.81    287.51    358.80    367.65    356.01\n普陀    463.40    383.97    431.93    461.43    445.14\n杨浦    499.28    392.48    418.03    460.37    427.64\n松江   1256.90    948.33   1180.52   1218.90   1166.38\n浦东   2900.08   1872.70   2592.19   2632.35   2575.68\n虹口    371.93    285.86    290.73    358.77    319.93\n金山    381.78    289.25    329.95    348.47    313.07\n长宁    345.20    264.41    285.99    329.07    302.26\n闵行   1343.61    863.67   1164.31   1159.98   1243.96\n青浦    559.18    512.79    547.45    561.60    534.00\n静安    567.13    451.49    527.86    538.17    526.09\n黄浦    382.01    256.89    293.69    356.30    308.48",
      "text/html": "<div>\n<style scoped>\n    .dataframe tbody tr th:only-of-type {\n        vertical-align: middle;\n    }\n\n    .dataframe tbody tr th {\n        vertical-align: top;\n    }\n\n    .dataframe thead th {\n        text-align: right;\n    }\n</style>\n<table border=\"1\" class=\"dataframe\">\n  <thead>\n    <tr style=\"text-align: right;\">\n      <th></th>\n      <th>2024年第23周</th>\n      <th>2024年第24周</th>\n      <th>2024年第25周</th>\n      <th>2024年第26周</th>\n      <th>2024年第27周</th>\n    </tr>\n    <tr>\n      <th>地市</th>\n      <th></th>\n      <th></th>\n      <th></th>\n      <th></th>\n      <th></th>\n    </tr>\n  </thead>\n  <tbody>\n    <tr>\n      <th>中心</th>\n      <td>775.52</td>\n      <td>771.24</td>\n      <td>778.45</td>\n      <td>757.89</td>\n      <td>745.80</td>\n    </tr>\n    <tr>\n      <th>嘉定</th>\n      <td>1587.26</td>\n      <td>959.72</td>\n      <td>1155.02</td>\n      <td>1117.14</td>\n      <td>738.33</td>\n    </tr>\n    <tr>\n      <th>奉贤</th>\n      <td>556.40</td>\n      <td>421.00</td>\n      <td>515.26</td>\n      <td>501.74</td>\n      <td>475.83</td>\n    </tr>\n    <tr>\n      <th>宝山</th>\n      <td>887.69</td>\n      <td>844.30</td>\n      <td>953.26</td>\n      <td>913.76</td>\n      <td>873.84</td>\n    </tr>\n    <tr>\n      <th>崇明</th>\n      <td>177.17</td>\n      <td>151.02</td>\n      <td>176.92</td>\n      <td>162.08</td>\n      <td>159.84</td>\n    </tr>\n    <tr>\n      <th>徐汇</th>\n      <td>402.81</td>\n      <td>287.51</td>\n      <td>358.80</td>\n      <td>367.65</td>\n      <td>356.01</td>\n    </tr>\n    <tr>\n      <th>普陀</th>\n      <td>463.40</td>\n      <td>383.97</td>\n      <td>431.93</td>\n      <td>461.43</td>\n      <td>445.14</td>\n    </tr>\n    <tr>\n      <th>杨浦</th>\n      <td>499.28</td>\n      <td>392.48</td>\n      <td>418.03</td>\n      <td>460.37</td>\n      <td>427.64</td>\n    </tr>\n    <tr>\n      <th>松江</th>\n      <td>1256.90</td>\n      <td>948.33</td>\n      <td>1180.52</td>\n      <td>1218.90</td>\n      <td>1166.38</td>\n    </tr>\n    <tr>\n      <th>浦东</th>\n      <td>2900.08</td>\n      <td>1872.70</td>\n      <td>2592.19</td>\n      <td>2632.35</td>\n      <td>2575.68</td>\n    </tr>\n    <tr>\n      <th>虹口</th>\n      <td>371.93</td>\n      <td>285.86</td>\n      <td>290.73</td>\n      <td>358.77</td>\n      <td>319.93</td>\n    </tr>\n    <tr>\n      <th>金山</th>\n      <td>381.78</td>\n      <td>289.25</td>\n      <td>329.95</td>\n      <td>348.47</td>\n      <td>313.07</td>\n    </tr>\n    <tr>\n      <th>长宁</th>\n      <td>345.20</td>\n      <td>264.41</td>\n      <td>285.99</td>\n      <td>329.07</td>\n      <td>302.26</td>\n    </tr>\n    <tr>\n      <th>闵行</th>\n      <td>1343.61</td>\n      <td>863.67</td>\n      <td>1164.31</td>\n      <td>1159.98</td>\n      <td>1243.96</td>\n    </tr>\n    <tr>\n      <th>青浦</th>\n      <td>559.18</td>\n      <td>512.79</td>\n      <td>547.45</td>\n      <td>561.60</td>\n      <td>534.00</td>\n    </tr>\n    <tr>\n      <th>静安</th>\n      <td>567.13</td>\n      <td>451.49</td>\n      <td>527.86</td>\n      <td>538.17</td>\n      <td>526.09</td>\n    </tr>\n    <tr>\n      <th>黄浦</th>\n      <td>382.01</td>\n      <td>256.89</td>\n      <td>293.69</td>\n      <td>356.30</td>\n      <td>308.48</td>\n    </tr>\n  </tbody>\n</table>\n</div>"
     },
     "execution_count": 19,
     "metadata": {},
     "output_type": "execute_result"
    }
   ],
   "source": [
    "import pandas as pd\n",
    "# 按周数筛选数据\n",
    "weeks = [ \"2024年第23周\", \"2024年第24周\",\"2024年第25周\" ,\"2024年第26周\",\"2024年第27周\"]\n",
    "ppt = pd.DataFrame()\n",
    "# 循环计算每周的销量并存入 ppt DataFrame\n",
    "for week in weeks:\n",
    "    week_data = data[data['周数'] == week]\n",
    "    ppt[week] = week_data.groupby('地市')['销量'].sum() * 1e-4\n",
    "# 格式化输出 DataFrame\n",
    "ppt_19_excel = ppt.applymap(lambda x: '{:.2f}'.format(x))\n",
    "# ppt_19_excel.to_excel(r\"E:\\彩票数据\\山西\\山西周报\\ppt_19.xlsx\")\n",
    "ppt_19_excel"
   ],
   "metadata": {
    "collapsed": false,
    "pycharm": {
     "name": "#%%\n"
    }
   }
  },
  {
   "cell_type": "code",
   "execution_count": 20,
   "outputs": [
    {
     "data": {
      "text/plain": "        双色球    福彩3D    七乐彩      即开票     快乐8  15选5 东方6+1     选4 地方游戏\n星期                                                                 \n星期一  365.81  237.06  14.19   271.63  217.52  9.32  7.40  27.16  nan\n星期三  299.60  239.62  16.49    46.98  212.42  8.46  7.04  25.05  nan\n星期二  965.90  234.73   4.87    92.06  210.50  8.78  2.43  26.02  nan\n星期五  246.53  229.90  23.62    35.09  237.42  9.26  1.89  25.71  nan\n星期六  215.71  229.75   2.42  1645.02  220.11  8.95  6.60  25.13  nan\n星期四  963.86  233.77   6.06    41.46  214.91  9.29  2.10  25.62  nan\n星期日  941.20  227.63   1.91  1886.44  206.81  9.08  2.33  25.71  nan",
      "text/html": "<div>\n<style scoped>\n    .dataframe tbody tr th:only-of-type {\n        vertical-align: middle;\n    }\n\n    .dataframe tbody tr th {\n        vertical-align: top;\n    }\n\n    .dataframe thead th {\n        text-align: right;\n    }\n</style>\n<table border=\"1\" class=\"dataframe\">\n  <thead>\n    <tr style=\"text-align: right;\">\n      <th></th>\n      <th>双色球</th>\n      <th>福彩3D</th>\n      <th>七乐彩</th>\n      <th>即开票</th>\n      <th>快乐8</th>\n      <th>15选5</th>\n      <th>东方6+1</th>\n      <th>选4</th>\n      <th>地方游戏</th>\n    </tr>\n    <tr>\n      <th>星期</th>\n      <th></th>\n      <th></th>\n      <th></th>\n      <th></th>\n      <th></th>\n      <th></th>\n      <th></th>\n      <th></th>\n      <th></th>\n    </tr>\n  </thead>\n  <tbody>\n    <tr>\n      <th>星期一</th>\n      <td>365.81</td>\n      <td>237.06</td>\n      <td>14.19</td>\n      <td>271.63</td>\n      <td>217.52</td>\n      <td>9.32</td>\n      <td>7.40</td>\n      <td>27.16</td>\n      <td>nan</td>\n    </tr>\n    <tr>\n      <th>星期三</th>\n      <td>299.60</td>\n      <td>239.62</td>\n      <td>16.49</td>\n      <td>46.98</td>\n      <td>212.42</td>\n      <td>8.46</td>\n      <td>7.04</td>\n      <td>25.05</td>\n      <td>nan</td>\n    </tr>\n    <tr>\n      <th>星期二</th>\n      <td>965.90</td>\n      <td>234.73</td>\n      <td>4.87</td>\n      <td>92.06</td>\n      <td>210.50</td>\n      <td>8.78</td>\n      <td>2.43</td>\n      <td>26.02</td>\n      <td>nan</td>\n    </tr>\n    <tr>\n      <th>星期五</th>\n      <td>246.53</td>\n      <td>229.90</td>\n      <td>23.62</td>\n      <td>35.09</td>\n      <td>237.42</td>\n      <td>9.26</td>\n      <td>1.89</td>\n      <td>25.71</td>\n      <td>nan</td>\n    </tr>\n    <tr>\n      <th>星期六</th>\n      <td>215.71</td>\n      <td>229.75</td>\n      <td>2.42</td>\n      <td>1645.02</td>\n      <td>220.11</td>\n      <td>8.95</td>\n      <td>6.60</td>\n      <td>25.13</td>\n      <td>nan</td>\n    </tr>\n    <tr>\n      <th>星期四</th>\n      <td>963.86</td>\n      <td>233.77</td>\n      <td>6.06</td>\n      <td>41.46</td>\n      <td>214.91</td>\n      <td>9.29</td>\n      <td>2.10</td>\n      <td>25.62</td>\n      <td>nan</td>\n    </tr>\n    <tr>\n      <th>星期日</th>\n      <td>941.20</td>\n      <td>227.63</td>\n      <td>1.91</td>\n      <td>1886.44</td>\n      <td>206.81</td>\n      <td>9.08</td>\n      <td>2.33</td>\n      <td>25.71</td>\n      <td>nan</td>\n    </tr>\n  </tbody>\n</table>\n</div>"
     },
     "execution_count": 20,
     "metadata": {},
     "output_type": "execute_result"
    }
   ],
   "source": [
    "import pandas as pd\n",
    "a_data = data[(data['周数'] == \"2024年第27周\") ]\n",
    "games = [\"双色球\", \"福彩3D\", \"七乐彩\", \"即开票\", \"快乐8\", \"15选5\", \"东方6+1\", \"选4\", \"地方游戏\"]\n",
    "ppt = pd.DataFrame()\n",
    "# 循环计算每周的销量并存入 ppt DataFrame\n",
    "for game in games:\n",
    "    week_data = a_data[a_data['游戏'] == game]\n",
    "    ppt[game] = week_data.groupby('星期')['销量'].sum() * 1e-4\n",
    "# 格式化输出 DataFrame\n",
    "ppt_28_excel = ppt.applymap(lambda x: '{:.2f}'.format(x))\n",
    "# ppt_28_excel.to_excel(r\"E:\\彩票数据\\山西\\山西周报\\ppt_28.xlsx\")\n",
    "ppt_28_excel"
   ],
   "metadata": {
    "collapsed": false,
    "pycharm": {
     "name": "#%%\n"
    }
   }
  },
  {
   "cell_type": "code",
   "execution_count": 21,
   "outputs": [
    {
     "data": {
      "text/plain": "               周数   星期  地市     游戏          倍投      销量\n0       2024年第01周  星期一  中心    双色球       01$单倍  445376\n1       2024年第01周  星期一  中心    双色球       02$两倍  105608\n2       2024年第01周  星期一  中心    双色球     03$3到5倍  131128\n3       2024年第01周  星期一  中心    双色球    04$6到10倍   52298\n4       2024年第01周  星期一  中心    双色球   05$11到20倍   19816\n...           ...  ...  ..    ...         ...     ...\n114077  2024年第27周  星期日  黄浦   15选5  06$21到100倍     100\n114078  2024年第27周  星期日  黄浦  东方6+1       01$单倍     348\n114079  2024年第27周  星期日  黄浦  东方6+1       02$两倍       4\n114080  2024年第27周  星期日  黄浦  东方6+1     03$3到5倍      92\n114081  2024年第27周  星期日  黄浦  东方6+1    04$6到10倍      12\n\n[114082 rows x 6 columns]",
      "text/html": "<div>\n<style scoped>\n    .dataframe tbody tr th:only-of-type {\n        vertical-align: middle;\n    }\n\n    .dataframe tbody tr th {\n        vertical-align: top;\n    }\n\n    .dataframe thead th {\n        text-align: right;\n    }\n</style>\n<table border=\"1\" class=\"dataframe\">\n  <thead>\n    <tr style=\"text-align: right;\">\n      <th></th>\n      <th>周数</th>\n      <th>星期</th>\n      <th>地市</th>\n      <th>游戏</th>\n      <th>倍投</th>\n      <th>销量</th>\n    </tr>\n  </thead>\n  <tbody>\n    <tr>\n      <th>0</th>\n      <td>2024年第01周</td>\n      <td>星期一</td>\n      <td>中心</td>\n      <td>双色球</td>\n      <td>01$单倍</td>\n      <td>445376</td>\n    </tr>\n    <tr>\n      <th>1</th>\n      <td>2024年第01周</td>\n      <td>星期一</td>\n      <td>中心</td>\n      <td>双色球</td>\n      <td>02$两倍</td>\n      <td>105608</td>\n    </tr>\n    <tr>\n      <th>2</th>\n      <td>2024年第01周</td>\n      <td>星期一</td>\n      <td>中心</td>\n      <td>双色球</td>\n      <td>03$3到5倍</td>\n      <td>131128</td>\n    </tr>\n    <tr>\n      <th>3</th>\n      <td>2024年第01周</td>\n      <td>星期一</td>\n      <td>中心</td>\n      <td>双色球</td>\n      <td>04$6到10倍</td>\n      <td>52298</td>\n    </tr>\n    <tr>\n      <th>4</th>\n      <td>2024年第01周</td>\n      <td>星期一</td>\n      <td>中心</td>\n      <td>双色球</td>\n      <td>05$11到20倍</td>\n      <td>19816</td>\n    </tr>\n    <tr>\n      <th>...</th>\n      <td>...</td>\n      <td>...</td>\n      <td>...</td>\n      <td>...</td>\n      <td>...</td>\n      <td>...</td>\n    </tr>\n    <tr>\n      <th>114077</th>\n      <td>2024年第27周</td>\n      <td>星期日</td>\n      <td>黄浦</td>\n      <td>15选5</td>\n      <td>06$21到100倍</td>\n      <td>100</td>\n    </tr>\n    <tr>\n      <th>114078</th>\n      <td>2024年第27周</td>\n      <td>星期日</td>\n      <td>黄浦</td>\n      <td>东方6+1</td>\n      <td>01$单倍</td>\n      <td>348</td>\n    </tr>\n    <tr>\n      <th>114079</th>\n      <td>2024年第27周</td>\n      <td>星期日</td>\n      <td>黄浦</td>\n      <td>东方6+1</td>\n      <td>02$两倍</td>\n      <td>4</td>\n    </tr>\n    <tr>\n      <th>114080</th>\n      <td>2024年第27周</td>\n      <td>星期日</td>\n      <td>黄浦</td>\n      <td>东方6+1</td>\n      <td>03$3到5倍</td>\n      <td>92</td>\n    </tr>\n    <tr>\n      <th>114081</th>\n      <td>2024年第27周</td>\n      <td>星期日</td>\n      <td>黄浦</td>\n      <td>东方6+1</td>\n      <td>04$6到10倍</td>\n      <td>12</td>\n    </tr>\n  </tbody>\n</table>\n<p>114082 rows × 6 columns</p>\n</div>"
     },
     "execution_count": 21,
     "metadata": {},
     "output_type": "execute_result"
    }
   ],
   "source": [
    "import pandas as pd\n",
    "data2=pd.read_excel(r\"E:\\彩票数据\\山西\\山西周报\\倍投.xlsx\",sheet_name=0)\n",
    "data2"
   ],
   "metadata": {
    "collapsed": false,
    "pycharm": {
     "name": "#%%\n"
    }
   }
  },
  {
   "cell_type": "code",
   "execution_count": 22,
   "outputs": [
    {
     "data": {
      "text/plain": "      01$单倍   02$两倍 03$3到5倍 04$6到10倍 05$11到20倍 06$21到100倍\n地市                                                       \n中心   388.27   75.24  115.19    60.07     27.54      79.49\n嘉定   414.06   46.60   86.24    71.03     47.19      73.20\n奉贤   308.66   26.78   51.33    37.39     17.32      34.34\n宝山   594.08   48.71   88.37    61.45     28.22      53.02\n崇明   103.66   10.28   19.15    12.39      6.31       8.06\n徐汇   229.30   20.16   41.45    27.41     12.06      25.63\n普陀   294.38   27.13   52.42    29.48     12.30      29.43\n杨浦   278.31   23.73   44.72    35.87     20.71      24.32\n松江   757.09   50.17  100.40   113.58     60.82      84.32\n浦东  1805.28  114.91  221.37   160.80     79.94     193.38\n虹口   217.30   17.13   34.23    21.59     11.28      18.41\n金山   197.12   18.33   36.82    26.42     11.10      23.28\n长宁   214.53   14.90   26.97    16.49      6.80      22.58\n闵行   875.09   59.75  110.37    75.79     41.48      81.48\n青浦   355.76   25.72   50.61    39.86     17.54      44.50\n静安   364.31   25.05   49.28    33.12     17.38      36.96\n黄浦   195.00   14.67   32.75    20.58     11.21      34.27",
      "text/html": "<div>\n<style scoped>\n    .dataframe tbody tr th:only-of-type {\n        vertical-align: middle;\n    }\n\n    .dataframe tbody tr th {\n        vertical-align: top;\n    }\n\n    .dataframe thead th {\n        text-align: right;\n    }\n</style>\n<table border=\"1\" class=\"dataframe\">\n  <thead>\n    <tr style=\"text-align: right;\">\n      <th></th>\n      <th>01$单倍</th>\n      <th>02$两倍</th>\n      <th>03$3到5倍</th>\n      <th>04$6到10倍</th>\n      <th>05$11到20倍</th>\n      <th>06$21到100倍</th>\n    </tr>\n    <tr>\n      <th>地市</th>\n      <th></th>\n      <th></th>\n      <th></th>\n      <th></th>\n      <th></th>\n      <th></th>\n    </tr>\n  </thead>\n  <tbody>\n    <tr>\n      <th>中心</th>\n      <td>388.27</td>\n      <td>75.24</td>\n      <td>115.19</td>\n      <td>60.07</td>\n      <td>27.54</td>\n      <td>79.49</td>\n    </tr>\n    <tr>\n      <th>嘉定</th>\n      <td>414.06</td>\n      <td>46.60</td>\n      <td>86.24</td>\n      <td>71.03</td>\n      <td>47.19</td>\n      <td>73.20</td>\n    </tr>\n    <tr>\n      <th>奉贤</th>\n      <td>308.66</td>\n      <td>26.78</td>\n      <td>51.33</td>\n      <td>37.39</td>\n      <td>17.32</td>\n      <td>34.34</td>\n    </tr>\n    <tr>\n      <th>宝山</th>\n      <td>594.08</td>\n      <td>48.71</td>\n      <td>88.37</td>\n      <td>61.45</td>\n      <td>28.22</td>\n      <td>53.02</td>\n    </tr>\n    <tr>\n      <th>崇明</th>\n      <td>103.66</td>\n      <td>10.28</td>\n      <td>19.15</td>\n      <td>12.39</td>\n      <td>6.31</td>\n      <td>8.06</td>\n    </tr>\n    <tr>\n      <th>徐汇</th>\n      <td>229.30</td>\n      <td>20.16</td>\n      <td>41.45</td>\n      <td>27.41</td>\n      <td>12.06</td>\n      <td>25.63</td>\n    </tr>\n    <tr>\n      <th>普陀</th>\n      <td>294.38</td>\n      <td>27.13</td>\n      <td>52.42</td>\n      <td>29.48</td>\n      <td>12.30</td>\n      <td>29.43</td>\n    </tr>\n    <tr>\n      <th>杨浦</th>\n      <td>278.31</td>\n      <td>23.73</td>\n      <td>44.72</td>\n      <td>35.87</td>\n      <td>20.71</td>\n      <td>24.32</td>\n    </tr>\n    <tr>\n      <th>松江</th>\n      <td>757.09</td>\n      <td>50.17</td>\n      <td>100.40</td>\n      <td>113.58</td>\n      <td>60.82</td>\n      <td>84.32</td>\n    </tr>\n    <tr>\n      <th>浦东</th>\n      <td>1805.28</td>\n      <td>114.91</td>\n      <td>221.37</td>\n      <td>160.80</td>\n      <td>79.94</td>\n      <td>193.38</td>\n    </tr>\n    <tr>\n      <th>虹口</th>\n      <td>217.30</td>\n      <td>17.13</td>\n      <td>34.23</td>\n      <td>21.59</td>\n      <td>11.28</td>\n      <td>18.41</td>\n    </tr>\n    <tr>\n      <th>金山</th>\n      <td>197.12</td>\n      <td>18.33</td>\n      <td>36.82</td>\n      <td>26.42</td>\n      <td>11.10</td>\n      <td>23.28</td>\n    </tr>\n    <tr>\n      <th>长宁</th>\n      <td>214.53</td>\n      <td>14.90</td>\n      <td>26.97</td>\n      <td>16.49</td>\n      <td>6.80</td>\n      <td>22.58</td>\n    </tr>\n    <tr>\n      <th>闵行</th>\n      <td>875.09</td>\n      <td>59.75</td>\n      <td>110.37</td>\n      <td>75.79</td>\n      <td>41.48</td>\n      <td>81.48</td>\n    </tr>\n    <tr>\n      <th>青浦</th>\n      <td>355.76</td>\n      <td>25.72</td>\n      <td>50.61</td>\n      <td>39.86</td>\n      <td>17.54</td>\n      <td>44.50</td>\n    </tr>\n    <tr>\n      <th>静安</th>\n      <td>364.31</td>\n      <td>25.05</td>\n      <td>49.28</td>\n      <td>33.12</td>\n      <td>17.38</td>\n      <td>36.96</td>\n    </tr>\n    <tr>\n      <th>黄浦</th>\n      <td>195.00</td>\n      <td>14.67</td>\n      <td>32.75</td>\n      <td>20.58</td>\n      <td>11.21</td>\n      <td>34.27</td>\n    </tr>\n  </tbody>\n</table>\n</div>"
     },
     "execution_count": 22,
     "metadata": {},
     "output_type": "execute_result"
    }
   ],
   "source": [
    "import pandas as pd\n",
    "a_data = data2[(data2['周数'] == \"2024年第27周\") ]\n",
    "games = [\"01$单倍\",\"02$两倍\",\"03$3到5倍\",\"04$6到10倍\",\"05$11到20倍\",\"06$21到100倍\"]\n",
    "ppt = pd.DataFrame()\n",
    "# 循环计算每周的销量并存入 ppt DataFrame\n",
    "for game in games:\n",
    "    week_data = a_data[a_data['倍投'] == game]\n",
    "    ppt[game] = week_data.groupby('地市')['销量'].sum() * 1e-4\n",
    "# 格式化输出 DataFrame\n",
    "ppt_29_excel = ppt.applymap(lambda x: '{:.2f}'.format(x))\n",
    "# ppt_29_excel.to_excel(r\"E:\\彩票数据\\山西\\山西周报\\ppt_29.xlsx\")\n",
    "ppt_29_excel"
   ],
   "metadata": {
    "collapsed": false,
    "pycharm": {
     "name": "#%%\n"
    }
   }
  },
  {
   "cell_type": "code",
   "execution_count": 23,
   "outputs": [
    {
     "data": {
      "text/plain": "              周数      星期     地市     游戏 选号方式 投注方式          游戏玩法      销量\n0      2024年第26周  01$星期一  31$中心    双色球   手选   单式     01$双色球-单式  593188\n1      2024年第26周  01$星期一  31$中心    双色球   手选   复式   02$双色球-红复式7   25186\n2      2024年第26周  01$星期一  31$中心    双色球   手选   复式   03$双色球-红复式8   15568\n3      2024年第26周  01$星期一  31$中心    双色球   手选   复式   04$双色球-红复式9    8232\n4      2024年第26周  01$星期一  31$中心    双色球   手选   复式  05$双色球-红复式10    6720\n...          ...     ...    ...    ...  ...  ...           ...     ...\n46194  2024年第27周  07$星期日  31$黄浦   15选5   自动   复式    02$15选5-复式     270\n46195  2024年第27周  07$星期日  31$黄浦  东方6+1   手选   单式   01$东方6+1-单式      34\n46196  2024年第27周  07$星期日  31$黄浦  东方6+1   机选   单式   01$东方6+1-单式      44\n46197  2024年第27周  07$星期日  31$黄浦  东方6+1   自动   单式   01$东方6+1-单式     360\n46198  2024年第27周  07$星期日  31$黄浦  东方6+1   自动   复式   02$东方6+1-复式      18\n\n[46199 rows x 8 columns]",
      "text/html": "<div>\n<style scoped>\n    .dataframe tbody tr th:only-of-type {\n        vertical-align: middle;\n    }\n\n    .dataframe tbody tr th {\n        vertical-align: top;\n    }\n\n    .dataframe thead th {\n        text-align: right;\n    }\n</style>\n<table border=\"1\" class=\"dataframe\">\n  <thead>\n    <tr style=\"text-align: right;\">\n      <th></th>\n      <th>周数</th>\n      <th>星期</th>\n      <th>地市</th>\n      <th>游戏</th>\n      <th>选号方式</th>\n      <th>投注方式</th>\n      <th>游戏玩法</th>\n      <th>销量</th>\n    </tr>\n  </thead>\n  <tbody>\n    <tr>\n      <th>0</th>\n      <td>2024年第26周</td>\n      <td>01$星期一</td>\n      <td>31$中心</td>\n      <td>双色球</td>\n      <td>手选</td>\n      <td>单式</td>\n      <td>01$双色球-单式</td>\n      <td>593188</td>\n    </tr>\n    <tr>\n      <th>1</th>\n      <td>2024年第26周</td>\n      <td>01$星期一</td>\n      <td>31$中心</td>\n      <td>双色球</td>\n      <td>手选</td>\n      <td>复式</td>\n      <td>02$双色球-红复式7</td>\n      <td>25186</td>\n    </tr>\n    <tr>\n      <th>2</th>\n      <td>2024年第26周</td>\n      <td>01$星期一</td>\n      <td>31$中心</td>\n      <td>双色球</td>\n      <td>手选</td>\n      <td>复式</td>\n      <td>03$双色球-红复式8</td>\n      <td>15568</td>\n    </tr>\n    <tr>\n      <th>3</th>\n      <td>2024年第26周</td>\n      <td>01$星期一</td>\n      <td>31$中心</td>\n      <td>双色球</td>\n      <td>手选</td>\n      <td>复式</td>\n      <td>04$双色球-红复式9</td>\n      <td>8232</td>\n    </tr>\n    <tr>\n      <th>4</th>\n      <td>2024年第26周</td>\n      <td>01$星期一</td>\n      <td>31$中心</td>\n      <td>双色球</td>\n      <td>手选</td>\n      <td>复式</td>\n      <td>05$双色球-红复式10</td>\n      <td>6720</td>\n    </tr>\n    <tr>\n      <th>...</th>\n      <td>...</td>\n      <td>...</td>\n      <td>...</td>\n      <td>...</td>\n      <td>...</td>\n      <td>...</td>\n      <td>...</td>\n      <td>...</td>\n    </tr>\n    <tr>\n      <th>46194</th>\n      <td>2024年第27周</td>\n      <td>07$星期日</td>\n      <td>31$黄浦</td>\n      <td>15选5</td>\n      <td>自动</td>\n      <td>复式</td>\n      <td>02$15选5-复式</td>\n      <td>270</td>\n    </tr>\n    <tr>\n      <th>46195</th>\n      <td>2024年第27周</td>\n      <td>07$星期日</td>\n      <td>31$黄浦</td>\n      <td>东方6+1</td>\n      <td>手选</td>\n      <td>单式</td>\n      <td>01$东方6+1-单式</td>\n      <td>34</td>\n    </tr>\n    <tr>\n      <th>46196</th>\n      <td>2024年第27周</td>\n      <td>07$星期日</td>\n      <td>31$黄浦</td>\n      <td>东方6+1</td>\n      <td>机选</td>\n      <td>单式</td>\n      <td>01$东方6+1-单式</td>\n      <td>44</td>\n    </tr>\n    <tr>\n      <th>46197</th>\n      <td>2024年第27周</td>\n      <td>07$星期日</td>\n      <td>31$黄浦</td>\n      <td>东方6+1</td>\n      <td>自动</td>\n      <td>单式</td>\n      <td>01$东方6+1-单式</td>\n      <td>360</td>\n    </tr>\n    <tr>\n      <th>46198</th>\n      <td>2024年第27周</td>\n      <td>07$星期日</td>\n      <td>31$黄浦</td>\n      <td>东方6+1</td>\n      <td>自动</td>\n      <td>复式</td>\n      <td>02$东方6+1-复式</td>\n      <td>18</td>\n    </tr>\n  </tbody>\n</table>\n<p>46199 rows × 8 columns</p>\n</div>"
     },
     "execution_count": 23,
     "metadata": {},
     "output_type": "execute_result"
    }
   ],
   "source": [
    "import pandas as pd\n",
    "data3=pd.read_excel(r\"E:\\彩票数据\\山西\\山西周报\\游戏玩法.xlsx\",sheet_name=0)\n",
    "data3"
   ],
   "metadata": {
    "collapsed": false,
    "pycharm": {
     "name": "#%%\n"
    }
   }
  },
  {
   "cell_type": "code",
   "execution_count": 24,
   "outputs": [
    {
     "data": {
      "text/plain": "          双色球     福彩3D    七乐彩  即开票     快乐8   15选5  东方6+1      选4 地方游戏\n投注方式                                                                 \n单式    2485.23  1316.51  35.76  nan  617.69  37.75  25.00  180.39  nan\n复式    1372.02   315.94  28.85  nan  427.47  17.35   4.80     nan  nan\n胆拖     141.36      nan   4.94  nan  474.52   7.79    nan     nan  nan",
      "text/html": "<div>\n<style scoped>\n    .dataframe tbody tr th:only-of-type {\n        vertical-align: middle;\n    }\n\n    .dataframe tbody tr th {\n        vertical-align: top;\n    }\n\n    .dataframe thead th {\n        text-align: right;\n    }\n</style>\n<table border=\"1\" class=\"dataframe\">\n  <thead>\n    <tr style=\"text-align: right;\">\n      <th></th>\n      <th>双色球</th>\n      <th>福彩3D</th>\n      <th>七乐彩</th>\n      <th>即开票</th>\n      <th>快乐8</th>\n      <th>15选5</th>\n      <th>东方6+1</th>\n      <th>选4</th>\n      <th>地方游戏</th>\n    </tr>\n    <tr>\n      <th>投注方式</th>\n      <th></th>\n      <th></th>\n      <th></th>\n      <th></th>\n      <th></th>\n      <th></th>\n      <th></th>\n      <th></th>\n      <th></th>\n    </tr>\n  </thead>\n  <tbody>\n    <tr>\n      <th>单式</th>\n      <td>2485.23</td>\n      <td>1316.51</td>\n      <td>35.76</td>\n      <td>nan</td>\n      <td>617.69</td>\n      <td>37.75</td>\n      <td>25.00</td>\n      <td>180.39</td>\n      <td>nan</td>\n    </tr>\n    <tr>\n      <th>复式</th>\n      <td>1372.02</td>\n      <td>315.94</td>\n      <td>28.85</td>\n      <td>nan</td>\n      <td>427.47</td>\n      <td>17.35</td>\n      <td>4.80</td>\n      <td>nan</td>\n      <td>nan</td>\n    </tr>\n    <tr>\n      <th>胆拖</th>\n      <td>141.36</td>\n      <td>nan</td>\n      <td>4.94</td>\n      <td>nan</td>\n      <td>474.52</td>\n      <td>7.79</td>\n      <td>nan</td>\n      <td>nan</td>\n      <td>nan</td>\n    </tr>\n  </tbody>\n</table>\n</div>"
     },
     "execution_count": 24,
     "metadata": {},
     "output_type": "execute_result"
    }
   ],
   "source": [
    "import pandas as pd\n",
    "a_data = data3[(data3['周数'] == \"2024年第27周\") ]\n",
    "games = [\"双色球\", \"福彩3D\", \"七乐彩\", \"即开票\", \"快乐8\", \"15选5\", \"东方6+1\", \"选4\", \"地方游戏\"]\n",
    "ppt = pd.DataFrame()\n",
    "# 循环计算每周的销量并存入 ppt DataFrame\n",
    "for game in games:\n",
    "    week_data = a_data[a_data['游戏'] == game]\n",
    "    ppt[game] = week_data.groupby('投注方式')['销量'].sum() * 1e-4\n",
    "# 格式化输出 DataFrame\n",
    "ppt_32_excel = ppt.applymap(lambda x: '{:.2f}'.format(x))\n",
    "# ppt_32_excel.to_excel(r\"E:\\彩票数据\\山西\\山西周报\\ppt_32.xlsx\")\n",
    "ppt_32_excel"
   ],
   "metadata": {
    "collapsed": false,
    "pycharm": {
     "name": "#%%\n"
    }
   }
  }
 ],
 "metadata": {
  "kernelspec": {
   "display_name": "Python 3",
   "language": "python",
   "name": "python3"
  },
  "language_info": {
   "codemirror_mode": {
    "name": "ipython",
    "version": 2
   },
   "file_extension": ".py",
   "mimetype": "text/x-python",
   "name": "python",
   "nbconvert_exporter": "python",
   "pygments_lexer": "ipython2",
   "version": "2.7.6"
  }
 },
 "nbformat": 4,
 "nbformat_minor": 0
}